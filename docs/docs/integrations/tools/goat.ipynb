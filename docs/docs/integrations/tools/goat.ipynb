{
 "cells": [
  {
   "cell_type": "raw",
   "id": "afaf8039",
   "metadata": {
    "vscode": {
     "languageId": "raw"
    }
   },
   "source": [
    "---\n",
    "sidebar_label: GOAT\n",
    "---"
   ]
  },
  {
   "cell_type": "markdown",
   "id": "e49f1e0d",
   "metadata": {},
   "source": [
    "# GOAT\n",
    "\n",
    "[GOAT](https://github.com/goat-sdk/goat) is the largest agentic finance toolkit for AI agents.\n",
    "\n",
    "Create agents that can:\n",
    "\n",
    "- Send and receive payments\n",
    "- Purchase physical and digital goods and services\n",
    "- Engage in various investment strategies:\n",
    "  - Earn yield\n",
    "  - Bet on prediction markets\n",
    "- Purchase crypto assets\n",
    "- Tokenize any asset\n",
    "- Get financial insights\n",
    "\n",
    "### How it works\n",
    "GOAT leverages blockchains, cryptocurrencies (such as stablecoins), and wallets as the infrastructure to enable agents to become economic actors:\n",
    "\n",
    "1. Give your agent a [wallet](https://github.com/goat-sdk/goat/tree/main#chains-and-wallets)\n",
    "2. Allow it to transact [anywhere](https://github.com/goat-sdk/goat/tree/main#chains-and-wallets)\n",
    "3. Use more than [+200 tools](https://github.com/goat-sdk/goat/tree/main#tools)\n",
    "\n",
    "See everything GOAT supports [here](https://github.com/goat-sdk/goat/tree/main#chains-and-wallets).\n",
    "\n",
    "**Lightweight and extendable**\n",
    "Different from other toolkits, GOAT is designed to be lightweight and extendable by keeping its core minimal and allowing you to install only the tools you need.\n",
    "\n",
    "If you don't find what you need on our more than 200 integrations you can easily:\n",
    "\n",
    "- Create your own plugin\n",
    "- Integrate a new chain\n",
    "- Integrate a new wallet\n",
    "- Integrate a new agent framework\n",
    "\n",
    "See how to do it [here](https://github.com/goat-sdk/goat/tree/main#-contributing)."
   ]
  },
  {
   "cell_type": "markdown",
   "id": "0730d6a1-c893-4840-9817-5e5251676d5d",
   "metadata": {},
   "source": [
    "### Quickstarts\n",
    "\n",
    "The best way to get started is by using the quickstarts below. See how you can configure GOAT to achieve any of the use cases below.\n",
    "\n",
    "- **By use case**\n",
    "  - **Money transmission**\n",
    "    - Send and receive payments [[EVM](https://github.com/goat-sdk/goat/tree/main/python/examples/by-use-case/evm-send-and-receive-tokens), [Solana](https://github.com/goat-sdk/goat/tree/main/python/examples/by-use-case/solana-send-and-receive-tokens)]\n",
    "  - **Investing**\n",
    "    - Generate yield [[Solana](https://github.com/goat-sdk/goat/tree/main/python/examples/by-use-case/solana-usdc-yield-deposit)]\n",
    "    - Purchase crypto assets [[EVM](https://github.com/goat-sdk/goat/tree/main/python/examples/by-use-case/evm-swap-tokens), [Solana](https://github.com/goat-sdk/goat/tree/main/python/examples/by-use-case/solana-swap-tokens)]\n",
    "- **By wallet**\n",
    "  - [Crossmint](https://github.com/goat-sdk/goat/tree/main/python/examples/by-wallet/crossmint)\n",
    "- **See all python quickstarts [here](https://github.com/goat-sdk/goat/tree/main/python/examples).**\n"
   ]
  }
 ],
 "metadata": {
  "kernelspec": {
   "display_name": "Python 3 (ipykernel)",
   "language": "python",
   "name": "python3"
  },
  "language_info": {
   "codemirror_mode": {
    "name": "ipython",
    "version": 3
   },
   "file_extension": ".py",
   "mimetype": "text/x-python",
   "name": "python",
   "nbconvert_exporter": "python",
   "pygments_lexer": "ipython3",
   "version": "3.10.4"
  }
 },
 "nbformat": 4,
 "nbformat_minor": 5
}
