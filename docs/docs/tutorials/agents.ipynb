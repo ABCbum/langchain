{
 "cells": [
  {
   "cell_type": "raw",
   "id": "17546ebb",
   "metadata": {
    "vscode": {
     "languageId": "raw"
    }
   },
   "source": [
    "---\n",
    "keywords: [agent, agents]\n",
    "---"
   ]
  },
  {
   "cell_type": "markdown",
   "id": "1df78a71",
   "metadata": {},
   "source": [
    "# Build an Agent\n",
    "\n",
    ":::info Prerequisites\n",
    "\n",
    "This guide assumes familiarity with the following concepts:\n",
    "\n",
    "- [Chat Models](/docs/concepts/#chat-models)\n",
    "- [Tools](/docs/concepts/#tools)\n",
    "- [Agents](/docs/concepts/#agents)\n",
    "\n",
    ":::\n",
    "\n",
    "By themselves, language models can't take actions - they just output text.\n",
    "A big use case for LangChain is creating **agents**.\n",
    "Agents are systems that use LLMs as reasoning engines to determine which actions to take and the inputs to pass them.\n",
    "After executing actions, the results can be fed back into the LLM to determine whether more actions are needed, or whether it is okay to finish.\n",
    "\n",
    "In this tutorial we will build an agent that can interact with a search engine. You will be able to ask this agent questions, watch it call the search tool, and have conversations with it.\n",
    "\n",
    "## End-to-end agent\n",
    "\n",
    "The code snippet below represents a fully functional agent that uses an LLM to decide which tools to use. It is equipped with a generic search tool. It has conversational memory - meaning that it can be used as a multi-turn chatbot.\n",
    "\n",
    "In the rest of the guide, we will walk through the individual components and what each part does - but if you want to just grab some code and get started, feel free to use this!"
   ]
  },
  {
   "cell_type": "code",
   "execution_count": 1,
   "id": "a79bb782",
   "metadata": {
    "execution": {
     "iopub.execute_input": "2024-09-11T23:55:52.427375Z",
     "iopub.status.busy": "2024-09-11T23:55:52.426932Z",
     "iopub.status.idle": "2024-09-11T23:56:04.526910Z",
     "shell.execute_reply": "2024-09-11T23:56:04.525940Z"
    }
   },
   "outputs": [
    {
     "name": "stdout",
     "output_type": "stream",
     "text": [
      "{'agent': {'messages': [AIMessage(content=\"Hello Bob! Since you didn't ask a specific question, I don't need to use any tools for this interaction. It's nice to meet you. San Francisco is a beautiful city with lots to see and do. What are some of your favorite things about living there?\", additional_kwargs={}, response_metadata={'id': 'msg_01DUsxCNBqXmWqehdU2GHGbu', 'model': 'claude-3-sonnet-20240229', 'stop_reason': 'end_turn', 'stop_sequence': None, 'usage': {'input_tokens': 271, 'output_tokens': 58}}, id='run-6f30ad57-10c4-4879-afde-a4f0c3a61270-0', usage_metadata={'input_tokens': 271, 'output_tokens': 58, 'total_tokens': 329})]}}\n",
      "----\n"
     ]
    },
    {
     "name": "stdout",
     "output_type": "stream",
     "text": [
      "{'agent': {'messages': [AIMessage(content=[{'text': 'Okay, to get accurate weather information for your location in San Francisco, let me use the search tool:', 'type': 'text'}, {'id': 'toolu_012wbZm5DSo7d1ukQa5axHeW', 'input': {'query': 'san francisco weather'}, 'name': 'tavily_search_results_json', 'type': 'tool_use'}], additional_kwargs={}, response_metadata={'id': 'msg_01WdvAPJm97rizxzYXA87YRd', 'model': 'claude-3-sonnet-20240229', 'stop_reason': 'tool_use', 'stop_sequence': None, 'usage': {'input_tokens': 340, 'output_tokens': 82}}, id='run-b40173bd-c8d8-4176-9624-9880ffbe50db-0', tool_calls=[{'name': 'tavily_search_results_json', 'args': {'query': 'san francisco weather'}, 'id': 'toolu_012wbZm5DSo7d1ukQa5axHeW', 'type': 'tool_call'}], usage_metadata={'input_tokens': 340, 'output_tokens': 82, 'total_tokens': 422})]}}\n",
      "----\n"
     ]
    },
    {
     "name": "stdout",
     "output_type": "stream",
     "text": [
      "{'tools': {'messages': [ToolMessage(content='[{\"url\": \"https://www.weatherapi.com/\", \"content\": \"{\\'location\\': {\\'name\\': \\'San Francisco\\', \\'region\\': \\'California\\', \\'country\\': \\'United States of America\\', \\'lat\\': 37.78, \\'lon\\': -122.42, \\'tz_id\\': \\'America/Los_Angeles\\', \\'localtime_epoch\\': 1726098945, \\'localtime\\': \\'2024-09-11 16:55\\'}, \\'current\\': {\\'last_updated_epoch\\': 1726098300, \\'last_updated\\': \\'2024-09-11 16:45\\', \\'temp_c\\': 22.8, \\'temp_f\\': 73.0, \\'is_day\\': 1, \\'condition\\': {\\'text\\': \\'Partly cloudy\\', \\'icon\\': \\'//cdn.weatherapi.com/weather/64x64/day/116.png\\', \\'code\\': 1003}, \\'wind_mph\\': 18.6, \\'wind_kph\\': 29.9, \\'wind_degree\\': 290, \\'wind_dir\\': \\'WNW\\', \\'pressure_mb\\': 1011.0, \\'pressure_in\\': 29.86, \\'precip_mm\\': 0.0, \\'precip_in\\': 0.0, \\'humidity\\': 64, \\'cloud\\': 25, \\'feelslike_c\\': 24.9, \\'feelslike_f\\': 76.9, \\'windchill_c\\': 18.4, \\'windchill_f\\': 65.1, \\'heatindex_c\\': 18.4, \\'heatindex_f\\': 65.1, \\'dewpoint_c\\': 14.8, \\'dewpoint_f\\': 58.6, \\'vis_km\\': 16.0, \\'vis_miles\\': 9.0, \\'uv\\': 5.0, \\'gust_mph\\': 27.3, \\'gust_kph\\': 43.9}}\"}, {\"url\": \"https://www.weathertab.com/en/d/e/11/united-states/california/san-francisco/\", \"content\": \"Our San Francisco, California Daily Weather Forecast for November 2024, developed from a specialized dynamic long-range model, provides precise daily temperature and rainfall predictions. This model, distinct from standard statistical or climatological approaches, is the result of over 50 years of dedicated private research, offering a clearer ...\"}]', name='tavily_search_results_json', tool_call_id='toolu_012wbZm5DSo7d1ukQa5axHeW', artifact={'query': 'san francisco weather', 'follow_up_questions': None, 'answer': None, 'images': [], 'results': [{'title': 'Weather in San Francisco, California, USA', 'url': 'https://www.weatherapi.com/', 'content': \"{'location': {'name': 'San Francisco', 'region': 'California', 'country': 'United States of America', 'lat': 37.78, 'lon': -122.42, 'tz_id': 'America/Los_Angeles', 'localtime_epoch': 1726098945, 'localtime': '2024-09-11 16:55'}, 'current': {'last_updated_epoch': 1726098300, 'last_updated': '2024-09-11 16:45', 'temp_c': 22.8, 'temp_f': 73.0, 'is_day': 1, 'condition': {'text': 'Partly cloudy', 'icon': '//cdn.weatherapi.com/weather/64x64/day/116.png', 'code': 1003}, 'wind_mph': 18.6, 'wind_kph': 29.9, 'wind_degree': 290, 'wind_dir': 'WNW', 'pressure_mb': 1011.0, 'pressure_in': 29.86, 'precip_mm': 0.0, 'precip_in': 0.0, 'humidity': 64, 'cloud': 25, 'feelslike_c': 24.9, 'feelslike_f': 76.9, 'windchill_c': 18.4, 'windchill_f': 65.1, 'heatindex_c': 18.4, 'heatindex_f': 65.1, 'dewpoint_c': 14.8, 'dewpoint_f': 58.6, 'vis_km': 16.0, 'vis_miles': 9.0, 'uv': 5.0, 'gust_mph': 27.3, 'gust_kph': 43.9}}\", 'score': 0.9993334, 'raw_content': None}, {'title': 'San Francisco, CA Daily Weather Forecast for November 2024', 'url': 'https://www.weathertab.com/en/d/e/11/united-states/california/san-francisco/', 'content': 'Our San Francisco, California Daily Weather Forecast for November 2024, developed from a specialized dynamic long-range model, provides precise daily temperature and rainfall predictions. This model, distinct from standard statistical or climatological approaches, is the result of over 50 years of dedicated private research, offering a clearer ...', 'score': 0.9989183, 'raw_content': None}], 'response_time': 2.79})]}}\n",
      "----\n"
     ]
    },
    {
     "name": "stdout",
     "output_type": "stream",
     "text": [
      "{'agent': {'messages': [AIMessage(content='Based on the search results, the current weather in San Francisco is partly cloudy with a temperature of around 73°F (23°C). There are some winds at around 18-29 kph from the west-northwest. The humidity is 64% and visibility is good at 16 km.\\n\\nThe results provide a detailed snapshot of the current weather conditions in San Francisco specifically for your location. Let me know if you need any other details about the weather where you live!', additional_kwargs={}, response_metadata={'id': 'msg_01JVaP8Sgf3auwHafGM31Kaq', 'model': 'claude-3-sonnet-20240229', 'stop_reason': 'end_turn', 'stop_sequence': None, 'usage': {'input_tokens': 1028, 'output_tokens': 105}}, id='run-6f83a5a8-6dcf-4d64-8204-d3b4a3ac47e2-0', usage_metadata={'input_tokens': 1028, 'output_tokens': 105, 'total_tokens': 1133})]}}\n",
      "----\n"
     ]
    }
   ],
   "source": [
    "# Import relevant functionality\n",
    "from langchain_anthropic import ChatAnthropic\n",
    "from langchain_community.tools.tavily_search import TavilySearchResults\n",
    "from langchain_core.messages import HumanMessage\n",
    "from langgraph.checkpoint.memory import MemorySaver\n",
    "from langgraph.prebuilt import create_react_agent\n",
    "\n",
    "# Create the agent\n",
    "memory = MemorySaver()\n",
    "model = ChatAnthropic(model_name=\"claude-3-sonnet-20240229\")\n",
    "search = TavilySearchResults(max_results=2)\n",
    "tools = [search]\n",
    "agent_executor = create_react_agent(model, tools, checkpointer=memory)\n",
    "\n",
    "# Use the agent\n",
    "config = {\"configurable\": {\"thread_id\": \"abc123\"}}\n",
    "for chunk in agent_executor.stream(\n",
    "    {\"messages\": [HumanMessage(content=\"hi im bob! and i live in sf\")]}, config\n",
    "):\n",
    "    print(chunk)\n",
    "    print(\"----\")\n",
    "\n",
    "for chunk in agent_executor.stream(\n",
    "    {\"messages\": [HumanMessage(content=\"whats the weather where I live?\")]}, config\n",
    "):\n",
    "    print(chunk)\n",
    "    print(\"----\")"
   ]
  },
  {
   "cell_type": "markdown",
   "id": "f4c03f40-1328-412d-8a48-1db0cd481b77",
   "metadata": {},
   "source": [
    "## Setup\n",
    "\n",
    "### Jupyter Notebook\n",
    "\n",
    "This guide (and most of the other guides in the documentation) uses [Jupyter notebooks](https://jupyter.org/) and assumes the reader is as well. Jupyter notebooks are perfect interactive environments for learning how to work with LLM systems because oftentimes things can go wrong (unexpected output, API down, etc), and observing these cases is a great way to better understand building with LLMs.\n",
    "\n",
    "This and other tutorials are perhaps most conveniently run in a Jupyter notebook. See [here](https://jupyter.org/install) for instructions on how to install.\n",
    "\n",
    "### Installation\n",
    "\n",
    "To install LangChain run:"
   ]
  },
  {
   "cell_type": "code",
   "execution_count": 2,
   "id": "60bb3eb1",
   "metadata": {
    "execution": {
     "iopub.execute_input": "2024-09-11T23:56:04.532907Z",
     "iopub.status.busy": "2024-09-11T23:56:04.532465Z",
     "iopub.status.idle": "2024-09-11T23:56:13.294898Z",
     "shell.execute_reply": "2024-09-11T23:56:13.294273Z"
    }
   },
   "outputs": [
    {
     "name": "stdout",
     "output_type": "stream",
     "text": [
      "Requirement already satisfied: langchain-community in /Users/bagatur/langchain/.venv/lib/python3.11/site-packages (0.3.0.dev1)\r\n"
     ]
    },
    {
     "name": "stdout",
     "output_type": "stream",
     "text": [
      "Collecting langchain-community\r\n"
     ]
    },
    {
     "name": "stdout",
     "output_type": "stream",
     "text": [
      "  Downloading langchain_community-0.3.0.dev2-py3-none-any.whl.metadata (2.8 kB)\r\n",
      "Requirement already satisfied: langgraph in /Users/bagatur/langchain/.venv/lib/python3.11/site-packages (0.2.19)\r\n"
     ]
    },
    {
     "name": "stdout",
     "output_type": "stream",
     "text": [
      "Requirement already satisfied: langchain-anthropic in /Users/bagatur/langchain/.venv/lib/python3.11/site-packages (0.2.0.dev1)\r\n"
     ]
    },
    {
     "name": "stdout",
     "output_type": "stream",
     "text": [
      "Requirement already satisfied: tavily-python in /Users/bagatur/langchain/.venv/lib/python3.11/site-packages (0.4.0)\r\n"
     ]
    },
    {
     "name": "stdout",
     "output_type": "stream",
     "text": [
      "Collecting langgraph-checkpoint-sqlite\r\n"
     ]
    },
    {
     "name": "stdout",
     "output_type": "stream",
     "text": [
      "  Downloading langgraph_checkpoint_sqlite-1.0.3-py3-none-any.whl.metadata (3.0 kB)\r\n",
      "Requirement already satisfied: PyYAML>=5.3 in /Users/bagatur/langchain/.venv/lib/python3.11/site-packages (from langchain-community) (6.0.2)\r\n",
      "Requirement already satisfied: SQLAlchemy<3,>=1.4 in /Users/bagatur/langchain/.venv/lib/python3.11/site-packages (from langchain-community) (2.0.32)\r\n",
      "Requirement already satisfied: aiohttp<4.0.0,>=3.8.3 in /Users/bagatur/langchain/.venv/lib/python3.11/site-packages (from langchain-community) (3.10.1)\r\n",
      "Requirement already satisfied: dataclasses-json<0.7,>=0.5.7 in /Users/bagatur/langchain/.venv/lib/python3.11/site-packages (from langchain-community) (0.6.7)\r\n"
     ]
    },
    {
     "name": "stdout",
     "output_type": "stream",
     "text": [
      "Collecting langchain<0.4.0,>=0.3.0.dev2 (from langchain-community)\r\n"
     ]
    },
    {
     "name": "stdout",
     "output_type": "stream",
     "text": [
      "  Downloading langchain-0.3.0.dev2-py3-none-any.whl.metadata (7.1 kB)\r\n"
     ]
    },
    {
     "name": "stdout",
     "output_type": "stream",
     "text": [
      "Collecting langchain-core<0.4.0,>=0.3.0.dev5 (from langchain-community)\r\n"
     ]
    },
    {
     "name": "stdout",
     "output_type": "stream",
     "text": [
      "  Downloading langchain_core-0.3.0.dev5-py3-none-any.whl.metadata (6.1 kB)\r\n"
     ]
    },
    {
     "name": "stdout",
     "output_type": "stream",
     "text": [
      "Collecting langsmith<0.2.0,>=0.1.112 (from langchain-community)\r\n",
      "  Downloading langsmith-0.1.118-py3-none-any.whl.metadata (13 kB)\r\n"
     ]
    },
    {
     "name": "stdout",
     "output_type": "stream",
     "text": [
      "Requirement already satisfied: numpy<2,>=1 in /Users/bagatur/langchain/.venv/lib/python3.11/site-packages (from langchain-community) (1.26.4)\r\n",
      "Requirement already satisfied: pydantic-settings<3.0.0,>=2.4.0 in /Users/bagatur/langchain/.venv/lib/python3.11/site-packages (from langchain-community) (2.4.0)\r\n",
      "Requirement already satisfied: requests<3,>=2 in /Users/bagatur/langchain/.venv/lib/python3.11/site-packages (from langchain-community) (2.32.3)\r\n",
      "Requirement already satisfied: tenacity!=8.4.0,<9.0.0,>=8.1.0 in /Users/bagatur/langchain/.venv/lib/python3.11/site-packages (from langchain-community) (8.5.0)\r\n",
      "Requirement already satisfied: langgraph-checkpoint<2.0.0,>=1.0.2 in /Users/bagatur/langchain/.venv/lib/python3.11/site-packages (from langgraph) (1.0.9)\r\n",
      "Requirement already satisfied: anthropic<1,>=0.30.0 in /Users/bagatur/langchain/.venv/lib/python3.11/site-packages (from langchain-anthropic) (0.34.1)\r\n",
      "Requirement already satisfied: defusedxml<0.8.0,>=0.7.1 in /Users/bagatur/langchain/.venv/lib/python3.11/site-packages (from langchain-anthropic) (0.7.1)\r\n",
      "Requirement already satisfied: pydantic<3.0.0,>=2.7.4 in /Users/bagatur/langchain/.venv/lib/python3.11/site-packages (from langchain-anthropic) (2.8.2)\r\n",
      "Requirement already satisfied: tiktoken>=0.5.1 in /Users/bagatur/langchain/.venv/lib/python3.11/site-packages (from tavily-python) (0.7.0)\r\n",
      "Requirement already satisfied: httpx in /Users/bagatur/langchain/.venv/lib/python3.11/site-packages (from tavily-python) (0.27.0)\r\n"
     ]
    },
    {
     "name": "stdout",
     "output_type": "stream",
     "text": [
      "Collecting aiosqlite<0.21.0,>=0.20.0 (from langgraph-checkpoint-sqlite)\r\n",
      "  Downloading aiosqlite-0.20.0-py3-none-any.whl.metadata (4.3 kB)\r\n",
      "Requirement already satisfied: aiohappyeyeballs>=2.3.0 in /Users/bagatur/langchain/.venv/lib/python3.11/site-packages (from aiohttp<4.0.0,>=3.8.3->langchain-community) (2.3.5)\r\n",
      "Requirement already satisfied: aiosignal>=1.1.2 in /Users/bagatur/langchain/.venv/lib/python3.11/site-packages (from aiohttp<4.0.0,>=3.8.3->langchain-community) (1.3.1)\r\n",
      "Requirement already satisfied: attrs>=17.3.0 in /Users/bagatur/langchain/.venv/lib/python3.11/site-packages (from aiohttp<4.0.0,>=3.8.3->langchain-community) (24.2.0)\r\n",
      "Requirement already satisfied: frozenlist>=1.1.1 in /Users/bagatur/langchain/.venv/lib/python3.11/site-packages (from aiohttp<4.0.0,>=3.8.3->langchain-community) (1.4.1)\r\n",
      "Requirement already satisfied: multidict<7.0,>=4.5 in /Users/bagatur/langchain/.venv/lib/python3.11/site-packages (from aiohttp<4.0.0,>=3.8.3->langchain-community) (6.0.5)\r\n",
      "Requirement already satisfied: yarl<2.0,>=1.0 in /Users/bagatur/langchain/.venv/lib/python3.11/site-packages (from aiohttp<4.0.0,>=3.8.3->langchain-community) (1.9.4)\r\n",
      "Requirement already satisfied: typing_extensions>=4.0 in /Users/bagatur/langchain/.venv/lib/python3.11/site-packages (from aiosqlite<0.21.0,>=0.20.0->langgraph-checkpoint-sqlite) (4.12.2)\r\n",
      "Requirement already satisfied: anyio<5,>=3.5.0 in /Users/bagatur/langchain/.venv/lib/python3.11/site-packages (from anthropic<1,>=0.30.0->langchain-anthropic) (4.4.0)\r\n",
      "Requirement already satisfied: distro<2,>=1.7.0 in /Users/bagatur/langchain/.venv/lib/python3.11/site-packages (from anthropic<1,>=0.30.0->langchain-anthropic) (1.9.0)\r\n",
      "Requirement already satisfied: jiter<1,>=0.4.0 in /Users/bagatur/langchain/.venv/lib/python3.11/site-packages (from anthropic<1,>=0.30.0->langchain-anthropic) (0.5.0)\r\n"
     ]
    },
    {
     "name": "stdout",
     "output_type": "stream",
     "text": [
      "Requirement already satisfied: sniffio in /Users/bagatur/langchain/.venv/lib/python3.11/site-packages (from anthropic<1,>=0.30.0->langchain-anthropic) (1.3.1)\r\n",
      "Requirement already satisfied: tokenizers>=0.13.0 in /Users/bagatur/langchain/.venv/lib/python3.11/site-packages (from anthropic<1,>=0.30.0->langchain-anthropic) (0.19.1)\r\n",
      "Requirement already satisfied: marshmallow<4.0.0,>=3.18.0 in /Users/bagatur/langchain/.venv/lib/python3.11/site-packages (from dataclasses-json<0.7,>=0.5.7->langchain-community) (3.21.3)\r\n",
      "Requirement already satisfied: typing-inspect<1,>=0.4.0 in /Users/bagatur/langchain/.venv/lib/python3.11/site-packages (from dataclasses-json<0.7,>=0.5.7->langchain-community) (0.9.0)\r\n",
      "Requirement already satisfied: certifi in /Users/bagatur/langchain/.venv/lib/python3.11/site-packages (from httpx->tavily-python) (2024.7.4)\r\n",
      "Requirement already satisfied: httpcore==1.* in /Users/bagatur/langchain/.venv/lib/python3.11/site-packages (from httpx->tavily-python) (1.0.5)\r\n",
      "Requirement already satisfied: idna in /Users/bagatur/langchain/.venv/lib/python3.11/site-packages (from httpx->tavily-python) (3.7)\r\n",
      "Requirement already satisfied: h11<0.15,>=0.13 in /Users/bagatur/langchain/.venv/lib/python3.11/site-packages (from httpcore==1.*->httpx->tavily-python) (0.14.0)\r\n",
      "Requirement already satisfied: langchain-text-splitters<0.4.0,>=0.3.0.dev1 in /Users/bagatur/langchain/.venv/lib/python3.11/site-packages (from langchain<0.4.0,>=0.3.0.dev2->langchain-community) (0.3.0.dev1)\r\n",
      "Requirement already satisfied: jsonpatch<2.0,>=1.33 in /Users/bagatur/langchain/.venv/lib/python3.11/site-packages (from langchain-core<0.4.0,>=0.3.0.dev5->langchain-community) (1.33)\r\n",
      "Requirement already satisfied: packaging<25,>=23.2 in /Users/bagatur/langchain/.venv/lib/python3.11/site-packages (from langchain-core<0.4.0,>=0.3.0.dev5->langchain-community) (24.1)\r\n",
      "Requirement already satisfied: orjson<4.0.0,>=3.9.14 in /Users/bagatur/langchain/.venv/lib/python3.11/site-packages (from langsmith<0.2.0,>=0.1.112->langchain-community) (3.10.6)\r\n",
      "Requirement already satisfied: annotated-types>=0.4.0 in /Users/bagatur/langchain/.venv/lib/python3.11/site-packages (from pydantic<3.0.0,>=2.7.4->langchain-anthropic) (0.7.0)\r\n",
      "Requirement already satisfied: pydantic-core==2.20.1 in /Users/bagatur/langchain/.venv/lib/python3.11/site-packages (from pydantic<3.0.0,>=2.7.4->langchain-anthropic) (2.20.1)\r\n"
     ]
    },
    {
     "name": "stdout",
     "output_type": "stream",
     "text": [
      "Requirement already satisfied: python-dotenv>=0.21.0 in /Users/bagatur/langchain/.venv/lib/python3.11/site-packages (from pydantic-settings<3.0.0,>=2.4.0->langchain-community) (1.0.1)\r\n",
      "Requirement already satisfied: charset-normalizer<4,>=2 in /Users/bagatur/langchain/.venv/lib/python3.11/site-packages (from requests<3,>=2->langchain-community) (3.3.2)\r\n",
      "Requirement already satisfied: urllib3<3,>=1.21.1 in /Users/bagatur/langchain/.venv/lib/python3.11/site-packages (from requests<3,>=2->langchain-community) (2.2.2)\r\n",
      "Requirement already satisfied: regex>=2022.1.18 in /Users/bagatur/langchain/.venv/lib/python3.11/site-packages (from tiktoken>=0.5.1->tavily-python) (2024.7.24)\r\n",
      "Requirement already satisfied: jsonpointer>=1.9 in /Users/bagatur/langchain/.venv/lib/python3.11/site-packages (from jsonpatch<2.0,>=1.33->langchain-core<0.4.0,>=0.3.0.dev5->langchain-community) (3.0.0)\r\n",
      "Requirement already satisfied: huggingface-hub<1.0,>=0.16.4 in /Users/bagatur/langchain/.venv/lib/python3.11/site-packages (from tokenizers>=0.13.0->anthropic<1,>=0.30.0->langchain-anthropic) (0.24.5)\r\n",
      "Requirement already satisfied: mypy-extensions>=0.3.0 in /Users/bagatur/langchain/.venv/lib/python3.11/site-packages (from typing-inspect<1,>=0.4.0->dataclasses-json<0.7,>=0.5.7->langchain-community) (1.0.0)\r\n",
      "Requirement already satisfied: filelock in /Users/bagatur/langchain/.venv/lib/python3.11/site-packages (from huggingface-hub<1.0,>=0.16.4->tokenizers>=0.13.0->anthropic<1,>=0.30.0->langchain-anthropic) (3.15.4)\r\n",
      "Requirement already satisfied: fsspec>=2023.5.0 in /Users/bagatur/langchain/.venv/lib/python3.11/site-packages (from huggingface-hub<1.0,>=0.16.4->tokenizers>=0.13.0->anthropic<1,>=0.30.0->langchain-anthropic) (2024.6.1)\r\n",
      "Requirement already satisfied: tqdm>=4.42.1 in /Users/bagatur/langchain/.venv/lib/python3.11/site-packages (from huggingface-hub<1.0,>=0.16.4->tokenizers>=0.13.0->anthropic<1,>=0.30.0->langchain-anthropic) (4.66.5)\r\n"
     ]
    },
    {
     "name": "stdout",
     "output_type": "stream",
     "text": [
      "Downloading langchain_community-0.3.0.dev2-py3-none-any.whl (2.3 MB)\r\n",
      "\u001b[?25l   \u001b[38;5;237m━━━━━━━━━━━━━━━━━━━━━━━━━━━━━━━━━━━━━━━━\u001b[0m \u001b[32m0.0/2.3 MB\u001b[0m \u001b[31m?\u001b[0m eta \u001b[36m-:--:--\u001b[0m\r",
      "\u001b[2K   \u001b[38;2;249;38;114m━━\u001b[0m\u001b[38;5;237m╺\u001b[0m\u001b[38;5;237m━━━━━━━━━━━━━━━━━━━━━━━━━━━━━━━━━━━━━\u001b[0m \u001b[32m0.1/2.3 MB\u001b[0m \u001b[31m4.6 MB/s\u001b[0m eta \u001b[36m0:00:01\u001b[0m"
     ]
    },
    {
     "name": "stdout",
     "output_type": "stream",
     "text": [
      "\r",
      "\u001b[2K   \u001b[38;2;249;38;114m━━━━━━━━\u001b[0m\u001b[38;5;237m╺\u001b[0m\u001b[38;5;237m━━━━━━━━━━━━━━━━━━━━━━━━━━━━━━━\u001b[0m \u001b[32m0.5/2.3 MB\u001b[0m \u001b[31m6.9 MB/s\u001b[0m eta \u001b[36m0:00:01\u001b[0m"
     ]
    },
    {
     "name": "stdout",
     "output_type": "stream",
     "text": [
      "\r",
      "\u001b[2K   \u001b[38;2;249;38;114m━━━━━━━━━━━\u001b[0m\u001b[38;2;249;38;114m╸\u001b[0m\u001b[38;5;237m━━━━━━━━━━━━━━━━━━━━━━━━━━━━\u001b[0m \u001b[32m0.7/2.3 MB\u001b[0m \u001b[31m8.0 MB/s\u001b[0m eta \u001b[36m0:00:01\u001b[0m"
     ]
    },
    {
     "name": "stdout",
     "output_type": "stream",
     "text": [
      "\r",
      "\u001b[2K   \u001b[38;2;249;38;114m━━━━━━━━━━━━━━\u001b[0m\u001b[38;5;237m╺\u001b[0m\u001b[38;5;237m━━━━━━━━━━━━━━━━━━━━━━━━━\u001b[0m \u001b[32m0.8/2.3 MB\u001b[0m \u001b[31m6.7 MB/s\u001b[0m eta \u001b[36m0:00:01\u001b[0m\r",
      "\u001b[2K   \u001b[38;2;249;38;114m━━━━━━━━━━━━━━━━━\u001b[0m\u001b[38;5;237m╺\u001b[0m\u001b[38;5;237m━━━━━━━━━━━━━━━━━━━━━━\u001b[0m \u001b[32m1.0/2.3 MB\u001b[0m \u001b[31m5.5 MB/s\u001b[0m eta \u001b[36m0:00:01\u001b[0m"
     ]
    },
    {
     "name": "stdout",
     "output_type": "stream",
     "text": [
      "\r",
      "\u001b[2K   \u001b[38;2;249;38;114m━━━━━━━━━━━━━━━━━━━━━━━━━━━\u001b[0m\u001b[38;2;249;38;114m╸\u001b[0m\u001b[38;5;237m━━━━━━━━━━━━\u001b[0m \u001b[32m1.6/2.3 MB\u001b[0m \u001b[31m7.2 MB/s\u001b[0m eta \u001b[36m0:00:01\u001b[0m"
     ]
    },
    {
     "name": "stdout",
     "output_type": "stream",
     "text": [
      "\r",
      "\u001b[2K   \u001b[38;2;249;38;114m━━━━━━━━━━━━━━━━━━━━━━━━━━━━━━━━━\u001b[0m\u001b[38;2;249;38;114m╸\u001b[0m\u001b[38;5;237m━━━━━━\u001b[0m \u001b[32m2.0/2.3 MB\u001b[0m \u001b[31m7.4 MB/s\u001b[0m eta \u001b[36m0:00:01\u001b[0m\r",
      "\u001b[2K   \u001b[38;2;249;38;114m━━━━━━━━━━━━━━━━━━━━━━━━━━━━━━━━━━━━━\u001b[0m\u001b[38;5;237m╺\u001b[0m\u001b[38;5;237m━━\u001b[0m \u001b[32m2.2/2.3 MB\u001b[0m \u001b[31m7.9 MB/s\u001b[0m eta \u001b[36m0:00:01\u001b[0m"
     ]
    },
    {
     "name": "stdout",
     "output_type": "stream",
     "text": [
      "\r",
      "\u001b[2K   \u001b[38;2;249;38;114m━━━━━━━━━━━━━━━━━━━━━━━━━━━━━━━━━━━━━\u001b[0m\u001b[38;5;237m╺\u001b[0m\u001b[38;5;237m━━\u001b[0m \u001b[32m2.2/2.3 MB\u001b[0m \u001b[31m7.9 MB/s\u001b[0m eta \u001b[36m0:00:01\u001b[0m"
     ]
    },
    {
     "name": "stdout",
     "output_type": "stream",
     "text": [
      "\r",
      "\u001b[2K   \u001b[38;2;249;38;114m━━━━━━━━━━━━━━━━━━━━━━━━━━━━━━━━━━━━━\u001b[0m\u001b[38;5;237m╺\u001b[0m\u001b[38;5;237m━━\u001b[0m \u001b[32m2.2/2.3 MB\u001b[0m \u001b[31m7.9 MB/s\u001b[0m eta \u001b[36m0:00:01\u001b[0m"
     ]
    },
    {
     "name": "stdout",
     "output_type": "stream",
     "text": [
      "\r",
      "\u001b[2K   \u001b[38;2;249;38;114m━━━━━━━━━━━━━━━━━━━━━━━━━━━━━━━━━━━━━\u001b[0m\u001b[38;5;237m╺\u001b[0m\u001b[38;5;237m━━\u001b[0m \u001b[32m2.2/2.3 MB\u001b[0m \u001b[31m7.9 MB/s\u001b[0m eta \u001b[36m0:00:01\u001b[0m\r",
      "\u001b[2K   \u001b[38;2;249;38;114m━━━━━━━━━━━━━━━━━━━━━━━━━━━━━━━━━━━━━━━\u001b[0m\u001b[38;2;249;38;114m╸\u001b[0m \u001b[32m2.3/2.3 MB\u001b[0m \u001b[31m5.2 MB/s\u001b[0m eta \u001b[36m0:00:01\u001b[0m\r",
      "\u001b[2K   \u001b[38;2;114;156;31m━━━━━━━━━━━━━━━━━━━━━━━━━━━━━━━━━━━━━━━━\u001b[0m \u001b[32m2.3/2.3 MB\u001b[0m \u001b[31m5.0 MB/s\u001b[0m eta \u001b[36m0:00:00\u001b[0m\r\n",
      "\u001b[?25h"
     ]
    },
    {
     "name": "stdout",
     "output_type": "stream",
     "text": [
      "Downloading langgraph_checkpoint_sqlite-1.0.3-py3-none-any.whl (12 kB)\r\n"
     ]
    },
    {
     "name": "stdout",
     "output_type": "stream",
     "text": [
      "Downloading aiosqlite-0.20.0-py3-none-any.whl (15 kB)\r\n"
     ]
    },
    {
     "name": "stdout",
     "output_type": "stream",
     "text": [
      "Downloading langchain-0.3.0.dev2-py3-none-any.whl (1.0 MB)\r\n",
      "\u001b[?25l   \u001b[38;5;237m━━━━━━━━━━━━━━━━━━━━━━━━━━━━━━━━━━━━━━━━\u001b[0m \u001b[32m0.0/1.0 MB\u001b[0m \u001b[31m?\u001b[0m eta \u001b[36m-:--:--\u001b[0m\r",
      "\u001b[2K   \u001b[38;2;249;38;114m━━━━━━━━━━━━━━━━━━━━━\u001b[0m\u001b[38;2;249;38;114m╸\u001b[0m\u001b[38;5;237m━━━━━━━━━━━━━━━━━━\u001b[0m \u001b[32m0.5/1.0 MB\u001b[0m \u001b[31m14.3 MB/s\u001b[0m eta \u001b[36m0:00:01\u001b[0m"
     ]
    },
    {
     "name": "stdout",
     "output_type": "stream",
     "text": [
      "\r",
      "\u001b[2K   \u001b[38;2;114;156;31m━━━━━━━━━━━━━━━━━━━━━━━━━━━━━━━━━━━━━━━━\u001b[0m \u001b[32m1.0/1.0 MB\u001b[0m \u001b[31m13.4 MB/s\u001b[0m eta \u001b[36m0:00:00\u001b[0m\r\n",
      "\u001b[?25h"
     ]
    },
    {
     "name": "stdout",
     "output_type": "stream",
     "text": [
      "Downloading langchain_core-0.3.0.dev5-py3-none-any.whl (403 kB)\r\n",
      "\u001b[?25l   \u001b[38;5;237m━━━━━━━━━━━━━━━━━━━━━━━━━━━━━━━━━━━━━━━━\u001b[0m \u001b[32m0.0/403.6 kB\u001b[0m \u001b[31m?\u001b[0m eta \u001b[36m-:--:--\u001b[0m\r",
      "\u001b[2K   \u001b[38;2;249;38;114m━━━━━━━━━━━━━━━━━━━━━━━━━━━━━━━━━━━━━━━\u001b[0m\u001b[38;2;249;38;114m╸\u001b[0m \u001b[32m399.4/403.6 kB\u001b[0m \u001b[31m14.8 MB/s\u001b[0m eta \u001b[36m0:00:01\u001b[0m\r",
      "\u001b[2K   \u001b[38;2;114;156;31m━━━━━━━━━━━━━━━━━━━━━━━━━━━━━━━━━━━━━━━━\u001b[0m \u001b[32m403.6/403.6 kB\u001b[0m \u001b[31m11.3 MB/s\u001b[0m eta \u001b[36m0:00:00\u001b[0m\r\n",
      "\u001b[?25h"
     ]
    },
    {
     "name": "stdout",
     "output_type": "stream",
     "text": [
      "Downloading langsmith-0.1.118-py3-none-any.whl (289 kB)\r\n",
      "\u001b[?25l"
     ]
    },
    {
     "name": "stdout",
     "output_type": "stream",
     "text": [
      "   \u001b[38;5;237m━━━━━━━━━━━━━━━━━━━━━━━━━━━━━━━━━━━━━━━━\u001b[0m \u001b[32m0.0/289.3 kB\u001b[0m \u001b[31m?\u001b[0m eta \u001b[36m-:--:--\u001b[0m\r",
      "\u001b[2K   \u001b[38;2;249;38;114m━━━━━━━━━━━━━━━━━━━\u001b[0m\u001b[38;5;237m╺\u001b[0m\u001b[38;5;237m━━━━━━━━━━━━━━━━━━━\u001b[0m \u001b[32m143.4/289.3 kB\u001b[0m \u001b[31m139.5 MB/s\u001b[0m eta \u001b[36m0:00:01\u001b[0m"
     ]
    },
    {
     "name": "stdout",
     "output_type": "stream",
     "text": [
      "\r",
      "\u001b[2K   \u001b[38;2;249;38;114m━━━━━━━━━━━━━━━━━━━\u001b[0m\u001b[38;5;237m╺\u001b[0m\u001b[38;5;237m━━━━━━━━━━━━━━━━━━━\u001b[0m \u001b[32m143.4/289.3 kB\u001b[0m \u001b[31m139.5 MB/s\u001b[0m eta \u001b[36m0:00:01\u001b[0m"
     ]
    },
    {
     "name": "stdout",
     "output_type": "stream",
     "text": [
      "\r",
      "\u001b[2K   \u001b[38;2;249;38;114m━━━━━━━━━━━━━━━━━━━\u001b[0m\u001b[38;5;237m╺\u001b[0m\u001b[38;5;237m━━━━━━━━━━━━━━━━━━━\u001b[0m \u001b[32m143.4/289.3 kB\u001b[0m \u001b[31m139.5 MB/s\u001b[0m eta \u001b[36m0:00:01\u001b[0m\r",
      "\u001b[2K   \u001b[38;2;249;38;114m━━━━━━━━━━━━━━━━━━━\u001b[0m\u001b[38;5;237m╺\u001b[0m\u001b[38;5;237m━━━━━━━━━━━━━━━━━━━\u001b[0m \u001b[32m143.4/289.3 kB\u001b[0m \u001b[31m139.5 MB/s\u001b[0m eta \u001b[36m0:00:01\u001b[0m"
     ]
    },
    {
     "name": "stdout",
     "output_type": "stream",
     "text": [
      "\r",
      "\u001b[2K   \u001b[38;2;114;156;31m━━━━━━━━━━━━━━━━━━━━━━━━━━━━━━━━━━━━━━━━\u001b[0m \u001b[32m289.3/289.3 kB\u001b[0m \u001b[31m1.5 MB/s\u001b[0m eta \u001b[36m0:00:00\u001b[0m\r\n",
      "\u001b[?25h"
     ]
    },
    {
     "name": "stdout",
     "output_type": "stream",
     "text": [
      "Installing collected packages: aiosqlite, langsmith, langchain-core, langgraph-checkpoint-sqlite, langchain, langchain-community\r\n",
      "  Attempting uninstall: langsmith\r\n",
      "    Found existing installation: langsmith 0.1.98\r\n"
     ]
    },
    {
     "name": "stdout",
     "output_type": "stream",
     "text": [
      "    Uninstalling langsmith-0.1.98:\r\n",
      "      Successfully uninstalled langsmith-0.1.98\r\n"
     ]
    },
    {
     "name": "stdout",
     "output_type": "stream",
     "text": [
      "  Attempting uninstall: langchain-core\r\n",
      "    Found existing installation: langchain-core 0.3.0.dev4\r\n"
     ]
    },
    {
     "name": "stdout",
     "output_type": "stream",
     "text": [
      "    Uninstalling langchain-core-0.3.0.dev4:\r\n"
     ]
    },
    {
     "name": "stdout",
     "output_type": "stream",
     "text": [
      "      Successfully uninstalled langchain-core-0.3.0.dev4\r\n"
     ]
    },
    {
     "name": "stdout",
     "output_type": "stream",
     "text": [
      "  Attempting uninstall: langchain\r\n"
     ]
    },
    {
     "name": "stdout",
     "output_type": "stream",
     "text": [
      "    Found existing installation: langchain 0.3.0.dev1\r\n",
      "    Uninstalling langchain-0.3.0.dev1:\r\n"
     ]
    },
    {
     "name": "stdout",
     "output_type": "stream",
     "text": [
      "      Successfully uninstalled langchain-0.3.0.dev1\r\n"
     ]
    },
    {
     "name": "stdout",
     "output_type": "stream",
     "text": [
      "  Attempting uninstall: langchain-community\r\n",
      "    Found existing installation: langchain-community 0.3.0.dev1\r\n",
      "    Uninstalling langchain-community-0.3.0.dev1:\r\n"
     ]
    },
    {
     "name": "stdout",
     "output_type": "stream",
     "text": [
      "      Successfully uninstalled langchain-community-0.3.0.dev1\r\n"
     ]
    },
    {
     "name": "stdout",
     "output_type": "stream",
     "text": [
      "\u001b[31mERROR: pip's dependency resolver does not currently take into account all the packages that are installed. This behaviour is the source of the following dependency conflicts.\r\n",
      "langchain-benchmarks 0.0.14 requires langchain<0.3.0,>=0.2.7, but you have langchain 0.3.0.dev2 which is incompatible.\r\n",
      "langchain-benchmarks 0.0.14 requires langchain-community<0.3,>=0.2, but you have langchain-community 0.3.0.dev2 which is incompatible.\r\n",
      "langchain-benchmarks 0.0.14 requires langchain-openai<0.2.0,>=0.1.14, but you have langchain-openai 0.2.0.dev2 which is incompatible.\r\n",
      "langchain-aws 0.1.15 requires langchain-core<0.3,>=0.2.29, but you have langchain-core 0.3.0.dev5 which is incompatible.\r\n",
      "langchain-huggingface 0.0.3 requires langchain-core<0.3,>=0.1.52, but you have langchain-core 0.3.0.dev5 which is incompatible.\r\n",
      "langchain-chroma 0.1.3 requires langchain-core<0.3,>=0.1.40, but you have langchain-core 0.3.0.dev5 which is incompatible.\r\n",
      "langchain-together 0.1.5 requires langchain-core<0.3.0,>=0.2.26, but you have langchain-core 0.3.0.dev5 which is incompatible.\r\n",
      "langchain-together 0.1.5 requires langchain-openai<0.2.0,>=0.1.16, but you have langchain-openai 0.2.0.dev2 which is incompatible.\r\n",
      "langserve 0.2.2 requires langchain-core<0.3,>=0.1, but you have langchain-core 0.3.0.dev5 which is incompatible.\r\n",
      "langchain-standard-tests 0.1.1 requires langchain-core<0.3,>=0.1.40, but you have langchain-core 0.3.0.dev5 which is incompatible.\u001b[0m\u001b[31m\r\n",
      "\u001b[0mSuccessfully installed aiosqlite-0.20.0 langchain-0.3.0.dev2 langchain-community-0.3.0.dev2 langchain-core-0.3.0.dev5 langgraph-checkpoint-sqlite-1.0.3 langsmith-0.1.118\r\n"
     ]
    },
    {
     "name": "stdout",
     "output_type": "stream",
     "text": [
      "Note: you may need to restart the kernel to use updated packages.\n"
     ]
    }
   ],
   "source": [
    "%pip install -U langchain-community langgraph langchain-anthropic tavily-python langgraph-checkpoint-sqlite"
   ]
  },
  {
   "cell_type": "markdown",
   "id": "2ee337ae",
   "metadata": {},
   "source": [
    "For more details, see our [Installation guide](/docs/how_to/installation).\n",
    "\n",
    "### LangSmith\n",
    "\n",
    "Many of the applications you build with LangChain will contain multiple steps with multiple invocations of LLM calls.\n",
    "As these applications get more and more complex, it becomes crucial to be able to inspect what exactly is going on inside your chain or agent.\n",
    "The best way to do this is with [LangSmith](https://smith.langchain.com).\n",
    "\n",
    "After you sign up at the link above, make sure to set your environment variables to start logging traces:\n",
    "\n",
    "```shell\n",
    "export LANGCHAIN_TRACING_V2=\"true\"\n",
    "export LANGCHAIN_API_KEY=\"...\"\n",
    "```\n",
    "\n",
    "Or, if in a notebook, you can set them with:\n",
    "\n",
    "```python\n",
    "import getpass\n",
    "import os\n",
    "\n",
    "os.environ[\"LANGCHAIN_TRACING_V2\"] = \"true\"\n",
    "os.environ[\"LANGCHAIN_API_KEY\"] = getpass.getpass()\n",
    "```\n",
    "\n",
    "### Tavily\n",
    "\n",
    "We will be using [Tavily](/docs/integrations/tools/tavily_search) (a search engine) as a tool.\n",
    "In order to use it, you will need to get and set an API key:\n",
    "\n",
    "```bash\n",
    "export TAVILY_API_KEY=\"...\"\n",
    "```\n",
    "\n",
    "Or, if in a notebook, you can set it with:\n",
    "\n",
    "```python\n",
    "import getpass\n",
    "import os\n",
    "\n",
    "os.environ[\"TAVILY_API_KEY\"] = getpass.getpass()\n",
    "```"
   ]
  },
  {
   "cell_type": "markdown",
   "id": "c335d1bf",
   "metadata": {},
   "source": [
    "## Define tools\n",
    "\n",
    "We first need to create the tools we want to use. Our main tool of choice will be [Tavily](/docs/integrations/tools/tavily_search) - a search engine. We have a built-in tool in LangChain to easily use Tavily search engine as tool.\n"
   ]
  },
  {
   "cell_type": "code",
   "execution_count": 3,
   "id": "482ce13d",
   "metadata": {
    "execution": {
     "iopub.execute_input": "2024-09-11T23:56:13.297865Z",
     "iopub.status.busy": "2024-09-11T23:56:13.297661Z",
     "iopub.status.idle": "2024-09-11T23:56:18.217269Z",
     "shell.execute_reply": "2024-09-11T23:56:18.216685Z"
    }
   },
   "outputs": [
    {
     "name": "stdout",
     "output_type": "stream",
     "text": [
      "[{'url': 'https://www.weatherapi.com/', 'content': \"{'location': {'name': 'San Francisco', 'region': 'California', 'country': 'United States of America', 'lat': 37.78, 'lon': -122.42, 'tz_id': 'America/Los_Angeles', 'localtime_epoch': 1726098811, 'localtime': '2024-09-11 16:53'}, 'current': {'last_updated_epoch': 1726098300, 'last_updated': '2024-09-11 16:45', 'temp_c': 22.8, 'temp_f': 73.0, 'is_day': 1, 'condition': {'text': 'Partly cloudy', 'icon': '//cdn.weatherapi.com/weather/64x64/day/116.png', 'code': 1003}, 'wind_mph': 18.6, 'wind_kph': 29.9, 'wind_degree': 290, 'wind_dir': 'WNW', 'pressure_mb': 1011.0, 'pressure_in': 29.86, 'precip_mm': 0.0, 'precip_in': 0.0, 'humidity': 64, 'cloud': 25, 'feelslike_c': 24.9, 'feelslike_f': 76.9, 'windchill_c': 18.4, 'windchill_f': 65.1, 'heatindex_c': 18.4, 'heatindex_f': 65.1, 'dewpoint_c': 14.8, 'dewpoint_f': 58.6, 'vis_km': 16.0, 'vis_miles': 9.0, 'uv': 5.0, 'gust_mph': 27.3, 'gust_kph': 43.9}}\"}, {'url': 'https://www.ventusky.com/san-francisco', 'content': 'San Francisco ☀ Weather forecast for 10 days, information from meteorological stations, webcams, sunrise and sunset, wind and precipitation maps for this place ... (UTC-7) / Current time: 00:36 2024/09/11 . Current Weather ; Forecast ; Sun and Moon ; 14 °C : Wind ... (23:56 2024/09/10) Weather for the next 24 hours . 01:00 02:00 03:00 04:00 ...'}]\n"
     ]
    }
   ],
   "source": [
    "from langchain_community.tools.tavily_search import TavilySearchResults\n",
    "\n",
    "search = TavilySearchResults(max_results=2)\n",
    "search_results = search.invoke(\"what is the weather in SF\")\n",
    "print(search_results)\n",
    "# If we want, we can create other tools.\n",
    "# Once we have all the tools we want, we can put them in a list that we will reference later.\n",
    "tools = [search]"
   ]
  },
  {
   "cell_type": "markdown",
   "id": "e00068b0",
   "metadata": {},
   "source": [
    "## Using Language Models\n",
    "\n",
    "Next, let's learn how to use a language model by to call tools. LangChain supports many different language models that you can use interchangably - select the one you want to use below!\n",
    "\n",
    "```{=mdx}\n",
    "import ChatModelTabs from \"@theme/ChatModelTabs\";\n",
    "\n",
    "<ChatModelTabs openaiParams={`model=\"gpt-4\"`} />\n",
    "```"
   ]
  },
  {
   "cell_type": "code",
   "execution_count": 4,
   "id": "69185491",
   "metadata": {
    "execution": {
     "iopub.execute_input": "2024-09-11T23:56:18.220771Z",
     "iopub.status.busy": "2024-09-11T23:56:18.220477Z",
     "iopub.status.idle": "2024-09-11T23:56:18.252527Z",
     "shell.execute_reply": "2024-09-11T23:56:18.252021Z"
    }
   },
   "outputs": [],
   "source": [
    "# | output: false\n",
    "# | echo: false\n",
    "\n",
    "from langchain_anthropic import ChatAnthropic\n",
    "\n",
    "model = ChatAnthropic(model=\"claude-3-sonnet-20240229\")"
   ]
  },
  {
   "cell_type": "markdown",
   "id": "642ed8bf",
   "metadata": {},
   "source": [
    "You can call the language model by passing in a list of messages. By default, the response is a `content` string."
   ]
  },
  {
   "cell_type": "code",
   "execution_count": 5,
   "id": "c96c960b",
   "metadata": {
    "execution": {
     "iopub.execute_input": "2024-09-11T23:56:18.256404Z",
     "iopub.status.busy": "2024-09-11T23:56:18.255995Z",
     "iopub.status.idle": "2024-09-11T23:56:19.286916Z",
     "shell.execute_reply": "2024-09-11T23:56:19.286361Z"
    }
   },
   "outputs": [
    {
     "data": {
      "text/plain": [
       "'Hi there! How can I assist you today?'"
      ]
     },
     "execution_count": 5,
     "metadata": {},
     "output_type": "execute_result"
    }
   ],
   "source": [
    "from langchain_core.messages import HumanMessage\n",
    "\n",
    "response = model.invoke([HumanMessage(content=\"hi!\")])\n",
    "response.content"
   ]
  },
  {
   "cell_type": "markdown",
   "id": "47bf8210",
   "metadata": {},
   "source": [
    "We can now see what it is like to enable this model to do tool calling. In order to enable that we use `.bind_tools` to give the language model knowledge of these tools"
   ]
  },
  {
   "cell_type": "code",
   "execution_count": 6,
   "id": "ba692a74",
   "metadata": {
    "execution": {
     "iopub.execute_input": "2024-09-11T23:56:19.291542Z",
     "iopub.status.busy": "2024-09-11T23:56:19.291217Z",
     "iopub.status.idle": "2024-09-11T23:56:19.304547Z",
     "shell.execute_reply": "2024-09-11T23:56:19.303936Z"
    }
   },
   "outputs": [],
   "source": [
    "model_with_tools = model.bind_tools(tools)"
   ]
  },
  {
   "cell_type": "markdown",
   "id": "fd920b69",
   "metadata": {},
   "source": [
    "We can now call the model. Let's first call it with a normal message, and see how it responds. We can look at both the `content` field as well as the `tool_calls` field."
   ]
  },
  {
   "cell_type": "code",
   "execution_count": 7,
   "id": "b6a7e925",
   "metadata": {
    "execution": {
     "iopub.execute_input": "2024-09-11T23:56:19.308414Z",
     "iopub.status.busy": "2024-09-11T23:56:19.308057Z",
     "iopub.status.idle": "2024-09-11T23:56:20.205008Z",
     "shell.execute_reply": "2024-09-11T23:56:20.204199Z"
    }
   },
   "outputs": [
    {
     "name": "stdout",
     "output_type": "stream",
     "text": [
      "ContentString: Hello!\n",
      "ToolCalls: []\n"
     ]
    }
   ],
   "source": [
    "response = model_with_tools.invoke([HumanMessage(content=\"Hi!\")])\n",
    "\n",
    "print(f\"ContentString: {response.content}\")\n",
    "print(f\"ToolCalls: {response.tool_calls}\")"
   ]
  },
  {
   "cell_type": "markdown",
   "id": "e8c81e76",
   "metadata": {},
   "source": [
    "Now, let's try calling it with some input that would expect a tool to be called."
   ]
  },
  {
   "cell_type": "code",
   "execution_count": 8,
   "id": "688b465d",
   "metadata": {
    "execution": {
     "iopub.execute_input": "2024-09-11T23:56:20.208435Z",
     "iopub.status.busy": "2024-09-11T23:56:20.208079Z",
     "iopub.status.idle": "2024-09-11T23:56:22.206268Z",
     "shell.execute_reply": "2024-09-11T23:56:22.205657Z"
    }
   },
   "outputs": [
    {
     "name": "stdout",
     "output_type": "stream",
     "text": [
      "ContentString: [{'text': 'To get current weather information for San Francisco, we can use the tavily_search_results_json tool with an appropriate query:', 'type': 'text'}, {'id': 'toolu_017tgYBkVrtb7Szwfw5NzfRR', 'input': {'query': 'san francisco weather'}, 'name': 'tavily_search_results_json', 'type': 'tool_use'}]\n",
      "ToolCalls: [{'name': 'tavily_search_results_json', 'args': {'query': 'san francisco weather'}, 'id': 'toolu_017tgYBkVrtb7Szwfw5NzfRR', 'type': 'tool_call'}]\n"
     ]
    }
   ],
   "source": [
    "response = model_with_tools.invoke([HumanMessage(content=\"What's the weather in SF?\")])\n",
    "\n",
    "print(f\"ContentString: {response.content}\")\n",
    "print(f\"ToolCalls: {response.tool_calls}\")"
   ]
  },
  {
   "cell_type": "markdown",
   "id": "83c4bcd3",
   "metadata": {},
   "source": [
    "We can see that there's now no text content, but there is a tool call! It wants us to call the Tavily Search tool.\n",
    "\n",
    "This isn't calling that tool yet - it's just telling us to. In order to actually call it, we'll want to create our agent."
   ]
  },
  {
   "cell_type": "markdown",
   "id": "40ccec80",
   "metadata": {},
   "source": [
    "## Create the agent\n",
    "\n",
    "Now that we have defined the tools and the LLM, we can create the agent. We will be using [LangGraph](/docs/concepts/#langgraph) to construct the agent. \n",
    "Currently we are using a high level interface to construct the agent, but the nice thing about LangGraph is that this high-level interface is backed by a low-level, highly controllable API in case you want to modify the agent logic.\n"
   ]
  },
  {
   "cell_type": "markdown",
   "id": "f8014c9d",
   "metadata": {},
   "source": [
    "Now, we can initialize the agent with the LLM and the tools.\n",
    "\n",
    "Note that we are passing in the `model`, not `model_with_tools`. That is because `create_react_agent` will call `.bind_tools` for us under the hood."
   ]
  },
  {
   "cell_type": "code",
   "execution_count": 9,
   "id": "89cf72b4-6046-4b47-8f27-5522d8cb8036",
   "metadata": {
    "execution": {
     "iopub.execute_input": "2024-09-11T23:56:22.210683Z",
     "iopub.status.busy": "2024-09-11T23:56:22.210388Z",
     "iopub.status.idle": "2024-09-11T23:56:22.221551Z",
     "shell.execute_reply": "2024-09-11T23:56:22.219961Z"
    }
   },
   "outputs": [],
   "source": [
    "from langgraph.prebuilt import create_react_agent\n",
    "\n",
    "agent_executor = create_react_agent(model, tools)"
   ]
  },
  {
   "cell_type": "markdown",
   "id": "e4df0e06",
   "metadata": {},
   "source": [
    "## Run the agent\n",
    "\n",
    "We can now run the agent on a few queries! Note that for now, these are all **stateless** queries (it won't remember previous interactions). Note that the agent will return the **final** state at the end of the interaction (which includes any inputs, we will see later on how to get only the outputs).\n",
    "\n",
    "First up, let's see how it responds when there's no need to call a tool:"
   ]
  },
  {
   "cell_type": "code",
   "execution_count": 10,
   "id": "114ba50d",
   "metadata": {
    "execution": {
     "iopub.execute_input": "2024-09-11T23:56:22.226914Z",
     "iopub.status.busy": "2024-09-11T23:56:22.226522Z",
     "iopub.status.idle": "2024-09-11T23:56:24.983330Z",
     "shell.execute_reply": "2024-09-11T23:56:24.982539Z"
    }
   },
   "outputs": [
    {
     "data": {
      "text/plain": [
       "[HumanMessage(content='hi!', additional_kwargs={}, response_metadata={}, id='7678e0ad-b6f7-4756-88b8-f5ab2a1b0f08'),\n",
       " AIMessage(content='Hello!', additional_kwargs={}, response_metadata={'id': 'msg_01J7VUEPXtcQGgmb5qHrgtjr', 'model': 'claude-3-sonnet-20240229', 'stop_reason': 'end_turn', 'stop_sequence': None, 'usage': {'input_tokens': 264, 'output_tokens': 5}}, id='run-fbda63c9-e2a8-46ce-8f0b-b85fbeaafced-0', usage_metadata={'input_tokens': 264, 'output_tokens': 5, 'total_tokens': 269})]"
      ]
     },
     "execution_count": 10,
     "metadata": {},
     "output_type": "execute_result"
    }
   ],
   "source": [
    "response = agent_executor.invoke({\"messages\": [HumanMessage(content=\"hi!\")]})\n",
    "\n",
    "response[\"messages\"]"
   ]
  },
  {
   "cell_type": "markdown",
   "id": "71493a42",
   "metadata": {},
   "source": [
    "In order to see exactly what is happening under the hood (and to make sure it's not calling a tool) we can take a look at the [LangSmith trace](https://smith.langchain.com/public/28311faa-e135-4d6a-ab6b-caecf6482aaa/r)\n",
    "\n",
    "Let's now try it out on an example where it should be invoking the tool"
   ]
  },
  {
   "cell_type": "code",
   "execution_count": 11,
   "id": "77c2f769",
   "metadata": {
    "execution": {
     "iopub.execute_input": "2024-09-11T23:56:24.987514Z",
     "iopub.status.busy": "2024-09-11T23:56:24.987206Z",
     "iopub.status.idle": "2024-09-11T23:56:34.264393Z",
     "shell.execute_reply": "2024-09-11T23:56:34.263684Z"
    }
   },
   "outputs": [
    {
     "data": {
      "text/plain": [
       "[HumanMessage(content='whats the weather in sf?', additional_kwargs={}, response_metadata={}, id='dd268fda-5e57-4bc9-a0a5-63d9e88d7659'),\n",
       " AIMessage(content=[{'text': 'To get current weather information for San Francisco, we can use the tavily_search_results_json tool:', 'type': 'text'}, {'id': 'toolu_01FsvX6nE7wAgnuHZoWwEEDC', 'input': {'query': 'san francisco weather'}, 'name': 'tavily_search_results_json', 'type': 'tool_use'}], additional_kwargs={}, response_metadata={'id': 'msg_019wc7ZgXtnqdUGavis6kNdE', 'model': 'claude-3-sonnet-20240229', 'stop_reason': 'tool_use', 'stop_sequence': None, 'usage': {'input_tokens': 269, 'output_tokens': 84}}, id='run-1f61d7a2-6200-4ed3-82d0-90e17e558ca4-0', tool_calls=[{'name': 'tavily_search_results_json', 'args': {'query': 'san francisco weather'}, 'id': 'toolu_01FsvX6nE7wAgnuHZoWwEEDC', 'type': 'tool_call'}], usage_metadata={'input_tokens': 269, 'output_tokens': 84, 'total_tokens': 353}),\n",
       " ToolMessage(content='[{\"url\": \"https://www.weatherapi.com/\", \"content\": \"{\\'location\\': {\\'name\\': \\'San Francisco\\', \\'region\\': \\'California\\', \\'country\\': \\'United States of America\\', \\'lat\\': 37.78, \\'lon\\': -122.42, \\'tz_id\\': \\'America/Los_Angeles\\', \\'localtime_epoch\\': 1726098811, \\'localtime\\': \\'2024-09-11 16:53\\'}, \\'current\\': {\\'last_updated_epoch\\': 1726098300, \\'last_updated\\': \\'2024-09-11 16:45\\', \\'temp_c\\': 22.8, \\'temp_f\\': 73.0, \\'is_day\\': 1, \\'condition\\': {\\'text\\': \\'Partly cloudy\\', \\'icon\\': \\'//cdn.weatherapi.com/weather/64x64/day/116.png\\', \\'code\\': 1003}, \\'wind_mph\\': 18.6, \\'wind_kph\\': 29.9, \\'wind_degree\\': 290, \\'wind_dir\\': \\'WNW\\', \\'pressure_mb\\': 1011.0, \\'pressure_in\\': 29.86, \\'precip_mm\\': 0.0, \\'precip_in\\': 0.0, \\'humidity\\': 64, \\'cloud\\': 25, \\'feelslike_c\\': 24.9, \\'feelslike_f\\': 76.9, \\'windchill_c\\': 18.4, \\'windchill_f\\': 65.1, \\'heatindex_c\\': 18.4, \\'heatindex_f\\': 65.1, \\'dewpoint_c\\': 14.8, \\'dewpoint_f\\': 58.6, \\'vis_km\\': 16.0, \\'vis_miles\\': 9.0, \\'uv\\': 5.0, \\'gust_mph\\': 27.3, \\'gust_kph\\': 43.9}}\"}, {\"url\": \"https://www.wunderground.com/weather/us/ca/san-francisco\", \"content\": \"San Francisco Weather Forecasts. Weather Underground provides local & long-range weather forecasts, weatherreports, maps & tropical weather conditions for the San Francisco area. ... 2024 (GMT -7 ...\"}]', name='tavily_search_results_json', id='4cc945d0-15ca-4afa-87c6-6bb16cad08a2', tool_call_id='toolu_01FsvX6nE7wAgnuHZoWwEEDC', artifact={'query': 'san francisco weather', 'follow_up_questions': None, 'answer': None, 'images': [], 'results': [{'title': 'Weather in San Francisco', 'url': 'https://www.weatherapi.com/', 'content': \"{'location': {'name': 'San Francisco', 'region': 'California', 'country': 'United States of America', 'lat': 37.78, 'lon': -122.42, 'tz_id': 'America/Los_Angeles', 'localtime_epoch': 1726098811, 'localtime': '2024-09-11 16:53'}, 'current': {'last_updated_epoch': 1726098300, 'last_updated': '2024-09-11 16:45', 'temp_c': 22.8, 'temp_f': 73.0, 'is_day': 1, 'condition': {'text': 'Partly cloudy', 'icon': '//cdn.weatherapi.com/weather/64x64/day/116.png', 'code': 1003}, 'wind_mph': 18.6, 'wind_kph': 29.9, 'wind_degree': 290, 'wind_dir': 'WNW', 'pressure_mb': 1011.0, 'pressure_in': 29.86, 'precip_mm': 0.0, 'precip_in': 0.0, 'humidity': 64, 'cloud': 25, 'feelslike_c': 24.9, 'feelslike_f': 76.9, 'windchill_c': 18.4, 'windchill_f': 65.1, 'heatindex_c': 18.4, 'heatindex_f': 65.1, 'dewpoint_c': 14.8, 'dewpoint_f': 58.6, 'vis_km': 16.0, 'vis_miles': 9.0, 'uv': 5.0, 'gust_mph': 27.3, 'gust_kph': 43.9}}\", 'score': 0.9992269, 'raw_content': None}, {'title': 'San Francisco, CA Weather Conditions | Weather Underground', 'url': 'https://www.wunderground.com/weather/us/ca/san-francisco', 'content': 'San Francisco Weather Forecasts. Weather Underground provides local & long-range weather forecasts, weatherreports, maps & tropical weather conditions for the San Francisco area. ... 2024 (GMT -7 ...', 'score': 0.9984022, 'raw_content': None}], 'response_time': 2.54}),\n",
       " AIMessage(content='The search results provide current weather conditions and forecasts for San Francisco from reputable weather sites like WeatherAPI and Weather Underground.\\n\\nThe key details from the WeatherAPI results are:\\n\\n- Current temperature: 22.8°C / 73.0°F\\n- Conditions: Partly cloudy \\n- Wind: 18.6 mph / 29.9 kph from the WNW\\n- Humidity: 64%\\n- Cloud cover: 25%\\n\\nSo in summary, as of mid-afternoon on September 11, 2024, the weather in San Francisco is partly cloudy with temperatures around 73°F, breezy winds from the northwest around 18-19 mph, and moderate humidity in the 60% range.\\n\\nThe forecasts from Weather Underground can provide additional details on the weather outlook over the next few days. Let me know if you need any other specific weather information for San Francisco!', additional_kwargs={}, response_metadata={'id': 'msg_018TRob5TkqZHLVJit3WFyf9', 'model': 'claude-3-sonnet-20240229', 'stop_reason': 'end_turn', 'stop_sequence': None, 'usage': {'input_tokens': 930, 'output_tokens': 206}}, id='run-3fc0fc97-5686-496c-87f4-4b6e089f593c-0', usage_metadata={'input_tokens': 930, 'output_tokens': 206, 'total_tokens': 1136})]"
      ]
     },
     "execution_count": 11,
     "metadata": {},
     "output_type": "execute_result"
    }
   ],
   "source": [
    "response = agent_executor.invoke(\n",
    "    {\"messages\": [HumanMessage(content=\"whats the weather in sf?\")]}\n",
    ")\n",
    "response[\"messages\"]"
   ]
  },
  {
   "cell_type": "markdown",
   "id": "c174f838",
   "metadata": {},
   "source": [
    "We can check out the [LangSmith trace](https://smith.langchain.com/public/f520839d-cd4d-4495-8764-e32b548e235d/r) to make sure it's calling the search tool effectively."
   ]
  },
  {
   "cell_type": "markdown",
   "id": "8f6ca7e4",
   "metadata": {},
   "source": [
    "## Streaming Messages\n",
    "\n",
    "We've seen how the agent can be called with `.invoke` to get back a final response. If the agent is executing multiple steps, that may take a while. In order to show intermediate progress, we can stream back messages as they occur."
   ]
  },
  {
   "cell_type": "code",
   "execution_count": 12,
   "id": "532d6557",
   "metadata": {
    "execution": {
     "iopub.execute_input": "2024-09-11T23:56:34.268628Z",
     "iopub.status.busy": "2024-09-11T23:56:34.268316Z",
     "iopub.status.idle": "2024-09-11T23:56:43.815582Z",
     "shell.execute_reply": "2024-09-11T23:56:43.814998Z"
    }
   },
   "outputs": [
    {
     "name": "stdout",
     "output_type": "stream",
     "text": [
      "{'agent': {'messages': [AIMessage(content=[{'id': 'toolu_01QGkj39Dk67gbximVZPUbYL', 'input': {'query': 'weather san francisco'}, 'name': 'tavily_search_results_json', 'type': 'tool_use'}], additional_kwargs={}, response_metadata={'id': 'msg_01MbDutXi5oeszaLfdURh5hm', 'model': 'claude-3-sonnet-20240229', 'stop_reason': 'tool_use', 'stop_sequence': None, 'usage': {'input_tokens': 269, 'output_tokens': 60}}, id='run-4e7002fd-8735-41db-b6ed-35c9d3b89ba2-0', tool_calls=[{'name': 'tavily_search_results_json', 'args': {'query': 'weather san francisco'}, 'id': 'toolu_01QGkj39Dk67gbximVZPUbYL', 'type': 'tool_call'}], usage_metadata={'input_tokens': 269, 'output_tokens': 60, 'total_tokens': 329})]}}\n",
      "----\n"
     ]
    },
    {
     "name": "stdout",
     "output_type": "stream",
     "text": [
      "{'tools': {'messages': [ToolMessage(content='[{\"url\": \"https://www.weatherapi.com/\", \"content\": \"{\\'location\\': {\\'name\\': \\'San Francisco\\', \\'region\\': \\'California\\', \\'country\\': \\'United States of America\\', \\'lat\\': 37.78, \\'lon\\': -122.42, \\'tz_id\\': \\'America/Los_Angeles\\', \\'localtime_epoch\\': 1726098811, \\'localtime\\': \\'2024-09-11 16:53\\'}, \\'current\\': {\\'last_updated_epoch\\': 1726098300, \\'last_updated\\': \\'2024-09-11 16:45\\', \\'temp_c\\': 22.8, \\'temp_f\\': 73.0, \\'is_day\\': 1, \\'condition\\': {\\'text\\': \\'Partly cloudy\\', \\'icon\\': \\'//cdn.weatherapi.com/weather/64x64/day/116.png\\', \\'code\\': 1003}, \\'wind_mph\\': 18.6, \\'wind_kph\\': 29.9, \\'wind_degree\\': 290, \\'wind_dir\\': \\'WNW\\', \\'pressure_mb\\': 1011.0, \\'pressure_in\\': 29.86, \\'precip_mm\\': 0.0, \\'precip_in\\': 0.0, \\'humidity\\': 64, \\'cloud\\': 25, \\'feelslike_c\\': 24.9, \\'feelslike_f\\': 76.9, \\'windchill_c\\': 18.4, \\'windchill_f\\': 65.1, \\'heatindex_c\\': 18.4, \\'heatindex_f\\': 65.1, \\'dewpoint_c\\': 14.8, \\'dewpoint_f\\': 58.6, \\'vis_km\\': 16.0, \\'vis_miles\\': 9.0, \\'uv\\': 5.0, \\'gust_mph\\': 27.3, \\'gust_kph\\': 43.9}}\"}, {\"url\": \"https://weather.com/weather/monthly/l/USCA0987:1:US\", \"content\": \"Weather.com brings you the most accurate monthly weather forecast for San Francisco, CA with average/record and high/low temperatures, precipitation and more. ... 11. 72 \\\\u00b0 57 \\\\u00b0 12. 72 \\\\u00b0 54 ...\"}]', name='tavily_search_results_json', tool_call_id='toolu_01QGkj39Dk67gbximVZPUbYL', artifact={'query': 'weather san francisco', 'follow_up_questions': None, 'answer': None, 'images': [], 'results': [{'title': 'Weather in San Francisco', 'url': 'https://www.weatherapi.com/', 'content': \"{'location': {'name': 'San Francisco', 'region': 'California', 'country': 'United States of America', 'lat': 37.78, 'lon': -122.42, 'tz_id': 'America/Los_Angeles', 'localtime_epoch': 1726098811, 'localtime': '2024-09-11 16:53'}, 'current': {'last_updated_epoch': 1726098300, 'last_updated': '2024-09-11 16:45', 'temp_c': 22.8, 'temp_f': 73.0, 'is_day': 1, 'condition': {'text': 'Partly cloudy', 'icon': '//cdn.weatherapi.com/weather/64x64/day/116.png', 'code': 1003}, 'wind_mph': 18.6, 'wind_kph': 29.9, 'wind_degree': 290, 'wind_dir': 'WNW', 'pressure_mb': 1011.0, 'pressure_in': 29.86, 'precip_mm': 0.0, 'precip_in': 0.0, 'humidity': 64, 'cloud': 25, 'feelslike_c': 24.9, 'feelslike_f': 76.9, 'windchill_c': 18.4, 'windchill_f': 65.1, 'heatindex_c': 18.4, 'heatindex_f': 65.1, 'dewpoint_c': 14.8, 'dewpoint_f': 58.6, 'vis_km': 16.0, 'vis_miles': 9.0, 'uv': 5.0, 'gust_mph': 27.3, 'gust_kph': 43.9}}\", 'score': 0.9980327, 'raw_content': None}, {'title': 'Monthly Weather Forecast for San Francisco, CA - weather.com', 'url': 'https://weather.com/weather/monthly/l/USCA0987:1:US', 'content': 'Weather.com brings you the most accurate monthly weather forecast for San Francisco, CA with average/record and high/low temperatures, precipitation and more. ... 11. 72 ° 57 ° 12. 72 ° 54 ...', 'score': 0.98005307, 'raw_content': None}], 'response_time': 2.82})]}}\n",
      "----\n"
     ]
    },
    {
     "name": "stdout",
     "output_type": "stream",
     "text": [
      "{'agent': {'messages': [AIMessage(content=\"The search results provide current weather conditions and forecasts for San Francisco, California. Some key details:\\n\\n- The current temperature in San Francisco is around 73°F (23°C) with partly cloudy skies.\\n\\n- Wind speeds are around 18-27 mph (29-44 kph) from the west-northwest. \\n\\n- Humidity is 64% and visibility is good at 9 miles (16 km).\\n\\n- Over the next couple weeks, temperatures are expected to stay mild, ranging from highs around 72°F (22°C) to lows in the mid 50sF (12-13°C).\\n\\n- No rain is in the current forecast.\\n\\nSo in summary, it's a pleasant partly cloudy day in San Francisco with seasonable temperatures for September and breezy conditions. The weather looks to remain nice over the next couple weeks as well with no rain expected.\", additional_kwargs={}, response_metadata={'id': 'msg_01NhPksUogasTj2gjJnDq9fP', 'model': 'claude-3-sonnet-20240229', 'stop_reason': 'end_turn', 'stop_sequence': None, 'usage': {'input_tokens': 929, 'output_tokens': 201}}, id='run-f51adbfc-205a-48b1-be80-c76340584bc9-0', usage_metadata={'input_tokens': 929, 'output_tokens': 201, 'total_tokens': 1130})]}}\n",
      "----\n"
     ]
    }
   ],
   "source": [
    "for chunk in agent_executor.stream(\n",
    "    {\"messages\": [HumanMessage(content=\"whats the weather in sf?\")]}\n",
    "):\n",
    "    print(chunk)\n",
    "    print(\"----\")"
   ]
  },
  {
   "cell_type": "markdown",
   "id": "c72b3043",
   "metadata": {},
   "source": [
    "## Streaming tokens\n",
    "\n",
    "In addition to streaming back messages, it is also useful to be streaming back tokens.\n",
    "We can do this with the `.astream_events` method.\n",
    "\n",
    ":::{.callout-important}\n",
    "This `.astream_events` method only works with Python 3.11 or higher.\n",
    ":::"
   ]
  },
  {
   "cell_type": "code",
   "execution_count": 13,
   "id": "a3fb262c",
   "metadata": {
    "execution": {
     "iopub.execute_input": "2024-09-11T23:56:43.818990Z",
     "iopub.status.busy": "2024-09-11T23:56:43.818711Z",
     "iopub.status.idle": "2024-09-11T23:56:55.265129Z",
     "shell.execute_reply": "2024-09-11T23:56:55.264594Z"
    }
   },
   "outputs": [
    {
     "name": "stdout",
     "output_type": "stream",
     "text": [
      "[{'text': 'To', 'type': 'text', 'index': 0}]|[{'text': ' get the current weather', 'type': 'text', 'index': 0}]|[{'text': ' in San Francisco,', 'type': 'text', 'index': 0}]|[{'text': ' we', 'type': 'text', 'index': 0}]|[{'text': ' can use the', 'type': 'text', 'index': 0}]|[{'text': ' Tavily search engine', 'type': 'text', 'index': 0}]|[{'text': ':', 'type': 'text', 'index': 0}]|"
     ]
    },
    {
     "name": "stdout",
     "output_type": "stream",
     "text": [
      "[{'id': 'toolu_017QTrz3k83pjEtfWSfQjkL4', 'input': {}, 'name': 'tavily_search_results_json', 'type': 'tool_use', 'index': 1}]|[{'partial_json': '', 'type': 'tool_use', 'index': 1}]|"
     ]
    },
    {
     "name": "stdout",
     "output_type": "stream",
     "text": [
      "[{'partial_json': '{\"query\": \"s', 'type': 'tool_use', 'index': 1}]|[{'partial_json': 'an fr', 'type': 'tool_use', 'index': 1}]|[{'partial_json': 'anci', 'type': 'tool_use', 'index': 1}]|[{'partial_json': 'sc', 'type': 'tool_use', 'index': 1}]|[{'partial_json': 'o wea', 'type': 'tool_use', 'index': 1}]|[{'partial_json': 'the', 'type': 'tool_use', 'index': 1}]|[{'partial_json': 'r\"}', 'type': 'tool_use', 'index': 1}]|--\n",
      "Starting tool: tavily_search_results_json with inputs: {'query': 'san francisco weather'}\n"
     ]
    },
    {
     "name": "stdout",
     "output_type": "stream",
     "text": [
      "Done tool: tavily_search_results_json\n",
      "Tool output was: content='[{\"url\": \"https://www.weatherapi.com/\", \"content\": \"{\\'location\\': {\\'name\\': \\'San Francisco\\', \\'region\\': \\'California\\', \\'country\\': \\'United States of America\\', \\'lat\\': 37.78, \\'lon\\': -122.42, \\'tz_id\\': \\'America/Los_Angeles\\', \\'localtime_epoch\\': 1726098992, \\'localtime\\': \\'2024-09-11 16:56\\'}, \\'current\\': {\\'last_updated_epoch\\': 1726098300, \\'last_updated\\': \\'2024-09-11 16:45\\', \\'temp_c\\': 22.8, \\'temp_f\\': 73.0, \\'is_day\\': 1, \\'condition\\': {\\'text\\': \\'Partly cloudy\\', \\'icon\\': \\'//cdn.weatherapi.com/weather/64x64/day/116.png\\', \\'code\\': 1003}, \\'wind_mph\\': 18.6, \\'wind_kph\\': 29.9, \\'wind_degree\\': 290, \\'wind_dir\\': \\'WNW\\', \\'pressure_mb\\': 1011.0, \\'pressure_in\\': 29.86, \\'precip_mm\\': 0.0, \\'precip_in\\': 0.0, \\'humidity\\': 64, \\'cloud\\': 25, \\'feelslike_c\\': 24.9, \\'feelslike_f\\': 76.9, \\'windchill_c\\': 18.4, \\'windchill_f\\': 65.1, \\'heatindex_c\\': 18.4, \\'heatindex_f\\': 65.1, \\'dewpoint_c\\': 14.8, \\'dewpoint_f\\': 58.6, \\'vis_km\\': 16.0, \\'vis_miles\\': 9.0, \\'uv\\': 5.0, \\'gust_mph\\': 27.3, \\'gust_kph\\': 43.9}}\"}, {\"url\": \"https://www.weathertab.com/en/c/e/09/united-states/california/san-francisco/\", \"content\": \"Explore comprehensive September 2024 weather forecasts for San Francisco, including daily high and low temperatures, precipitation risks, and monthly temperature trends. Featuring detailed day-by-day forecasts, dynamic graphs of daily rain probabilities, and temperature trends to help you plan ahead. ... 5 67\\\\u00b0F 55\\\\u00b0F 19\\\\u00b0C 13\\\\u00b0C 09% 6 66\\\\u00b0F 55 ...\"}]' name='tavily_search_results_json' tool_call_id='toolu_017QTrz3k83pjEtfWSfQjkL4' artifact={'query': 'san francisco weather', 'follow_up_questions': None, 'answer': None, 'images': [], 'results': [{'title': 'Weather in San Francisco', 'url': 'https://www.weatherapi.com/', 'content': \"{'location': {'name': 'San Francisco', 'region': 'California', 'country': 'United States of America', 'lat': 37.78, 'lon': -122.42, 'tz_id': 'America/Los_Angeles', 'localtime_epoch': 1726098992, 'localtime': '2024-09-11 16:56'}, 'current': {'last_updated_epoch': 1726098300, 'last_updated': '2024-09-11 16:45', 'temp_c': 22.8, 'temp_f': 73.0, 'is_day': 1, 'condition': {'text': 'Partly cloudy', 'icon': '//cdn.weatherapi.com/weather/64x64/day/116.png', 'code': 1003}, 'wind_mph': 18.6, 'wind_kph': 29.9, 'wind_degree': 290, 'wind_dir': 'WNW', 'pressure_mb': 1011.0, 'pressure_in': 29.86, 'precip_mm': 0.0, 'precip_in': 0.0, 'humidity': 64, 'cloud': 25, 'feelslike_c': 24.9, 'feelslike_f': 76.9, 'windchill_c': 18.4, 'windchill_f': 65.1, 'heatindex_c': 18.4, 'heatindex_f': 65.1, 'dewpoint_c': 14.8, 'dewpoint_f': 58.6, 'vis_km': 16.0, 'vis_miles': 9.0, 'uv': 5.0, 'gust_mph': 27.3, 'gust_kph': 43.9}}\", 'score': 0.9990233, 'raw_content': None}, {'title': 'San Francisco, CA Weather Forecast September 2024: Daily Highs/Lows ...', 'url': 'https://www.weathertab.com/en/c/e/09/united-states/california/san-francisco/', 'content': 'Explore comprehensive September 2024 weather forecasts for San Francisco, including daily high and low temperatures, precipitation risks, and monthly temperature trends. Featuring detailed day-by-day forecasts, dynamic graphs of daily rain probabilities, and temperature trends to help you plan ahead. ... 5 67°F 55°F 19°C 13°C 09% 6 66°F 55 ...', 'score': 0.9975561, 'raw_content': None}], 'response_time': 2.94}\n",
      "--\n"
     ]
    },
    {
     "name": "stdout",
     "output_type": "stream",
     "text": [
      "[{'text': '\\n\\nThe', 'type': 'text', 'index': 0}]|[{'text': ' search', 'type': 'text', 'index': 0}]|[{'text': ' results provide', 'type': 'text', 'index': 0}]|[{'text': ' details on the current', 'type': 'text', 'index': 0}]|[{'text': ' weather conditions in San', 'type': 'text', 'index': 0}]|[{'text': ' Francisco, including temperature', 'type': 'text', 'index': 0}]|[{'text': ', clou', 'type': 'text', 'index': 0}]|[{'text': 'd cover, wind,', 'type': 'text', 'index': 0}]|"
     ]
    },
    {
     "name": "stdout",
     "output_type": "stream",
     "text": [
      "[{'text': ' humidity an', 'type': 'text', 'index': 0}]|[{'text': 'd other', 'type': 'text', 'index': 0}]|[{'text': ' meteor', 'type': 'text', 'index': 0}]|[{'text': 'ological data.', 'type': 'text', 'index': 0}]|[{'text': '\\n\\nThe', 'type': 'text', 'index': 0}]|[{'text': ' key', 'type': 'text', 'index': 0}]|[{'text': ' details', 'type': 'text', 'index': 0}]|[{'text': ' are:\\n\\n-', 'type': 'text', 'index': 0}]|"
     ]
    },
    {
     "name": "stdout",
     "output_type": "stream",
     "text": [
      "[{'text': ' Temperature', 'type': 'text', 'index': 0}]|[{'text': ': 73', 'type': 'text', 'index': 0}]|[{'text': '°F (23', 'type': 'text', 'index': 0}]|[{'text': '°C)', 'type': 'text', 'index': 0}]|"
     ]
    },
    {
     "name": "stdout",
     "output_type": "stream",
     "text": [
      "[{'text': '\\n- Conditions', 'type': 'text', 'index': 0}]|[{'text': ': Partly clou', 'type': 'text', 'index': 0}]|[{'text': 'dy \\n-', 'type': 'text', 'index': 0}]|[{'text': ' Wind: ', 'type': 'text', 'index': 0}]|[{'text': '18.6 ', 'type': 'text', 'index': 0}]|[{'text': 'mph (29.', 'type': 'text', 'index': 0}]|[{'text': '9 kph', 'type': 'text', 'index': 0}]|[{'text': ') from the W', 'type': 'text', 'index': 0}]|"
     ]
    },
    {
     "name": "stdout",
     "output_type": "stream",
     "text": [
      "[{'text': 'NW\\n-', 'type': 'text', 'index': 0}]|[{'text': ' Humidity: ', 'type': 'text', 'index': 0}]|[{'text': '64%\\n-', 'type': 'text', 'index': 0}]|[{'text': ' Clou', 'type': 'text', 'index': 0}]|"
     ]
    },
    {
     "name": "stdout",
     "output_type": "stream",
     "text": [
      "[{'text': 'd Cover', 'type': 'text', 'index': 0}]|[{'text': ': 25%', 'type': 'text', 'index': 0}]|[{'text': '\\n\\nSo', 'type': 'text', 'index': 0}]|[{'text': ' in summary, it', 'type': 'text', 'index': 0}]|[{'text': \"'s\", 'type': 'text', 'index': 0}]|[{'text': ' a', 'type': 'text', 'index': 0}]|[{'text': ' warm', 'type': 'text', 'index': 0}]|"
     ]
    },
    {
     "name": "stdout",
     "output_type": "stream",
     "text": [
      "[{'text': ' partly', 'type': 'text', 'index': 0}]|[{'text': ' cloudy day in', 'type': 'text', 'index': 0}]|[{'text': ' San Francisco with moderate', 'type': 'text', 'index': 0}]|[{'text': ' winds and humidity levels', 'type': 'text', 'index': 0}]|"
     ]
    },
    {
     "name": "stdout",
     "output_type": "stream",
     "text": [
      "[{'text': '. The temperature', 'type': 'text', 'index': 0}]|[{'text': ' is around 73', 'type': 'text', 'index': 0}]|[{'text': '°F/', 'type': 'text', 'index': 0}]|[{'text': '23°C as', 'type': 'text', 'index': 0}]|[{'text': ' of late', 'type': 'text', 'index': 0}]|[{'text': ' afternoon', 'type': 'text', 'index': 0}]|[{'text': '. Let me know', 'type': 'text', 'index': 0}]|[{'text': ' if you need any', 'type': 'text', 'index': 0}]|"
     ]
    },
    {
     "name": "stdout",
     "output_type": "stream",
     "text": [
      "[{'text': ' other', 'type': 'text', 'index': 0}]|[{'text': ' details on', 'type': 'text', 'index': 0}]|[{'text': ' the SF', 'type': 'text', 'index': 0}]|[{'text': ' weather!', 'type': 'text', 'index': 0}]|"
     ]
    }
   ],
   "source": [
    "async for event in agent_executor.astream_events(\n",
    "    {\"messages\": [HumanMessage(content=\"whats the weather in sf?\")]}, version=\"v1\"\n",
    "):\n",
    "    kind = event[\"event\"]\n",
    "    if kind == \"on_chain_start\":\n",
    "        if (\n",
    "            event[\"name\"] == \"Agent\"\n",
    "        ):  # Was assigned when creating the agent with `.with_config({\"run_name\": \"Agent\"})`\n",
    "            print(\n",
    "                f\"Starting agent: {event['name']} with input: {event['data'].get('input')}\"\n",
    "            )\n",
    "    elif kind == \"on_chain_end\":\n",
    "        if (\n",
    "            event[\"name\"] == \"Agent\"\n",
    "        ):  # Was assigned when creating the agent with `.with_config({\"run_name\": \"Agent\"})`\n",
    "            print()\n",
    "            print(\"--\")\n",
    "            print(\n",
    "                f\"Done agent: {event['name']} with output: {event['data'].get('output')['output']}\"\n",
    "            )\n",
    "    if kind == \"on_chat_model_stream\":\n",
    "        content = event[\"data\"][\"chunk\"].content\n",
    "        if content:\n",
    "            # Empty content in the context of OpenAI means\n",
    "            # that the model is asking for a tool to be invoked.\n",
    "            # So we only print non-empty content\n",
    "            print(content, end=\"|\")\n",
    "    elif kind == \"on_tool_start\":\n",
    "        print(\"--\")\n",
    "        print(\n",
    "            f\"Starting tool: {event['name']} with inputs: {event['data'].get('input')}\"\n",
    "        )\n",
    "    elif kind == \"on_tool_end\":\n",
    "        print(f\"Done tool: {event['name']}\")\n",
    "        print(f\"Tool output was: {event['data'].get('output')}\")\n",
    "        print(\"--\")"
   ]
  },
  {
   "cell_type": "markdown",
   "id": "022cbc8a",
   "metadata": {},
   "source": [
    "## Adding in memory\n",
    "\n",
    "As mentioned earlier, this agent is stateless. This means it does not remember previous interactions. To give it memory we need to pass in a checkpointer. When passing in a checkpointer, we also have to pass in a `thread_id` when invoking the agent (so it knows which thread/conversation to resume from)."
   ]
  },
  {
   "cell_type": "code",
   "execution_count": 14,
   "id": "c4073e35",
   "metadata": {
    "execution": {
     "iopub.execute_input": "2024-09-11T23:56:55.268274Z",
     "iopub.status.busy": "2024-09-11T23:56:55.268025Z",
     "iopub.status.idle": "2024-09-11T23:56:55.270694Z",
     "shell.execute_reply": "2024-09-11T23:56:55.270239Z"
    }
   },
   "outputs": [],
   "source": [
    "from langgraph.checkpoint.memory import MemorySaver\n",
    "\n",
    "memory = MemorySaver()"
   ]
  },
  {
   "cell_type": "code",
   "execution_count": 15,
   "id": "e64a944e-f9ac-43cf-903c-d3d28d765377",
   "metadata": {
    "execution": {
     "iopub.execute_input": "2024-09-11T23:56:55.273223Z",
     "iopub.status.busy": "2024-09-11T23:56:55.273050Z",
     "iopub.status.idle": "2024-09-11T23:56:55.278074Z",
     "shell.execute_reply": "2024-09-11T23:56:55.277592Z"
    }
   },
   "outputs": [],
   "source": [
    "agent_executor = create_react_agent(model, tools, checkpointer=memory)\n",
    "\n",
    "config = {\"configurable\": {\"thread_id\": \"abc123\"}}"
   ]
  },
  {
   "cell_type": "code",
   "execution_count": 16,
   "id": "a13462d0-2d02-4474-921e-15a1ba1fa274",
   "metadata": {
    "execution": {
     "iopub.execute_input": "2024-09-11T23:56:55.280114Z",
     "iopub.status.busy": "2024-09-11T23:56:55.279947Z",
     "iopub.status.idle": "2024-09-11T23:56:57.067886Z",
     "shell.execute_reply": "2024-09-11T23:56:57.067031Z"
    }
   },
   "outputs": [
    {
     "name": "stdout",
     "output_type": "stream",
     "text": [
      "{'agent': {'messages': [AIMessage(content=\"Hello Bob! It's nice to meet you. I don't actually need to use any tools to respond to a simple greeting. How are you doing today?\", additional_kwargs={}, response_metadata={'id': 'msg_011osVvD1gEohDvVLUGajUyB', 'model': 'claude-3-sonnet-20240229', 'stop_reason': 'end_turn', 'stop_sequence': None, 'usage': {'input_tokens': 266, 'output_tokens': 35}}, id='run-9802dd41-050c-47e5-b624-c098b4b53c58-0', usage_metadata={'input_tokens': 266, 'output_tokens': 35, 'total_tokens': 301})]}}\n",
      "----\n"
     ]
    }
   ],
   "source": [
    "for chunk in agent_executor.stream(\n",
    "    {\"messages\": [HumanMessage(content=\"hi im bob!\")]}, config\n",
    "):\n",
    "    print(chunk)\n",
    "    print(\"----\")"
   ]
  },
  {
   "cell_type": "code",
   "execution_count": 17,
   "id": "56d8028b-5dbc-40b2-86f5-ed60631d86a3",
   "metadata": {
    "execution": {
     "iopub.execute_input": "2024-09-11T23:56:57.071597Z",
     "iopub.status.busy": "2024-09-11T23:56:57.071276Z",
     "iopub.status.idle": "2024-09-11T23:56:58.603676Z",
     "shell.execute_reply": "2024-09-11T23:56:58.602993Z"
    }
   },
   "outputs": [
    {
     "name": "stdout",
     "output_type": "stream",
     "text": [
      "{'agent': {'messages': [AIMessage(content='You said your name is Bob in your first message when you said \"hi im bob!\".', additional_kwargs={}, response_metadata={'id': 'msg_01L1AhTC4RkjevWQ2ktPjKkp', 'model': 'claude-3-sonnet-20240229', 'stop_reason': 'end_turn', 'stop_sequence': None, 'usage': {'input_tokens': 309, 'output_tokens': 22}}, id='run-f407156d-184c-499c-8207-bbc1786dc878-0', usage_metadata={'input_tokens': 309, 'output_tokens': 22, 'total_tokens': 331})]}}\n",
      "----\n"
     ]
    }
   ],
   "source": [
    "for chunk in agent_executor.stream(\n",
    "    {\"messages\": [HumanMessage(content=\"whats my name?\")]}, config\n",
    "):\n",
    "    print(chunk)\n",
    "    print(\"----\")"
   ]
  },
  {
   "cell_type": "markdown",
   "id": "bda99754-0a11-4447-b408-e8db8f2e3517",
   "metadata": {},
   "source": [
    "Example [LangSmith trace](https://smith.langchain.com/public/fa73960b-0f7d-4910-b73d-757a12f33b2b/r)"
   ]
  },
  {
   "cell_type": "markdown",
   "id": "ae908088",
   "metadata": {},
   "source": [
    "If I want to start a new conversation, all I have to do is change the `thread_id` used"
   ]
  },
  {
   "cell_type": "code",
   "execution_count": 18,
   "id": "24460239",
   "metadata": {
    "execution": {
     "iopub.execute_input": "2024-09-11T23:56:58.607485Z",
     "iopub.status.busy": "2024-09-11T23:56:58.607136Z",
     "iopub.status.idle": "2024-09-11T23:57:00.480971Z",
     "shell.execute_reply": "2024-09-11T23:57:00.480370Z"
    }
   },
   "outputs": [
    {
     "name": "stdout",
     "output_type": "stream",
     "text": [
      "{'agent': {'messages': [AIMessage(content=\"Unfortunately, I don't have enough information to know your name. As an AI assistant without personal knowledge about you, I don't have a way to look up or determine your name unless you provide it to me.\", additional_kwargs={}, response_metadata={'id': 'msg_01Pgype414fuF8cHzBu5mCsd', 'model': 'claude-3-sonnet-20240229', 'stop_reason': 'end_turn', 'stop_sequence': None, 'usage': {'input_tokens': 267, 'output_tokens': 46}}, id='run-bbade9ec-ca90-4f1f-bb58-c760e5c0940c-0', usage_metadata={'input_tokens': 267, 'output_tokens': 46, 'total_tokens': 313})]}}\n",
      "----\n"
     ]
    }
   ],
   "source": [
    "config = {\"configurable\": {\"thread_id\": \"xyz123\"}}\n",
    "for chunk in agent_executor.stream(\n",
    "    {\"messages\": [HumanMessage(content=\"whats my name?\")]}, config\n",
    "):\n",
    "    print(chunk)\n",
    "    print(\"----\")"
   ]
  },
  {
   "cell_type": "markdown",
   "id": "c029798f",
   "metadata": {},
   "source": [
    "## Conclusion\n",
    "\n",
    "That's a wrap! In this quick start we covered how to create a simple agent. \n",
    "We've then shown how to stream back a response - not only the intermediate steps, but also tokens!\n",
    "We've also added in memory so you can have a conversation with them.\n",
    "Agents are a complex topic, and there's lot to learn! \n",
    "\n",
    "For more information on Agents, please check out the [LangGraph](/docs/concepts/#langgraph) documentation. This has it's own set of concepts, tutorials, and how-to guides."
   ]
  },
  {
   "cell_type": "code",
   "execution_count": null,
   "id": "e3ec3244",
   "metadata": {},
   "outputs": [],
   "source": []
  }
 ],
 "metadata": {
  "kernelspec": {
   "display_name": "Python 3 (ipykernel)",
   "language": "python",
   "name": "python3"
  },
  "language_info": {
   "codemirror_mode": {
    "name": "ipython",
    "version": 3
   },
   "file_extension": ".py",
   "mimetype": "text/x-python",
   "name": "python",
   "nbconvert_exporter": "python",
   "pygments_lexer": "ipython3",
   "version": "3.11.9"
  }
 },
 "nbformat": 4,
 "nbformat_minor": 5
}
