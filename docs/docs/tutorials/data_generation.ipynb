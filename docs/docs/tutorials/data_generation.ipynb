{
 "cells": [
  {
   "cell_type": "raw",
   "id": "1302a608-4b4d-46bf-bd0c-b4f13eff2e5e",
   "metadata": {},
   "source": [
    "---\n",
    "sidebar_class_name: hidden\n",
    "---"
   ]
  },
  {
   "cell_type": "markdown",
   "id": "aa3571cc",
   "metadata": {},
   "source": [
    "[![Open In Colab](https://colab.research.google.com/assets/colab-badge.svg)](https://colab.research.google.com/github/langchain-ai/langchain/blob/master/docs/docs/use_cases/data_generation.ipynb)\n",
    "\n",
    "# Generate Synthetic Data\n",
    "\n",
    "Synthetic data is artificially generated data, rather than data collected from real-world events. It's used to simulate real data without compromising privacy or encountering real-world limitations. \n",
    "\n",
    "Benefits of Synthetic Data:\n",
    "\n",
    "1. **Privacy and Security**: No real personal data at risk of breaches.\n",
    "2. **Data Augmentation**: Expands datasets for machine learning.\n",
    "3. **Flexibility**: Create specific or rare scenarios.\n",
    "4. **Cost-effective**: Often cheaper than real-world data collection.\n",
    "5. **Regulatory Compliance**: Helps navigate strict data protection laws.\n",
    "6. **Model Robustness**: Can lead to better generalizing AI models.\n",
    "7. **Rapid Prototyping**: Enables quick testing without real data.\n",
    "8. **Controlled Experimentation**: Simulate specific conditions.\n",
    "9. **Access to Data**: Alternative when real data isn't available.\n",
    "\n",
    "Note: Despite the benefits, synthetic data should be used carefully, as it may not always capture real-world complexities.\n",
    "\n",
    "## Quickstart\n",
    "\n",
    "In this notebook, we'll dive deep into generating synthetic medical billing records using the langchain library. This tool is particularly useful when you want to develop or test algorithms but don't want to use real patient data due to privacy concerns or data availability issues."
   ]
  },
  {
   "cell_type": "markdown",
   "id": "bca57012",
   "metadata": {},
   "source": [
    "### Setup\n",
    "First, you'll need to have the langchain library installed, along with its dependencies. Since we're using the OpenAI generator chain, we'll install that as well. Since this is an experimental lib, we'll need to include `langchain_experimental` in our installs. We'll then import the necessary modules."
   ]
  },
  {
   "cell_type": "code",
   "execution_count": 1,
   "id": "a0377478",
   "metadata": {
    "execution": {
     "iopub.execute_input": "2024-09-11T23:57:23.823193Z",
     "iopub.status.busy": "2024-09-11T23:57:23.822727Z",
     "iopub.status.idle": "2024-09-11T23:57:26.254350Z",
     "shell.execute_reply": "2024-09-11T23:57:26.253986Z"
    }
   },
   "outputs": [
    {
     "name": "stdout",
     "output_type": "stream",
     "text": [
      "Note: you may need to restart the kernel to use updated packages.\n"
     ]
    }
   ],
   "source": [
    "%pip install --upgrade --quiet  langchain langchain_experimental langchain-openai\n",
    "# Set env var OPENAI_API_KEY or load from a .env file:\n",
    "# import dotenv\n",
    "# dotenv.load_dotenv()\n",
    "\n",
    "from langchain.prompts import FewShotPromptTemplate, PromptTemplate\n",
    "from langchain_experimental.tabular_synthetic_data.openai import (\n",
    "    OPENAI_TEMPLATE,\n",
    "    create_openai_data_generator,\n",
    ")\n",
    "from langchain_experimental.tabular_synthetic_data.prompts import (\n",
    "    SYNTHETIC_FEW_SHOT_PREFIX,\n",
    "    SYNTHETIC_FEW_SHOT_SUFFIX,\n",
    ")\n",
    "from langchain_openai import ChatOpenAI\n",
    "from pydantic import BaseModel"
   ]
  },
  {
   "cell_type": "markdown",
   "id": "a5a0917b",
   "metadata": {},
   "source": [
    "## 1. Define Your Data Model\n",
    "Every dataset has a structure or a \"schema\". The MedicalBilling class below serves as our schema for the synthetic data. By defining this, we're informing our synthetic data generator about the shape and nature of data we expect."
   ]
  },
  {
   "cell_type": "code",
   "execution_count": 2,
   "id": "291bad6e",
   "metadata": {
    "execution": {
     "iopub.execute_input": "2024-09-11T23:57:26.256259Z",
     "iopub.status.busy": "2024-09-11T23:57:26.256117Z",
     "iopub.status.idle": "2024-09-11T23:57:26.258425Z",
     "shell.execute_reply": "2024-09-11T23:57:26.258205Z"
    }
   },
   "outputs": [],
   "source": [
    "class MedicalBilling(BaseModel):\n",
    "    patient_id: int\n",
    "    patient_name: str\n",
    "    diagnosis_code: str\n",
    "    procedure_code: str\n",
    "    total_charge: float\n",
    "    insurance_claim_amount: float"
   ]
  },
  {
   "cell_type": "markdown",
   "id": "2059ca63",
   "metadata": {},
   "source": [
    "For instance, every record will have a `patient_id` that's an integer, a `patient_name` that's a string, and so on.\n",
    "\n",
    "## 2. Sample Data\n",
    "To guide the synthetic data generator, it's useful to provide it with a few real-world-like examples. These examples serve as a \"seed\" - they're representative of the kind of data you want, and the generator will use them to create more data that looks similar.\n",
    "\n",
    "Here are some fictional medical billing records:"
   ]
  },
  {
   "cell_type": "code",
   "execution_count": 3,
   "id": "b989b792",
   "metadata": {
    "execution": {
     "iopub.execute_input": "2024-09-11T23:57:26.259791Z",
     "iopub.status.busy": "2024-09-11T23:57:26.259713Z",
     "iopub.status.idle": "2024-09-11T23:57:26.261432Z",
     "shell.execute_reply": "2024-09-11T23:57:26.261228Z"
    }
   },
   "outputs": [],
   "source": [
    "examples = [\n",
    "    {\n",
    "        \"example\": \"\"\"Patient ID: 123456, Patient Name: John Doe, Diagnosis Code: \n",
    "        J20.9, Procedure Code: 99203, Total Charge: $500, Insurance Claim Amount: $350\"\"\"\n",
    "    },\n",
    "    {\n",
    "        \"example\": \"\"\"Patient ID: 789012, Patient Name: Johnson Smith, Diagnosis \n",
    "        Code: M54.5, Procedure Code: 99213, Total Charge: $150, Insurance Claim Amount: $120\"\"\"\n",
    "    },\n",
    "    {\n",
    "        \"example\": \"\"\"Patient ID: 345678, Patient Name: Emily Stone, Diagnosis Code: \n",
    "        E11.9, Procedure Code: 99214, Total Charge: $300, Insurance Claim Amount: $250\"\"\"\n",
    "    },\n",
    "]"
   ]
  },
  {
   "cell_type": "markdown",
   "id": "57e28809",
   "metadata": {},
   "source": [
    "## 3. Craft a Prompt Template\n",
    "The generator doesn't magically know how to create our data; we need to guide it. We do this by creating a prompt template. This template helps instruct the underlying language model on how to produce synthetic data in the desired format."
   ]
  },
  {
   "cell_type": "code",
   "execution_count": 4,
   "id": "ea6e042e",
   "metadata": {
    "execution": {
     "iopub.execute_input": "2024-09-11T23:57:26.262729Z",
     "iopub.status.busy": "2024-09-11T23:57:26.262649Z",
     "iopub.status.idle": "2024-09-11T23:57:26.264455Z",
     "shell.execute_reply": "2024-09-11T23:57:26.264266Z"
    }
   },
   "outputs": [],
   "source": [
    "OPENAI_TEMPLATE = PromptTemplate(input_variables=[\"example\"], template=\"{example}\")\n",
    "\n",
    "prompt_template = FewShotPromptTemplate(\n",
    "    prefix=SYNTHETIC_FEW_SHOT_PREFIX,\n",
    "    examples=examples,\n",
    "    suffix=SYNTHETIC_FEW_SHOT_SUFFIX,\n",
    "    input_variables=[\"subject\", \"extra\"],\n",
    "    example_prompt=OPENAI_TEMPLATE,\n",
    ")"
   ]
  },
  {
   "cell_type": "markdown",
   "id": "fa6da3cb",
   "metadata": {},
   "source": [
    "The `FewShotPromptTemplate` includes:\n",
    "\n",
    "- `prefix` and `suffix`: These likely contain guiding context or instructions.\n",
    "- `examples`: The sample data we defined earlier.\n",
    "- `input_variables`: These variables (\"subject\", \"extra\") are placeholders you can dynamically fill later. For instance, \"subject\" might be filled with \"medical_billing\" to guide the model further.\n",
    "- `example_prompt`: This prompt template is the format we want each example row to take in our prompt.\n",
    "\n",
    "## 4. Creating the Data Generator\n",
    "With the schema and the prompt ready, the next step is to create the data generator. This object knows how to communicate with the underlying language model to get synthetic data."
   ]
  },
  {
   "cell_type": "code",
   "execution_count": 5,
   "id": "1b9ba911",
   "metadata": {
    "execution": {
     "iopub.execute_input": "2024-09-11T23:57:26.265653Z",
     "iopub.status.busy": "2024-09-11T23:57:26.265572Z",
     "iopub.status.idle": "2024-09-11T23:57:26.356136Z",
     "shell.execute_reply": "2024-09-11T23:57:26.355830Z"
    }
   },
   "outputs": [],
   "source": [
    "synthetic_data_generator = create_openai_data_generator(\n",
    "    output_schema=MedicalBilling,\n",
    "    llm=ChatOpenAI(\n",
    "        temperature=1\n",
    "    ),  # You'll need to replace with your actual Language Model instance\n",
    "    prompt=prompt_template,\n",
    ")"
   ]
  },
  {
   "cell_type": "markdown",
   "id": "a4198bd6",
   "metadata": {},
   "source": [
    "## 5. Generate Synthetic Data\n",
    "Finally, let's get our synthetic data!"
   ]
  },
  {
   "cell_type": "code",
   "execution_count": 6,
   "id": "a424c890",
   "metadata": {
    "execution": {
     "iopub.execute_input": "2024-09-11T23:57:26.357764Z",
     "iopub.status.busy": "2024-09-11T23:57:26.357684Z",
     "iopub.status.idle": "2024-09-11T23:57:36.394571Z",
     "shell.execute_reply": "2024-09-11T23:57:36.393790Z"
    }
   },
   "outputs": [],
   "source": [
    "synthetic_results = synthetic_data_generator.generate(\n",
    "    subject=\"medical_billing\",\n",
    "    extra=\"the name must be chosen at random. Make it something you wouldn't normally choose.\",\n",
    "    runs=10,\n",
    ")"
   ]
  },
  {
   "cell_type": "markdown",
   "id": "fa4402e9",
   "metadata": {},
   "source": [
    "This command asks the generator to produce 10 synthetic medical billing records. The results are stored in `synthetic_results`. The output will be a list of the MedicalBilling pydantic models."
   ]
  },
  {
   "cell_type": "markdown",
   "id": "53a4cbf9",
   "metadata": {},
   "source": [
    "### Other implementations\n"
   ]
  },
  {
   "cell_type": "code",
   "execution_count": 7,
   "id": "9e715d94",
   "metadata": {
    "execution": {
     "iopub.execute_input": "2024-09-11T23:57:36.401241Z",
     "iopub.status.busy": "2024-09-11T23:57:36.400739Z",
     "iopub.status.idle": "2024-09-11T23:57:36.414171Z",
     "shell.execute_reply": "2024-09-11T23:57:36.413523Z"
    },
    "scrolled": true
   },
   "outputs": [],
   "source": [
    "from langchain_experimental.synthetic_data import (\n",
    "    DatasetGenerator,\n",
    "    create_data_generation_chain,\n",
    ")\n",
    "from langchain_openai import ChatOpenAI"
   ]
  },
  {
   "cell_type": "code",
   "execution_count": 8,
   "id": "94fccedd",
   "metadata": {
    "execution": {
     "iopub.execute_input": "2024-09-11T23:57:36.419214Z",
     "iopub.status.busy": "2024-09-11T23:57:36.418901Z",
     "iopub.status.idle": "2024-09-11T23:57:36.459893Z",
     "shell.execute_reply": "2024-09-11T23:57:36.459401Z"
    },
    "scrolled": true
   },
   "outputs": [],
   "source": [
    "# LLM\n",
    "model = ChatOpenAI(model=\"gpt-3.5-turbo\", temperature=0.7)\n",
    "chain = create_data_generation_chain(model)"
   ]
  },
  {
   "cell_type": "code",
   "execution_count": 9,
   "id": "4314c3ea",
   "metadata": {
    "execution": {
     "iopub.execute_input": "2024-09-11T23:57:36.462316Z",
     "iopub.status.busy": "2024-09-11T23:57:36.462156Z",
     "iopub.status.idle": "2024-09-11T23:57:37.272924Z",
     "shell.execute_reply": "2024-09-11T23:57:37.272185Z"
    }
   },
   "outputs": [
    {
     "name": "stderr",
     "output_type": "stream",
     "text": [
      "/var/folders/4j/2rz3865x6qg07tx43146py8h0000gn/T/ipykernel_60345/1337896113.py:1: LangChainDeprecationWarning: The method `Chain.__call__` was deprecated in langchain 0.1.0 and will be removed in 1.0. Use invoke instead.\n",
      "  chain({\"fields\": [\"blue\", \"yellow\"], \"preferences\": {}})\n"
     ]
    },
    {
     "data": {
      "text/plain": [
       "{'fields': ['blue', 'yellow'],\n",
       " 'preferences': {},\n",
       " 'text': 'The vibrant blue sky contrasted beautifully with the bright yellow sun, creating a stunning display of colors in the early morning sky.'}"
      ]
     },
     "execution_count": 9,
     "metadata": {},
     "output_type": "execute_result"
    }
   ],
   "source": [
    "chain({\"fields\": [\"blue\", \"yellow\"], \"preferences\": {}})"
   ]
  },
  {
   "cell_type": "code",
   "execution_count": 10,
   "id": "b116c487",
   "metadata": {
    "execution": {
     "iopub.execute_input": "2024-09-11T23:57:37.276385Z",
     "iopub.status.busy": "2024-09-11T23:57:37.275915Z",
     "iopub.status.idle": "2024-09-11T23:57:38.219883Z",
     "shell.execute_reply": "2024-09-11T23:57:38.219246Z"
    }
   },
   "outputs": [
    {
     "data": {
      "text/plain": [
       "{'fields': {'colors': ['blue', 'yellow']},\n",
       " 'preferences': {'style': 'Make it in a style of a weather forecast.'},\n",
       " 'text': \"In today's weather forecast, expect a vibrant mix of blue and yellow colors painting the sky in a stunning display of contrast and beauty.\"}"
      ]
     },
     "execution_count": 10,
     "metadata": {},
     "output_type": "execute_result"
    }
   ],
   "source": [
    "chain(\n",
    "    {\n",
    "        \"fields\": {\"colors\": [\"blue\", \"yellow\"]},\n",
    "        \"preferences\": {\"style\": \"Make it in a style of a weather forecast.\"},\n",
    "    }\n",
    ")"
   ]
  },
  {
   "cell_type": "code",
   "execution_count": 11,
   "id": "ff823394",
   "metadata": {
    "execution": {
     "iopub.execute_input": "2024-09-11T23:57:38.223479Z",
     "iopub.status.busy": "2024-09-11T23:57:38.222976Z",
     "iopub.status.idle": "2024-09-11T23:57:38.992683Z",
     "shell.execute_reply": "2024-09-11T23:57:38.992087Z"
    }
   },
   "outputs": [
    {
     "data": {
      "text/plain": [
       "{'fields': {'actor': 'Tom Hanks', 'movies': ['Forrest Gump', 'Green Mile']},\n",
       " 'preferences': None,\n",
       " 'text': 'Tom Hanks, known for his iconic roles in movies such as \"Forrest Gump\" and \"Green Mile\", has captivated audiences worldwide with his incredible talent and versatility as an actor.'}"
      ]
     },
     "execution_count": 11,
     "metadata": {},
     "output_type": "execute_result"
    }
   ],
   "source": [
    "chain(\n",
    "    {\n",
    "        \"fields\": {\"actor\": \"Tom Hanks\", \"movies\": [\"Forrest Gump\", \"Green Mile\"]},\n",
    "        \"preferences\": None,\n",
    "    }\n",
    ")"
   ]
  },
  {
   "cell_type": "code",
   "execution_count": 12,
   "id": "1ea1ad5b",
   "metadata": {
    "execution": {
     "iopub.execute_input": "2024-09-11T23:57:38.996445Z",
     "iopub.status.busy": "2024-09-11T23:57:38.996046Z",
     "iopub.status.idle": "2024-09-11T23:57:40.051128Z",
     "shell.execute_reply": "2024-09-11T23:57:40.050568Z"
    },
    "scrolled": true
   },
   "outputs": [
    {
     "data": {
      "text/plain": [
       "{'fields': [{'actor': 'Tom Hanks', 'movies': ['Forrest Gump', 'Green Mile']},\n",
       "  {'actor': 'Mads Mikkelsen', 'movies': ['Hannibal', 'Another round']}],\n",
       " 'preferences': {'minimum_length': 200, 'style': 'gossip'},\n",
       " 'text': 'Tom Hanks, known for his iconic roles in movies such as \"Forrest Gump\" and \"Green Mile\", has captivated audiences with his emotional depth and versatility, while Mads Mikkelsen, the charismatic star of \"Hannibal\" and \"Another round\", has garnered critical acclaim for his intense and captivating performances on screen.'}"
      ]
     },
     "execution_count": 12,
     "metadata": {},
     "output_type": "execute_result"
    }
   ],
   "source": [
    "chain(\n",
    "    {\n",
    "        \"fields\": [\n",
    "            {\"actor\": \"Tom Hanks\", \"movies\": [\"Forrest Gump\", \"Green Mile\"]},\n",
    "            {\"actor\": \"Mads Mikkelsen\", \"movies\": [\"Hannibal\", \"Another round\"]},\n",
    "        ],\n",
    "        \"preferences\": {\"minimum_length\": 200, \"style\": \"gossip\"},\n",
    "    }\n",
    ")"
   ]
  },
  {
   "cell_type": "markdown",
   "id": "93c7a4bb",
   "metadata": {},
   "source": [
    "As we can see created examples are diversified and possess information we wanted them to have. Also, their style reflects the given preferences quite well."
   ]
  },
  {
   "cell_type": "markdown",
   "id": "75f7f55a",
   "metadata": {},
   "source": [
    "## Generating exemplary dataset for extraction benchmarking purposes"
   ]
  },
  {
   "cell_type": "code",
   "execution_count": 13,
   "id": "94e98bc4",
   "metadata": {
    "execution": {
     "iopub.execute_input": "2024-09-11T23:57:40.055542Z",
     "iopub.status.busy": "2024-09-11T23:57:40.055177Z",
     "iopub.status.idle": "2024-09-11T23:57:41.887759Z",
     "shell.execute_reply": "2024-09-11T23:57:41.887093Z"
    }
   },
   "outputs": [],
   "source": [
    "inp = [\n",
    "    {\n",
    "        \"Actor\": \"Tom Hanks\",\n",
    "        \"Film\": [\n",
    "            \"Forrest Gump\",\n",
    "            \"Saving Private Ryan\",\n",
    "            \"The Green Mile\",\n",
    "            \"Toy Story\",\n",
    "            \"Catch Me If You Can\",\n",
    "        ],\n",
    "    },\n",
    "    {\n",
    "        \"Actor\": \"Tom Hardy\",\n",
    "        \"Film\": [\n",
    "            \"Inception\",\n",
    "            \"The Dark Knight Rises\",\n",
    "            \"Mad Max: Fury Road\",\n",
    "            \"The Revenant\",\n",
    "            \"Dunkirk\",\n",
    "        ],\n",
    "    },\n",
    "]\n",
    "\n",
    "generator = DatasetGenerator(model, {\"style\": \"informal\", \"minimal length\": 500})\n",
    "dataset = generator(inp)"
   ]
  },
  {
   "cell_type": "code",
   "execution_count": 14,
   "id": "478eaca4",
   "metadata": {
    "execution": {
     "iopub.execute_input": "2024-09-11T23:57:41.893613Z",
     "iopub.status.busy": "2024-09-11T23:57:41.893141Z",
     "iopub.status.idle": "2024-09-11T23:57:41.906525Z",
     "shell.execute_reply": "2024-09-11T23:57:41.902242Z"
    }
   },
   "outputs": [
    {
     "data": {
      "text/plain": [
       "[{'fields': {'Actor': 'Tom Hanks',\n",
       "   'Film': ['Forrest Gump',\n",
       "    'Saving Private Ryan',\n",
       "    'The Green Mile',\n",
       "    'Toy Story',\n",
       "    'Catch Me If You Can']},\n",
       "  'preferences': {'style': 'informal', 'minimal length': 500},\n",
       "  'text': 'Tom Hanks, known for his iconic roles in films such as \"Forrest Gump\", \"Saving Private Ryan\", \"The Green Mile\", \"Toy Story\", and \"Catch Me If You Can\", has captivated audiences worldwide with his versatility and charm on the big screen.'},\n",
       " {'fields': {'Actor': 'Tom Hardy',\n",
       "   'Film': ['Inception',\n",
       "    'The Dark Knight Rises',\n",
       "    'Mad Max: Fury Road',\n",
       "    'The Revenant',\n",
       "    'Dunkirk']},\n",
       "  'preferences': {'style': 'informal', 'minimal length': 500},\n",
       "  'text': 'Tom Hardy, known for his roles in films such as \"Inception,\" \"The Dark Knight Rises,\" \"Mad Max: Fury Road,\" \"The Revenant,\" and \"Dunkirk,\" has captivated audiences worldwide with his intense performances and undeniable talent on the big screen.'}]"
      ]
     },
     "execution_count": 14,
     "metadata": {},
     "output_type": "execute_result"
    }
   ],
   "source": [
    "dataset"
   ]
  },
  {
   "cell_type": "markdown",
   "id": "293a7d64",
   "metadata": {},
   "source": [
    "## Extraction from generated examples\n",
    "Okay, let's see if we can now extract output from this generated data and how it compares with our case!"
   ]
  },
  {
   "cell_type": "code",
   "execution_count": 15,
   "id": "03c6a375",
   "metadata": {
    "execution": {
     "iopub.execute_input": "2024-09-11T23:57:41.911680Z",
     "iopub.status.busy": "2024-09-11T23:57:41.911247Z",
     "iopub.status.idle": "2024-09-11T23:57:41.917632Z",
     "shell.execute_reply": "2024-09-11T23:57:41.916154Z"
    }
   },
   "outputs": [],
   "source": [
    "from typing import List\n",
    "\n",
    "from langchain.chains import create_extraction_chain_pydantic\n",
    "from langchain_core.output_parsers import PydanticOutputParser\n",
    "from langchain_core.prompts import PromptTemplate\n",
    "from langchain_openai import OpenAI\n",
    "from pydantic import BaseModel, Field"
   ]
  },
  {
   "cell_type": "code",
   "execution_count": 16,
   "id": "9461d225",
   "metadata": {
    "execution": {
     "iopub.execute_input": "2024-09-11T23:57:41.922453Z",
     "iopub.status.busy": "2024-09-11T23:57:41.922180Z",
     "iopub.status.idle": "2024-09-11T23:57:41.927976Z",
     "shell.execute_reply": "2024-09-11T23:57:41.926855Z"
    }
   },
   "outputs": [],
   "source": [
    "class Actor(BaseModel):\n",
    "    Actor: str = Field(description=\"name of an actor\")\n",
    "    Film: List[str] = Field(description=\"list of names of films they starred in\")"
   ]
  },
  {
   "cell_type": "markdown",
   "id": "8390171d",
   "metadata": {},
   "source": [
    "### Parsers"
   ]
  },
  {
   "cell_type": "code",
   "execution_count": 17,
   "id": "8a5528d2",
   "metadata": {
    "execution": {
     "iopub.execute_input": "2024-09-11T23:57:41.930929Z",
     "iopub.status.busy": "2024-09-11T23:57:41.930613Z",
     "iopub.status.idle": "2024-09-11T23:57:42.982165Z",
     "shell.execute_reply": "2024-09-11T23:57:42.981556Z"
    }
   },
   "outputs": [
    {
     "name": "stderr",
     "output_type": "stream",
     "text": [
      "/var/folders/4j/2rz3865x6qg07tx43146py8h0000gn/T/ipykernel_60345/1937598790.py:11: LangChainDeprecationWarning: The method `BaseLLM.__call__` was deprecated in langchain-core 0.1.7 and will be removed in 1.0. Use invoke instead.\n",
      "  output = llm(_input.to_string())\n"
     ]
    },
    {
     "data": {
      "text/plain": [
       "Actor(Actor='Tom Hanks', Film=['Forrest Gump', 'Saving Private Ryan', 'The Green Mile', 'Toy Story', 'Catch Me If You Can'])"
      ]
     },
     "execution_count": 17,
     "metadata": {},
     "output_type": "execute_result"
    }
   ],
   "source": [
    "llm = OpenAI()\n",
    "parser = PydanticOutputParser(pydantic_object=Actor)\n",
    "\n",
    "prompt = PromptTemplate(\n",
    "    template=\"Extract fields from a given text.\\n{format_instructions}\\n{text}\\n\",\n",
    "    input_variables=[\"text\"],\n",
    "    partial_variables={\"format_instructions\": parser.get_format_instructions()},\n",
    ")\n",
    "\n",
    "_input = prompt.format_prompt(text=dataset[0][\"text\"])\n",
    "output = llm(_input.to_string())\n",
    "\n",
    "parsed = parser.parse(output)\n",
    "parsed"
   ]
  },
  {
   "cell_type": "code",
   "execution_count": 18,
   "id": "926a7eed",
   "metadata": {
    "execution": {
     "iopub.execute_input": "2024-09-11T23:57:42.986158Z",
     "iopub.status.busy": "2024-09-11T23:57:42.985871Z",
     "iopub.status.idle": "2024-09-11T23:57:42.994408Z",
     "shell.execute_reply": "2024-09-11T23:57:42.993390Z"
    }
   },
   "outputs": [
    {
     "data": {
      "text/plain": [
       "True"
      ]
     },
     "execution_count": 18,
     "metadata": {},
     "output_type": "execute_result"
    }
   ],
   "source": [
    "(parsed.Actor == inp[0][\"Actor\"]) & (parsed.Film == inp[0][\"Film\"])"
   ]
  },
  {
   "cell_type": "markdown",
   "id": "b00f0b87",
   "metadata": {},
   "source": [
    "### Extractors"
   ]
  },
  {
   "cell_type": "code",
   "execution_count": 19,
   "id": "523bb584",
   "metadata": {
    "execution": {
     "iopub.execute_input": "2024-09-11T23:57:42.997570Z",
     "iopub.status.busy": "2024-09-11T23:57:42.997367Z",
     "iopub.status.idle": "2024-09-11T23:57:43.757567Z",
     "shell.execute_reply": "2024-09-11T23:57:43.756930Z"
    }
   },
   "outputs": [
    {
     "name": "stderr",
     "output_type": "stream",
     "text": [
      "/var/folders/4j/2rz3865x6qg07tx43146py8h0000gn/T/ipykernel_60345/4290255188.py:1: LangChainDeprecationWarning: LangChain has introduced a method called `with_structured_output` thatis available on ChatModels capable of tool calling.You can read more about the method here: <https://python.langchain.com/docs/modules/model_io/chat/structured_output/>. Please follow our extraction use case documentation for more guidelineson how to do information extraction with LLMs.<https://python.langchain.com/docs/use_cases/extraction/>. If you notice other issues, please provide feedback here:<https://github.com/langchain-ai/langchain/discussions/18154>\n",
      "  extractor = create_extraction_chain_pydantic(pydantic_schema=Actor, llm=model)\n",
      "/var/folders/4j/2rz3865x6qg07tx43146py8h0000gn/T/ipykernel_60345/4290255188.py:2: LangChainDeprecationWarning: The method `Chain.run` was deprecated in langchain 0.1.0 and will be removed in 1.0. Use invoke instead.\n",
      "  extracted = extractor.run(dataset[1][\"text\"])\n"
     ]
    },
    {
     "data": {
      "text/plain": [
       "[Actor(Actor='Tom Hardy', Film=['Inception', 'The Dark Knight Rises', 'Mad Max: Fury Road', 'The Revenant', 'Dunkirk'])]"
      ]
     },
     "execution_count": 19,
     "metadata": {},
     "output_type": "execute_result"
    }
   ],
   "source": [
    "extractor = create_extraction_chain_pydantic(pydantic_schema=Actor, llm=model)\n",
    "extracted = extractor.run(dataset[1][\"text\"])\n",
    "extracted"
   ]
  },
  {
   "cell_type": "code",
   "execution_count": 20,
   "id": "f8451c2b",
   "metadata": {
    "execution": {
     "iopub.execute_input": "2024-09-11T23:57:43.760934Z",
     "iopub.status.busy": "2024-09-11T23:57:43.760683Z",
     "iopub.status.idle": "2024-09-11T23:57:43.765576Z",
     "shell.execute_reply": "2024-09-11T23:57:43.765059Z"
    }
   },
   "outputs": [
    {
     "data": {
      "text/plain": [
       "True"
      ]
     },
     "execution_count": 20,
     "metadata": {},
     "output_type": "execute_result"
    }
   ],
   "source": [
    "(extracted[0].Actor == inp[1][\"Actor\"]) & (extracted[0].Film == inp[1][\"Film\"])"
   ]
  },
  {
   "cell_type": "code",
   "execution_count": null,
   "id": "0b03de4d",
   "metadata": {},
   "outputs": [],
   "source": []
  }
 ],
 "metadata": {
  "kernelspec": {
   "display_name": "Python 3 (ipykernel)",
   "language": "python",
   "name": "python3"
  },
  "language_info": {
   "codemirror_mode": {
    "name": "ipython",
    "version": 3
   },
   "file_extension": ".py",
   "mimetype": "text/x-python",
   "name": "python",
   "nbconvert_exporter": "python",
   "pygments_lexer": "ipython3",
   "version": "3.11.9"
  }
 },
 "nbformat": 4,
 "nbformat_minor": 5
}
