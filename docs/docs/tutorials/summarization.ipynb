{
 "cells": [
  {
   "cell_type": "raw",
   "id": "2aca8168-62ec-4bba-93f0-73da08cd1920",
   "metadata": {},
   "source": [
    "---\n",
    "title: Summarize Text\n",
    "sidebar_class_name: hidden\n",
    "---"
   ]
  },
  {
   "cell_type": "markdown",
   "id": "cf13f702",
   "metadata": {},
   "source": [
    "# Summarize Text\n",
    "\n",
    ":::{.callout-info}\n",
    "\n",
    "This tutorial demonstrates text summarization using built-in chains and [LangGraph](https://langchain-ai.github.io/langgraph/).\n",
    "\n",
    "A [previous version](https://python.langchain.com/v0.1/docs/use_cases/summarization/) of this page showcased the legacy chains [StuffDocumentsChain](/docs/versions/migrating_chains/stuff_docs_chain/), [MapReduceDocumentsChain](/docs/versions/migrating_chains/map_reduce_chain/), and [RefineDocumentsChain](https://python.langchain.com/v0.2/docs/versions/migrating_chains/refine_docs_chain/). See [here](/docs/versions/migrating_chains/) for information on using those abstractions and a comparison with the methods demonstrated in this tutorial.\n",
    "\n",
    ":::\n",
    "\n",
    "Suppose you have a set of documents (PDFs, Notion pages, customer questions, etc.) and you want to summarize the content. \n",
    "\n",
    "LLMs are a great tool for this given their proficiency in understanding and synthesizing text.\n",
    "\n",
    "In the context of [retrieval-augmented generation](/docs/tutorials/rag), summarizing text can help distill the information in a large number of retrieved documents to provide context for a LLM.\n",
    "\n",
    "In this walkthrough we'll go over how to summarize content from multiple documents using LLMs."
   ]
  },
  {
   "cell_type": "markdown",
   "id": "8e233997",
   "metadata": {},
   "source": [
    "![Image description](../../static/img/summarization_use_case_1.png)"
   ]
  },
  {
   "cell_type": "markdown",
   "id": "cc8c5f87-3239-44e1-8772-a97cb6138cc5",
   "metadata": {},
   "source": [
    "## Concepts\n",
    "\n",
    "Concepts we will cover are:\n",
    "\n",
    "- Using [language models](/docs/concepts/#chat-models).\n",
    "\n",
    "- Using [document loaders](/docs/concepts/#document-loaders), specifically the [WebBaseLoader](https://python.langchain.com/v0.2/api_reference/community/document_loaders/langchain_community.document_loaders.web_base.WebBaseLoader.html) to load content from an HTML webpage.\n",
    "\n",
    "- Two ways to summarize or otherwise combine documents.\n",
    "  1. [Stuff](/docs/tutorials/summarization#stuff), which simply concatenates documents into a prompt;\n",
    "  2. [Map-reduce](/docs/tutorials/summarization#map-reduce), for larger sets of documents. This splits documents into batches, summarizes those, and then summarizes the summaries.\n",
    "\n",
    "Shorter, targeted guides on these strategies and others, including [iterative refinement](/docs/how_to/summarize_refine), can be found in the [how-to guides](/docs/how_to/#summarization).\n",
    "\n",
    "## Setup\n",
    "\n",
    "### Jupyter Notebook\n",
    "\n",
    "This guide (and most of the other guides in the documentation) uses [Jupyter notebooks](https://jupyter.org/) and assumes the reader is as well. Jupyter notebooks are perfect for learning how to work with LLM systems because oftentimes things can go wrong (unexpected output, API down, etc) and going through guides in an interactive environment is a great way to better understand them.\n",
    "\n",
    "This and other tutorials are perhaps most conveniently run in a Jupyter notebook. See [here](https://jupyter.org/install) for instructions on how to install.\n",
    "\n",
    "### Installation\n",
    "\n",
    "To install LangChain run:\n",
    "\n",
    "```{=mdx}\n",
    "import Tabs from '@theme/Tabs';\n",
    "import TabItem from '@theme/TabItem';\n",
    "import CodeBlock from \"@theme/CodeBlock\";\n",
    "\n",
    "<Tabs>\n",
    "  <TabItem value=\"pip\" label=\"Pip\" default>\n",
    "    <CodeBlock language=\"bash\">pip install langchain</CodeBlock>\n",
    "  </TabItem>\n",
    "  <TabItem value=\"conda\" label=\"Conda\">\n",
    "    <CodeBlock language=\"bash\">conda install langchain -c conda-forge</CodeBlock>\n",
    "  </TabItem>\n",
    "</Tabs>\n",
    "\n",
    "```\n",
    "\n",
    "\n",
    "For more details, see our [Installation guide](/docs/how_to/installation).\n",
    "\n",
    "### LangSmith\n",
    "\n",
    "Many of the applications you build with LangChain will contain multiple steps with multiple invocations of LLM calls.\n",
    "As these applications get more and more complex, it becomes crucial to be able to inspect what exactly is going on inside your chain or agent.\n",
    "The best way to do this is with [LangSmith](https://smith.langchain.com).\n",
    "\n",
    "After you sign up at the link above, make sure to set your environment variables to start logging traces:\n",
    "\n",
    "```shell\n",
    "export LANGCHAIN_TRACING_V2=\"true\"\n",
    "export LANGCHAIN_API_KEY=\"...\"\n",
    "```\n",
    "\n",
    "Or, if in a notebook, you can set them with:\n",
    "\n",
    "```python\n",
    "import getpass\n",
    "import os\n",
    "\n",
    "os.environ[\"LANGCHAIN_TRACING_V2\"] = \"true\"\n",
    "os.environ[\"LANGCHAIN_API_KEY\"] = getpass.getpass()\n",
    "```"
   ]
  },
  {
   "cell_type": "markdown",
   "id": "4715b4ff",
   "metadata": {},
   "source": [
    "## Overview\n",
    "\n",
    "A central question for building a summarizer is how to pass your documents into the LLM's context window. Two common approaches for this are:\n",
    "\n",
    "1. `Stuff`: Simply \"stuff\" all your documents into a single prompt. This is the simplest approach (see [here](/docs/tutorials/rag#built-in-chains) for more on the `create_stuff_documents_chain` constructor, which is used for this method).\n",
    "\n",
    "2. `Map-reduce`: Summarize each document on its own in a \"map\" step and then \"reduce\" the summaries into a final summary (see [here](https://python.langchain.com/v0.2/api_reference/langchain/chains/langchain.chains.combine_documents.map_reduce.MapReduceDocumentsChain.html) for more on the `MapReduceDocumentsChain`, which is used for this method).\n",
    "\n",
    "Note that map-reduce is especially effective when understanding of a sub-document does not rely on preceding context. For example, when summarizing a corpus of many, shorter documents. In other cases, such as summarizing a novel or body of text with an inherent sequence, [iterative refinement](/docs/how_to/summarize_refine) may be more effective."
   ]
  },
  {
   "cell_type": "markdown",
   "id": "08ec66bc",
   "metadata": {},
   "source": [
    "![Image description](../../static/img/summarization_use_case_2.png)"
   ]
  },
  {
   "cell_type": "markdown",
   "id": "bea785ac",
   "metadata": {},
   "source": [
    "## Setup\n",
    "\n",
    "First set environment variables and install packages:"
   ]
  },
  {
   "cell_type": "code",
   "execution_count": 1,
   "id": "928585ec-6f6f-4b67-b2c8-0fc87186342b",
   "metadata": {
    "execution": {
     "iopub.execute_input": "2024-09-12T00:00:36.672093Z",
     "iopub.status.busy": "2024-09-12T00:00:36.671850Z",
     "iopub.status.idle": "2024-09-12T00:00:38.148224Z",
     "shell.execute_reply": "2024-09-12T00:00:38.147675Z"
    }
   },
   "outputs": [
    {
     "name": "stdout",
     "output_type": "stream",
     "text": [
      "Note: you may need to restart the kernel to use updated packages.\n"
     ]
    }
   ],
   "source": [
    "%pip install --upgrade --quiet tiktoken langchain langgraph beautifulsoup4\n",
    "\n",
    "# Set env var OPENAI_API_KEY or load from a .env file\n",
    "# import dotenv\n",
    "\n",
    "# dotenv.load_dotenv()"
   ]
  },
  {
   "cell_type": "code",
   "execution_count": 2,
   "id": "d6276d52-d33f-4b6a-aae3-2682df9eb8a7",
   "metadata": {
    "execution": {
     "iopub.execute_input": "2024-09-12T00:00:38.151223Z",
     "iopub.status.busy": "2024-09-12T00:00:38.151029Z",
     "iopub.status.idle": "2024-09-12T00:00:38.153615Z",
     "shell.execute_reply": "2024-09-12T00:00:38.153224Z"
    }
   },
   "outputs": [],
   "source": [
    "import os\n",
    "\n",
    "os.environ[\"LANGCHAIN_TRACING_V2\"] = \"true\""
   ]
  },
  {
   "cell_type": "markdown",
   "id": "21541329-f883-42ca-bc94-ab9793951dfa",
   "metadata": {},
   "source": [
    "First we load in our documents. We will use [WebBaseLoader](https://python.langchain.com/v0.2/api_reference/community/document_loaders/langchain_community.document_loaders.web_base.WebBaseLoader.html) to load a blog post:"
   ]
  },
  {
   "cell_type": "code",
   "execution_count": 3,
   "id": "23154e97-c4cb-4bcb-a742-f0c9d06639da",
   "metadata": {
    "execution": {
     "iopub.execute_input": "2024-09-12T00:00:38.155525Z",
     "iopub.status.busy": "2024-09-12T00:00:38.155385Z",
     "iopub.status.idle": "2024-09-12T00:00:38.835267Z",
     "shell.execute_reply": "2024-09-12T00:00:38.834714Z"
    }
   },
   "outputs": [
    {
     "name": "stderr",
     "output_type": "stream",
     "text": [
      "USER_AGENT environment variable not set, consider setting it to identify your requests.\n"
     ]
    }
   ],
   "source": [
    "from langchain_community.document_loaders import WebBaseLoader\n",
    "\n",
    "loader = WebBaseLoader(\"https://lilianweng.github.io/posts/2023-06-23-agent/\")\n",
    "docs = loader.load()"
   ]
  },
  {
   "cell_type": "markdown",
   "id": "22548ae0-7f67-4dd0-a3f8-d6675b38df53",
   "metadata": {},
   "source": [
    "Let's next select a LLM:\n",
    "\n",
    "```{=mdx}\n",
    "import ChatModelTabs from \"@theme/ChatModelTabs\";\n",
    "\n",
    "<ChatModelTabs\n",
    "  customVarName=\"llm\"\n",
    "/>\n",
    "```"
   ]
  },
  {
   "cell_type": "code",
   "execution_count": 4,
   "id": "b1c639d9-b27c-4e71-9312-d2666b05f1e3",
   "metadata": {
    "execution": {
     "iopub.execute_input": "2024-09-12T00:00:38.838155Z",
     "iopub.status.busy": "2024-09-12T00:00:38.837772Z",
     "iopub.status.idle": "2024-09-12T00:00:39.094508Z",
     "shell.execute_reply": "2024-09-12T00:00:39.094228Z"
    }
   },
   "outputs": [],
   "source": [
    "# | output: false\n",
    "# | echo: false\n",
    "\n",
    "from langchain_openai import ChatOpenAI\n",
    "\n",
    "llm = ChatOpenAI(model=\"gpt-4o-mini\", temperature=0)"
   ]
  },
  {
   "cell_type": "markdown",
   "id": "615b36e1",
   "metadata": {},
   "source": [
    "## Stuff: summarize in a single LLM call {#stuff}\n",
    "\n",
    "We can use [create_stuff_documents_chain](https://python.langchain.com/v0.2/api_reference/langchain/chains/langchain.chains.combine_documents.stuff.create_stuff_documents_chain.html), especially if using larger context window models such as:\n",
    "\n",
    "* 128k token OpenAI `gpt-4o` \n",
    "* 200k token Anthropic `claude-3-5-sonnet-20240620`\n",
    "\n",
    "The chain will take a list of documents, insert them all into a prompt, and pass that prompt to an LLM:"
   ]
  },
  {
   "cell_type": "code",
   "execution_count": 5,
   "id": "ef45585d",
   "metadata": {
    "execution": {
     "iopub.execute_input": "2024-09-12T00:00:39.096123Z",
     "iopub.status.busy": "2024-09-12T00:00:39.096047Z",
     "iopub.status.idle": "2024-09-12T00:00:42.475364Z",
     "shell.execute_reply": "2024-09-12T00:00:42.474425Z"
    }
   },
   "outputs": [
    {
     "name": "stdout",
     "output_type": "stream",
     "text": [
      "The article \"LLM Powered Autonomous Agents\" by Lilian Weng discusses the development and capabilities of autonomous agents powered by large language models (LLMs). It outlines a system overview that includes three main components: planning, memory, and tool use. \n",
      "\n",
      "1. **Planning**: Agents can decompose complex tasks into manageable subgoals and reflect on past actions to improve future performance. Techniques like Chain of Thought (CoT) and Tree of Thoughts enhance reasoning and planning capabilities.\n",
      "\n",
      "2. **Memory**: The article distinguishes between short-term and long-term memory, with short-term memory being akin to in-context learning and long-term memory utilizing external vector stores for information retrieval. Maximum Inner Product Search (MIPS) algorithms are discussed for efficient memory access.\n",
      "\n",
      "3. **Tool Use**: The integration of external tools allows agents to extend their capabilities beyond their inherent knowledge. Examples include MRKL systems and frameworks like HuggingGPT, which facilitate task planning and execution through API calls.\n",
      "\n",
      "The article also highlights challenges faced by LLM-powered agents, such as finite context length, difficulties in long-term planning, and the reliability of natural language interfaces. It concludes with case studies demonstrating the practical applications of these agents in scientific discovery and interactive simulations.\n",
      "\n",
      "Overall, the article emphasizes the potential of LLMs as general problem solvers and their ability to function as autonomous agents in various domains.\n"
     ]
    }
   ],
   "source": [
    "from langchain.chains.combine_documents import create_stuff_documents_chain\n",
    "from langchain.chains.llm import LLMChain\n",
    "from langchain_core.prompts import ChatPromptTemplate\n",
    "\n",
    "# Define prompt\n",
    "prompt = ChatPromptTemplate.from_messages(\n",
    "    [(\"system\", \"Write a concise summary of the following:\\\\n\\\\n{context}\")]\n",
    ")\n",
    "\n",
    "# Instantiate chain\n",
    "chain = create_stuff_documents_chain(llm, prompt)\n",
    "\n",
    "# Invoke chain\n",
    "result = chain.invoke({\"context\": docs})\n",
    "print(result)"
   ]
  },
  {
   "cell_type": "markdown",
   "id": "02d5a634-203c-4e43-ac55-4e502be095d3",
   "metadata": {},
   "source": [
    "### Streaming\n",
    "\n",
    "Note that we can also stream the result token-by-token:"
   ]
  },
  {
   "cell_type": "code",
   "execution_count": 6,
   "id": "b7a89b7a-0141-4689-b768-a2a50cdce7da",
   "metadata": {
    "execution": {
     "iopub.execute_input": "2024-09-12T00:00:42.479809Z",
     "iopub.status.busy": "2024-09-12T00:00:42.479295Z",
     "iopub.status.idle": "2024-09-12T00:00:44.888767Z",
     "shell.execute_reply": "2024-09-12T00:00:44.887888Z"
    }
   },
   "outputs": [
    {
     "name": "stdout",
     "output_type": "stream",
     "text": [
      "|The| article| \"|LL|M| Powered| Autonomous| Agents|\"| by| Lil|ian|"
     ]
    },
    {
     "name": "stdout",
     "output_type": "stream",
     "text": [
      " W|eng| discusses| the| development| and| capabilities| of| autonomous| agents| powered| by| large| language| models| (|LL|Ms|).| It| outlines| a| system| overview| that| includes| three| main| components|:| planning|,| memory|,| and| tool| use|.| \n",
      "\n",
      "|1|.| **|"
     ]
    },
    {
     "name": "stdout",
     "output_type": "stream",
     "text": [
      "Planning|**| involves| task| decomposition|,| where| agents| break| down| complex| tasks| into| manageable| sub|go|als|,| and| self|-ref|lection|,| allowing| agents|"
     ]
    },
    {
     "name": "stdout",
     "output_type": "stream",
     "text": [
      " to| learn| from| past| actions| to| improve| future| performance|.\n",
      "\n",
      "|2|.| **|Memory|**| is| categorized| into| short|-term| and| long|-term| memory|,| with| techniques| like| Maximum| Inner| Product| Search| (|M|IPS|)| used| for|"
     ]
    },
    {
     "name": "stdout",
     "output_type": "stream",
     "text": [
      " efficient| information| retrieval|.\n",
      "\n",
      "|3|.| **|Tool| Use|**| highlights| the| integration| of| external| APIs| to| enhance|"
     ]
    },
    {
     "name": "stdout",
     "output_type": "stream",
     "text": [
      " the| agent|'s| capabilities|,| illustrated| through| case| studies| like| Chem|Crow| for| scientific| discovery| and| Gener|ative| Agents| for| sim|ulating| human| behavior|.\n",
      "\n",
      "|The| article| also| addresses| challenges| such| as| finite| context| length|,| difficulties| in| long|-term| planning|,| and| the|"
     ]
    },
    {
     "name": "stdout",
     "output_type": "stream",
     "text": [
      " reliability| of| natural| language| interfaces|.| It| concludes| with| references| to| various| studies| and| projects| that| contribute| to| the| field| of| L|LM|-powered| agents|,|"
     ]
    },
    {
     "name": "stdout",
     "output_type": "stream",
     "text": [
      " emphasizing| their| potential| as| general| problem| sol|vers| beyond| mere| text| generation|.||"
     ]
    }
   ],
   "source": [
    "for token in chain.stream({\"context\": docs}):\n",
    "    print(token, end=\"|\")"
   ]
  },
  {
   "cell_type": "markdown",
   "id": "4e4e4a43",
   "metadata": {},
   "source": [
    "### Go deeper\n",
    "\n",
    "* You can easily customize the prompt. \n",
    "* You can easily try different LLMs, (e.g., [Claude](/docs/integrations/chat/anthropic)) via the `llm` parameter."
   ]
  },
  {
   "cell_type": "markdown",
   "id": "ad6cabee",
   "metadata": {},
   "source": [
    "## Map-Reduce: summarize long texts via parallelization {#map-reduce}\n",
    "\n",
    "Let's unpack the map reduce approach. For this, we'll first map each document to an individual summary using an LLM. Then we'll reduce or consolidate those summaries into a single global summary.\n",
    "\n",
    "Note that the map step is typically parallelized over the input documents.\n",
    "\n",
    "[LangGraph](https://langchain-ai.github.io/langgraph/), built on top of `langchain-core`, supports [map-reduce](https://langchain-ai.github.io/langgraph/how-tos/map-reduce/) workflows and is well-suited to this problem:\n",
    "\n",
    "- LangGraph allows for individual steps (such as successive summarizations) to be streamed, allowing for greater control of execution;\n",
    "- LangGraph's [checkpointing](https://langchain-ai.github.io/langgraph/how-tos/persistence/) supports error recovery, extending with human-in-the-loop workflows, and easier incorporation into conversational applications.\n",
    "- The LangGraph implementation is straightforward to modify and extend, as we will see below.\n",
    "\n",
    "### Map\n",
    "Let's first define the prompt associated with the map step, and associated it with the LLM via a [chain](/docs/how_to/sequence/). We can use the same summarization prompt as in the `stuff` approach, above:"
   ]
  },
  {
   "cell_type": "code",
   "execution_count": 7,
   "id": "a1e6773c",
   "metadata": {
    "execution": {
     "iopub.execute_input": "2024-09-12T00:00:44.892613Z",
     "iopub.status.busy": "2024-09-12T00:00:44.892334Z",
     "iopub.status.idle": "2024-09-12T00:00:44.896714Z",
     "shell.execute_reply": "2024-09-12T00:00:44.895987Z"
    }
   },
   "outputs": [],
   "source": [
    "from langchain_core.output_parsers import StrOutputParser\n",
    "from langchain_core.prompts import ChatPromptTemplate\n",
    "\n",
    "map_prompt = ChatPromptTemplate.from_messages(\n",
    "    [(\"system\", \"Write a concise summary of the following:\\\\n\\\\n{context}\")]\n",
    ")\n",
    "\n",
    "map_chain = map_prompt | llm | StrOutputParser()"
   ]
  },
  {
   "cell_type": "markdown",
   "id": "272ce8ce-919d-4ded-bbd5-a53a8a30bc66",
   "metadata": {},
   "source": [
    "We can also use the Prompt Hub to store and fetch prompts.\n",
    "\n",
    "This will work with your [LangSmith API key](https://docs.smith.langchain.com/).\n",
    "\n",
    "For example, see the map prompt [here](https://smith.langchain.com/hub/rlm/map-prompt)."
   ]
  },
  {
   "cell_type": "code",
   "execution_count": 8,
   "id": "ce48b805-d98b-4e0f-8b9e-3b3e72cad3d3",
   "metadata": {
    "execution": {
     "iopub.execute_input": "2024-09-12T00:00:44.899630Z",
     "iopub.status.busy": "2024-09-12T00:00:44.899435Z",
     "iopub.status.idle": "2024-09-12T00:00:45.532339Z",
     "shell.execute_reply": "2024-09-12T00:00:45.532000Z"
    }
   },
   "outputs": [
    {
     "name": "stderr",
     "output_type": "stream",
     "text": [
      "/Users/bagatur/langchain/.venv/lib/python3.11/site-packages/langsmith/client.py:5301: LangChainBetaWarning: The function `loads` is in beta. It is actively being worked on, so the API may change.\n",
      "  prompt = loads(json.dumps(prompt_object.manifest))\n"
     ]
    }
   ],
   "source": [
    "from langchain import hub\n",
    "\n",
    "map_prompt = hub.pull(\"rlm/map-prompt\")"
   ]
  },
  {
   "cell_type": "markdown",
   "id": "bee3c331",
   "metadata": {},
   "source": [
    "### Reduce\n",
    "\n",
    "We also define a chain that takes the document mapping results and reduces them into a single output."
   ]
  },
  {
   "cell_type": "code",
   "execution_count": 9,
   "id": "6a718890-99ab-439a-8f79-b9ae9c58ad24",
   "metadata": {
    "execution": {
     "iopub.execute_input": "2024-09-12T00:00:45.534283Z",
     "iopub.status.busy": "2024-09-12T00:00:45.534164Z",
     "iopub.status.idle": "2024-09-12T00:00:45.536839Z",
     "shell.execute_reply": "2024-09-12T00:00:45.536588Z"
    }
   },
   "outputs": [],
   "source": [
    "# Also available via the hub: `hub.pull(\"rlm/reduce-prompt\")`\n",
    "reduce_template = \"\"\"\n",
    "The following is a set of summaries:\n",
    "{docs}\n",
    "Take these and distill it into a final, consolidated summary\n",
    "of the main themes.\n",
    "\"\"\"\n",
    "\n",
    "reduce_prompt = ChatPromptTemplate([(\"human\", reduce_template)])\n",
    "\n",
    "reduce_chain = reduce_prompt | llm | StrOutputParser()"
   ]
  },
  {
   "cell_type": "markdown",
   "id": "3d7df564-415a-49e2-80b6-743446b40be5",
   "metadata": {},
   "source": [
    "### Orchestration via LangGraph\n",
    "\n",
    "Below we implement a simple application that maps the summarization step on a list of documents, then reduces them using the above prompts.\n",
    "\n",
    "Map-reduce flows are particularly useful when texts are long compared to the context window of a LLM. For long texts, we need a mechanism that ensures that the context to be summarized in the reduce step does not exceed a model's context window size. Here we implement a recursive \"collapsing\" of the summaries: the inputs are partitioned based on a token limit, and summaries are generated of the partitions. This step is repeated until the total length of the summaries is within a desired limit, allowing for the summarization of arbitrary-length text.\n",
    "\n",
    "First we chunk the blog post into smaller \"sub documents\" to be mapped:"
   ]
  },
  {
   "cell_type": "code",
   "execution_count": 10,
   "id": "7821efb9-e1de-4234-84d2-75dfe13b5a6c",
   "metadata": {
    "execution": {
     "iopub.execute_input": "2024-09-12T00:00:45.538865Z",
     "iopub.status.busy": "2024-09-12T00:00:45.538702Z",
     "iopub.status.idle": "2024-09-12T00:00:45.697611Z",
     "shell.execute_reply": "2024-09-12T00:00:45.697355Z"
    }
   },
   "outputs": [
    {
     "name": "stderr",
     "output_type": "stream",
     "text": [
      "Created a chunk of size 1003, which is longer than the specified 1000\n"
     ]
    },
    {
     "name": "stdout",
     "output_type": "stream",
     "text": [
      "Generated 14 documents.\n"
     ]
    }
   ],
   "source": [
    "from langchain_text_splitters import CharacterTextSplitter\n",
    "\n",
    "text_splitter = CharacterTextSplitter.from_tiktoken_encoder(\n",
    "    chunk_size=1000, chunk_overlap=0\n",
    ")\n",
    "split_docs = text_splitter.split_documents(docs)\n",
    "print(f\"Generated {len(split_docs)} documents.\")"
   ]
  },
  {
   "cell_type": "markdown",
   "id": "3e7f1c8a-070e-47f0-bcf2-16d6191051ac",
   "metadata": {},
   "source": [
    "Next, we define our graph. Note that we define an artificially low maximum token length of 1,000 tokens to illustrate the \"collapsing\" step."
   ]
  },
  {
   "cell_type": "code",
   "execution_count": 11,
   "id": "10ced55c-9e3e-404f-abe9-83ac29ffaa5a",
   "metadata": {
    "execution": {
     "iopub.execute_input": "2024-09-12T00:00:45.699087Z",
     "iopub.status.busy": "2024-09-12T00:00:45.698994Z",
     "iopub.status.idle": "2024-09-12T00:00:45.716791Z",
     "shell.execute_reply": "2024-09-12T00:00:45.716577Z"
    }
   },
   "outputs": [],
   "source": [
    "import operator\n",
    "from typing import Annotated, List, Literal, TypedDict\n",
    "\n",
    "from langchain.chains.combine_documents.reduce import (\n",
    "    acollapse_docs,\n",
    "    split_list_of_docs,\n",
    ")\n",
    "from langchain_core.documents import Document\n",
    "from langgraph.constants import Send\n",
    "from langgraph.graph import END, START, StateGraph\n",
    "\n",
    "token_max = 1000\n",
    "\n",
    "\n",
    "def length_function(documents: List[Document]) -> int:\n",
    "    \"\"\"Get number of tokens for input contents.\"\"\"\n",
    "    return sum(llm.get_num_tokens(doc.page_content) for doc in documents)\n",
    "\n",
    "\n",
    "# This will be the overall state of the main graph.\n",
    "# It will contain the input document contents, corresponding\n",
    "# summaries, and a final summary.\n",
    "class OverallState(TypedDict):\n",
    "    # Notice here we use the operator.add\n",
    "    # This is because we want combine all the summaries we generate\n",
    "    # from individual nodes back into one list - this is essentially\n",
    "    # the \"reduce\" part\n",
    "    contents: List[str]\n",
    "    summaries: Annotated[list, operator.add]\n",
    "    collapsed_summaries: List[Document]\n",
    "    final_summary: str\n",
    "\n",
    "\n",
    "# This will be the state of the node that we will \"map\" all\n",
    "# documents to in order to generate summaries\n",
    "class SummaryState(TypedDict):\n",
    "    content: str\n",
    "\n",
    "\n",
    "# Here we generate a summary, given a document\n",
    "async def generate_summary(state: SummaryState):\n",
    "    response = await map_chain.ainvoke(state[\"content\"])\n",
    "    return {\"summaries\": [response]}\n",
    "\n",
    "\n",
    "# Here we define the logic to map out over the documents\n",
    "# We will use this an edge in the graph\n",
    "def map_summaries(state: OverallState):\n",
    "    # We will return a list of `Send` objects\n",
    "    # Each `Send` object consists of the name of a node in the graph\n",
    "    # as well as the state to send to that node\n",
    "    return [\n",
    "        Send(\"generate_summary\", {\"content\": content}) for content in state[\"contents\"]\n",
    "    ]\n",
    "\n",
    "\n",
    "def collect_summaries(state: OverallState):\n",
    "    return {\n",
    "        \"collapsed_summaries\": [Document(summary) for summary in state[\"summaries\"]]\n",
    "    }\n",
    "\n",
    "\n",
    "# Add node to collapse summaries\n",
    "async def collapse_summaries(state: OverallState):\n",
    "    doc_lists = split_list_of_docs(\n",
    "        state[\"collapsed_summaries\"], length_function, token_max\n",
    "    )\n",
    "    results = []\n",
    "    for doc_list in doc_lists:\n",
    "        results.append(await acollapse_docs(doc_list, reduce_chain.ainvoke))\n",
    "\n",
    "    return {\"collapsed_summaries\": results}\n",
    "\n",
    "\n",
    "# This represents a conditional edge in the graph that determines\n",
    "# if we should collapse the summaries or not\n",
    "def should_collapse(\n",
    "    state: OverallState,\n",
    ") -> Literal[\"collapse_summaries\", \"generate_final_summary\"]:\n",
    "    num_tokens = length_function(state[\"collapsed_summaries\"])\n",
    "    if num_tokens > token_max:\n",
    "        return \"collapse_summaries\"\n",
    "    else:\n",
    "        return \"generate_final_summary\"\n",
    "\n",
    "\n",
    "# Here we will generate the final summary\n",
    "async def generate_final_summary(state: OverallState):\n",
    "    response = await reduce_chain.ainvoke(state[\"collapsed_summaries\"])\n",
    "    return {\"final_summary\": response}\n",
    "\n",
    "\n",
    "# Construct the graph\n",
    "# Nodes:\n",
    "graph = StateGraph(OverallState)\n",
    "graph.add_node(\"generate_summary\", generate_summary)  # same as before\n",
    "graph.add_node(\"collect_summaries\", collect_summaries)\n",
    "graph.add_node(\"collapse_summaries\", collapse_summaries)\n",
    "graph.add_node(\"generate_final_summary\", generate_final_summary)\n",
    "\n",
    "# Edges:\n",
    "graph.add_conditional_edges(START, map_summaries, [\"generate_summary\"])\n",
    "graph.add_edge(\"generate_summary\", \"collect_summaries\")\n",
    "graph.add_conditional_edges(\"collect_summaries\", should_collapse)\n",
    "graph.add_conditional_edges(\"collapse_summaries\", should_collapse)\n",
    "graph.add_edge(\"generate_final_summary\", END)\n",
    "\n",
    "app = graph.compile()"
   ]
  },
  {
   "cell_type": "markdown",
   "id": "f00af5d5-bfac-4c13-9439-aa0b18ac3b44",
   "metadata": {},
   "source": [
    "LangGraph allows the graph structure to be plotted to help visualize its function:"
   ]
  },
  {
   "cell_type": "code",
   "execution_count": 12,
   "id": "0c8d41e4-664d-46f4-94e9-248971d428a6",
   "metadata": {
    "execution": {
     "iopub.execute_input": "2024-09-12T00:00:45.718099Z",
     "iopub.status.busy": "2024-09-12T00:00:45.718016Z",
     "iopub.status.idle": "2024-09-12T00:00:48.278615Z",
     "shell.execute_reply": "2024-09-12T00:00:48.277981Z"
    }
   },
   "outputs": [
    {
     "data": {
      "image/jpeg": "[encoded data removed]",
      "text/plain": [
       "<IPython.core.display.Image object>"
      ]
     },
     "execution_count": 12,
     "metadata": {},
     "output_type": "execute_result"
    }
   ],
   "source": [
    "from IPython.display import Image\n",
    "\n",
    "Image(app.get_graph().draw_mermaid_png())"
   ]
  },
  {
   "cell_type": "markdown",
   "id": "678c0200-32df-4faf-bc54-a4dd470f199c",
   "metadata": {},
   "source": [
    "When running the application, we can stream the graph to observe its sequence of steps. Below, we will simply print out the name of the step.\n",
    "\n",
    "Note that because we have a loop in the graph, it can be helpful to specify a [recursion_limit](https://langchain-ai.github.io/langgraph/reference/errors/#langgraph.errors.GraphRecursionError) on its execution. This will raise a specific error when the specified limit is exceeded."
   ]
  },
  {
   "cell_type": "code",
   "execution_count": 13,
   "id": "b5e32a3c-f43e-4e18-a32d-466403afa844",
   "metadata": {
    "execution": {
     "iopub.execute_input": "2024-09-12T00:00:48.282848Z",
     "iopub.status.busy": "2024-09-12T00:00:48.282576Z",
     "iopub.status.idle": "2024-09-12T00:01:07.993845Z",
     "shell.execute_reply": "2024-09-12T00:01:07.993290Z"
    }
   },
   "outputs": [
    {
     "name": "stdout",
     "output_type": "stream",
     "text": [
      "['generate_summary']\n",
      "['generate_summary']\n",
      "['generate_summary']\n",
      "['generate_summary']\n"
     ]
    },
    {
     "name": "stdout",
     "output_type": "stream",
     "text": [
      "['generate_summary']\n"
     ]
    },
    {
     "name": "stdout",
     "output_type": "stream",
     "text": [
      "['generate_summary']\n",
      "['generate_summary']\n",
      "['generate_summary']\n",
      "['generate_summary']\n",
      "['generate_summary']\n"
     ]
    },
    {
     "name": "stdout",
     "output_type": "stream",
     "text": [
      "['generate_summary']\n"
     ]
    },
    {
     "name": "stdout",
     "output_type": "stream",
     "text": [
      "['generate_summary']\n"
     ]
    },
    {
     "name": "stdout",
     "output_type": "stream",
     "text": [
      "['generate_summary']\n"
     ]
    },
    {
     "name": "stdout",
     "output_type": "stream",
     "text": [
      "['generate_summary']\n"
     ]
    },
    {
     "name": "stdout",
     "output_type": "stream",
     "text": [
      "['collect_summaries']\n"
     ]
    },
    {
     "name": "stdout",
     "output_type": "stream",
     "text": [
      "['collapse_summaries']\n"
     ]
    },
    {
     "name": "stdout",
     "output_type": "stream",
     "text": [
      "['generate_final_summary']\n"
     ]
    }
   ],
   "source": [
    "async for step in app.astream(\n",
    "    {\"contents\": [doc.page_content for doc in split_docs]},\n",
    "    {\"recursion_limit\": 10},\n",
    "):\n",
    "    print(list(step.keys()))"
   ]
  },
  {
   "cell_type": "code",
   "execution_count": 14,
   "id": "b0b28b30-d12b-4a30-a0e2-f897adab68c9",
   "metadata": {
    "execution": {
     "iopub.execute_input": "2024-09-12T00:01:07.997347Z",
     "iopub.status.busy": "2024-09-12T00:01:07.997109Z",
     "iopub.status.idle": "2024-09-12T00:01:08.000786Z",
     "shell.execute_reply": "2024-09-12T00:01:08.000282Z"
    }
   },
   "outputs": [
    {
     "name": "stdout",
     "output_type": "stream",
     "text": [
      "{'generate_final_summary': {'final_summary': 'The consolidated summary of the main themes from the provided documents highlights the integration of large language models (LLMs) in autonomous agents, emphasizing their capabilities in planning, memory, and tool use, as well as advancements in neuro-symbolic architectures. Key points include:\\n\\n1. **Autonomous Agents and LLMs**: LLMs are central to the functioning of autonomous agents, enabling complex task execution through structured planning and self-reflection. Techniques such as Chain of Thought (CoT) and Tree of Thoughts facilitate task decomposition, while external planners support long-term planning.\\n\\n2. **Challenges and Improvements**: Hallucination remains a significant challenge for autonomous agents. Methods like Chain of Hindsight (CoH) and Algorithm Distillation (AD) are being explored to enhance model outputs and learning efficiency through feedback mechanisms.\\n\\n3. **Memory and Reinforcement Learning**: The importance of various memory types (sensory, short-term, long-term) in both human cognition and machine learning is discussed, along with techniques for improving memory retrieval, such as Maximum Inner Product Search (MIPS) and approximate nearest neighbor algorithms.\\n\\n4. **Neuro-Symbolic Architectures**: The documents explore MRKL (Modular Reasoning, Knowledge and Language) systems that combine neural and symbolic modules with LLMs for effective task management. Frameworks like TALM, Toolformer, and HuggingGPT enhance LLM capabilities by integrating external tools and APIs.\\n\\n5. **Best Practices in Software Development**: The creation of structured codebases for software projects is emphasized, focusing on best practices in coding, file organization, and documentation. Limitations of LLMs, such as finite context length and challenges in long-term planning, are also noted.\\n\\n6. **Applications and Case Studies**: The application of LLMs in specialized domains, such as scientific discovery and anticancer drug research, is highlighted, showcasing their potential to outperform general models when using expert tools. The Generative Agents Simulation illustrates the use of LLMs in simulating human-like interactions.\\n\\nOverall, the integration of LLMs in autonomous agents and neuro-symbolic systems demonstrates their potential as general problem solvers while addressing challenges related to hallucination, memory, and planning strategies. The documents reflect a blend of advancements in AI and best practices in software development, underscoring the evolving role of AI in enhancing automation and decision-making across various domains.'}}\n"
     ]
    }
   ],
   "source": [
    "print(step)"
   ]
  },
  {
   "cell_type": "markdown",
   "id": "a9e33d11-7a2a-4693-8c87-88b88eebc896",
   "metadata": {},
   "source": [
    "In the corresponding [LangSmith trace](https://smith.langchain.com/public/9d7b1d50-e1d6-44c9-9ab2-eabef621c883/r) we can see the individual LLM calls, grouped under their respective nodes.\n",
    "\n",
    "### Go deeper\n",
    " \n",
    "**Customization** \n",
    "\n",
    "* As shown above, you can customize the LLMs and prompts for map and reduce stages.\n",
    "\n",
    "**Real-world use-case**\n",
    "\n",
    "* See [this blog post](https://blog.langchain.dev/llms-to-improve-documentation/) case-study on analyzing user interactions (questions about LangChain documentation)!  \n",
    "* The blog post and associated [repo](https://github.com/mendableai/QA_clustering) also introduce clustering as a means of summarization.\n",
    "* This opens up another path beyond the `stuff` or `map-reduce` approaches that is worth considering.\n",
    "\n",
    "![Image description](../../static/img/summarization_use_case_3.png)"
   ]
  },
  {
   "cell_type": "markdown",
   "id": "e8680f94-c872-4d36-92e5-1462ffeb577d",
   "metadata": {},
   "source": [
    "## Next steps\n",
    "\n",
    "We encourage you to check out the [how-to guides](/docs/how_to) for more detail on: \n",
    "\n",
    "- Other summarization strategies, such as [iterative refinement](/docs/how_to/summarize_refine)\n",
    "- Built-in [document loaders](/docs/how_to/#document-loaders) and [text-splitters](/docs/how_to/#text-splitters)\n",
    "- Integrating various combine-document chains into a [RAG application](/docs/tutorials/rag/)\n",
    "- Incorporating retrieval into a [chatbot](/docs/how_to/chatbots_retrieval/)\n",
    "\n",
    "and other concepts."
   ]
  }
 ],
 "metadata": {
  "kernelspec": {
   "display_name": "Python 3 (ipykernel)",
   "language": "python",
   "name": "python3"
  },
  "language_info": {
   "codemirror_mode": {
    "name": "ipython",
    "version": 3
   },
   "file_extension": ".py",
   "mimetype": "text/x-python",
   "name": "python",
   "nbconvert_exporter": "python",
   "pygments_lexer": "ipython3",
   "version": "3.11.9"
  }
 },
 "nbformat": 4,
 "nbformat_minor": 5
}
