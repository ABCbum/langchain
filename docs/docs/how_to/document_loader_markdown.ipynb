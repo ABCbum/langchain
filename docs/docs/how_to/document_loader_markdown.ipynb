{
 "cells": [
  {
   "cell_type": "markdown",
   "id": "d836a98a-ad14-4bed-af76-e1877f7ef8a4",
   "metadata": {},
   "source": [
    "# How to load Markdown\n",
    "\n",
    "[Markdown](https://en.wikipedia.org/wiki/Markdown) is a lightweight markup language for creating formatted text using a plain-text editor.\n",
    "\n",
    "Here we cover how to load `Markdown` documents into LangChain [Document](https://python.langchain.com/v0.2/api_reference/core/documents/langchain_core.documents.base.Document.html#langchain_core.documents.base.Document) objects that we can use downstream.\n",
    "\n",
    "We will cover:\n",
    "\n",
    "- Basic usage;\n",
    "- Parsing of Markdown into elements such as titles, list items, and text.\n",
    "\n",
    "LangChain implements an [UnstructuredMarkdownLoader](https://python.langchain.com/v0.2/api_reference/community/document_loaders/langchain_community.document_loaders.markdown.UnstructuredMarkdownLoader.html) object which requires the [Unstructured](https://unstructured-io.github.io/unstructured/) package. First we install it:"
   ]
  },
  {
   "cell_type": "code",
   "execution_count": 1,
   "id": "c8b147fb-6877-4f7a-b2ee-ee971c7bc662",
   "metadata": {
    "execution": {
     "iopub.execute_input": "2024-09-11T18:13:18.602139Z",
     "iopub.status.busy": "2024-09-11T18:13:18.601873Z",
     "iopub.status.idle": "2024-09-11T18:13:21.016858Z",
     "shell.execute_reply": "2024-09-11T18:13:21.016362Z"
    }
   },
   "outputs": [
    {
     "name": "stdout",
     "output_type": "stream",
     "text": [
      "Requirement already satisfied: nltk in /Users/bagatur/langchain/.venv/lib/python3.11/site-packages (3.9.1)\r\n",
      "Requirement already satisfied: unstructured[md] in /Users/bagatur/langchain/.venv/lib/python3.11/site-packages (0.15.10)\r\n",
      "Requirement already satisfied: chardet in /Users/bagatur/langchain/.venv/lib/python3.11/site-packages (from unstructured[md]) (5.2.0)\r\n",
      "Requirement already satisfied: filetype in /Users/bagatur/langchain/.venv/lib/python3.11/site-packages (from unstructured[md]) (1.2.0)\r\n",
      "Requirement already satisfied: python-magic in /Users/bagatur/langchain/.venv/lib/python3.11/site-packages (from unstructured[md]) (0.4.27)\r\n",
      "Requirement already satisfied: lxml in /Users/bagatur/langchain/.venv/lib/python3.11/site-packages (from unstructured[md]) (5.3.0)\r\n",
      "Requirement already satisfied: tabulate in /Users/bagatur/langchain/.venv/lib/python3.11/site-packages (from unstructured[md]) (0.9.0)\r\n",
      "Requirement already satisfied: requests in /Users/bagatur/langchain/.venv/lib/python3.11/site-packages (from unstructured[md]) (2.32.3)\r\n",
      "Requirement already satisfied: beautifulsoup4 in /Users/bagatur/langchain/.venv/lib/python3.11/site-packages (from unstructured[md]) (4.13.0b2)\r\n",
      "Requirement already satisfied: emoji in /Users/bagatur/langchain/.venv/lib/python3.11/site-packages (from unstructured[md]) (2.12.1)\r\n",
      "Requirement already satisfied: dataclasses-json in /Users/bagatur/langchain/.venv/lib/python3.11/site-packages (from unstructured[md]) (0.6.7)\r\n",
      "Requirement already satisfied: python-iso639 in /Users/bagatur/langchain/.venv/lib/python3.11/site-packages (from unstructured[md]) (2024.4.27)\r\n",
      "Requirement already satisfied: langdetect in /Users/bagatur/langchain/.venv/lib/python3.11/site-packages (from unstructured[md]) (1.0.9)\r\n",
      "Requirement already satisfied: numpy<2 in /Users/bagatur/langchain/.venv/lib/python3.11/site-packages (from unstructured[md]) (1.26.4)\r\n",
      "Requirement already satisfied: rapidfuzz in /Users/bagatur/langchain/.venv/lib/python3.11/site-packages (from unstructured[md]) (3.9.7)\r\n",
      "Requirement already satisfied: backoff in /Users/bagatur/langchain/.venv/lib/python3.11/site-packages (from unstructured[md]) (2.2.1)\r\n",
      "Requirement already satisfied: typing-extensions in /Users/bagatur/langchain/.venv/lib/python3.11/site-packages (from unstructured[md]) (4.12.2)\r\n",
      "Requirement already satisfied: unstructured-client in /Users/bagatur/langchain/.venv/lib/python3.11/site-packages (from unstructured[md]) (0.25.8)\r\n",
      "Requirement already satisfied: wrapt in /Users/bagatur/langchain/.venv/lib/python3.11/site-packages (from unstructured[md]) (1.16.0)\r\n",
      "Requirement already satisfied: tqdm in /Users/bagatur/langchain/.venv/lib/python3.11/site-packages (from unstructured[md]) (4.66.5)\r\n",
      "Requirement already satisfied: psutil in /Users/bagatur/langchain/.venv/lib/python3.11/site-packages (from unstructured[md]) (6.0.0)\r\n",
      "Requirement already satisfied: python-oxmsg in /Users/bagatur/langchain/.venv/lib/python3.11/site-packages (from unstructured[md]) (0.0.1)\r\n"
     ]
    },
    {
     "name": "stdout",
     "output_type": "stream",
     "text": [
      "Collecting markdown (from unstructured[md])\r\n"
     ]
    },
    {
     "name": "stdout",
     "output_type": "stream",
     "text": [
      "  Downloading Markdown-3.7-py3-none-any.whl.metadata (7.0 kB)\r\n",
      "Requirement already satisfied: click in /Users/bagatur/langchain/.venv/lib/python3.11/site-packages (from nltk) (8.1.7)\r\n",
      "Requirement already satisfied: joblib in /Users/bagatur/langchain/.venv/lib/python3.11/site-packages (from nltk) (1.4.2)\r\n",
      "Requirement already satisfied: regex>=2021.8.3 in /Users/bagatur/langchain/.venv/lib/python3.11/site-packages (from nltk) (2024.7.24)\r\n",
      "Requirement already satisfied: soupsieve>1.2 in /Users/bagatur/langchain/.venv/lib/python3.11/site-packages (from beautifulsoup4->unstructured[md]) (2.5)\r\n"
     ]
    },
    {
     "name": "stdout",
     "output_type": "stream",
     "text": [
      "Requirement already satisfied: marshmallow<4.0.0,>=3.18.0 in /Users/bagatur/langchain/.venv/lib/python3.11/site-packages (from dataclasses-json->unstructured[md]) (3.21.3)\r\n",
      "Requirement already satisfied: typing-inspect<1,>=0.4.0 in /Users/bagatur/langchain/.venv/lib/python3.11/site-packages (from dataclasses-json->unstructured[md]) (0.9.0)\r\n",
      "Requirement already satisfied: six in /Users/bagatur/langchain/.venv/lib/python3.11/site-packages (from langdetect->unstructured[md]) (1.16.0)\r\n",
      "Requirement already satisfied: olefile in /Users/bagatur/langchain/.venv/lib/python3.11/site-packages (from python-oxmsg->unstructured[md]) (0.47)\r\n",
      "Requirement already satisfied: charset-normalizer<4,>=2 in /Users/bagatur/langchain/.venv/lib/python3.11/site-packages (from requests->unstructured[md]) (3.3.2)\r\n",
      "Requirement already satisfied: idna<4,>=2.5 in /Users/bagatur/langchain/.venv/lib/python3.11/site-packages (from requests->unstructured[md]) (3.7)\r\n",
      "Requirement already satisfied: urllib3<3,>=1.21.1 in /Users/bagatur/langchain/.venv/lib/python3.11/site-packages (from requests->unstructured[md]) (2.2.2)\r\n",
      "Requirement already satisfied: certifi>=2017.4.17 in /Users/bagatur/langchain/.venv/lib/python3.11/site-packages (from requests->unstructured[md]) (2024.7.4)\r\n",
      "Requirement already satisfied: deepdiff>=6.0 in /Users/bagatur/langchain/.venv/lib/python3.11/site-packages (from unstructured-client->unstructured[md]) (8.0.1)\r\n",
      "Requirement already satisfied: httpx>=0.27.0 in /Users/bagatur/langchain/.venv/lib/python3.11/site-packages (from unstructured-client->unstructured[md]) (0.27.0)\r\n",
      "Requirement already satisfied: jsonpath-python>=1.0.6 in /Users/bagatur/langchain/.venv/lib/python3.11/site-packages (from unstructured-client->unstructured[md]) (1.0.6)\r\n",
      "Requirement already satisfied: mypy-extensions>=1.0.0 in /Users/bagatur/langchain/.venv/lib/python3.11/site-packages (from unstructured-client->unstructured[md]) (1.0.0)\r\n",
      "Requirement already satisfied: nest-asyncio>=1.6.0 in /Users/bagatur/langchain/.venv/lib/python3.11/site-packages (from unstructured-client->unstructured[md]) (1.6.0)\r\n",
      "Requirement already satisfied: packaging>=23.1 in /Users/bagatur/langchain/.venv/lib/python3.11/site-packages (from unstructured-client->unstructured[md]) (24.1)\r\n",
      "Requirement already satisfied: pypdf>=4.0 in /Users/bagatur/langchain/.venv/lib/python3.11/site-packages (from unstructured-client->unstructured[md]) (4.3.1)\r\n",
      "Requirement already satisfied: python-dateutil>=2.8.2 in /Users/bagatur/langchain/.venv/lib/python3.11/site-packages (from unstructured-client->unstructured[md]) (2.9.0.post0)\r\n",
      "Requirement already satisfied: requests-toolbelt>=1.0.0 in /Users/bagatur/langchain/.venv/lib/python3.11/site-packages (from unstructured-client->unstructured[md]) (1.0.0)\r\n"
     ]
    },
    {
     "name": "stdout",
     "output_type": "stream",
     "text": [
      "Requirement already satisfied: orderly-set==5.2.2 in /Users/bagatur/langchain/.venv/lib/python3.11/site-packages (from deepdiff>=6.0->unstructured-client->unstructured[md]) (5.2.2)\r\n",
      "Requirement already satisfied: anyio in /Users/bagatur/langchain/.venv/lib/python3.11/site-packages (from httpx>=0.27.0->unstructured-client->unstructured[md]) (4.4.0)\r\n",
      "Requirement already satisfied: httpcore==1.* in /Users/bagatur/langchain/.venv/lib/python3.11/site-packages (from httpx>=0.27.0->unstructured-client->unstructured[md]) (1.0.5)\r\n",
      "Requirement already satisfied: sniffio in /Users/bagatur/langchain/.venv/lib/python3.11/site-packages (from httpx>=0.27.0->unstructured-client->unstructured[md]) (1.3.1)\r\n",
      "Requirement already satisfied: h11<0.15,>=0.13 in /Users/bagatur/langchain/.venv/lib/python3.11/site-packages (from httpcore==1.*->httpx>=0.27.0->unstructured-client->unstructured[md]) (0.14.0)\r\n"
     ]
    },
    {
     "name": "stdout",
     "output_type": "stream",
     "text": [
      "Downloading Markdown-3.7-py3-none-any.whl (106 kB)\r\n",
      "\u001b[?25l   \u001b[38;5;237m━━━━━━━━━━━━━━━━━━━━━━━━━━━━━━━━━━━━━━━━\u001b[0m \u001b[32m0.0/106.3 kB\u001b[0m \u001b[31m?\u001b[0m eta \u001b[36m-:--:--\u001b[0m"
     ]
    },
    {
     "name": "stdout",
     "output_type": "stream",
     "text": [
      "\r",
      "\u001b[2K   \u001b[38;2;249;38;114m━━━\u001b[0m\u001b[38;2;249;38;114m╸\u001b[0m\u001b[38;5;237m━━━━━━━━━━━━━━━━━━━━━━━━━━━━━━━━━━━━\u001b[0m \u001b[32m10.2/106.3 kB\u001b[0m \u001b[31m?\u001b[0m eta \u001b[36m-:--:--\u001b[0m\r",
      "\u001b[2K   \u001b[38;2;249;38;114m━━━━━━━━━━━━━━━━━━━━━━━\u001b[0m\u001b[38;5;237m╺\u001b[0m\u001b[38;5;237m━━━━━━━━━━━━━━━━\u001b[0m \u001b[32m61.4/106.3 kB\u001b[0m \u001b[31m1.2 MB/s\u001b[0m eta \u001b[36m0:00:01\u001b[0m"
     ]
    },
    {
     "name": "stdout",
     "output_type": "stream",
     "text": [
      "\r",
      "\u001b[2K   \u001b[38;2;249;38;114m━━━━━━━━━━━━━━━━━━━━━━━━━━\u001b[0m\u001b[38;2;249;38;114m╸\u001b[0m\u001b[38;5;237m━━━━━━━━━━━━━\u001b[0m \u001b[32m71.7/106.3 kB\u001b[0m \u001b[31m1.0 MB/s\u001b[0m eta \u001b[36m0:00:01\u001b[0m"
     ]
    },
    {
     "name": "stdout",
     "output_type": "stream",
     "text": [
      "\r",
      "\u001b[2K   \u001b[38;2;249;38;114m━━━━━━━━━━━━━━━━━━━━━━━━━━\u001b[0m\u001b[38;2;249;38;114m╸\u001b[0m\u001b[38;5;237m━━━━━━━━━━━━━\u001b[0m \u001b[32m71.7/106.3 kB\u001b[0m \u001b[31m1.0 MB/s\u001b[0m eta \u001b[36m0:00:01\u001b[0m"
     ]
    },
    {
     "name": "stdout",
     "output_type": "stream",
     "text": [
      "\r",
      "\u001b[2K   \u001b[38;2;249;38;114m━━━━━━━━━━━━━━━━━━━━━━━━━━\u001b[0m\u001b[38;2;249;38;114m╸\u001b[0m\u001b[38;5;237m━━━━━━━━━━━━━\u001b[0m \u001b[32m71.7/106.3 kB\u001b[0m \u001b[31m1.0 MB/s\u001b[0m eta \u001b[36m0:00:01\u001b[0m\r",
      "\u001b[2K   \u001b[38;2;249;38;114m━━━━━━━━━━━━━━━━━━━━━━━━━━\u001b[0m\u001b[38;2;249;38;114m╸\u001b[0m\u001b[38;5;237m━━━━━━━━━━━━━\u001b[0m \u001b[32m71.7/106.3 kB\u001b[0m \u001b[31m1.0 MB/s\u001b[0m eta \u001b[36m0:00:01\u001b[0m"
     ]
    },
    {
     "name": "stdout",
     "output_type": "stream",
     "text": [
      "\r",
      "\u001b[2K   \u001b[38;2;249;38;114m━━━━━━━━━━━━━━━━━━━━━━━━━━\u001b[0m\u001b[38;2;249;38;114m╸\u001b[0m\u001b[38;5;237m━━━━━━━━━━━━━\u001b[0m \u001b[32m71.7/106.3 kB\u001b[0m \u001b[31m1.0 MB/s\u001b[0m eta \u001b[36m0:00:01\u001b[0m"
     ]
    },
    {
     "name": "stdout",
     "output_type": "stream",
     "text": [
      "\r",
      "\u001b[2K   \u001b[38;2;249;38;114m━━━━━━━━━━━━━━━━━━━━━━━━━━\u001b[0m\u001b[38;2;249;38;114m╸\u001b[0m\u001b[38;5;237m━━━━━━━━━━━━━\u001b[0m \u001b[32m71.7/106.3 kB\u001b[0m \u001b[31m1.0 MB/s\u001b[0m eta \u001b[36m0:00:01\u001b[0m"
     ]
    },
    {
     "name": "stdout",
     "output_type": "stream",
     "text": [
      "\r",
      "\u001b[2K   \u001b[38;2;249;38;114m━━━━━━━━━━━━━━━━━━━━━━━━━━\u001b[0m\u001b[38;2;249;38;114m╸\u001b[0m\u001b[38;5;237m━━━━━━━━━━━━━\u001b[0m \u001b[32m71.7/106.3 kB\u001b[0m \u001b[31m1.0 MB/s\u001b[0m eta \u001b[36m0:00:01\u001b[0m\r",
      "\u001b[2K   \u001b[38;2;249;38;114m━━━━━━━━━━━━━━━━━━━━━━━━━━\u001b[0m\u001b[38;2;249;38;114m╸\u001b[0m\u001b[38;5;237m━━━━━━━━━━━━━\u001b[0m \u001b[32m71.7/106.3 kB\u001b[0m \u001b[31m1.0 MB/s\u001b[0m eta \u001b[36m0:00:01\u001b[0m"
     ]
    },
    {
     "name": "stdout",
     "output_type": "stream",
     "text": [
      "\r",
      "\u001b[2K   \u001b[38;2;249;38;114m━━━━━━━━━━━━━━━━━━━━━━━━━━\u001b[0m\u001b[38;2;249;38;114m╸\u001b[0m\u001b[38;5;237m━━━━━━━━━━━━━\u001b[0m \u001b[32m71.7/106.3 kB\u001b[0m \u001b[31m1.0 MB/s\u001b[0m eta \u001b[36m0:00:01\u001b[0m"
     ]
    },
    {
     "name": "stdout",
     "output_type": "stream",
     "text": [
      "\r",
      "\u001b[2K   \u001b[38;2;249;38;114m━━━━━━━━━━━━━━━━━━━━━━━━━━\u001b[0m\u001b[38;2;249;38;114m╸\u001b[0m\u001b[38;5;237m━━━━━━━━━━━━━\u001b[0m \u001b[32m71.7/106.3 kB\u001b[0m \u001b[31m1.0 MB/s\u001b[0m eta \u001b[36m0:00:01\u001b[0m"
     ]
    },
    {
     "name": "stdout",
     "output_type": "stream",
     "text": [
      "\r",
      "\u001b[2K   \u001b[38;2;249;38;114m━━━━━━━━━━━━━━━━━━━━━━━━━━\u001b[0m\u001b[38;2;249;38;114m╸\u001b[0m\u001b[38;5;237m━━━━━━━━━━━━━\u001b[0m \u001b[32m71.7/106.3 kB\u001b[0m \u001b[31m1.0 MB/s\u001b[0m eta \u001b[36m0:00:01\u001b[0m\r",
      "\u001b[2K   \u001b[38;2;114;156;31m━━━━━━━━━━━━━━━━━━━━━━━━━━━━━━━━━━━━━━━\u001b[0m \u001b[32m106.3/106.3 kB\u001b[0m \u001b[31m186.8 kB/s\u001b[0m eta \u001b[36m0:00:00\u001b[0m\r\n",
      "\u001b[?25h"
     ]
    },
    {
     "name": "stdout",
     "output_type": "stream",
     "text": [
      "Installing collected packages: markdown\r\n"
     ]
    },
    {
     "name": "stdout",
     "output_type": "stream",
     "text": [
      "Successfully installed markdown-3.7\r\n"
     ]
    },
    {
     "name": "stdout",
     "output_type": "stream",
     "text": [
      "Note: you may need to restart the kernel to use updated packages.\n"
     ]
    }
   ],
   "source": [
    "%pip install \"unstructured[md]\" nltk"
   ]
  },
  {
   "cell_type": "markdown",
   "id": "ea8c41f8-a8dc-48cc-b78d-7b3e2427a34c",
   "metadata": {},
   "source": [
    "Basic usage will ingest a Markdown file to a single document. Here we demonstrate on LangChain's readme:"
   ]
  },
  {
   "cell_type": "code",
   "execution_count": 2,
   "id": "80c50cc4-7ce9-4418-81b9-29c52c7b3627",
   "metadata": {
    "execution": {
     "iopub.execute_input": "2024-09-11T18:13:21.019401Z",
     "iopub.status.busy": "2024-09-11T18:13:21.019209Z",
     "iopub.status.idle": "2024-09-11T18:13:22.817508Z",
     "shell.execute_reply": "2024-09-11T18:13:22.817224Z"
    }
   },
   "outputs": [
    {
     "name": "stdout",
     "output_type": "stream",
     "text": [
      "🦜️🔗 LangChain\n",
      "\n",
      "⚡ Build context-aware reasoning applications ⚡\n",
      "\n",
      "Looking for the JS/TS library? Check out LangChain.js.\n",
      "\n",
      "To help you ship LangChain apps to production faster, check out LangSmith. LangSmith is a unified developer platform for building, \n"
     ]
    }
   ],
   "source": [
    "from langchain_community.document_loaders import UnstructuredMarkdownLoader\n",
    "from langchain_core.documents import Document\n",
    "\n",
    "markdown_path = \"../../../README.md\"\n",
    "loader = UnstructuredMarkdownLoader(markdown_path)\n",
    "\n",
    "data = loader.load()\n",
    "assert len(data) == 1\n",
    "assert isinstance(data[0], Document)\n",
    "readme_content = data[0].page_content\n",
    "print(readme_content[:250])"
   ]
  },
  {
   "cell_type": "markdown",
   "id": "b7560a6e-ca5d-47e1-b176-a9c40e763ff3",
   "metadata": {},
   "source": [
    "## Retain Elements\n",
    "\n",
    "Under the hood, Unstructured creates different \"elements\" for different chunks of text. By default we combine those together, but you can easily keep that separation by specifying `mode=\"elements\"`."
   ]
  },
  {
   "cell_type": "code",
   "execution_count": 3,
   "id": "a986bbce-7fd3-41d1-bc47-49f9f57c7cd1",
   "metadata": {
    "execution": {
     "iopub.execute_input": "2024-09-11T18:13:22.818986Z",
     "iopub.status.busy": "2024-09-11T18:13:22.818848Z",
     "iopub.status.idle": "2024-09-11T18:13:23.032622Z",
     "shell.execute_reply": "2024-09-11T18:13:23.032360Z"
    }
   },
   "outputs": [
    {
     "name": "stdout",
     "output_type": "stream",
     "text": [
      "Number of documents: 70\n",
      "\n",
      "page_content='🦜️🔗 LangChain' metadata={'source': '../../../README.md', 'category_depth': 0, 'last_modified': '2024-09-03T10:37:16', 'languages': ['eng'], 'filetype': 'text/markdown', 'file_directory': '../../..', 'filename': 'README.md', 'category': 'Title', 'element_id': '200b8a7d0dd03f66e4f13456566d2b3a'}\n",
      "\n",
      "page_content='⚡ Build context-aware reasoning applications ⚡' metadata={'source': '../../../README.md', 'last_modified': '2024-09-03T10:37:16', 'languages': ['eng'], 'parent_id': '200b8a7d0dd03f66e4f13456566d2b3a', 'filetype': 'text/markdown', 'file_directory': '../../..', 'filename': 'README.md', 'category': 'NarrativeText', 'element_id': '80d06543c0c2b75ca147f3509e518a47'}\n",
      "\n"
     ]
    }
   ],
   "source": [
    "loader = UnstructuredMarkdownLoader(markdown_path, mode=\"elements\")\n",
    "\n",
    "data = loader.load()\n",
    "print(f\"Number of documents: {len(data)}\\n\")\n",
    "\n",
    "for document in data[:2]:\n",
    "    print(f\"{document}\\n\")"
   ]
  },
  {
   "cell_type": "markdown",
   "id": "117dc6b0-9baa-44a2-9d1d-fc38ecf7a233",
   "metadata": {},
   "source": [
    "Note that in this case we recover three distinct element types:"
   ]
  },
  {
   "cell_type": "code",
   "execution_count": 4,
   "id": "75abc139-3ded-4e8e-9f21-d0c8ec40fdfc",
   "metadata": {
    "execution": {
     "iopub.execute_input": "2024-09-11T18:13:23.034090Z",
     "iopub.status.busy": "2024-09-11T18:13:23.033954Z",
     "iopub.status.idle": "2024-09-11T18:13:23.035712Z",
     "shell.execute_reply": "2024-09-11T18:13:23.035470Z"
    }
   },
   "outputs": [
    {
     "name": "stdout",
     "output_type": "stream",
     "text": [
      "{'ListItem', 'NarrativeText', 'Title'}\n"
     ]
    }
   ],
   "source": [
    "print(set(document.metadata[\"category\"] for document in data))"
   ]
  },
  {
   "cell_type": "code",
   "execution_count": null,
   "id": "223b4c11",
   "metadata": {},
   "outputs": [],
   "source": []
  }
 ],
 "metadata": {
  "kernelspec": {
   "display_name": "Python 3 (ipykernel)",
   "language": "python",
   "name": "python3"
  },
  "language_info": {
   "codemirror_mode": {
    "name": "ipython",
    "version": 3
   },
   "file_extension": ".py",
   "mimetype": "text/x-python",
   "name": "python",
   "nbconvert_exporter": "python",
   "pygments_lexer": "ipython3",
   "version": "3.11.9"
  }
 },
 "nbformat": 4,
 "nbformat_minor": 5
}
