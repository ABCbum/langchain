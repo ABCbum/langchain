{
 "cells": [
  {
   "cell_type": "raw",
   "id": "e9437c8a-d8b7-4bf6-8ff4-54068a5a266c",
   "metadata": {},
   "source": [
    "---\n",
    "sidebar_position: 1.5\n",
    "---"
   ]
  },
  {
   "cell_type": "markdown",
   "id": "d0df7646-b1e1-4014-a841-6dae9b3c50d9",
   "metadata": {},
   "source": [
    "# How to stream chat model responses\n",
    "\n",
    "\n",
    "All [chat models](https://python.langchain.com/v0.2/api_reference/core/language_models/langchain_core.language_models.chat_models.BaseChatModel.html) implement the [Runnable interface](https://python.langchain.com/v0.2/api_reference/core/runnables/langchain_core.runnables.base.Runnable.html#langchain_core.runnables.base.Runnable), which comes with a **default** implementations of standard runnable methods (i.e. `ainvoke`, `batch`, `abatch`, `stream`, `astream`, `astream_events`).\n",
    "\n",
    "The **default** streaming implementation provides an`Iterator` (or `AsyncIterator` for asynchronous streaming) that yields a single value: the final output from the underlying chat model provider.\n",
    "\n",
    ":::{.callout-tip}\n",
    "\n",
    "The **default** implementation does **not** provide support for token-by-token streaming, but it ensures that the the model can be swapped in for any other model as it supports the same standard interface.\n",
    "\n",
    ":::\n",
    "\n",
    "The ability to stream the output token-by-token depends on whether the provider has implemented proper streaming support.\n",
    "\n",
    "See which [integrations support token-by-token streaming here](/docs/integrations/chat/)."
   ]
  },
  {
   "cell_type": "markdown",
   "id": "7a76660e-7691-48b7-a2b4-2ccdff7875c3",
   "metadata": {},
   "source": [
    "## Sync streaming\n",
    "\n",
    "Below we use a `|` to help visualize the delimiter between tokens."
   ]
  },
  {
   "cell_type": "code",
   "execution_count": 1,
   "id": "975c4f32-21f6-4a71-9091-f87b56347c33",
   "metadata": {
    "execution": {
     "iopub.execute_input": "2024-09-11T18:09:16.498764Z",
     "iopub.status.busy": "2024-09-11T18:09:16.498503Z",
     "iopub.status.idle": "2024-09-11T18:09:17.939695Z",
     "shell.execute_reply": "2024-09-11T18:09:17.938898Z"
    },
    "tags": []
   },
   "outputs": [
    {
     "name": "stdout",
     "output_type": "stream",
     "text": [
      "|"
     ]
    },
    {
     "name": "stdout",
     "output_type": "stream",
     "text": [
      "Here's|"
     ]
    },
    {
     "name": "stdout",
     "output_type": "stream",
     "text": [
      " a one|"
     ]
    },
    {
     "name": "stdout",
     "output_type": "stream",
     "text": [
      "-|"
     ]
    },
    {
     "name": "stdout",
     "output_type": "stream",
     "text": [
      "verse song about gol|"
     ]
    },
    {
     "name": "stdout",
     "output_type": "stream",
     "text": [
      "dfish on the moon|"
     ]
    },
    {
     "name": "stdout",
     "output_type": "stream",
     "text": [
      ":\n",
      "\n",
      "Gol|"
     ]
    },
    {
     "name": "stdout",
     "output_type": "stream",
     "text": [
      "dfish swimming in the|"
     ]
    },
    {
     "name": "stdout",
     "output_type": "stream",
     "text": [
      " lunar|"
     ]
    },
    {
     "name": "stdout",
     "output_type": "stream",
     "text": [
      " sea,|"
     ]
    },
    {
     "name": "stdout",
     "output_type": "stream",
     "text": [
      "\n",
      "Gliding|"
     ]
    },
    {
     "name": "stdout",
     "output_type": "stream",
     "text": [
      " grac|"
     ]
    },
    {
     "name": "stdout",
     "output_type": "stream",
     "text": [
      "efully,|"
     ]
    },
    {
     "name": "stdout",
     "output_type": "stream",
     "text": [
      " oh|"
     ]
    },
    {
     "name": "stdout",
     "output_type": "stream",
     "text": [
      " so free.|"
     ]
    },
    {
     "name": "stdout",
     "output_type": "stream",
     "text": [
      "\n",
      "Fins|"
     ]
    },
    {
     "name": "stdout",
     "output_type": "stream",
     "text": [
      " glimm|"
     ]
    },
    {
     "name": "stdout",
     "output_type": "stream",
     "text": [
      "ering in the moon|"
     ]
    },
    {
     "name": "stdout",
     "output_type": "stream",
     "text": [
      "lit g|"
     ]
    },
    {
     "name": "stdout",
     "output_type": "stream",
     "text": [
      "low,|"
     ]
    },
    {
     "name": "stdout",
     "output_type": "stream",
     "text": [
      "\n",
      "Exploring|"
     ]
    },
    {
     "name": "stdout",
     "output_type": "stream",
     "text": [
      " cr|"
     ]
    },
    {
     "name": "stdout",
     "output_type": "stream",
     "text": [
      "aters, a sight|"
     ]
    },
    {
     "name": "stdout",
     "output_type": "stream",
     "text": [
      " to behold.|"
     ]
    },
    {
     "name": "stdout",
     "output_type": "stream",
     "text": [
      "|"
     ]
    }
   ],
   "source": [
    "from langchain_anthropic.chat_models import ChatAnthropic\n",
    "\n",
    "chat = ChatAnthropic(model=\"claude-3-haiku-20240307\")\n",
    "for chunk in chat.stream(\"Write me a 1 verse song about goldfish on the moon\"):\n",
    "    print(chunk.content, end=\"|\", flush=True)"
   ]
  },
  {
   "cell_type": "markdown",
   "id": "5482d3a7-ee4f-40ba-b871-4d3f52603cd5",
   "metadata": {
    "tags": []
   },
   "source": [
    "## Async Streaming"
   ]
  },
  {
   "cell_type": "code",
   "execution_count": 2,
   "id": "422f480c-df79-42e8-9bee-d0ebed31c557",
   "metadata": {
    "execution": {
     "iopub.execute_input": "2024-09-11T18:09:17.943948Z",
     "iopub.status.busy": "2024-09-11T18:09:17.943678Z",
     "iopub.status.idle": "2024-09-11T18:09:19.504260Z",
     "shell.execute_reply": "2024-09-11T18:09:19.503542Z"
    },
    "tags": []
   },
   "outputs": [
    {
     "name": "stdout",
     "output_type": "stream",
     "text": [
      "|"
     ]
    },
    {
     "name": "stdout",
     "output_type": "stream",
     "text": [
      "Here is a |"
     ]
    },
    {
     "name": "stdout",
     "output_type": "stream",
     "text": [
      "1 verse song|"
     ]
    },
    {
     "name": "stdout",
     "output_type": "stream",
     "text": [
      " about goldfish on|"
     ]
    },
    {
     "name": "stdout",
     "output_type": "stream",
     "text": [
      " the moon:|"
     ]
    },
    {
     "name": "stdout",
     "output_type": "stream",
     "text": [
      "\n",
      "\n",
      "Floating|"
     ]
    },
    {
     "name": "stdout",
     "output_type": "stream",
     "text": [
      " high|"
     ]
    },
    {
     "name": "stdout",
     "output_type": "stream",
     "text": [
      " above|"
     ]
    },
    {
     "name": "stdout",
     "output_type": "stream",
     "text": [
      " the Earth, |"
     ]
    },
    {
     "name": "stdout",
     "output_type": "stream",
     "text": [
      "\n",
      "Goldfish|"
     ]
    },
    {
     "name": "stdout",
     "output_type": "stream",
     "text": [
      " swim in lunar|"
     ]
    },
    {
     "name": "stdout",
     "output_type": "stream",
     "text": [
      " m|"
     ]
    },
    {
     "name": "stdout",
     "output_type": "stream",
     "text": [
      "irth|"
     ]
    },
    {
     "name": "stdout",
     "output_type": "stream",
     "text": [
      ".\n",
      "Gl|"
     ]
    },
    {
     "name": "stdout",
     "output_type": "stream",
     "text": [
      "owing scales|"
     ]
    },
    {
     "name": "stdout",
     "output_type": "stream",
     "text": [
      " and bul|"
     ]
    },
    {
     "name": "stdout",
     "output_type": "stream",
     "text": [
      "ging|"
     ]
    },
    {
     "name": "stdout",
     "output_type": "stream",
     "text": [
      " eyes,|"
     ]
    },
    {
     "name": "stdout",
     "output_type": "stream",
     "text": [
      " \n",
      "Weight|"
     ]
    },
    {
     "name": "stdout",
     "output_type": "stream",
     "text": [
      "less in the dark|"
     ]
    },
    {
     "name": "stdout",
     "output_type": "stream",
     "text": [
      " skies.|"
     ]
    },
    {
     "name": "stdout",
     "output_type": "stream",
     "text": [
      "\n",
      "Fins|"
     ]
    },
    {
     "name": "stdout",
     "output_type": "stream",
     "text": [
      " a|"
     ]
    },
    {
     "name": "stdout",
     "output_type": "stream",
     "text": [
      "-flutter|"
     ]
    },
    {
     "name": "stdout",
     "output_type": "stream",
     "text": [
      ", |"
     ]
    },
    {
     "name": "stdout",
     "output_type": "stream",
     "text": [
      "'|"
     ]
    },
    {
     "name": "stdout",
     "output_type": "stream",
     "text": [
      "roun|"
     ]
    },
    {
     "name": "stdout",
     "output_type": "stream",
     "text": [
      "d and |"
     ]
    },
    {
     "name": "stdout",
     "output_type": "stream",
     "text": [
      "'round,|"
     ]
    },
    {
     "name": "stdout",
     "output_type": "stream",
     "text": [
      "\n",
      "Endless|"
     ]
    },
    {
     "name": "stdout",
     "output_type": "stream",
     "text": [
      " voi|"
     ]
    },
    {
     "name": "stdout",
     "output_type": "stream",
     "text": [
      "d,|"
     ]
    },
    {
     "name": "stdout",
     "output_type": "stream",
     "text": [
      " no|"
     ]
    },
    {
     "name": "stdout",
     "output_type": "stream",
     "text": [
      " soli|"
     ]
    },
    {
     "name": "stdout",
     "output_type": "stream",
     "text": [
      "d ground.|"
     ]
    },
    {
     "name": "stdout",
     "output_type": "stream",
     "text": [
      "\n",
      "Goldfish on the|"
     ]
    },
    {
     "name": "stdout",
     "output_type": "stream",
     "text": [
      " moon, so|"
     ]
    },
    {
     "name": "stdout",
     "output_type": "stream",
     "text": [
      " free,|"
     ]
    },
    {
     "name": "stdout",
     "output_type": "stream",
     "text": [
      " \n",
      "Swimming|"
     ]
    },
    {
     "name": "stdout",
     "output_type": "stream",
     "text": [
      " through et|"
     ]
    },
    {
     "name": "stdout",
     "output_type": "stream",
     "text": [
      "ernity.|"
     ]
    },
    {
     "name": "stdout",
     "output_type": "stream",
     "text": [
      "|"
     ]
    }
   ],
   "source": [
    "from langchain_anthropic.chat_models import ChatAnthropic\n",
    "\n",
    "chat = ChatAnthropic(model=\"claude-3-haiku-20240307\")\n",
    "async for chunk in chat.astream(\"Write me a 1 verse song about goldfish on the moon\"):\n",
    "    print(chunk.content, end=\"|\", flush=True)"
   ]
  },
  {
   "cell_type": "markdown",
   "id": "c61e1309-3b6e-42fb-820a-2e4e3e6bc074",
   "metadata": {},
   "source": [
    "## Astream events\n",
    "\n",
    "Chat models also support the standard [astream events](https://python.langchain.com/v0.2/api_reference/core/runnables/langchain_core.runnables.base.Runnable.html#langchain_core.runnables.base.Runnable.astream_events) method.\n",
    "\n",
    "This method is useful if you're streaming output from a larger LLM application that contains multiple steps (e.g., an LLM chain composed of a prompt, llm and parser)."
   ]
  },
  {
   "cell_type": "code",
   "execution_count": 3,
   "id": "27bd1dfd-8ae2-49d6-b526-97180c81b5f4",
   "metadata": {
    "execution": {
     "iopub.execute_input": "2024-09-11T18:09:19.509421Z",
     "iopub.status.busy": "2024-09-11T18:09:19.508985Z",
     "iopub.status.idle": "2024-09-11T18:09:20.114644Z",
     "shell.execute_reply": "2024-09-11T18:09:20.113767Z"
    },
    "tags": []
   },
   "outputs": [
    {
     "name": "stdout",
     "output_type": "stream",
     "text": [
      "{'event': 'on_chat_model_start', 'run_id': 'a1ad1e49-79f7-4c7b-85af-62b447076e8b', 'name': 'ChatAnthropic', 'tags': [], 'metadata': {}, 'data': {'input': 'Write me a 1 verse song about goldfish on the moon'}, 'parent_ids': []}\n"
     ]
    },
    {
     "name": "stdout",
     "output_type": "stream",
     "text": [
      "{'event': 'on_chat_model_stream', 'run_id': 'a1ad1e49-79f7-4c7b-85af-62b447076e8b', 'tags': [], 'metadata': {}, 'name': 'ChatAnthropic', 'data': {'chunk': AIMessageChunk(content='', additional_kwargs={}, response_metadata={}, id='run-a1ad1e49-79f7-4c7b-85af-62b447076e8b', usage_metadata={'input_tokens': 21, 'output_tokens': 0, 'total_tokens': 21})}, 'parent_ids': []}\n",
      "{'event': 'on_chat_model_stream', 'run_id': 'a1ad1e49-79f7-4c7b-85af-62b447076e8b', 'tags': [], 'metadata': {}, 'name': 'ChatAnthropic', 'data': {'chunk': AIMessageChunk(content='Here is a ', additional_kwargs={}, response_metadata={}, id='run-a1ad1e49-79f7-4c7b-85af-62b447076e8b')}, 'parent_ids': []}\n",
      "{'event': 'on_chat_model_stream', 'run_id': 'a1ad1e49-79f7-4c7b-85af-62b447076e8b', 'tags': [], 'metadata': {}, 'name': 'ChatAnthropic', 'data': {'chunk': AIMessageChunk(content='1 verse song', additional_kwargs={}, response_metadata={}, id='run-a1ad1e49-79f7-4c7b-85af-62b447076e8b')}, 'parent_ids': []}\n",
      "...Truncated\n"
     ]
    }
   ],
   "source": [
    "from langchain_anthropic.chat_models import ChatAnthropic\n",
    "\n",
    "chat = ChatAnthropic(model=\"claude-3-haiku-20240307\")\n",
    "idx = 0\n",
    "\n",
    "async for event in chat.astream_events(\n",
    "    \"Write me a 1 verse song about goldfish on the moon\", version=\"v1\"\n",
    "):\n",
    "    idx += 1\n",
    "    if idx >= 5:  # Truncate the output\n",
    "        print(\"...Truncated\")\n",
    "        break\n",
    "    print(event)"
   ]
  }
 ],
 "metadata": {
  "kernelspec": {
   "display_name": "Python 3 (ipykernel)",
   "language": "python",
   "name": "python3"
  },
  "language_info": {
   "codemirror_mode": {
    "name": "ipython",
    "version": 3
   },
   "file_extension": ".py",
   "mimetype": "text/x-python",
   "name": "python",
   "nbconvert_exporter": "python",
   "pygments_lexer": "ipython3",
   "version": "3.11.9"
  }
 },
 "nbformat": 4,
 "nbformat_minor": 5
}
