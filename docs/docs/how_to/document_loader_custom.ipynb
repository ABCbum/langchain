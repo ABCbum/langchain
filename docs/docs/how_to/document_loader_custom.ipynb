{
 "cells": [
  {
   "cell_type": "raw",
   "id": "c5990f4f-4430-4bbb-8d25-9703d7d8e95c",
   "metadata": {},
   "source": [
    "---\n",
    "title: Custom Document Loader\n",
    "sidebar_position: 10\n",
    "---"
   ]
  },
  {
   "cell_type": "markdown",
   "id": "4be0aa7c-aee3-4e11-b7f4-059611ab8626",
   "metadata": {},
   "source": [
    "# How to create a custom Document Loader\n",
    "\n",
    "## Overview\n",
    "\n",
    "\n",
    "Applications based on LLMs frequently entail extracting data from databases or files, like PDFs, and converting it into a format that LLMs can utilize. In LangChain, this usually involves creating Document objects, which encapsulate the extracted text (`page_content`) along with metadata—a dictionary containing details about the document, such as the author's name or the date of publication.\n",
    "\n",
    "`Document` objects are often formatted into prompts that are fed into an LLM, allowing the LLM to use the information in the `Document` to generate a desired response (e.g., summarizing the document).\n",
    "`Documents` can be either used immediately or indexed into a vectorstore for future retrieval and use.\n",
    "\n",
    "The main abstractions for Document Loading are:\n",
    "\n",
    "\n",
    "| Component      | Description                    |\n",
    "|----------------|--------------------------------|\n",
    "| Document       | Contains `text` and `metadata` |\n",
    "| BaseLoader     | Use to convert raw data into `Documents`  |\n",
    "| Blob           | A representation of binary data that's located either in a file or in memory |\n",
    "| BaseBlobParser | Logic to parse a `Blob` to yield `Document` objects |\n",
    "\n",
    "This guide will demonstrate how to write custom document loading and file parsing logic; specifically, we'll see how to:\n",
    "\n",
    "1. Create a standard document Loader by sub-classing from `BaseLoader`.\n",
    "2. Create a parser using  `BaseBlobParser` and use it in conjunction with `Blob` and `BlobLoaders`. This is useful primarily when working with files."
   ]
  },
  {
   "cell_type": "markdown",
   "id": "20dc4c18-accc-4009-805c-961f3e8dc50a",
   "metadata": {},
   "source": [
    "## Standard Document Loader\n",
    "\n",
    "A document loader can be implemented by sub-classing from a `BaseLoader` which provides a standard interface for loading documents.\n",
    "\n",
    "### Interface \n",
    "\n",
    "| Method Name | Explanation |\n",
    "|-------------|-------------|\n",
    "| lazy_load   | Used to load documents one by one **lazily**. Use for production code. |\n",
    "| alazy_load  | Async variant of `lazy_load` |\n",
    "| load        | Used to load all the documents into memory **eagerly**. Use for prototyping or interactive work. |\n",
    "| aload       | Used to load all the documents into memory **eagerly**. Use for prototyping or interactive work. **Added in 2024-04 to LangChain.** |\n",
    "\n",
    "* The `load` methods is a convenience method meant solely for prototyping work -- it just invokes `list(self.lazy_load())`.\n",
    "* The `alazy_load` has a default implementation that will delegate to `lazy_load`. If you're using async, we recommend overriding the default implementation and providing a native async implementation.\n",
    "\n",
    ":::{.callout-important}\n",
    "When implementing a document loader do **NOT** provide parameters via the `lazy_load` or `alazy_load` methods.\n",
    "\n",
    "All configuration is expected to be passed through the initializer (__init__). This was a design choice made by LangChain to make sure that once a document loader has been instantiated it has all the information needed to load documents.\n",
    ":::\n",
    "\n",
    "\n",
    "### Implementation\n",
    "\n",
    "Let's create an example of a standard document loader that loads a file and creates a document from each line in the file."
   ]
  },
  {
   "cell_type": "code",
   "execution_count": 1,
   "id": "20f128c1-1a2c-43b9-9e7b-cf9b3a86d1db",
   "metadata": {
    "execution": {
     "iopub.execute_input": "2024-09-11T18:12:33.740090Z",
     "iopub.status.busy": "2024-09-11T18:12:33.739635Z",
     "iopub.status.idle": "2024-09-11T18:12:34.040525Z",
     "shell.execute_reply": "2024-09-11T18:12:34.040241Z"
    },
    "tags": []
   },
   "outputs": [],
   "source": [
    "from typing import AsyncIterator, Iterator\n",
    "\n",
    "from langchain_core.document_loaders import BaseLoader\n",
    "from langchain_core.documents import Document\n",
    "\n",
    "\n",
    "class CustomDocumentLoader(BaseLoader):\n",
    "    \"\"\"An example document loader that reads a file line by line.\"\"\"\n",
    "\n",
    "    def __init__(self, file_path: str) -> None:\n",
    "        \"\"\"Initialize the loader with a file path.\n",
    "\n",
    "        Args:\n",
    "            file_path: The path to the file to load.\n",
    "        \"\"\"\n",
    "        self.file_path = file_path\n",
    "\n",
    "    def lazy_load(self) -> Iterator[Document]:  # <-- Does not take any arguments\n",
    "        \"\"\"A lazy loader that reads a file line by line.\n",
    "\n",
    "        When you're implementing lazy load methods, you should use a generator\n",
    "        to yield documents one by one.\n",
    "        \"\"\"\n",
    "        with open(self.file_path, encoding=\"utf-8\") as f:\n",
    "            line_number = 0\n",
    "            for line in f:\n",
    "                yield Document(\n",
    "                    page_content=line,\n",
    "                    metadata={\"line_number\": line_number, \"source\": self.file_path},\n",
    "                )\n",
    "                line_number += 1\n",
    "\n",
    "    # alazy_load is OPTIONAL.\n",
    "    # If you leave out the implementation, a default implementation which delegates to lazy_load will be used!\n",
    "    async def alazy_load(\n",
    "        self,\n",
    "    ) -> AsyncIterator[Document]:  # <-- Does not take any arguments\n",
    "        \"\"\"An async lazy loader that reads a file line by line.\"\"\"\n",
    "        # Requires aiofiles\n",
    "        # Install with `pip install aiofiles`\n",
    "        # https://github.com/Tinche/aiofiles\n",
    "        import aiofiles\n",
    "\n",
    "        async with aiofiles.open(self.file_path, encoding=\"utf-8\") as f:\n",
    "            line_number = 0\n",
    "            async for line in f:\n",
    "                yield Document(\n",
    "                    page_content=line,\n",
    "                    metadata={\"line_number\": line_number, \"source\": self.file_path},\n",
    "                )\n",
    "                line_number += 1"
   ]
  },
  {
   "cell_type": "markdown",
   "id": "eb845512-3d46-44fa-a4c6-ff723533abbe",
   "metadata": {
    "tags": []
   },
   "source": [
    "### Test 🧪\n",
    "\n",
    "\n",
    "To test out the document loader, we need a file with some quality content."
   ]
  },
  {
   "cell_type": "code",
   "execution_count": 2,
   "id": "b1751198-c6dd-4149-95bd-6370ce8fa06f",
   "metadata": {
    "execution": {
     "iopub.execute_input": "2024-09-11T18:12:34.042254Z",
     "iopub.status.busy": "2024-09-11T18:12:34.042121Z",
     "iopub.status.idle": "2024-09-11T18:12:34.045079Z",
     "shell.execute_reply": "2024-09-11T18:12:34.044885Z"
    },
    "tags": []
   },
   "outputs": [],
   "source": [
    "with open(\"./meow.txt\", \"w\", encoding=\"utf-8\") as f:\n",
    "    quality_content = \"meow meow🐱 \\n meow meow🐱 \\n meow😻😻\"\n",
    "    f.write(quality_content)\n",
    "\n",
    "loader = CustomDocumentLoader(\"./meow.txt\")"
   ]
  },
  {
   "cell_type": "code",
   "execution_count": 3,
   "id": "71ef1482-f9de-4852-b5a4-0938f350612e",
   "metadata": {
    "execution": {
     "iopub.execute_input": "2024-09-11T18:12:34.046279Z",
     "iopub.status.busy": "2024-09-11T18:12:34.046198Z",
     "iopub.status.idle": "2024-09-11T18:12:34.048025Z",
     "shell.execute_reply": "2024-09-11T18:12:34.047824Z"
    },
    "tags": []
   },
   "outputs": [
    {
     "name": "stdout",
     "output_type": "stream",
     "text": [
      "\n",
      "<class 'langchain_core.documents.base.Document'>\n",
      "page_content='meow meow🐱 \n",
      "' metadata={'line_number': 0, 'source': './meow.txt'}\n",
      "\n",
      "<class 'langchain_core.documents.base.Document'>\n",
      "page_content=' meow meow🐱 \n",
      "' metadata={'line_number': 1, 'source': './meow.txt'}\n",
      "\n",
      "<class 'langchain_core.documents.base.Document'>\n",
      "page_content=' meow😻😻' metadata={'line_number': 2, 'source': './meow.txt'}\n"
     ]
    }
   ],
   "source": [
    "## Test out the lazy load interface\n",
    "for doc in loader.lazy_load():\n",
    "    print()\n",
    "    print(type(doc))\n",
    "    print(doc)"
   ]
  },
  {
   "cell_type": "code",
   "execution_count": 4,
   "id": "1588e78c-e81a-4d40-b36c-634242c84a6a",
   "metadata": {
    "execution": {
     "iopub.execute_input": "2024-09-11T18:12:34.049210Z",
     "iopub.status.busy": "2024-09-11T18:12:34.049131Z",
     "iopub.status.idle": "2024-09-11T18:12:34.161009Z",
     "shell.execute_reply": "2024-09-11T18:12:34.160751Z"
    },
    "tags": []
   },
   "outputs": [
    {
     "ename": "ModuleNotFoundError",
     "evalue": "No module named 'aiofiles'",
     "output_type": "error",
     "traceback": [
      "\u001b[0;31m---------------------------------------------------------------------------\u001b[0m",
      "\u001b[0;31mModuleNotFoundError\u001b[0m                       Traceback (most recent call last)",
      "Cell \u001b[0;32mIn[4], line 2\u001b[0m\n\u001b[1;32m      1\u001b[0m \u001b[38;5;66;03m## Test out the async implementation\u001b[39;00m\n\u001b[0;32m----> 2\u001b[0m \u001b[38;5;28;01masync\u001b[39;00m \u001b[38;5;28;01mfor\u001b[39;00m doc \u001b[38;5;129;01min\u001b[39;00m loader\u001b[38;5;241m.\u001b[39malazy_load():\n\u001b[1;32m      3\u001b[0m     \u001b[38;5;28mprint\u001b[39m()\n\u001b[1;32m      4\u001b[0m     \u001b[38;5;28mprint\u001b[39m(\u001b[38;5;28mtype\u001b[39m(doc))\n",
      "Cell \u001b[0;32mIn[1], line 42\u001b[0m, in \u001b[0;36mCustomDocumentLoader.alazy_load\u001b[0;34m(self)\u001b[0m\n\u001b[1;32m     38\u001b[0m \u001b[38;5;250m\u001b[39m\u001b[38;5;124;03m\"\"\"An async lazy loader that reads a file line by line.\"\"\"\u001b[39;00m\n\u001b[1;32m     39\u001b[0m \u001b[38;5;66;03m# Requires aiofiles\u001b[39;00m\n\u001b[1;32m     40\u001b[0m \u001b[38;5;66;03m# Install with `pip install aiofiles`\u001b[39;00m\n\u001b[1;32m     41\u001b[0m \u001b[38;5;66;03m# https://github.com/Tinche/aiofiles\u001b[39;00m\n\u001b[0;32m---> 42\u001b[0m \u001b[38;5;28;01mimport\u001b[39;00m \u001b[38;5;21;01maiofiles\u001b[39;00m\n\u001b[1;32m     44\u001b[0m \u001b[38;5;28;01masync\u001b[39;00m \u001b[38;5;28;01mwith\u001b[39;00m aiofiles\u001b[38;5;241m.\u001b[39mopen(\u001b[38;5;28mself\u001b[39m\u001b[38;5;241m.\u001b[39mfile_path, encoding\u001b[38;5;241m=\u001b[39m\u001b[38;5;124m\"\u001b[39m\u001b[38;5;124mutf-8\u001b[39m\u001b[38;5;124m\"\u001b[39m) \u001b[38;5;28;01mas\u001b[39;00m f:\n\u001b[1;32m     45\u001b[0m     line_number \u001b[38;5;241m=\u001b[39m \u001b[38;5;241m0\u001b[39m\n",
      "\u001b[0;31mModuleNotFoundError\u001b[0m: No module named 'aiofiles'"
     ]
    }
   ],
   "source": [
    "## Test out the async implementation\n",
    "async for doc in loader.alazy_load():\n",
    "    print()\n",
    "    print(type(doc))\n",
    "    print(doc)"
   ]
  },
  {
   "cell_type": "markdown",
   "id": "56cb443e-f987-4386-b4ec-975ee129adb2",
   "metadata": {},
   "source": [
    ":::{.callout-tip}\n",
    "\n",
    "`load()` can be helpful in an interactive environment such as a jupyter notebook.\n",
    "\n",
    "Avoid using it for production code since eager loading assumes that all the content\n",
    "can fit into memory, which is not always the case, especially for enterprise data.\n",
    ":::"
   ]
  },
  {
   "cell_type": "code",
   "execution_count": 5,
   "id": "df5ad46a-9e00-4073-8505-489fc4f3799e",
   "metadata": {
    "execution": {
     "iopub.execute_input": "2024-09-11T18:12:34.162391Z",
     "iopub.status.busy": "2024-09-11T18:12:34.162319Z",
     "iopub.status.idle": "2024-09-11T18:12:34.165524Z",
     "shell.execute_reply": "2024-09-11T18:12:34.165214Z"
    },
    "tags": []
   },
   "outputs": [
    {
     "data": {
      "text/plain": [
       "[Document(metadata={'line_number': 0, 'source': './meow.txt'}, page_content='meow meow🐱 \\n'),\n",
       " Document(metadata={'line_number': 1, 'source': './meow.txt'}, page_content=' meow meow🐱 \\n'),\n",
       " Document(metadata={'line_number': 2, 'source': './meow.txt'}, page_content=' meow😻😻')]"
      ]
     },
     "execution_count": 5,
     "metadata": {},
     "output_type": "execute_result"
    }
   ],
   "source": [
    "loader.load()"
   ]
  },
  {
   "cell_type": "markdown",
   "id": "639fe87c-b65f-4bef-8fe2-d10be85589f4",
   "metadata": {},
   "source": [
    "## Working with Files\n",
    "\n",
    "Many document loaders involve parsing files. The difference between such loaders usually stems from how the file is parsed, rather than how the file is loaded. For example, you can use `open` to read the binary content of either a PDF or a markdown file, but you need different parsing logic to convert that binary data into text.\n",
    "\n",
    "As a result, it can be helpful to decouple the parsing logic from the loading logic, which makes it easier to re-use a given parser regardless of how the data was loaded.\n",
    "\n",
    "### BaseBlobParser\n",
    "\n",
    "A `BaseBlobParser` is an interface that accepts a `blob` and outputs a list of `Document` objects. A `blob` is a representation of data that lives either in memory or in a file. LangChain python has a `Blob` primitive which is inspired by the [Blob WebAPI spec](https://developer.mozilla.org/en-US/docs/Web/API/Blob)."
   ]
  },
  {
   "cell_type": "code",
   "execution_count": 6,
   "id": "209f6a91-2f15-4cb2-9237-f79fc9493b82",
   "metadata": {
    "execution": {
     "iopub.execute_input": "2024-09-11T18:12:34.166933Z",
     "iopub.status.busy": "2024-09-11T18:12:34.166842Z",
     "iopub.status.idle": "2024-09-11T18:12:34.169060Z",
     "shell.execute_reply": "2024-09-11T18:12:34.168850Z"
    },
    "tags": []
   },
   "outputs": [],
   "source": [
    "from langchain_core.document_loaders import BaseBlobParser, Blob\n",
    "\n",
    "\n",
    "class MyParser(BaseBlobParser):\n",
    "    \"\"\"A simple parser that creates a document from each line.\"\"\"\n",
    "\n",
    "    def lazy_parse(self, blob: Blob) -> Iterator[Document]:\n",
    "        \"\"\"Parse a blob into a document line by line.\"\"\"\n",
    "        line_number = 0\n",
    "        with blob.as_bytes_io() as f:\n",
    "            for line in f:\n",
    "                line_number += 1\n",
    "                yield Document(\n",
    "                    page_content=line,\n",
    "                    metadata={\"line_number\": line_number, \"source\": blob.source},\n",
    "                )"
   ]
  },
  {
   "cell_type": "code",
   "execution_count": 7,
   "id": "b1275c59-06d4-458f-abd2-fcbad0bde442",
   "metadata": {
    "execution": {
     "iopub.execute_input": "2024-09-11T18:12:34.170254Z",
     "iopub.status.busy": "2024-09-11T18:12:34.170173Z",
     "iopub.status.idle": "2024-09-11T18:12:34.172911Z",
     "shell.execute_reply": "2024-09-11T18:12:34.172670Z"
    },
    "tags": []
   },
   "outputs": [],
   "source": [
    "blob = Blob.from_path(\"./meow.txt\")\n",
    "parser = MyParser()"
   ]
  },
  {
   "cell_type": "code",
   "execution_count": 8,
   "id": "56a3d707-2086-413b-ae82-50e92ddb27f6",
   "metadata": {
    "execution": {
     "iopub.execute_input": "2024-09-11T18:12:34.174131Z",
     "iopub.status.busy": "2024-09-11T18:12:34.174045Z",
     "iopub.status.idle": "2024-09-11T18:12:34.176339Z",
     "shell.execute_reply": "2024-09-11T18:12:34.176063Z"
    },
    "tags": []
   },
   "outputs": [
    {
     "data": {
      "text/plain": [
       "[Document(metadata={'line_number': 1, 'source': './meow.txt'}, page_content='meow meow🐱 \\n'),\n",
       " Document(metadata={'line_number': 2, 'source': './meow.txt'}, page_content=' meow meow🐱 \\n'),\n",
       " Document(metadata={'line_number': 3, 'source': './meow.txt'}, page_content=' meow😻😻')]"
      ]
     },
     "execution_count": 8,
     "metadata": {},
     "output_type": "execute_result"
    }
   ],
   "source": [
    "list(parser.lazy_parse(blob))"
   ]
  },
  {
   "cell_type": "markdown",
   "id": "433bfb7c-7767-43bc-b71e-42413d7494a8",
   "metadata": {},
   "source": [
    "Using the **blob** API also allows one to load content directly from memory without having to read it from a file!"
   ]
  },
  {
   "cell_type": "code",
   "execution_count": 9,
   "id": "20d03092-ba35-47d7-b612-9d1631c261cd",
   "metadata": {
    "execution": {
     "iopub.execute_input": "2024-09-11T18:12:34.177555Z",
     "iopub.status.busy": "2024-09-11T18:12:34.177483Z",
     "iopub.status.idle": "2024-09-11T18:12:34.179407Z",
     "shell.execute_reply": "2024-09-11T18:12:34.179214Z"
    },
    "tags": []
   },
   "outputs": [
    {
     "data": {
      "text/plain": [
       "[Document(metadata={'line_number': 1, 'source': None}, page_content='some data from memory\\n'),\n",
       " Document(metadata={'line_number': 2, 'source': None}, page_content='meow')]"
      ]
     },
     "execution_count": 9,
     "metadata": {},
     "output_type": "execute_result"
    }
   ],
   "source": [
    "blob = Blob(data=b\"some data from memory\\nmeow\")\n",
    "list(parser.lazy_parse(blob))"
   ]
  },
  {
   "cell_type": "markdown",
   "id": "d401c5e9-32cc-41e2-973f-c70d1cd3ba76",
   "metadata": {},
   "source": [
    "### Blob\n",
    "\n",
    "Let's take a quick look through some of the Blob API."
   ]
  },
  {
   "cell_type": "code",
   "execution_count": 10,
   "id": "a9e92e0e-c8da-401c-b8c6-f0676004cf58",
   "metadata": {
    "execution": {
     "iopub.execute_input": "2024-09-11T18:12:34.180590Z",
     "iopub.status.busy": "2024-09-11T18:12:34.180527Z",
     "iopub.status.idle": "2024-09-11T18:12:34.182103Z",
     "shell.execute_reply": "2024-09-11T18:12:34.181923Z"
    },
    "tags": []
   },
   "outputs": [],
   "source": [
    "blob = Blob.from_path(\"./meow.txt\", metadata={\"foo\": \"bar\"})"
   ]
  },
  {
   "cell_type": "code",
   "execution_count": 11,
   "id": "6b559d30-8b0c-4e45-86b1-e4602d9aaa7e",
   "metadata": {
    "execution": {
     "iopub.execute_input": "2024-09-11T18:12:34.183120Z",
     "iopub.status.busy": "2024-09-11T18:12:34.183054Z",
     "iopub.status.idle": "2024-09-11T18:12:34.184814Z",
     "shell.execute_reply": "2024-09-11T18:12:34.184625Z"
    },
    "tags": []
   },
   "outputs": [
    {
     "data": {
      "text/plain": [
       "'utf-8'"
      ]
     },
     "execution_count": 11,
     "metadata": {},
     "output_type": "execute_result"
    }
   ],
   "source": [
    "blob.encoding"
   ]
  },
  {
   "cell_type": "code",
   "execution_count": 12,
   "id": "2f7b145a-9c6f-47f9-9487-1f4b25aff46f",
   "metadata": {
    "execution": {
     "iopub.execute_input": "2024-09-11T18:12:34.185887Z",
     "iopub.status.busy": "2024-09-11T18:12:34.185818Z",
     "iopub.status.idle": "2024-09-11T18:12:34.187834Z",
     "shell.execute_reply": "2024-09-11T18:12:34.187595Z"
    },
    "tags": []
   },
   "outputs": [
    {
     "data": {
      "text/plain": [
       "b'meow meow\\xf0\\x9f\\x90\\xb1 \\n meow meow\\xf0\\x9f\\x90\\xb1 \\n meow\\xf0\\x9f\\x98\\xbb\\xf0\\x9f\\x98\\xbb'"
      ]
     },
     "execution_count": 12,
     "metadata": {},
     "output_type": "execute_result"
    }
   ],
   "source": [
    "blob.as_bytes()"
   ]
  },
  {
   "cell_type": "code",
   "execution_count": 13,
   "id": "9b9482fa-c49c-42cd-a2ef-80bc93214631",
   "metadata": {
    "execution": {
     "iopub.execute_input": "2024-09-11T18:12:34.188967Z",
     "iopub.status.busy": "2024-09-11T18:12:34.188890Z",
     "iopub.status.idle": "2024-09-11T18:12:34.190780Z",
     "shell.execute_reply": "2024-09-11T18:12:34.190599Z"
    },
    "tags": []
   },
   "outputs": [
    {
     "data": {
      "text/plain": [
       "'meow meow🐱 \\n meow meow🐱 \\n meow😻😻'"
      ]
     },
     "execution_count": 13,
     "metadata": {},
     "output_type": "execute_result"
    }
   ],
   "source": [
    "blob.as_string()"
   ]
  },
  {
   "cell_type": "code",
   "execution_count": 14,
   "id": "04cc7a81-290e-4ef8-b7e1-d885fcc59ece",
   "metadata": {
    "execution": {
     "iopub.execute_input": "2024-09-11T18:12:34.191880Z",
     "iopub.status.busy": "2024-09-11T18:12:34.191817Z",
     "iopub.status.idle": "2024-09-11T18:12:34.193682Z",
     "shell.execute_reply": "2024-09-11T18:12:34.193528Z"
    },
    "tags": []
   },
   "outputs": [
    {
     "data": {
      "text/plain": [
       "<contextlib._GeneratorContextManager at 0x1109a0cd0>"
      ]
     },
     "execution_count": 14,
     "metadata": {},
     "output_type": "execute_result"
    }
   ],
   "source": [
    "blob.as_bytes_io()"
   ]
  },
  {
   "cell_type": "code",
   "execution_count": 15,
   "id": "ec8de0ab-51d7-4e41-82c9-3ce0a6fdc2cd",
   "metadata": {
    "execution": {
     "iopub.execute_input": "2024-09-11T18:12:34.194757Z",
     "iopub.status.busy": "2024-09-11T18:12:34.194685Z",
     "iopub.status.idle": "2024-09-11T18:12:34.196449Z",
     "shell.execute_reply": "2024-09-11T18:12:34.196250Z"
    },
    "tags": []
   },
   "outputs": [
    {
     "data": {
      "text/plain": [
       "{'foo': 'bar'}"
      ]
     },
     "execution_count": 15,
     "metadata": {},
     "output_type": "execute_result"
    }
   ],
   "source": [
    "blob.metadata"
   ]
  },
  {
   "cell_type": "code",
   "execution_count": 16,
   "id": "19eae991-ae48-43c2-8952-7347cdb76a34",
   "metadata": {
    "execution": {
     "iopub.execute_input": "2024-09-11T18:12:34.197537Z",
     "iopub.status.busy": "2024-09-11T18:12:34.197475Z",
     "iopub.status.idle": "2024-09-11T18:12:34.199375Z",
     "shell.execute_reply": "2024-09-11T18:12:34.199181Z"
    },
    "tags": []
   },
   "outputs": [
    {
     "data": {
      "text/plain": [
       "'./meow.txt'"
      ]
     },
     "execution_count": 16,
     "metadata": {},
     "output_type": "execute_result"
    }
   ],
   "source": [
    "blob.source"
   ]
  },
  {
   "cell_type": "markdown",
   "id": "3ea67645-a367-48ce-b164-0d9f00c17370",
   "metadata": {},
   "source": [
    "### Blob Loaders\n",
    "\n",
    "While a parser encapsulates the logic needed to parse binary data into documents, *blob loaders* encapsulate the logic that's necessary to load blobs from a given storage location.\n",
    "\n",
    "A the moment, `LangChain` only supports `FileSystemBlobLoader`.\n",
    "\n",
    "You can use the `FileSystemBlobLoader` to load blobs and then use the parser to parse them."
   ]
  },
  {
   "cell_type": "code",
   "execution_count": 17,
   "id": "c093becb-2e84-4329-89e3-956a3bd765e5",
   "metadata": {
    "execution": {
     "iopub.execute_input": "2024-09-11T18:12:34.200461Z",
     "iopub.status.busy": "2024-09-11T18:12:34.200398Z",
     "iopub.status.idle": "2024-09-11T18:12:34.206790Z",
     "shell.execute_reply": "2024-09-11T18:12:34.206567Z"
    },
    "tags": []
   },
   "outputs": [],
   "source": [
    "from langchain_community.document_loaders.blob_loaders import FileSystemBlobLoader\n",
    "\n",
    "blob_loader = FileSystemBlobLoader(path=\".\", glob=\"*.mdx\", show_progress=True)"
   ]
  },
  {
   "cell_type": "code",
   "execution_count": 18,
   "id": "77739dab-2a1e-4b64-8daa-fee8aa029972",
   "metadata": {
    "execution": {
     "iopub.execute_input": "2024-09-11T18:12:34.207976Z",
     "iopub.status.busy": "2024-09-11T18:12:34.207902Z",
     "iopub.status.idle": "2024-09-11T18:12:34.297686Z",
     "shell.execute_reply": "2024-09-11T18:12:34.297340Z"
    },
    "tags": []
   },
   "outputs": [
    {
     "data": {
      "application/vnd.jupyter.widget-view+json": {
       "model_id": "8c59dd3b127241cb96c6377e0b59009f",
       "version_major": 2,
       "version_minor": 0
      },
      "text/plain": [
       "  0%|          | 0/7 [00:00<?, ?it/s]"
      ]
     },
     "metadata": {},
     "output_type": "display_data"
    },
    {
     "name": "stdout",
     "output_type": "stream",
     "text": [
      "page_content='# How to load Microsoft Office files\n",
      "' metadata={'line_number': 1, 'source': 'document_loader_office_file.mdx'}\n",
      "page_content='# Text embedding models\n",
      "' metadata={'line_number': 1, 'source': 'embed_text.mdx'}\n",
      "page_content='---\n",
      "' metadata={'line_number': 1, 'source': 'index.mdx'}\n",
      "page_content='---\n",
      "' metadata={'line_number': 1, 'source': 'toolkits.mdx'}\n",
      "page_content='# How to create and query vector stores\n",
      "' metadata={'line_number': 1, 'source': 'vectorstores.mdx'}\n",
      "page_content='---\n",
      "' metadata={'line_number': 1, 'source': 'installation.mdx'}\n",
      "page_content='# How to load JSON\n",
      "' metadata={'line_number': 1, 'source': 'document_loader_json.mdx'}\n"
     ]
    }
   ],
   "source": [
    "parser = MyParser()\n",
    "for blob in blob_loader.yield_blobs():\n",
    "    for doc in parser.lazy_parse(blob):\n",
    "        print(doc)\n",
    "        break"
   ]
  },
  {
   "cell_type": "markdown",
   "id": "f016390c-d38b-4261-946d-34eefe546df7",
   "metadata": {},
   "source": [
    "### Generic Loader\n",
    "\n",
    "LangChain has a `GenericLoader` abstraction which composes a `BlobLoader` with a `BaseBlobParser`.\n",
    "\n",
    "`GenericLoader` is meant to provide standardized classmethods that make it easy to use existing `BlobLoader` implementations. At the moment, only the `FileSystemBlobLoader` is supported."
   ]
  },
  {
   "cell_type": "code",
   "execution_count": 19,
   "id": "1de74daf-70ee-4616-9089-d28e26b16851",
   "metadata": {
    "execution": {
     "iopub.execute_input": "2024-09-11T18:12:34.299517Z",
     "iopub.status.busy": "2024-09-11T18:12:34.299424Z",
     "iopub.status.idle": "2024-09-11T18:12:34.464870Z",
     "shell.execute_reply": "2024-09-11T18:12:34.464341Z"
    },
    "tags": []
   },
   "outputs": [
    {
     "data": {
      "application/vnd.jupyter.widget-view+json": {
       "model_id": "7d8ccdf4bfab42fab68d63eec57bb9d6",
       "version_major": 2,
       "version_minor": 0
      },
      "text/plain": [
       "  0%|          | 0/7 [00:00<?, ?it/s]"
      ]
     },
     "metadata": {},
     "output_type": "display_data"
    },
    {
     "name": "stdout",
     "output_type": "stream",
     "text": [
      "page_content='# How to load Microsoft Office files\n",
      "' metadata={'line_number': 1, 'source': 'document_loader_office_file.mdx'}\n",
      "page_content='\n",
      "' metadata={'line_number': 2, 'source': 'document_loader_office_file.mdx'}\n",
      "page_content='The [Microsoft Office](https://www.office.com/) suite of productivity software includes Microsoft Word, Microsoft Excel, Microsoft PowerPoint, Microsoft Outlook, and Microsoft OneNote. It is available for Microsoft Windows and macOS operating systems. It is also available on Android and iOS.\n",
      "' metadata={'line_number': 3, 'source': 'document_loader_office_file.mdx'}\n",
      "page_content='\n",
      "' metadata={'line_number': 4, 'source': 'document_loader_office_file.mdx'}\n",
      "page_content='This covers how to load commonly used file formats including `DOCX`, `XLSX` and `PPTX` documents into a LangChain \n",
      "' metadata={'line_number': 5, 'source': 'document_loader_office_file.mdx'}\n",
      "... output truncated for demo purposes\n"
     ]
    }
   ],
   "source": [
    "from langchain_community.document_loaders.generic import GenericLoader\n",
    "\n",
    "loader = GenericLoader.from_filesystem(\n",
    "    path=\".\", glob=\"*.mdx\", show_progress=True, parser=MyParser()\n",
    ")\n",
    "\n",
    "for idx, doc in enumerate(loader.lazy_load()):\n",
    "    if idx < 5:\n",
    "        print(doc)\n",
    "\n",
    "print(\"... output truncated for demo purposes\")"
   ]
  },
  {
   "cell_type": "markdown",
   "id": "902048b7-ff04-46c0-97b5-935b40ff8511",
   "metadata": {},
   "source": [
    "#### Custom Generic Loader\n",
    "\n",
    "If you really like creating classes, you can sub-class and create a class to encapsulate the logic together.\n",
    "\n",
    "You can sub-class from this class to load content using an existing loader."
   ]
  },
  {
   "cell_type": "code",
   "execution_count": 20,
   "id": "23633102-dc44-4fed-a4e1-8159489101c8",
   "metadata": {
    "execution": {
     "iopub.execute_input": "2024-09-11T18:12:34.471238Z",
     "iopub.status.busy": "2024-09-11T18:12:34.470892Z",
     "iopub.status.idle": "2024-09-11T18:12:34.478752Z",
     "shell.execute_reply": "2024-09-11T18:12:34.476713Z"
    },
    "tags": []
   },
   "outputs": [],
   "source": [
    "from typing import Any\n",
    "\n",
    "\n",
    "class MyCustomLoader(GenericLoader):\n",
    "    @staticmethod\n",
    "    def get_parser(**kwargs: Any) -> BaseBlobParser:\n",
    "        \"\"\"Override this method to associate a default parser with the class.\"\"\"\n",
    "        return MyParser()"
   ]
  },
  {
   "cell_type": "code",
   "execution_count": 21,
   "id": "dc95be85-4a29-4c6f-a260-08afa3c95538",
   "metadata": {
    "execution": {
     "iopub.execute_input": "2024-09-11T18:12:34.483103Z",
     "iopub.status.busy": "2024-09-11T18:12:34.482854Z",
     "iopub.status.idle": "2024-09-11T18:12:34.506156Z",
     "shell.execute_reply": "2024-09-11T18:12:34.505604Z"
    },
    "tags": []
   },
   "outputs": [
    {
     "data": {
      "application/vnd.jupyter.widget-view+json": {
       "model_id": "974db2b367804eb1ae617d7545be4cf7",
       "version_major": 2,
       "version_minor": 0
      },
      "text/plain": [
       "  0%|          | 0/7 [00:00<?, ?it/s]"
      ]
     },
     "metadata": {},
     "output_type": "display_data"
    },
    {
     "name": "stdout",
     "output_type": "stream",
     "text": [
      "page_content='# How to load Microsoft Office files\n",
      "' metadata={'line_number': 1, 'source': 'document_loader_office_file.mdx'}\n",
      "page_content='\n",
      "' metadata={'line_number': 2, 'source': 'document_loader_office_file.mdx'}\n",
      "page_content='The [Microsoft Office](https://www.office.com/) suite of productivity software includes Microsoft Word, Microsoft Excel, Microsoft PowerPoint, Microsoft Outlook, and Microsoft OneNote. It is available for Microsoft Windows and macOS operating systems. It is also available on Android and iOS.\n",
      "' metadata={'line_number': 3, 'source': 'document_loader_office_file.mdx'}\n",
      "page_content='\n",
      "' metadata={'line_number': 4, 'source': 'document_loader_office_file.mdx'}\n",
      "page_content='This covers how to load commonly used file formats including `DOCX`, `XLSX` and `PPTX` documents into a LangChain \n",
      "' metadata={'line_number': 5, 'source': 'document_loader_office_file.mdx'}\n",
      "... output truncated for demo purposes\n"
     ]
    }
   ],
   "source": [
    "loader = MyCustomLoader.from_filesystem(path=\".\", glob=\"*.mdx\", show_progress=True)\n",
    "\n",
    "for idx, doc in enumerate(loader.lazy_load()):\n",
    "    if idx < 5:\n",
    "        print(doc)\n",
    "\n",
    "print(\"... output truncated for demo purposes\")"
   ]
  }
 ],
 "metadata": {
  "kernelspec": {
   "display_name": "Python 3 (ipykernel)",
   "language": "python",
   "name": "python3"
  },
  "language_info": {
   "codemirror_mode": {
    "name": "ipython",
    "version": 3
   },
   "file_extension": ".py",
   "mimetype": "text/x-python",
   "name": "python",
   "nbconvert_exporter": "python",
   "pygments_lexer": "ipython3",
   "version": "3.11.9"
  },
  "widgets": {
   "application/vnd.jupyter.widget-state+json": {
    "state": {
     "068a09f562b1451a97d376a451a7b1a5": {
      "model_module": "@jupyter-widgets/base",
      "model_module_version": "2.0.0",
      "model_name": "LayoutModel",
      "state": {
       "_model_module": "@jupyter-widgets/base",
       "_model_module_version": "2.0.0",
       "_model_name": "LayoutModel",
       "_view_count": null,
       "_view_module": "@jupyter-widgets/base",
       "_view_module_version": "2.0.0",
       "_view_name": "LayoutView",
       "align_content": null,
       "align_items": null,
       "align_self": null,
       "border_bottom": null,
       "border_left": null,
       "border_right": null,
       "border_top": null,
       "bottom": null,
       "display": null,
       "flex": null,
       "flex_flow": null,
       "grid_area": null,
       "grid_auto_columns": null,
       "grid_auto_flow": null,
       "grid_auto_rows": null,
       "grid_column": null,
       "grid_gap": null,
       "grid_row": null,
       "grid_template_areas": null,
       "grid_template_columns": null,
       "grid_template_rows": null,
       "height": null,
       "justify_content": null,
       "justify_items": null,
       "left": null,
       "margin": null,
       "max_height": null,
       "max_width": null,
       "min_height": null,
       "min_width": null,
       "object_fit": null,
       "object_position": null,
       "order": null,
       "overflow": null,
       "padding": null,
       "right": null,
       "top": null,
       "visibility": null,
       "width": null
      }
     },
     "06dd4426fa284f73935becee146f7a09": {
      "model_module": "@jupyter-widgets/controls",
      "model_module_version": "2.0.0",
      "model_name": "HTMLModel",
      "state": {
       "_dom_classes": [],
       "_model_module": "@jupyter-widgets/controls",
       "_model_module_version": "2.0.0",
       "_model_name": "HTMLModel",
       "_view_count": null,
       "_view_module": "@jupyter-widgets/controls",
       "_view_module_version": "2.0.0",
       "_view_name": "HTMLView",
       "description": "",
       "description_allow_html": false,
       "layout": "IPY_MODEL_068a09f562b1451a97d376a451a7b1a5",
       "placeholder": "​",
       "style": "IPY_MODEL_f02c5bf3ae2a4f7f9e782ec8f4069338",
       "tabbable": null,
       "tooltip": null,
       "value": " 7/7 [00:00&lt;00:00, 445.84it/s]"
      }
     },
     "14cd21d2d50349dbb98b291e9e37d63d": {
      "model_module": "@jupyter-widgets/controls",
      "model_module_version": "2.0.0",
      "model_name": "HTMLModel",
      "state": {
       "_dom_classes": [],
       "_model_module": "@jupyter-widgets/controls",
       "_model_module_version": "2.0.0",
       "_model_name": "HTMLModel",
       "_view_count": null,
       "_view_module": "@jupyter-widgets/controls",
       "_view_module_version": "2.0.0",
       "_view_name": "HTMLView",
       "description": "",
       "description_allow_html": false,
       "layout": "IPY_MODEL_f5e79b4cb04e45ffad1447eb9b71e516",
       "placeholder": "​",
       "style": "IPY_MODEL_2cff37cd4ec74c8384ea6175dbe4d547",
       "tabbable": null,
       "tooltip": null,
       "value": " 7/7 [00:00&lt;00:00, 1068.22it/s]"
      }
     },
     "1a1e4d8cabf84d9faf79a61d33a409ae": {
      "model_module": "@jupyter-widgets/controls",
      "model_module_version": "2.0.0",
      "model_name": "HTMLModel",
      "state": {
       "_dom_classes": [],
       "_model_module": "@jupyter-widgets/controls",
       "_model_module_version": "2.0.0",
       "_model_name": "HTMLModel",
       "_view_count": null,
       "_view_module": "@jupyter-widgets/controls",
       "_view_module_version": "2.0.0",
       "_view_name": "HTMLView",
       "description": "",
       "description_allow_html": false,
       "layout": "IPY_MODEL_83a1e354960348a9bb71c9b2bfdc525d",
       "placeholder": "​",
       "style": "IPY_MODEL_c9dc7a415e9c417ea43405972837d60e",
       "tabbable": null,
       "tooltip": null,
       "value": "100%"
      }
     },
     "1ea6bb14673545cf9b37aa9ee47a3d1b": {
      "model_module": "@jupyter-widgets/controls",
      "model_module_version": "2.0.0",
      "model_name": "HTMLModel",
      "state": {
       "_dom_classes": [],
       "_model_module": "@jupyter-widgets/controls",
       "_model_module_version": "2.0.0",
       "_model_name": "HTMLModel",
       "_view_count": null,
       "_view_module": "@jupyter-widgets/controls",
       "_view_module_version": "2.0.0",
       "_view_name": "HTMLView",
       "description": "",
       "description_allow_html": false,
       "layout": "IPY_MODEL_b88d2406507542179724af5b3d6fa8ea",
       "placeholder": "​",
       "style": "IPY_MODEL_bfdee930dc50493e93ccb2375bbe8353",
       "tabbable": null,
       "tooltip": null,
       "value": "100%"
      }
     },
     "26bfa6632a744e028ed877c8069f2060": {
      "model_module": "@jupyter-widgets/controls",
      "model_module_version": "2.0.0",
      "model_name": "HTMLModel",
      "state": {
       "_dom_classes": [],
       "_model_module": "@jupyter-widgets/controls",
       "_model_module_version": "2.0.0",
       "_model_name": "HTMLModel",
       "_view_count": null,
       "_view_module": "@jupyter-widgets/controls",
       "_view_module_version": "2.0.0",
       "_view_name": "HTMLView",
       "description": "",
       "description_allow_html": false,
       "layout": "IPY_MODEL_83e8c11d3bc24635b84b6a9e33ec724e",
       "placeholder": "​",
       "style": "IPY_MODEL_ab5b79076c124b53856665fd936bad4d",
       "tabbable": null,
       "tooltip": null,
       "value": " 7/7 [00:00&lt;00:00, 118.01it/s]"
      }
     },
     "2cff37cd4ec74c8384ea6175dbe4d547": {
      "model_module": "@jupyter-widgets/controls",
      "model_module_version": "2.0.0",
      "model_name": "HTMLStyleModel",
      "state": {
       "_model_module": "@jupyter-widgets/controls",
       "_model_module_version": "2.0.0",
       "_model_name": "HTMLStyleModel",
       "_view_count": null,
       "_view_module": "@jupyter-widgets/base",
       "_view_module_version": "2.0.0",
       "_view_name": "StyleView",
       "background": null,
       "description_width": "",
       "font_size": null,
       "text_color": null
      }
     },
     "2d7e067d6d2540f0b65140b7b072f80e": {
      "model_module": "@jupyter-widgets/controls",
      "model_module_version": "2.0.0",
      "model_name": "ProgressStyleModel",
      "state": {
       "_model_module": "@jupyter-widgets/controls",
       "_model_module_version": "2.0.0",
       "_model_name": "ProgressStyleModel",
       "_view_count": null,
       "_view_module": "@jupyter-widgets/base",
       "_view_module_version": "2.0.0",
       "_view_name": "StyleView",
       "bar_color": null,
       "description_width": ""
      }
     },
     "36cd6b5edb394c5388d0877f105eef36": {
      "model_module": "@jupyter-widgets/controls",
      "model_module_version": "2.0.0",
      "model_name": "FloatProgressModel",
      "state": {
       "_dom_classes": [],
       "_model_module": "@jupyter-widgets/controls",
       "_model_module_version": "2.0.0",
       "_model_name": "FloatProgressModel",
       "_view_count": null,
       "_view_module": "@jupyter-widgets/controls",
       "_view_module_version": "2.0.0",
       "_view_name": "ProgressView",
       "bar_style": "success",
       "description": "",
       "description_allow_html": false,
       "layout": "IPY_MODEL_588555d2546046b59bcf65667ba14190",
       "max": 7.0,
       "min": 0.0,
       "orientation": "horizontal",
       "style": "IPY_MODEL_d85ab80c7da5412bb03fc16d66a32059",
       "tabbable": null,
       "tooltip": null,
       "value": 7.0
      }
     },
     "3826f4962b3b43ebac20393dbec2bb52": {
      "model_module": "@jupyter-widgets/base",
      "model_module_version": "2.0.0",
      "model_name": "LayoutModel",
      "state": {
       "_model_module": "@jupyter-widgets/base",
       "_model_module_version": "2.0.0",
       "_model_name": "LayoutModel",
       "_view_count": null,
       "_view_module": "@jupyter-widgets/base",
       "_view_module_version": "2.0.0",
       "_view_name": "LayoutView",
       "align_content": null,
       "align_items": null,
       "align_self": null,
       "border_bottom": null,
       "border_left": null,
       "border_right": null,
       "border_top": null,
       "bottom": null,
       "display": null,
       "flex": null,
       "flex_flow": null,
       "grid_area": null,
       "grid_auto_columns": null,
       "grid_auto_flow": null,
       "grid_auto_rows": null,
       "grid_column": null,
       "grid_gap": null,
       "grid_row": null,
       "grid_template_areas": null,
       "grid_template_columns": null,
       "grid_template_rows": null,
       "height": null,
       "justify_content": null,
       "justify_items": null,
       "left": null,
       "margin": null,
       "max_height": null,
       "max_width": null,
       "min_height": null,
       "min_width": null,
       "object_fit": null,
       "object_position": null,
       "order": null,
       "overflow": null,
       "padding": null,
       "right": null,
       "top": null,
       "visibility": null,
       "width": null
      }
     },
     "588555d2546046b59bcf65667ba14190": {
      "model_module": "@jupyter-widgets/base",
      "model_module_version": "2.0.0",
      "model_name": "LayoutModel",
      "state": {
       "_model_module": "@jupyter-widgets/base",
       "_model_module_version": "2.0.0",
       "_model_name": "LayoutModel",
       "_view_count": null,
       "_view_module": "@jupyter-widgets/base",
       "_view_module_version": "2.0.0",
       "_view_name": "LayoutView",
       "align_content": null,
       "align_items": null,
       "align_self": null,
       "border_bottom": null,
       "border_left": null,
       "border_right": null,
       "border_top": null,
       "bottom": null,
       "display": null,
       "flex": null,
       "flex_flow": null,
       "grid_area": null,
       "grid_auto_columns": null,
       "grid_auto_flow": null,
       "grid_auto_rows": null,
       "grid_column": null,
       "grid_gap": null,
       "grid_row": null,
       "grid_template_areas": null,
       "grid_template_columns": null,
       "grid_template_rows": null,
       "height": null,
       "justify_content": null,
       "justify_items": null,
       "left": null,
       "margin": null,
       "max_height": null,
       "max_width": null,
       "min_height": null,
       "min_width": null,
       "object_fit": null,
       "object_position": null,
       "order": null,
       "overflow": null,
       "padding": null,
       "right": null,
       "top": null,
       "visibility": null,
       "width": null
      }
     },
     "62f8928ea0ff476db04ee9ffd19219fc": {
      "model_module": "@jupyter-widgets/controls",
      "model_module_version": "2.0.0",
      "model_name": "ProgressStyleModel",
      "state": {
       "_model_module": "@jupyter-widgets/controls",
       "_model_module_version": "2.0.0",
       "_model_name": "ProgressStyleModel",
       "_view_count": null,
       "_view_module": "@jupyter-widgets/base",
       "_view_module_version": "2.0.0",
       "_view_name": "StyleView",
       "bar_color": null,
       "description_width": ""
      }
     },
     "6ab40553ceb84825a3578639477a8673": {
      "model_module": "@jupyter-widgets/controls",
      "model_module_version": "2.0.0",
      "model_name": "HTMLStyleModel",
      "state": {
       "_model_module": "@jupyter-widgets/controls",
       "_model_module_version": "2.0.0",
       "_model_name": "HTMLStyleModel",
       "_view_count": null,
       "_view_module": "@jupyter-widgets/base",
       "_view_module_version": "2.0.0",
       "_view_name": "StyleView",
       "background": null,
       "description_width": "",
       "font_size": null,
       "text_color": null
      }
     },
     "6be3cdab86a847a1ac098958ac3dd1c5": {
      "model_module": "@jupyter-widgets/base",
      "model_module_version": "2.0.0",
      "model_name": "LayoutModel",
      "state": {
       "_model_module": "@jupyter-widgets/base",
       "_model_module_version": "2.0.0",
       "_model_name": "LayoutModel",
       "_view_count": null,
       "_view_module": "@jupyter-widgets/base",
       "_view_module_version": "2.0.0",
       "_view_name": "LayoutView",
       "align_content": null,
       "align_items": null,
       "align_self": null,
       "border_bottom": null,
       "border_left": null,
       "border_right": null,
       "border_top": null,
       "bottom": null,
       "display": null,
       "flex": null,
       "flex_flow": null,
       "grid_area": null,
       "grid_auto_columns": null,
       "grid_auto_flow": null,
       "grid_auto_rows": null,
       "grid_column": null,
       "grid_gap": null,
       "grid_row": null,
       "grid_template_areas": null,
       "grid_template_columns": null,
       "grid_template_rows": null,
       "height": null,
       "justify_content": null,
       "justify_items": null,
       "left": null,
       "margin": null,
       "max_height": null,
       "max_width": null,
       "min_height": null,
       "min_width": null,
       "object_fit": null,
       "object_position": null,
       "order": null,
       "overflow": null,
       "padding": null,
       "right": null,
       "top": null,
       "visibility": null,
       "width": null
      }
     },
     "6ebcc0ef590c4ca38c856268df888926": {
      "model_module": "@jupyter-widgets/controls",
      "model_module_version": "2.0.0",
      "model_name": "FloatProgressModel",
      "state": {
       "_dom_classes": [],
       "_model_module": "@jupyter-widgets/controls",
       "_model_module_version": "2.0.0",
       "_model_name": "FloatProgressModel",
       "_view_count": null,
       "_view_module": "@jupyter-widgets/controls",
       "_view_module_version": "2.0.0",
       "_view_name": "ProgressView",
       "bar_style": "success",
       "description": "",
       "description_allow_html": false,
       "layout": "IPY_MODEL_aea07f1c8c394b6d8bda4c65958e5292",
       "max": 7.0,
       "min": 0.0,
       "orientation": "horizontal",
       "style": "IPY_MODEL_2d7e067d6d2540f0b65140b7b072f80e",
       "tabbable": null,
       "tooltip": null,
       "value": 7.0
      }
     },
     "7c75749d8ca24700956d36f125c62ef1": {
      "model_module": "@jupyter-widgets/base",
      "model_module_version": "2.0.0",
      "model_name": "LayoutModel",
      "state": {
       "_model_module": "@jupyter-widgets/base",
       "_model_module_version": "2.0.0",
       "_model_name": "LayoutModel",
       "_view_count": null,
       "_view_module": "@jupyter-widgets/base",
       "_view_module_version": "2.0.0",
       "_view_name": "LayoutView",
       "align_content": null,
       "align_items": null,
       "align_self": null,
       "border_bottom": null,
       "border_left": null,
       "border_right": null,
       "border_top": null,
       "bottom": null,
       "display": null,
       "flex": null,
       "flex_flow": null,
       "grid_area": null,
       "grid_auto_columns": null,
       "grid_auto_flow": null,
       "grid_auto_rows": null,
       "grid_column": null,
       "grid_gap": null,
       "grid_row": null,
       "grid_template_areas": null,
       "grid_template_columns": null,
       "grid_template_rows": null,
       "height": null,
       "justify_content": null,
       "justify_items": null,
       "left": null,
       "margin": null,
       "max_height": null,
       "max_width": null,
       "min_height": null,
       "min_width": null,
       "object_fit": null,
       "object_position": null,
       "order": null,
       "overflow": null,
       "padding": null,
       "right": null,
       "top": null,
       "visibility": null,
       "width": null
      }
     },
     "7d8ccdf4bfab42fab68d63eec57bb9d6": {
      "model_module": "@jupyter-widgets/controls",
      "model_module_version": "2.0.0",
      "model_name": "HBoxModel",
      "state": {
       "_dom_classes": [],
       "_model_module": "@jupyter-widgets/controls",
       "_model_module_version": "2.0.0",
       "_model_name": "HBoxModel",
       "_view_count": null,
       "_view_module": "@jupyter-widgets/controls",
       "_view_module_version": "2.0.0",
       "_view_name": "HBoxView",
       "box_style": "",
       "children": [
        "IPY_MODEL_1a1e4d8cabf84d9faf79a61d33a409ae",
        "IPY_MODEL_36cd6b5edb394c5388d0877f105eef36",
        "IPY_MODEL_26bfa6632a744e028ed877c8069f2060"
       ],
       "layout": "IPY_MODEL_7c75749d8ca24700956d36f125c62ef1",
       "tabbable": null,
       "tooltip": null
      }
     },
     "83a1e354960348a9bb71c9b2bfdc525d": {
      "model_module": "@jupyter-widgets/base",
      "model_module_version": "2.0.0",
      "model_name": "LayoutModel",
      "state": {
       "_model_module": "@jupyter-widgets/base",
       "_model_module_version": "2.0.0",
       "_model_name": "LayoutModel",
       "_view_count": null,
       "_view_module": "@jupyter-widgets/base",
       "_view_module_version": "2.0.0",
       "_view_name": "LayoutView",
       "align_content": null,
       "align_items": null,
       "align_self": null,
       "border_bottom": null,
       "border_left": null,
       "border_right": null,
       "border_top": null,
       "bottom": null,
       "display": null,
       "flex": null,
       "flex_flow": null,
       "grid_area": null,
       "grid_auto_columns": null,
       "grid_auto_flow": null,
       "grid_auto_rows": null,
       "grid_column": null,
       "grid_gap": null,
       "grid_row": null,
       "grid_template_areas": null,
       "grid_template_columns": null,
       "grid_template_rows": null,
       "height": null,
       "justify_content": null,
       "justify_items": null,
       "left": null,
       "margin": null,
       "max_height": null,
       "max_width": null,
       "min_height": null,
       "min_width": null,
       "object_fit": null,
       "object_position": null,
       "order": null,
       "overflow": null,
       "padding": null,
       "right": null,
       "top": null,
       "visibility": null,
       "width": null
      }
     },
     "83e8c11d3bc24635b84b6a9e33ec724e": {
      "model_module": "@jupyter-widgets/base",
      "model_module_version": "2.0.0",
      "model_name": "LayoutModel",
      "state": {
       "_model_module": "@jupyter-widgets/base",
       "_model_module_version": "2.0.0",
       "_model_name": "LayoutModel",
       "_view_count": null,
       "_view_module": "@jupyter-widgets/base",
       "_view_module_version": "2.0.0",
       "_view_name": "LayoutView",
       "align_content": null,
       "align_items": null,
       "align_self": null,
       "border_bottom": null,
       "border_left": null,
       "border_right": null,
       "border_top": null,
       "bottom": null,
       "display": null,
       "flex": null,
       "flex_flow": null,
       "grid_area": null,
       "grid_auto_columns": null,
       "grid_auto_flow": null,
       "grid_auto_rows": null,
       "grid_column": null,
       "grid_gap": null,
       "grid_row": null,
       "grid_template_areas": null,
       "grid_template_columns": null,
       "grid_template_rows": null,
       "height": null,
       "justify_content": null,
       "justify_items": null,
       "left": null,
       "margin": null,
       "max_height": null,
       "max_width": null,
       "min_height": null,
       "min_width": null,
       "object_fit": null,
       "object_position": null,
       "order": null,
       "overflow": null,
       "padding": null,
       "right": null,
       "top": null,
       "visibility": null,
       "width": null
      }
     },
     "8c59dd3b127241cb96c6377e0b59009f": {
      "model_module": "@jupyter-widgets/controls",
      "model_module_version": "2.0.0",
      "model_name": "HBoxModel",
      "state": {
       "_dom_classes": [],
       "_model_module": "@jupyter-widgets/controls",
       "_model_module_version": "2.0.0",
       "_model_name": "HBoxModel",
       "_view_count": null,
       "_view_module": "@jupyter-widgets/controls",
       "_view_module_version": "2.0.0",
       "_view_name": "HBoxView",
       "box_style": "",
       "children": [
        "IPY_MODEL_a7f198e85cce46d08a5aab9c1102f059",
        "IPY_MODEL_6ebcc0ef590c4ca38c856268df888926",
        "IPY_MODEL_14cd21d2d50349dbb98b291e9e37d63d"
       ],
       "layout": "IPY_MODEL_d61ca8be42034223ad9bdaf2d6e2989e",
       "tabbable": null,
       "tooltip": null
      }
     },
     "974db2b367804eb1ae617d7545be4cf7": {
      "model_module": "@jupyter-widgets/controls",
      "model_module_version": "2.0.0",
      "model_name": "HBoxModel",
      "state": {
       "_dom_classes": [],
       "_model_module": "@jupyter-widgets/controls",
       "_model_module_version": "2.0.0",
       "_model_name": "HBoxModel",
       "_view_count": null,
       "_view_module": "@jupyter-widgets/controls",
       "_view_module_version": "2.0.0",
       "_view_name": "HBoxView",
       "box_style": "",
       "children": [
        "IPY_MODEL_1ea6bb14673545cf9b37aa9ee47a3d1b",
        "IPY_MODEL_dc8f37199ce54a88a45e8513ae2742ed",
        "IPY_MODEL_06dd4426fa284f73935becee146f7a09"
       ],
       "layout": "IPY_MODEL_c1fa3f87686741678846e452fc100bc5",
       "tabbable": null,
       "tooltip": null
      }
     },
     "a7f198e85cce46d08a5aab9c1102f059": {
      "model_module": "@jupyter-widgets/controls",
      "model_module_version": "2.0.0",
      "model_name": "HTMLModel",
      "state": {
       "_dom_classes": [],
       "_model_module": "@jupyter-widgets/controls",
       "_model_module_version": "2.0.0",
       "_model_name": "HTMLModel",
       "_view_count": null,
       "_view_module": "@jupyter-widgets/controls",
       "_view_module_version": "2.0.0",
       "_view_name": "HTMLView",
       "description": "",
       "description_allow_html": false,
       "layout": "IPY_MODEL_3826f4962b3b43ebac20393dbec2bb52",
       "placeholder": "​",
       "style": "IPY_MODEL_6ab40553ceb84825a3578639477a8673",
       "tabbable": null,
       "tooltip": null,
       "value": "100%"
      }
     },
     "ab5b79076c124b53856665fd936bad4d": {
      "model_module": "@jupyter-widgets/controls",
      "model_module_version": "2.0.0",
      "model_name": "HTMLStyleModel",
      "state": {
       "_model_module": "@jupyter-widgets/controls",
       "_model_module_version": "2.0.0",
       "_model_name": "HTMLStyleModel",
       "_view_count": null,
       "_view_module": "@jupyter-widgets/base",
       "_view_module_version": "2.0.0",
       "_view_name": "StyleView",
       "background": null,
       "description_width": "",
       "font_size": null,
       "text_color": null
      }
     },
     "aea07f1c8c394b6d8bda4c65958e5292": {
      "model_module": "@jupyter-widgets/base",
      "model_module_version": "2.0.0",
      "model_name": "LayoutModel",
      "state": {
       "_model_module": "@jupyter-widgets/base",
       "_model_module_version": "2.0.0",
       "_model_name": "LayoutModel",
       "_view_count": null,
       "_view_module": "@jupyter-widgets/base",
       "_view_module_version": "2.0.0",
       "_view_name": "LayoutView",
       "align_content": null,
       "align_items": null,
       "align_self": null,
       "border_bottom": null,
       "border_left": null,
       "border_right": null,
       "border_top": null,
       "bottom": null,
       "display": null,
       "flex": null,
       "flex_flow": null,
       "grid_area": null,
       "grid_auto_columns": null,
       "grid_auto_flow": null,
       "grid_auto_rows": null,
       "grid_column": null,
       "grid_gap": null,
       "grid_row": null,
       "grid_template_areas": null,
       "grid_template_columns": null,
       "grid_template_rows": null,
       "height": null,
       "justify_content": null,
       "justify_items": null,
       "left": null,
       "margin": null,
       "max_height": null,
       "max_width": null,
       "min_height": null,
       "min_width": null,
       "object_fit": null,
       "object_position": null,
       "order": null,
       "overflow": null,
       "padding": null,
       "right": null,
       "top": null,
       "visibility": null,
       "width": null
      }
     },
     "b88d2406507542179724af5b3d6fa8ea": {
      "model_module": "@jupyter-widgets/base",
      "model_module_version": "2.0.0",
      "model_name": "LayoutModel",
      "state": {
       "_model_module": "@jupyter-widgets/base",
       "_model_module_version": "2.0.0",
       "_model_name": "LayoutModel",
       "_view_count": null,
       "_view_module": "@jupyter-widgets/base",
       "_view_module_version": "2.0.0",
       "_view_name": "LayoutView",
       "align_content": null,
       "align_items": null,
       "align_self": null,
       "border_bottom": null,
       "border_left": null,
       "border_right": null,
       "border_top": null,
       "bottom": null,
       "display": null,
       "flex": null,
       "flex_flow": null,
       "grid_area": null,
       "grid_auto_columns": null,
       "grid_auto_flow": null,
       "grid_auto_rows": null,
       "grid_column": null,
       "grid_gap": null,
       "grid_row": null,
       "grid_template_areas": null,
       "grid_template_columns": null,
       "grid_template_rows": null,
       "height": null,
       "justify_content": null,
       "justify_items": null,
       "left": null,
       "margin": null,
       "max_height": null,
       "max_width": null,
       "min_height": null,
       "min_width": null,
       "object_fit": null,
       "object_position": null,
       "order": null,
       "overflow": null,
       "padding": null,
       "right": null,
       "top": null,
       "visibility": null,
       "width": null
      }
     },
     "bfdee930dc50493e93ccb2375bbe8353": {
      "model_module": "@jupyter-widgets/controls",
      "model_module_version": "2.0.0",
      "model_name": "HTMLStyleModel",
      "state": {
       "_model_module": "@jupyter-widgets/controls",
       "_model_module_version": "2.0.0",
       "_model_name": "HTMLStyleModel",
       "_view_count": null,
       "_view_module": "@jupyter-widgets/base",
       "_view_module_version": "2.0.0",
       "_view_name": "StyleView",
       "background": null,
       "description_width": "",
       "font_size": null,
       "text_color": null
      }
     },
     "c1fa3f87686741678846e452fc100bc5": {
      "model_module": "@jupyter-widgets/base",
      "model_module_version": "2.0.0",
      "model_name": "LayoutModel",
      "state": {
       "_model_module": "@jupyter-widgets/base",
       "_model_module_version": "2.0.0",
       "_model_name": "LayoutModel",
       "_view_count": null,
       "_view_module": "@jupyter-widgets/base",
       "_view_module_version": "2.0.0",
       "_view_name": "LayoutView",
       "align_content": null,
       "align_items": null,
       "align_self": null,
       "border_bottom": null,
       "border_left": null,
       "border_right": null,
       "border_top": null,
       "bottom": null,
       "display": null,
       "flex": null,
       "flex_flow": null,
       "grid_area": null,
       "grid_auto_columns": null,
       "grid_auto_flow": null,
       "grid_auto_rows": null,
       "grid_column": null,
       "grid_gap": null,
       "grid_row": null,
       "grid_template_areas": null,
       "grid_template_columns": null,
       "grid_template_rows": null,
       "height": null,
       "justify_content": null,
       "justify_items": null,
       "left": null,
       "margin": null,
       "max_height": null,
       "max_width": null,
       "min_height": null,
       "min_width": null,
       "object_fit": null,
       "object_position": null,
       "order": null,
       "overflow": null,
       "padding": null,
       "right": null,
       "top": null,
       "visibility": null,
       "width": null
      }
     },
     "c9dc7a415e9c417ea43405972837d60e": {
      "model_module": "@jupyter-widgets/controls",
      "model_module_version": "2.0.0",
      "model_name": "HTMLStyleModel",
      "state": {
       "_model_module": "@jupyter-widgets/controls",
       "_model_module_version": "2.0.0",
       "_model_name": "HTMLStyleModel",
       "_view_count": null,
       "_view_module": "@jupyter-widgets/base",
       "_view_module_version": "2.0.0",
       "_view_name": "StyleView",
       "background": null,
       "description_width": "",
       "font_size": null,
       "text_color": null
      }
     },
     "d61ca8be42034223ad9bdaf2d6e2989e": {
      "model_module": "@jupyter-widgets/base",
      "model_module_version": "2.0.0",
      "model_name": "LayoutModel",
      "state": {
       "_model_module": "@jupyter-widgets/base",
       "_model_module_version": "2.0.0",
       "_model_name": "LayoutModel",
       "_view_count": null,
       "_view_module": "@jupyter-widgets/base",
       "_view_module_version": "2.0.0",
       "_view_name": "LayoutView",
       "align_content": null,
       "align_items": null,
       "align_self": null,
       "border_bottom": null,
       "border_left": null,
       "border_right": null,
       "border_top": null,
       "bottom": null,
       "display": null,
       "flex": null,
       "flex_flow": null,
       "grid_area": null,
       "grid_auto_columns": null,
       "grid_auto_flow": null,
       "grid_auto_rows": null,
       "grid_column": null,
       "grid_gap": null,
       "grid_row": null,
       "grid_template_areas": null,
       "grid_template_columns": null,
       "grid_template_rows": null,
       "height": null,
       "justify_content": null,
       "justify_items": null,
       "left": null,
       "margin": null,
       "max_height": null,
       "max_width": null,
       "min_height": null,
       "min_width": null,
       "object_fit": null,
       "object_position": null,
       "order": null,
       "overflow": null,
       "padding": null,
       "right": null,
       "top": null,
       "visibility": null,
       "width": null
      }
     },
     "d85ab80c7da5412bb03fc16d66a32059": {
      "model_module": "@jupyter-widgets/controls",
      "model_module_version": "2.0.0",
      "model_name": "ProgressStyleModel",
      "state": {
       "_model_module": "@jupyter-widgets/controls",
       "_model_module_version": "2.0.0",
       "_model_name": "ProgressStyleModel",
       "_view_count": null,
       "_view_module": "@jupyter-widgets/base",
       "_view_module_version": "2.0.0",
       "_view_name": "StyleView",
       "bar_color": null,
       "description_width": ""
      }
     },
     "dc8f37199ce54a88a45e8513ae2742ed": {
      "model_module": "@jupyter-widgets/controls",
      "model_module_version": "2.0.0",
      "model_name": "FloatProgressModel",
      "state": {
       "_dom_classes": [],
       "_model_module": "@jupyter-widgets/controls",
       "_model_module_version": "2.0.0",
       "_model_name": "FloatProgressModel",
       "_view_count": null,
       "_view_module": "@jupyter-widgets/controls",
       "_view_module_version": "2.0.0",
       "_view_name": "ProgressView",
       "bar_style": "success",
       "description": "",
       "description_allow_html": false,
       "layout": "IPY_MODEL_6be3cdab86a847a1ac098958ac3dd1c5",
       "max": 7.0,
       "min": 0.0,
       "orientation": "horizontal",
       "style": "IPY_MODEL_62f8928ea0ff476db04ee9ffd19219fc",
       "tabbable": null,
       "tooltip": null,
       "value": 7.0
      }
     },
     "f02c5bf3ae2a4f7f9e782ec8f4069338": {
      "model_module": "@jupyter-widgets/controls",
      "model_module_version": "2.0.0",
      "model_name": "HTMLStyleModel",
      "state": {
       "_model_module": "@jupyter-widgets/controls",
       "_model_module_version": "2.0.0",
       "_model_name": "HTMLStyleModel",
       "_view_count": null,
       "_view_module": "@jupyter-widgets/base",
       "_view_module_version": "2.0.0",
       "_view_name": "StyleView",
       "background": null,
       "description_width": "",
       "font_size": null,
       "text_color": null
      }
     },
     "f5e79b4cb04e45ffad1447eb9b71e516": {
      "model_module": "@jupyter-widgets/base",
      "model_module_version": "2.0.0",
      "model_name": "LayoutModel",
      "state": {
       "_model_module": "@jupyter-widgets/base",
       "_model_module_version": "2.0.0",
       "_model_name": "LayoutModel",
       "_view_count": null,
       "_view_module": "@jupyter-widgets/base",
       "_view_module_version": "2.0.0",
       "_view_name": "LayoutView",
       "align_content": null,
       "align_items": null,
       "align_self": null,
       "border_bottom": null,
       "border_left": null,
       "border_right": null,
       "border_top": null,
       "bottom": null,
       "display": null,
       "flex": null,
       "flex_flow": null,
       "grid_area": null,
       "grid_auto_columns": null,
       "grid_auto_flow": null,
       "grid_auto_rows": null,
       "grid_column": null,
       "grid_gap": null,
       "grid_row": null,
       "grid_template_areas": null,
       "grid_template_columns": null,
       "grid_template_rows": null,
       "height": null,
       "justify_content": null,
       "justify_items": null,
       "left": null,
       "margin": null,
       "max_height": null,
       "max_width": null,
       "min_height": null,
       "min_width": null,
       "object_fit": null,
       "object_position": null,
       "order": null,
       "overflow": null,
       "padding": null,
       "right": null,
       "top": null,
       "visibility": null,
       "width": null
      }
     }
    },
    "version_major": 2,
    "version_minor": 0
   }
  }
 },
 "nbformat": 4,
 "nbformat_minor": 5
}
