{
 "cells": [
  {
   "cell_type": "markdown",
   "id": "c47f5b2f-e14c-43e7-a0ab-d71562636624",
   "metadata": {},
   "source": [
    "---\n",
    "sidebar_position: 3\n",
    "keywords: [summarize, summarization, map reduce]\n",
    "---"
   ]
  },
  {
   "cell_type": "markdown",
   "id": "682a4f53-27db-43ef-a909-dd9ded76051b",
   "metadata": {},
   "source": [
    "# How to summarize text through parallelization\n",
    "\n",
    "LLMs can summarize and otherwise distill desired information from text, including large volumes of text. In many cases, especially when the amount of text is large compared to the size of the model's context window, it can be helpful (or necessary) to break up the summarization task into smaller components.\n",
    "\n",
    "Map-reduce represents one class of strategies for accomplishing this. The idea is to break the text into \"sub-documents\", and first map each sub-document to an individual summary using an LLM. Then, we reduce or consolidate those summaries into a single global summary.\n",
    "\n",
    "Note that the map step is typically parallelized over the input documents. This strategy is especially effective when understanding of a sub-document does not rely on preceeding context. For example, when summarizing a corpus of many, shorter documents.\n",
    "\n",
    "[LangGraph](https://langchain-ai.github.io/langgraph/), built on top of `langchain-core`, suports [map-reduce](https://langchain-ai.github.io/langgraph/how-tos/map-reduce/) workflows and is well-suited to this problem:\n",
    "\n",
    "- LangGraph allows for individual steps (such as successive summarizations) to be streamed, allowing for greater control of execution;\n",
    "- LangGraph's [checkpointing](https://langchain-ai.github.io/langgraph/how-tos/persistence/) supports error recovery, extending with human-in-the-loop workflows, and easier incorporation into conversational applications.\n",
    "- The LangGraph implementation is straightforward to modify and extend.\n",
    "\n",
    "Below, we demonstrate how to summarize text via a map-reduce strategy."
   ]
  },
  {
   "cell_type": "markdown",
   "id": "4aa52e84-d1b5-4b33-b4c4-541156686ef3",
   "metadata": {},
   "source": [
    "## Load chat model\n",
    "\n",
    "Let's first load a chat model:\n",
    "```{=mdx}\n",
    "import ChatModelTabs from \"@theme/ChatModelTabs\";\n",
    "\n",
    "<ChatModelTabs\n",
    "  customVarName=\"llm\"\n",
    "/>\n",
    "```"
   ]
  },
  {
   "cell_type": "code",
   "execution_count": 1,
   "id": "e5f426fc-cea6-4351-8931-1e422d3c8b69",
   "metadata": {
    "execution": {
     "iopub.execute_input": "2024-09-11T18:59:02.794342Z",
     "iopub.status.busy": "2024-09-11T18:59:02.794013Z",
     "iopub.status.idle": "2024-09-11T18:59:03.344762Z",
     "shell.execute_reply": "2024-09-11T18:59:03.344484Z"
    }
   },
   "outputs": [],
   "source": [
    "# | output: false\n",
    "# | echo: false\n",
    "\n",
    "from langchain_openai import ChatOpenAI\n",
    "\n",
    "llm = ChatOpenAI(model=\"gpt-4o-mini\", temperature=0)"
   ]
  },
  {
   "cell_type": "markdown",
   "id": "b137fe82-0a53-4910-b53e-b87a297f329d",
   "metadata": {},
   "source": [
    "## Load documents\n",
    "\n",
    "First we load in our documents. We will use [WebBaseLoader](https://python.langchain.com/v0.2/api_reference/community/document_loaders/langchain_community.document_loaders.web_base.WebBaseLoader.html) to load a blog post, and split the documents into smaller sub-documents."
   ]
  },
  {
   "cell_type": "code",
   "execution_count": 2,
   "id": "27c8fed0-b2d7-4549-a086-f5ee657efc41",
   "metadata": {
    "execution": {
     "iopub.execute_input": "2024-09-11T18:59:03.346525Z",
     "iopub.status.busy": "2024-09-11T18:59:03.346410Z",
     "iopub.status.idle": "2024-09-11T18:59:04.225820Z",
     "shell.execute_reply": "2024-09-11T18:59:04.225385Z"
    }
   },
   "outputs": [
    {
     "name": "stderr",
     "output_type": "stream",
     "text": [
      "USER_AGENT environment variable not set, consider setting it to identify your requests.\n"
     ]
    },
    {
     "name": "stderr",
     "output_type": "stream",
     "text": [
      "Created a chunk of size 1003, which is longer than the specified 1000\n"
     ]
    },
    {
     "name": "stdout",
     "output_type": "stream",
     "text": [
      "Generated 14 documents.\n"
     ]
    }
   ],
   "source": [
    "from langchain_community.document_loaders import WebBaseLoader\n",
    "from langchain_text_splitters import CharacterTextSplitter\n",
    "\n",
    "text_splitter = CharacterTextSplitter.from_tiktoken_encoder(\n",
    "    chunk_size=1000, chunk_overlap=0\n",
    ")\n",
    "\n",
    "loader = WebBaseLoader(\"https://lilianweng.github.io/posts/2023-06-23-agent/\")\n",
    "docs = loader.load()\n",
    "\n",
    "split_docs = text_splitter.split_documents(docs)\n",
    "print(f\"Generated {len(split_docs)} documents.\")"
   ]
  },
  {
   "cell_type": "markdown",
   "id": "84216044-6f1e-4b90-b4fa-29ec305abf51",
   "metadata": {},
   "source": [
    "## Create graph\n",
    "\n",
    "### Map step\n",
    "Let's first define the prompt associated with the map step, and associated it with the LLM via a [chain](/docs/how_to/sequence/):"
   ]
  },
  {
   "cell_type": "code",
   "execution_count": 3,
   "id": "669afa40-2708-4fa1-841e-c74a67bd9175",
   "metadata": {
    "execution": {
     "iopub.execute_input": "2024-09-11T18:59:04.227949Z",
     "iopub.status.busy": "2024-09-11T18:59:04.227710Z",
     "iopub.status.idle": "2024-09-11T18:59:04.230980Z",
     "shell.execute_reply": "2024-09-11T18:59:04.230490Z"
    }
   },
   "outputs": [],
   "source": [
    "from langchain_core.output_parsers import StrOutputParser\n",
    "from langchain_core.prompts import ChatPromptTemplate\n",
    "\n",
    "map_prompt = ChatPromptTemplate.from_messages(\n",
    "    [(\"human\", \"Write a concise summary of the following:\\\\n\\\\n{context}\")]\n",
    ")\n",
    "\n",
    "map_chain = map_prompt | llm | StrOutputParser()"
   ]
  },
  {
   "cell_type": "markdown",
   "id": "81597ed0-8df5-4cbc-a242-3140a168a7f4",
   "metadata": {},
   "source": [
    "### Reduce step\n",
    "\n",
    "We also define a chain that takes the document mapping results and reduces them into a single output."
   ]
  },
  {
   "cell_type": "code",
   "execution_count": 4,
   "id": "de59caae-8fb2-4cf4-aea0-be78a081a695",
   "metadata": {
    "execution": {
     "iopub.execute_input": "2024-09-11T18:59:04.232473Z",
     "iopub.status.busy": "2024-09-11T18:59:04.232380Z",
     "iopub.status.idle": "2024-09-11T18:59:04.234305Z",
     "shell.execute_reply": "2024-09-11T18:59:04.234080Z"
    }
   },
   "outputs": [],
   "source": [
    "reduce_template = \"\"\"\n",
    "The following is a set of summaries:\n",
    "{docs}\n",
    "Take these and distill it into a final, consolidated summary\n",
    "of the main themes.\n",
    "\"\"\"\n",
    "\n",
    "reduce_prompt = ChatPromptTemplate([(\"human\", reduce_template)])\n",
    "\n",
    "reduce_chain = reduce_prompt | llm | StrOutputParser()"
   ]
  },
  {
   "cell_type": "markdown",
   "id": "cb264a71-12f5-44ef-ad2e-d38c4bf71bbd",
   "metadata": {},
   "source": [
    "### Orchestration via LangGraph\n",
    "\n",
    "Below we implement a simple application that maps the summarization step on a list of documents, then reduces them using the above prompts.\n",
    "\n",
    "Map-reduce flows are particularly useful when texts are long compared to the context window of a LLM. For long texts, we need a mechanism that ensures that the context to be summarized in the reduce step does not exceed a model's context window size. Here we implement a recursive \"collapsing\" of the summaries: the inputs are partitioned based on a token limit, and summaries are generated of the partitions. This step is repeated until the total length of the summaries is within a desired limit, allowing for the summarization of arbitrary-length text.\n",
    "\n",
    "We will need to install `langgraph`:"
   ]
  },
  {
   "cell_type": "code",
   "execution_count": 5,
   "id": "6dc8cf11-c0e5-4448-a921-9377acad1df0",
   "metadata": {
    "execution": {
     "iopub.execute_input": "2024-09-11T18:59:04.235565Z",
     "iopub.status.busy": "2024-09-11T18:59:04.235486Z",
     "iopub.status.idle": "2024-09-11T18:59:05.853104Z",
     "shell.execute_reply": "2024-09-11T18:59:05.852476Z"
    }
   },
   "outputs": [
    {
     "name": "stdout",
     "output_type": "stream",
     "text": [
      "Note: you may need to restart the kernel to use updated packages."
     ]
    },
    {
     "name": "stdout",
     "output_type": "stream",
     "text": [
      "\n"
     ]
    }
   ],
   "source": [
    "pip install -qU langgraph"
   ]
  },
  {
   "cell_type": "code",
   "execution_count": 6,
   "id": "dafedc2e-feeb-44bc-9f38-e55394953de5",
   "metadata": {
    "execution": {
     "iopub.execute_input": "2024-09-11T18:59:05.855654Z",
     "iopub.status.busy": "2024-09-11T18:59:05.855454Z",
     "iopub.status.idle": "2024-09-11T18:59:05.911275Z",
     "shell.execute_reply": "2024-09-11T18:59:05.911019Z"
    }
   },
   "outputs": [],
   "source": [
    "import operator\n",
    "from typing import Annotated, List, Literal, TypedDict\n",
    "\n",
    "from langchain.chains.combine_documents.reduce import (\n",
    "    acollapse_docs,\n",
    "    split_list_of_docs,\n",
    ")\n",
    "from langchain_core.documents import Document\n",
    "from langgraph.constants import Send\n",
    "from langgraph.graph import END, START, StateGraph\n",
    "\n",
    "token_max = 1000\n",
    "\n",
    "\n",
    "def length_function(documents: List[Document]) -> int:\n",
    "    \"\"\"Get number of tokens for input contents.\"\"\"\n",
    "    return sum(llm.get_num_tokens(doc.page_content) for doc in documents)\n",
    "\n",
    "\n",
    "# This will be the overall state of the main graph.\n",
    "# It will contain the input document contents, corresponding\n",
    "# summaries, and a final summary.\n",
    "class OverallState(TypedDict):\n",
    "    # Notice here we use the operator.add\n",
    "    # This is because we want combine all the summaries we generate\n",
    "    # from individual nodes back into one list - this is essentially\n",
    "    # the \"reduce\" part\n",
    "    contents: List[str]\n",
    "    summaries: Annotated[list, operator.add]\n",
    "    collapsed_summaries: List[Document]\n",
    "    final_summary: str\n",
    "\n",
    "\n",
    "# This will be the state of the node that we will \"map\" all\n",
    "# documents to in order to generate summaries\n",
    "class SummaryState(TypedDict):\n",
    "    content: str\n",
    "\n",
    "\n",
    "# Here we generate a summary, given a document\n",
    "async def generate_summary(state: SummaryState):\n",
    "    response = await map_chain.ainvoke(state[\"content\"])\n",
    "    return {\"summaries\": [response]}\n",
    "\n",
    "\n",
    "# Here we define the logic to map out over the documents\n",
    "# We will use this an edge in the graph\n",
    "def map_summaries(state: OverallState):\n",
    "    # We will return a list of `Send` objects\n",
    "    # Each `Send` object consists of the name of a node in the graph\n",
    "    # as well as the state to send to that node\n",
    "    return [\n",
    "        Send(\"generate_summary\", {\"content\": content}) for content in state[\"contents\"]\n",
    "    ]\n",
    "\n",
    "\n",
    "def collect_summaries(state: OverallState):\n",
    "    return {\n",
    "        \"collapsed_summaries\": [Document(summary) for summary in state[\"summaries\"]]\n",
    "    }\n",
    "\n",
    "\n",
    "# Add node to collapse summaries\n",
    "async def collapse_summaries(state: OverallState):\n",
    "    doc_lists = split_list_of_docs(\n",
    "        state[\"collapsed_summaries\"], length_function, token_max\n",
    "    )\n",
    "    results = []\n",
    "    for doc_list in doc_lists:\n",
    "        results.append(await acollapse_docs(doc_list, reduce_chain.ainvoke))\n",
    "\n",
    "    return {\"collapsed_summaries\": results}\n",
    "\n",
    "\n",
    "# This represents a conditional edge in the graph that determines\n",
    "# if we should collapse the summaries or not\n",
    "def should_collapse(\n",
    "    state: OverallState,\n",
    ") -> Literal[\"collapse_summaries\", \"generate_final_summary\"]:\n",
    "    num_tokens = length_function(state[\"collapsed_summaries\"])\n",
    "    if num_tokens > token_max:\n",
    "        return \"collapse_summaries\"\n",
    "    else:\n",
    "        return \"generate_final_summary\"\n",
    "\n",
    "\n",
    "# Here we will generate the final summary\n",
    "async def generate_final_summary(state: OverallState):\n",
    "    response = await reduce_chain.ainvoke(state[\"collapsed_summaries\"])\n",
    "    return {\"final_summary\": response}\n",
    "\n",
    "\n",
    "# Construct the graph\n",
    "# Nodes:\n",
    "graph = StateGraph(OverallState)\n",
    "graph.add_node(\"generate_summary\", generate_summary)  # same as before\n",
    "graph.add_node(\"collect_summaries\", collect_summaries)\n",
    "graph.add_node(\"collapse_summaries\", collapse_summaries)\n",
    "graph.add_node(\"generate_final_summary\", generate_final_summary)\n",
    "\n",
    "# Edges:\n",
    "graph.add_conditional_edges(START, map_summaries, [\"generate_summary\"])\n",
    "graph.add_edge(\"generate_summary\", \"collect_summaries\")\n",
    "graph.add_conditional_edges(\"collect_summaries\", should_collapse)\n",
    "graph.add_conditional_edges(\"collapse_summaries\", should_collapse)\n",
    "graph.add_edge(\"generate_final_summary\", END)\n",
    "\n",
    "app = graph.compile()"
   ]
  },
  {
   "cell_type": "markdown",
   "id": "c2de9413-fa18-4807-9c1f-85a62a8eb7ab",
   "metadata": {},
   "source": [
    "LangGraph allows the graph structure to be plotted to help visualize its function:"
   ]
  },
  {
   "cell_type": "code",
   "execution_count": 7,
   "id": "4f26c1e3-3d3c-44f7-bb5f-46db9dc40f4b",
   "metadata": {
    "execution": {
     "iopub.execute_input": "2024-09-11T18:59:05.912874Z",
     "iopub.status.busy": "2024-09-11T18:59:05.912779Z",
     "iopub.status.idle": "2024-09-11T18:59:06.868217Z",
     "shell.execute_reply": "2024-09-11T18:59:06.867296Z"
    }
   },
   "outputs": [
    {
     "data": {
      "image/jpeg": "[encoded data removed]",
      "text/plain": [
       "<IPython.core.display.Image object>"
      ]
     },
     "execution_count": 7,
     "metadata": {},
     "output_type": "execute_result"
    }
   ],
   "source": [
    "from IPython.display import Image\n",
    "\n",
    "Image(app.get_graph().draw_mermaid_png())"
   ]
  },
  {
   "cell_type": "markdown",
   "id": "74f3e276-f003-4112-ba14-c6952076c4f8",
   "metadata": {},
   "source": [
    "## Invoke graph\n",
    "\n",
    "When running the application, we can stream the graph to observe its sequence of steps. Below, we will simply print out the name of the step.\n",
    "\n",
    "Note that because we have a loop in the graph, it can be helpful to specify a [recursion_limit](https://langchain-ai.github.io/langgraph/reference/errors/#langgraph.errors.GraphRecursionError) on its execution. This will raise a specific error when the specified limit is exceeded."
   ]
  },
  {
   "cell_type": "code",
   "execution_count": 8,
   "id": "0701bb7d-fbc6-497e-a577-25d56e6e43c6",
   "metadata": {
    "execution": {
     "iopub.execute_input": "2024-09-11T18:59:06.871821Z",
     "iopub.status.busy": "2024-09-11T18:59:06.871396Z",
     "iopub.status.idle": "2024-09-11T18:59:41.939671Z",
     "shell.execute_reply": "2024-09-11T18:59:41.939094Z"
    }
   },
   "outputs": [
    {
     "name": "stdout",
     "output_type": "stream",
     "text": [
      "['generate_summary']\n",
      "['generate_summary']\n"
     ]
    },
    {
     "name": "stdout",
     "output_type": "stream",
     "text": [
      "['generate_summary']\n",
      "['generate_summary']\n",
      "['generate_summary']\n"
     ]
    },
    {
     "name": "stdout",
     "output_type": "stream",
     "text": [
      "['generate_summary']\n"
     ]
    },
    {
     "name": "stdout",
     "output_type": "stream",
     "text": [
      "['generate_summary']\n"
     ]
    },
    {
     "name": "stdout",
     "output_type": "stream",
     "text": [
      "['generate_summary']\n",
      "['generate_summary']\n",
      "['generate_summary']\n",
      "['generate_summary']\n",
      "['generate_summary']\n"
     ]
    },
    {
     "name": "stdout",
     "output_type": "stream",
     "text": [
      "['generate_summary']\n"
     ]
    },
    {
     "name": "stdout",
     "output_type": "stream",
     "text": [
      "['generate_summary']\n"
     ]
    },
    {
     "name": "stdout",
     "output_type": "stream",
     "text": [
      "['collect_summaries']\n"
     ]
    },
    {
     "name": "stdout",
     "output_type": "stream",
     "text": [
      "['collapse_summaries']\n"
     ]
    },
    {
     "name": "stdout",
     "output_type": "stream",
     "text": [
      "['collapse_summaries']\n"
     ]
    },
    {
     "name": "stdout",
     "output_type": "stream",
     "text": [
      "['generate_final_summary']\n"
     ]
    }
   ],
   "source": [
    "async for step in app.astream(\n",
    "    {\"contents\": [doc.page_content for doc in split_docs]},\n",
    "    {\"recursion_limit\": 10},\n",
    "):\n",
    "    print(list(step.keys()))"
   ]
  },
  {
   "cell_type": "code",
   "execution_count": 9,
   "id": "0dc27458-7b37-4a2b-9452-b59274a55828",
   "metadata": {
    "execution": {
     "iopub.execute_input": "2024-09-11T18:59:41.942629Z",
     "iopub.status.busy": "2024-09-11T18:59:41.942375Z",
     "iopub.status.idle": "2024-09-11T18:59:41.948030Z",
     "shell.execute_reply": "2024-09-11T18:59:41.947443Z"
    }
   },
   "outputs": [
    {
     "name": "stdout",
     "output_type": "stream",
     "text": [
      "{'generate_final_summary': {'final_summary': \"The consolidated summary of the main themes from the provided documents focuses on the advancements in artificial intelligence, particularly the integration of large language models (LLMs) in autonomous agents and software development. Key themes include:\\n\\n1. **Integration of LLMs in Autonomous Agents**: LLMs serve as core controllers for autonomous agents, enabling complex task execution through structured methodologies, including planning, self-reflection, and interaction with external tools.\\n\\n2. **Planning and Task Decomposition**: Effective planning is essential, utilizing techniques like Chain of Thought (CoT) and Tree of Thoughts to break tasks into manageable subgoals, supported by external classical planners for long-horizon planning.\\n\\n3. **Self-Reflection and Iterative Improvement**: Self-reflection is crucial for refining decision-making processes, with frameworks like ReAct and Reflexion enhancing agent performance through dynamic memory and iterative learning.\\n\\n4. **Memory Utilization**: Different types of memory (sensory, short-term, long-term) support in-context learning and efficient information retrieval, linked to machine learning techniques that improve learning efficiency.\\n\\n5. **Challenges and Solutions**: The documents address challenges such as hallucination in LLM outputs, proposing methods like Chain of Hindsight (CoH) and Algorithm Distillation (AD) to enhance model performance through historical data and feedback.\\n\\n6. **Software Development Practices**: A structured approach to software development is emphasized, including task management, code implementation, and thorough documentation, particularly in projects like creating a Super Mario game using Python with an MVC architecture.\\n\\n7. **Limitations of LLMs**: The documents discuss the constraints of LLMs, such as finite context length and challenges in long-term planning, highlighting the need for careful parsing of outputs and the complexities of using natural language interfaces.\\n\\n8. **Neuro-Symbolic Architectures**: The integration of expert modules with LLMs, as seen in systems like MRKL, enhances problem-solving capabilities, particularly in verbal tasks, while frameworks like TALM and Toolformer improve LLMs' ability to utilize external APIs.\\n\\n9. **Applications in Various Domains**: The potential of LLM-powered generative agents is explored, particularly in drug discovery and simulating human-like interactions, showcasing the versatility of autonomous agent systems.\\n\\nOverall, these themes illustrate the evolving capabilities and challenges of AI technologies, emphasizing structured workflows, memory utilization, and the integration of tools to enhance performance in complex tasks across diverse fields.\"}}\n"
     ]
    }
   ],
   "source": [
    "print(step)"
   ]
  },
  {
   "cell_type": "markdown",
   "id": "f15c225a-db1d-48cf-b135-f588e7d615e6",
   "metadata": {},
   "source": [
    "## Next steps\n",
    "\n",
    "Check out the [LangGraph documentation](https://langchain-ai.github.io/langgraph/) for detail on building with LangGraph, including [this guide](https://langchain-ai.github.io/langgraph/how-tos/map-reduce/) on the details of map-reduce in LangGraph.\n",
    "\n",
    "See the summarization [how-to guides](/docs/how_to/#summarization) for additional summarization strategies, including those designed for larger volumes of text.\n",
    "\n",
    "See also [this tutorial](/docs/tutorials/summarization) for more detail on summarization."
   ]
  }
 ],
 "metadata": {
  "kernelspec": {
   "display_name": "Python 3 (ipykernel)",
   "language": "python",
   "name": "python3"
  },
  "language_info": {
   "codemirror_mode": {
    "name": "ipython",
    "version": 3
   },
   "file_extension": ".py",
   "mimetype": "text/x-python",
   "name": "python",
   "nbconvert_exporter": "python",
   "pygments_lexer": "ipython3",
   "version": "3.11.9"
  }
 },
 "nbformat": 4,
 "nbformat_minor": 5
}
