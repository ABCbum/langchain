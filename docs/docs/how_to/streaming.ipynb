{
 "cells": [
  {
   "cell_type": "raw",
   "id": "0bdb3b97-4989-4237-b43b-5943dbbd8302",
   "metadata": {
    "vscode": {
     "languageId": "raw"
    }
   },
   "source": [
    "---\n",
    "keywords: [stream]\n",
    "---"
   ]
  },
  {
   "cell_type": "markdown",
   "id": "bb7d49db-04d3-4399-bfe1-09f82bbe6015",
   "metadata": {},
   "source": [
    "# How to stream runnables\n",
    "\n",
    ":::info Prerequisites\n",
    "\n",
    "This guide assumes familiarity with the following concepts:\n",
    "- [Chat models](/docs/concepts/#chat-models)\n",
    "- [LangChain Expression Language](/docs/concepts/#langchain-expression-language)\n",
    "- [Output parsers](/docs/concepts/#output-parsers)\n",
    "\n",
    ":::\n",
    "\n",
    "Streaming is critical in making applications based on LLMs feel responsive to end-users.\n",
    "\n",
    "Important LangChain primitives like [chat models](/docs/concepts/#chat-models), [output parsers](/docs/concepts/#output-parsers), [prompts](/docs/concepts/#prompt-templates), [retrievers](/docs/concepts/#retrievers), and [agents](/docs/concepts/#agents) implement the LangChain [Runnable Interface](/docs/concepts#interface).\n",
    "\n",
    "This interface provides two general approaches to stream content:\n",
    "\n",
    "1. sync `stream` and async `astream`: a **default implementation** of streaming that streams the **final output** from the chain.\n",
    "2. async `astream_events` and async `astream_log`: these provide a way to stream both **intermediate steps** and **final output** from the chain.\n",
    "\n",
    "Let's take a look at both approaches, and try to understand how to use them.\n",
    "\n",
    ":::info\n",
    "For a higher-level overview of streaming techniques in LangChain, see [this section of the conceptual guide](/docs/concepts/#streaming).\n",
    ":::\n",
    "\n",
    "## Using Stream\n",
    "\n",
    "All `Runnable` objects implement a sync method called `stream` and an async variant called `astream`. \n",
    "\n",
    "These methods are designed to stream the final output in chunks, yielding each chunk as soon as it is available.\n",
    "\n",
    "Streaming is only possible if all steps in the program know how to process an **input stream**; i.e., process an input chunk one at a time, and yield a corresponding output chunk.\n",
    "\n",
    "The complexity of this processing can vary, from straightforward tasks like emitting tokens produced by an LLM, to more challenging ones like streaming parts of JSON results before the entire JSON is complete.\n",
    "\n",
    "The best place to start exploring streaming is with the single most important components in LLMs apps-- the LLMs themselves!\n",
    "\n",
    "### LLMs and Chat Models\n",
    "\n",
    "Large language models and their chat variants are the primary bottleneck in LLM based apps.\n",
    "\n",
    "Large language models can take **several seconds** to generate a complete response to a query. This is far slower than the **~200-300 ms** threshold at which an application feels responsive to an end user.\n",
    "\n",
    "The key strategy to make the application feel more responsive is to show intermediate progress; viz., to stream the output from the model **token by token**.\n",
    "\n",
    "We will show examples of streaming using a chat model. Choose one from the options below:\n",
    "\n",
    "```{=mdx}\n",
    "import ChatModelTabs from \"@theme/ChatModelTabs\";\n",
    "\n",
    "<ChatModelTabs\n",
    "  customVarName=\"model\"\n",
    "/>\n",
    "```"
   ]
  },
  {
   "cell_type": "code",
   "execution_count": 1,
   "id": "f123bdcb-8c8b-440c-9bbd-aa5ed4e9cd17",
   "metadata": {
    "execution": {
     "iopub.execute_input": "2024-09-11T18:58:09.747369Z",
     "iopub.status.busy": "2024-09-11T18:58:09.747258Z",
     "iopub.status.idle": "2024-09-11T18:58:11.597962Z",
     "shell.execute_reply": "2024-09-11T18:58:11.597621Z"
    }
   },
   "outputs": [
    {
     "name": "stdout",
     "output_type": "stream",
     "text": [
      "Note: you may need to restart the kernel to use updated packages.\n"
     ]
    }
   ],
   "source": [
    "# | output: false\n",
    "# | echo: false\n",
    "\n",
    "%pip install -qU langchain langchain_anthropic\n",
    "\n",
    "import os\n",
    "from getpass import getpass\n",
    "\n",
    "keys = [\n",
    "    \"ANTHROPIC_API_KEY\",\n",
    "    \"OPENAI_API_KEY\",\n",
    "]\n",
    "\n",
    "for key in keys:\n",
    "    if key not in os.environ:\n",
    "        os.environ[key] = getpass(f\"Enter API Key for {key}=?\")\n",
    "\n",
    "\n",
    "from langchain_anthropic import ChatAnthropic\n",
    "\n",
    "model = ChatAnthropic(model=\"claude-3-sonnet-20240229\", temperature=0)"
   ]
  },
  {
   "cell_type": "markdown",
   "id": "a2464c57-0e89-4159-b21f-5859a21be658",
   "metadata": {},
   "source": [
    "Let's start with the sync `stream` API:"
   ]
  },
  {
   "cell_type": "code",
   "execution_count": 2,
   "id": "8b44dfb2-0749-487a-8918-f8b6b8233093",
   "metadata": {
    "execution": {
     "iopub.execute_input": "2024-09-11T18:58:11.599678Z",
     "iopub.status.busy": "2024-09-11T18:58:11.599555Z",
     "iopub.status.idle": "2024-09-11T18:58:12.783950Z",
     "shell.execute_reply": "2024-09-11T18:58:12.783193Z"
    }
   },
   "outputs": [
    {
     "name": "stdout",
     "output_type": "stream",
     "text": [
      "|"
     ]
    },
    {
     "name": "stdout",
     "output_type": "stream",
     "text": [
      "The sky appears|"
     ]
    },
    {
     "name": "stdout",
     "output_type": "stream",
     "text": [
      " blue during|"
     ]
    },
    {
     "name": "stdout",
     "output_type": "stream",
     "text": [
      " the da|"
     ]
    },
    {
     "name": "stdout",
     "output_type": "stream",
     "text": [
      "ytime.|"
     ]
    },
    {
     "name": "stdout",
     "output_type": "stream",
     "text": [
      "|"
     ]
    }
   ],
   "source": [
    "chunks = []\n",
    "for chunk in model.stream(\"what color is the sky?\"):\n",
    "    chunks.append(chunk)\n",
    "    print(chunk.content, end=\"|\", flush=True)"
   ]
  },
  {
   "cell_type": "markdown",
   "id": "8d835b5c-cbb7-41ab-8905-bdc24d515d29",
   "metadata": {},
   "source": [
    "Alternatively, if you're working in an async environment, you may consider using the async `astream` API:"
   ]
  },
  {
   "cell_type": "code",
   "execution_count": 3,
   "id": "f180b6a0-0027-4bd8-8bab-fde76e282609",
   "metadata": {
    "execution": {
     "iopub.execute_input": "2024-09-11T18:58:12.787384Z",
     "iopub.status.busy": "2024-09-11T18:58:12.787024Z",
     "iopub.status.idle": "2024-09-11T18:58:13.780975Z",
     "shell.execute_reply": "2024-09-11T18:58:13.780379Z"
    }
   },
   "outputs": [
    {
     "name": "stdout",
     "output_type": "stream",
     "text": [
      "|"
     ]
    },
    {
     "name": "stdout",
     "output_type": "stream",
     "text": [
      "The sky appears|"
     ]
    },
    {
     "name": "stdout",
     "output_type": "stream",
     "text": [
      " blue during|"
     ]
    },
    {
     "name": "stdout",
     "output_type": "stream",
     "text": [
      " the da|"
     ]
    },
    {
     "name": "stdout",
     "output_type": "stream",
     "text": [
      "ytime.|"
     ]
    },
    {
     "name": "stdout",
     "output_type": "stream",
     "text": [
      "|"
     ]
    }
   ],
   "source": [
    "chunks = []\n",
    "async for chunk in model.astream(\"what color is the sky?\"):\n",
    "    chunks.append(chunk)\n",
    "    print(chunk.content, end=\"|\", flush=True)"
   ]
  },
  {
   "cell_type": "markdown",
   "id": "66730a87-77d5-40d6-a68f-315121989bd1",
   "metadata": {},
   "source": [
    "Let's inspect one of the chunks"
   ]
  },
  {
   "cell_type": "code",
   "execution_count": 4,
   "id": "dade3000-1ac4-4f5c-b5c6-a0217f9f8a6b",
   "metadata": {
    "execution": {
     "iopub.execute_input": "2024-09-11T18:58:13.784707Z",
     "iopub.status.busy": "2024-09-11T18:58:13.784371Z",
     "iopub.status.idle": "2024-09-11T18:58:13.793869Z",
     "shell.execute_reply": "2024-09-11T18:58:13.793261Z"
    }
   },
   "outputs": [
    {
     "data": {
      "text/plain": [
       "AIMessageChunk(content='', additional_kwargs={}, response_metadata={}, id='run-429301f6-462a-4989-82da-a013b04263d7', usage_metadata={'input_tokens': 13, 'output_tokens': 0, 'total_tokens': 13})"
      ]
     },
     "execution_count": 4,
     "metadata": {},
     "output_type": "execute_result"
    }
   ],
   "source": [
    "chunks[0]"
   ]
  },
  {
   "cell_type": "markdown",
   "id": "a3a47193-2bd1-46bc-9c7e-ea0f6b08c4a5",
   "metadata": {},
   "source": [
    "We got back something called an `AIMessageChunk`. This chunk represents a part of an `AIMessage`.\n",
    "\n",
    "Message chunks are additive by design -- one can simply add them up to get the state of the response so far!"
   ]
  },
  {
   "cell_type": "code",
   "execution_count": 5,
   "id": "d3cf5f38-249c-4da0-94e6-5e5203fad52e",
   "metadata": {
    "execution": {
     "iopub.execute_input": "2024-09-11T18:58:13.796549Z",
     "iopub.status.busy": "2024-09-11T18:58:13.796323Z",
     "iopub.status.idle": "2024-09-11T18:58:13.801756Z",
     "shell.execute_reply": "2024-09-11T18:58:13.800900Z"
    }
   },
   "outputs": [
    {
     "data": {
      "text/plain": [
       "AIMessageChunk(content='The sky appears blue during the daytime.', additional_kwargs={}, response_metadata={}, id='run-429301f6-462a-4989-82da-a013b04263d7', usage_metadata={'input_tokens': 13, 'output_tokens': 0, 'total_tokens': 13})"
      ]
     },
     "execution_count": 5,
     "metadata": {},
     "output_type": "execute_result"
    }
   ],
   "source": [
    "chunks[0] + chunks[1] + chunks[2] + chunks[3] + chunks[4]"
   ]
  },
  {
   "cell_type": "markdown",
   "id": "59ffbd9a-3b79-44b6-8883-1371f9460c77",
   "metadata": {},
   "source": [
    "### Chains\n",
    "\n",
    "Virtually all LLM applications involve more steps than just a call to a language model.\n",
    "\n",
    "Let's build a simple chain using `LangChain Expression Language` (`LCEL`) that combines a prompt, model and a parser and verify that streaming works.\n",
    "\n",
    "We will use [`StrOutputParser`](https://python.langchain.com/v0.2/api_reference/core/output_parsers/langchain_core.output_parsers.string.StrOutputParser.html) to parse the output from the model. This is a simple parser that extracts the `content` field from an `AIMessageChunk`, giving us the `token` returned by the model.\n",
    "\n",
    ":::{.callout-tip}\n",
    "LCEL is a *declarative* way to specify a \"program\" by chainining together different LangChain primitives. Chains created using LCEL benefit from an automatic implementation of `stream` and `astream` allowing streaming of the final output. In fact, chains created with LCEL implement the entire standard Runnable interface.\n",
    ":::"
   ]
  },
  {
   "cell_type": "code",
   "execution_count": 6,
   "id": "a8562ae2-3fd1-4829-9801-a5a732b1798d",
   "metadata": {
    "execution": {
     "iopub.execute_input": "2024-09-11T18:58:13.805599Z",
     "iopub.status.busy": "2024-09-11T18:58:13.805201Z",
     "iopub.status.idle": "2024-09-11T18:58:17.451484Z",
     "shell.execute_reply": "2024-09-11T18:58:17.450880Z"
    }
   },
   "outputs": [
    {
     "name": "stdout",
     "output_type": "stream",
     "text": [
      "|"
     ]
    },
    {
     "name": "stdout",
     "output_type": "stream",
     "text": [
      "Here's a joke|"
     ]
    },
    {
     "name": "stdout",
     "output_type": "stream",
     "text": [
      " about a parrot|"
     ]
    },
    {
     "name": "stdout",
     "output_type": "stream",
     "text": [
      ":|"
     ]
    },
    {
     "name": "stdout",
     "output_type": "stream",
     "text": [
      "\n",
      "\n",
      "A man|"
     ]
    },
    {
     "name": "stdout",
     "output_type": "stream",
     "text": [
      " goes|"
     ]
    },
    {
     "name": "stdout",
     "output_type": "stream",
     "text": [
      " to a|"
     ]
    },
    {
     "name": "stdout",
     "output_type": "stream",
     "text": [
      " pet shop|"
     ]
    },
    {
     "name": "stdout",
     "output_type": "stream",
     "text": [
      " to|"
     ]
    },
    {
     "name": "stdout",
     "output_type": "stream",
     "text": [
      " buy a parrot|"
     ]
    },
    {
     "name": "stdout",
     "output_type": "stream",
     "text": [
      ". The|"
     ]
    },
    {
     "name": "stdout",
     "output_type": "stream",
     "text": [
      " shop|"
     ]
    },
    {
     "name": "stdout",
     "output_type": "stream",
     "text": [
      " owner shows|"
     ]
    },
    {
     "name": "stdout",
     "output_type": "stream",
     "text": [
      " him two|"
     ]
    },
    {
     "name": "stdout",
     "output_type": "stream",
     "text": [
      " stunning|"
     ]
    },
    {
     "name": "stdout",
     "output_type": "stream",
     "text": [
      " pa|"
     ]
    },
    {
     "name": "stdout",
     "output_type": "stream",
     "text": [
      "rrots with|"
     ]
    },
    {
     "name": "stdout",
     "output_type": "stream",
     "text": [
      " beautiful|"
     ]
    },
    {
     "name": "stdout",
     "output_type": "stream",
     "text": [
      " plumage.|"
     ]
    },
    {
     "name": "stdout",
     "output_type": "stream",
     "text": [
      "\n",
      "\n",
      "\"There|"
     ]
    },
    {
     "name": "stdout",
     "output_type": "stream",
     "text": [
      "'s a|"
     ]
    },
    {
     "name": "stdout",
     "output_type": "stream",
     "text": [
      " talking|"
     ]
    },
    {
     "name": "stdout",
     "output_type": "stream",
     "text": [
      " parrot an|"
     ]
    },
    {
     "name": "stdout",
     "output_type": "stream",
     "text": [
      "d a non|"
     ]
    },
    {
     "name": "stdout",
     "output_type": "stream",
     "text": [
      "-talking parrot|"
     ]
    },
    {
     "name": "stdout",
     "output_type": "stream",
     "text": [
      ",\" the owner says|"
     ]
    },
    {
     "name": "stdout",
     "output_type": "stream",
     "text": [
      ". \"The talking|"
     ]
    },
    {
     "name": "stdout",
     "output_type": "stream",
     "text": [
      " parrot costs|"
     ]
    },
    {
     "name": "stdout",
     "output_type": "stream",
     "text": [
      " $100|"
     ]
    },
    {
     "name": "stdout",
     "output_type": "stream",
     "text": [
      ",|"
     ]
    },
    {
     "name": "stdout",
     "output_type": "stream",
     "text": [
      " and the non-|"
     ]
    },
    {
     "name": "stdout",
     "output_type": "stream",
     "text": [
      "talking parrot is|"
     ]
    },
    {
     "name": "stdout",
     "output_type": "stream",
     "text": [
      " $20|"
     ]
    },
    {
     "name": "stdout",
     "output_type": "stream",
     "text": [
      ".\"\n",
      "\n",
      "The man|"
     ]
    },
    {
     "name": "stdout",
     "output_type": "stream",
     "text": [
      " says|"
     ]
    },
    {
     "name": "stdout",
     "output_type": "stream",
     "text": [
      ", \"I'll|"
     ]
    },
    {
     "name": "stdout",
     "output_type": "stream",
     "text": [
      " take the non|"
     ]
    },
    {
     "name": "stdout",
     "output_type": "stream",
     "text": [
      "-talking parrot|"
     ]
    },
    {
     "name": "stdout",
     "output_type": "stream",
     "text": [
      " at|"
     ]
    },
    {
     "name": "stdout",
     "output_type": "stream",
     "text": [
      " $20.\"|"
     ]
    },
    {
     "name": "stdout",
     "output_type": "stream",
     "text": [
      "\n",
      "\n",
      "He|"
     ]
    },
    {
     "name": "stdout",
     "output_type": "stream",
     "text": [
      " pays|"
     ]
    },
    {
     "name": "stdout",
     "output_type": "stream",
     "text": [
      " an|"
     ]
    },
    {
     "name": "stdout",
     "output_type": "stream",
     "text": [
      "d leaves|"
     ]
    },
    {
     "name": "stdout",
     "output_type": "stream",
     "text": [
      " with|"
     ]
    },
    {
     "name": "stdout",
     "output_type": "stream",
     "text": [
      " the parrot.|"
     ]
    },
    {
     "name": "stdout",
     "output_type": "stream",
     "text": [
      " As he's walking|"
     ]
    },
    {
     "name": "stdout",
     "output_type": "stream",
     "text": [
      " down|"
     ]
    },
    {
     "name": "stdout",
     "output_type": "stream",
     "text": [
      " the street, the|"
     ]
    },
    {
     "name": "stdout",
     "output_type": "stream",
     "text": [
      " par|"
     ]
    },
    {
     "name": "stdout",
     "output_type": "stream",
     "text": [
      "rot looks|"
     ]
    },
    {
     "name": "stdout",
     "output_type": "stream",
     "text": [
      " up|"
     ]
    },
    {
     "name": "stdout",
     "output_type": "stream",
     "text": [
      " at him and says|"
     ]
    },
    {
     "name": "stdout",
     "output_type": "stream",
     "text": [
      ", \"Hey|"
     ]
    },
    {
     "name": "stdout",
     "output_type": "stream",
     "text": [
      ", buddy|"
     ]
    },
    {
     "name": "stdout",
     "output_type": "stream",
     "text": [
      ", you|"
     ]
    },
    {
     "name": "stdout",
     "output_type": "stream",
     "text": [
      " got|"
     ]
    },
    {
     "name": "stdout",
     "output_type": "stream",
     "text": [
      " r|"
     ]
    },
    {
     "name": "stdout",
     "output_type": "stream",
     "text": [
      "ipped off big|"
     ]
    },
    {
     "name": "stdout",
     "output_type": "stream",
     "text": [
      " time!\"|"
     ]
    },
    {
     "name": "stdout",
     "output_type": "stream",
     "text": [
      "|"
     ]
    }
   ],
   "source": [
    "from langchain_core.output_parsers import StrOutputParser\n",
    "from langchain_core.prompts import ChatPromptTemplate\n",
    "\n",
    "prompt = ChatPromptTemplate.from_template(\"tell me a joke about {topic}\")\n",
    "parser = StrOutputParser()\n",
    "chain = prompt | model | parser\n",
    "\n",
    "async for chunk in chain.astream({\"topic\": \"parrot\"}):\n",
    "    print(chunk, end=\"|\", flush=True)"
   ]
  },
  {
   "cell_type": "markdown",
   "id": "868bc412",
   "metadata": {},
   "source": [
    "Note that we're getting streaming output even though we're using `parser` at the end of the chain above. The `parser` operates on each streaming chunk individidually. Many of the [LCEL primitives](/docs/how_to#langchain-expression-language-lcel) also support this kind of transform-style passthrough streaming, which can be very convenient when constructing apps. \n",
    "\n",
    "Custom functions can be [designed to return generators](/docs/how_to/functions#streaming), which are able to operate on streams.\n",
    "\n",
    "Certain runnables, like [prompt templates](/docs/how_to#prompt-templates) and [chat models](/docs/how_to#chat-models), cannot process individual chunks and instead aggregate all previous steps. Such runnables can interrupt the streaming process."
   ]
  },
  {
   "cell_type": "markdown",
   "id": "1b399fb4-5e3c-4581-9570-6df9b42b623d",
   "metadata": {},
   "source": [
    ":::{.callout-note}\n",
    "The LangChain Expression language allows you to separate the construction of a chain from the mode in which it is used (e.g., sync/async, batch/streaming etc.). If this is not relevant to what you're building, you can also rely on a standard **imperative** programming approach by\n",
    "caling `invoke`, `batch` or `stream` on each component individually, assigning the results to variables and then using them downstream as you see fit.\n",
    "\n",
    ":::"
   ]
  },
  {
   "cell_type": "markdown",
   "id": "dfff2701-8887-486f-8b3b-eb26383d4bb6",
   "metadata": {},
   "source": [
    "### Working with Input Streams\n",
    "\n",
    "What if you wanted to stream JSON from the output as it was being generated?\n",
    "\n",
    "If you were to rely on `json.loads` to parse the partial json, the parsing would fail as the partial json wouldn't be valid json.\n",
    "\n",
    "You'd likely be at a complete loss of what to do and claim that it wasn't possible to stream JSON.\n",
    "\n",
    "Well, turns out there is a way to do it -- the parser needs to operate on the **input stream**, and attempt to \"auto-complete\" the partial json into a valid state.\n",
    "\n",
    "Let's see such a parser in action to understand what this means."
   ]
  },
  {
   "cell_type": "code",
   "execution_count": 7,
   "id": "5ff63cce-715a-4561-951f-9321c82e8d81",
   "metadata": {
    "execution": {
     "iopub.execute_input": "2024-09-11T18:58:17.457663Z",
     "iopub.status.busy": "2024-09-11T18:58:17.457340Z",
     "iopub.status.idle": "2024-09-11T18:58:19.543082Z",
     "shell.execute_reply": "2024-09-11T18:58:19.542504Z"
    }
   },
   "outputs": [
    {
     "name": "stdout",
     "output_type": "stream",
     "text": [
      "{}\n"
     ]
    },
    {
     "name": "stdout",
     "output_type": "stream",
     "text": [
      "{'countries': []}\n"
     ]
    },
    {
     "name": "stdout",
     "output_type": "stream",
     "text": [
      "{'countries': [{}]}\n"
     ]
    },
    {
     "name": "stdout",
     "output_type": "stream",
     "text": [
      "{'countries': [{'name': 'France'}]}\n"
     ]
    },
    {
     "name": "stdout",
     "output_type": "stream",
     "text": [
      "{'countries': [{'name': 'France', 'population': 67}]}\n"
     ]
    },
    {
     "name": "stdout",
     "output_type": "stream",
     "text": [
      "{'countries': [{'name': 'France', 'population': 67413}]}\n"
     ]
    },
    {
     "name": "stdout",
     "output_type": "stream",
     "text": [
      "{'countries': [{'name': 'France', 'population': 67413000}]}\n"
     ]
    },
    {
     "name": "stdout",
     "output_type": "stream",
     "text": [
      "{'countries': [{'name': 'France', 'population': 67413000}, {}]}\n"
     ]
    },
    {
     "name": "stdout",
     "output_type": "stream",
     "text": [
      "{'countries': [{'name': 'France', 'population': 67413000}, {'name': 'Spain'}]}\n"
     ]
    },
    {
     "name": "stdout",
     "output_type": "stream",
     "text": [
      "{'countries': [{'name': 'France', 'population': 67413000}, {'name': 'Spain', 'population': 47}]}\n"
     ]
    },
    {
     "name": "stdout",
     "output_type": "stream",
     "text": [
      "{'countries': [{'name': 'France', 'population': 67413000}, {'name': 'Spain', 'population': 47351}]}\n"
     ]
    },
    {
     "name": "stdout",
     "output_type": "stream",
     "text": [
      "{'countries': [{'name': 'France', 'population': 67413000}, {'name': 'Spain', 'population': 47351567}]}\n"
     ]
    },
    {
     "name": "stdout",
     "output_type": "stream",
     "text": [
      "{'countries': [{'name': 'France', 'population': 67413000}, {'name': 'Spain', 'population': 47351567}, {}]}\n"
     ]
    },
    {
     "name": "stdout",
     "output_type": "stream",
     "text": [
      "{'countries': [{'name': 'France', 'population': 67413000}, {'name': 'Spain', 'population': 47351567}, {'name': ''}]}\n"
     ]
    },
    {
     "name": "stdout",
     "output_type": "stream",
     "text": [
      "{'countries': [{'name': 'France', 'population': 67413000}, {'name': 'Spain', 'population': 47351567}, {'name': 'Japan'}]}\n"
     ]
    },
    {
     "name": "stdout",
     "output_type": "stream",
     "text": [
      "{'countries': [{'name': 'France', 'population': 67413000}, {'name': 'Spain', 'population': 47351567}, {'name': 'Japan', 'population': 125}]}\n"
     ]
    },
    {
     "name": "stdout",
     "output_type": "stream",
     "text": [
      "{'countries': [{'name': 'France', 'population': 67413000}, {'name': 'Spain', 'population': 47351567}, {'name': 'Japan', 'population': 125584}]}\n"
     ]
    },
    {
     "name": "stdout",
     "output_type": "stream",
     "text": [
      "{'countries': [{'name': 'France', 'population': 67413000}, {'name': 'Spain', 'population': 47351567}, {'name': 'Japan', 'population': 125584000}]}\n"
     ]
    }
   ],
   "source": [
    "from langchain_core.output_parsers import JsonOutputParser\n",
    "\n",
    "chain = (\n",
    "    model | JsonOutputParser()\n",
    ")  # Due to a bug in older versions of Langchain, JsonOutputParser did not stream results from some models\n",
    "async for text in chain.astream(\n",
    "    \"output a list of the countries france, spain and japan and their populations in JSON format. \"\n",
    "    'Use a dict with an outer key of \"countries\" which contains a list of countries. '\n",
    "    \"Each country should have the key `name` and `population`\"\n",
    "):\n",
    "    print(text, flush=True)"
   ]
  },
  {
   "cell_type": "markdown",
   "id": "151d4323-a6cf-49be-8779-e8797c5e3b00",
   "metadata": {},
   "source": [
    "Now, let's **break** streaming. We'll use the previous example and append an extraction function at the end that extracts the country names from the finalized JSON.\n",
    "\n",
    ":::{.callout-warning}\n",
    "Any steps in the chain that operate on **finalized inputs** rather than on **input streams** can break streaming functionality via `stream` or `astream`.\n",
    ":::\n",
    "\n",
    ":::{.callout-tip}\n",
    "Later, we will discuss the `astream_events` API which streams results from intermediate steps. This API will stream results from intermediate steps even if the chain contains steps that only operate on **finalized inputs**.\n",
    ":::"
   ]
  },
  {
   "cell_type": "code",
   "execution_count": 8,
   "id": "d9c90117-9faa-4a01-b484-0db071808d1f",
   "metadata": {
    "execution": {
     "iopub.execute_input": "2024-09-11T18:58:19.548390Z",
     "iopub.status.busy": "2024-09-11T18:58:19.548141Z",
     "iopub.status.idle": "2024-09-11T18:58:21.658224Z",
     "shell.execute_reply": "2024-09-11T18:58:21.657717Z"
    }
   },
   "outputs": [
    {
     "name": "stdout",
     "output_type": "stream",
     "text": [
      "['France', 'Spain', 'Japan']|"
     ]
    }
   ],
   "source": [
    "from langchain_core.output_parsers import (\n",
    "    JsonOutputParser,\n",
    ")\n",
    "\n",
    "\n",
    "# A function that operates on finalized inputs\n",
    "# rather than on an input_stream\n",
    "def _extract_country_names(inputs):\n",
    "    \"\"\"A function that does not operates on input streams and breaks streaming.\"\"\"\n",
    "    if not isinstance(inputs, dict):\n",
    "        return \"\"\n",
    "\n",
    "    if \"countries\" not in inputs:\n",
    "        return \"\"\n",
    "\n",
    "    countries = inputs[\"countries\"]\n",
    "\n",
    "    if not isinstance(countries, list):\n",
    "        return \"\"\n",
    "\n",
    "    country_names = [\n",
    "        country.get(\"name\") for country in countries if isinstance(country, dict)\n",
    "    ]\n",
    "    return country_names\n",
    "\n",
    "\n",
    "chain = model | JsonOutputParser() | _extract_country_names\n",
    "\n",
    "async for text in chain.astream(\n",
    "    \"output a list of the countries france, spain and japan and their populations in JSON format. \"\n",
    "    'Use a dict with an outer key of \"countries\" which contains a list of countries. '\n",
    "    \"Each country should have the key `name` and `population`\"\n",
    "):\n",
    "    print(text, end=\"|\", flush=True)"
   ]
  },
  {
   "cell_type": "markdown",
   "id": "cab6dca2-2027-414d-a196-2db6e3ebb8a5",
   "metadata": {},
   "source": [
    "#### Generator Functions\n",
    "\n",
    "Let's fix the streaming using a generator function that can operate on the **input stream**.\n",
    "\n",
    ":::{.callout-tip}\n",
    "A generator function (a function that uses `yield`) allows writing code that operates on **input streams**\n",
    ":::"
   ]
  },
  {
   "cell_type": "code",
   "execution_count": 9,
   "id": "15984b2b-315a-4119-945b-2a3dabea3082",
   "metadata": {
    "execution": {
     "iopub.execute_input": "2024-09-11T18:58:21.661352Z",
     "iopub.status.busy": "2024-09-11T18:58:21.661120Z",
     "iopub.status.idle": "2024-09-11T18:58:23.747185Z",
     "shell.execute_reply": "2024-09-11T18:58:23.746495Z"
    }
   },
   "outputs": [
    {
     "name": "stdout",
     "output_type": "stream",
     "text": [
      "France|"
     ]
    },
    {
     "name": "stdout",
     "output_type": "stream",
     "text": [
      "Spain|"
     ]
    },
    {
     "name": "stdout",
     "output_type": "stream",
     "text": [
      "Japan|"
     ]
    }
   ],
   "source": [
    "from langchain_core.output_parsers import JsonOutputParser\n",
    "\n",
    "\n",
    "async def _extract_country_names_streaming(input_stream):\n",
    "    \"\"\"A function that operates on input streams.\"\"\"\n",
    "    country_names_so_far = set()\n",
    "\n",
    "    async for input in input_stream:\n",
    "        if not isinstance(input, dict):\n",
    "            continue\n",
    "\n",
    "        if \"countries\" not in input:\n",
    "            continue\n",
    "\n",
    "        countries = input[\"countries\"]\n",
    "\n",
    "        if not isinstance(countries, list):\n",
    "            continue\n",
    "\n",
    "        for country in countries:\n",
    "            name = country.get(\"name\")\n",
    "            if not name:\n",
    "                continue\n",
    "            if name not in country_names_so_far:\n",
    "                yield name\n",
    "                country_names_so_far.add(name)\n",
    "\n",
    "\n",
    "chain = model | JsonOutputParser() | _extract_country_names_streaming\n",
    "\n",
    "async for text in chain.astream(\n",
    "    \"output a list of the countries france, spain and japan and their populations in JSON format. \"\n",
    "    'Use a dict with an outer key of \"countries\" which contains a list of countries. '\n",
    "    \"Each country should have the key `name` and `population`\",\n",
    "):\n",
    "    print(text, end=\"|\", flush=True)"
   ]
  },
  {
   "cell_type": "markdown",
   "id": "d59823f5-9b9a-43c5-a213-34644e2f1d3d",
   "metadata": {},
   "source": [
    ":::{.callout-note}\n",
    "Because the code above is relying on JSON auto-completion, you may see partial names of countries (e.g., `Sp` and `Spain`), which is not what one would want for an extraction result!\n",
    "\n",
    "We're focusing on streaming concepts, not necessarily the results of the chains.\n",
    ":::"
   ]
  },
  {
   "cell_type": "markdown",
   "id": "6adf65b7-aa47-4321-98c7-a0abe43b833a",
   "metadata": {},
   "source": [
    "### Non-streaming components\n",
    "\n",
    "Some built-in components like Retrievers do not offer any `streaming`. What happens if we try to `stream` them? 🤨"
   ]
  },
  {
   "cell_type": "code",
   "execution_count": 10,
   "id": "b9b1c00d-8b44-40d0-9e2b-8a70d238f82b",
   "metadata": {
    "execution": {
     "iopub.execute_input": "2024-09-11T18:58:23.750983Z",
     "iopub.status.busy": "2024-09-11T18:58:23.750759Z",
     "iopub.status.idle": "2024-09-11T18:58:24.993156Z",
     "shell.execute_reply": "2024-09-11T18:58:24.992723Z"
    }
   },
   "outputs": [
    {
     "data": {
      "text/plain": [
       "[[Document(metadata={}, page_content='harrison worked at kensho'),\n",
       "  Document(metadata={}, page_content='harrison likes spicy food')]]"
      ]
     },
     "execution_count": 10,
     "metadata": {},
     "output_type": "execute_result"
    }
   ],
   "source": [
    "from langchain_community.vectorstores import FAISS\n",
    "from langchain_core.output_parsers import StrOutputParser\n",
    "from langchain_core.prompts import ChatPromptTemplate\n",
    "from langchain_core.runnables import RunnablePassthrough\n",
    "from langchain_openai import OpenAIEmbeddings\n",
    "\n",
    "template = \"\"\"Answer the question based only on the following context:\n",
    "{context}\n",
    "\n",
    "Question: {question}\n",
    "\"\"\"\n",
    "prompt = ChatPromptTemplate.from_template(template)\n",
    "\n",
    "vectorstore = FAISS.from_texts(\n",
    "    [\"harrison worked at kensho\", \"harrison likes spicy food\"],\n",
    "    embedding=OpenAIEmbeddings(),\n",
    ")\n",
    "retriever = vectorstore.as_retriever()\n",
    "\n",
    "chunks = [chunk for chunk in retriever.stream(\"where did harrison work?\")]\n",
    "chunks"
   ]
  },
  {
   "cell_type": "markdown",
   "id": "6fd3e71b-439e-418f-8a8a-5232fba3d9fd",
   "metadata": {},
   "source": [
    "Stream just yielded the final result from that component.\n",
    "\n",
    "This is OK 🥹! Not all components have to implement streaming -- in some cases streaming is either unnecessary, difficult or just doesn't make sense.\n",
    "\n",
    ":::{.callout-tip}\n",
    "An LCEL chain constructed using non-streaming components, will still be able to stream in a lot of cases, with streaming of partial output starting after the last non-streaming step in the chain.\n",
    ":::"
   ]
  },
  {
   "cell_type": "code",
   "execution_count": 11,
   "id": "957447e6-1e60-41ef-8c10-2654bd9e738d",
   "metadata": {
    "execution": {
     "iopub.execute_input": "2024-09-11T18:58:24.995350Z",
     "iopub.status.busy": "2024-09-11T18:58:24.995205Z",
     "iopub.status.idle": "2024-09-11T18:58:24.998291Z",
     "shell.execute_reply": "2024-09-11T18:58:24.997924Z"
    }
   },
   "outputs": [],
   "source": [
    "retrieval_chain = (\n",
    "    {\n",
    "        \"context\": retriever.with_config(run_name=\"Docs\"),\n",
    "        \"question\": RunnablePassthrough(),\n",
    "    }\n",
    "    | prompt\n",
    "    | model\n",
    "    | StrOutputParser()\n",
    ")"
   ]
  },
  {
   "cell_type": "code",
   "execution_count": 12,
   "id": "94e50b5d-bf51-4eee-9da0-ee40dd9ce42b",
   "metadata": {
    "execution": {
     "iopub.execute_input": "2024-09-11T18:58:25.000086Z",
     "iopub.status.busy": "2024-09-11T18:58:24.999958Z",
     "iopub.status.idle": "2024-09-11T18:58:27.951444Z",
     "shell.execute_reply": "2024-09-11T18:58:27.950914Z"
    }
   },
   "outputs": [
    {
     "name": "stdout",
     "output_type": "stream",
     "text": [
      "|"
     ]
    },
    {
     "name": "stdout",
     "output_type": "stream",
     "text": [
      "Base|"
     ]
    },
    {
     "name": "stdout",
     "output_type": "stream",
     "text": [
      "d on the given context|"
     ]
    },
    {
     "name": "stdout",
     "output_type": "stream",
     "text": [
      ", Harrison worked at|"
     ]
    },
    {
     "name": "stdout",
     "output_type": "stream",
     "text": [
      " Kensho|"
     ]
    },
    {
     "name": "stdout",
     "output_type": "stream",
     "text": [
      ".|"
     ]
    },
    {
     "name": "stdout",
     "output_type": "stream",
     "text": [
      "\n",
      "\n",
      "Here|"
     ]
    },
    {
     "name": "stdout",
     "output_type": "stream",
     "text": [
      " are 3 |"
     ]
    },
    {
     "name": "stdout",
     "output_type": "stream",
     "text": [
      "made up sentences about|"
     ]
    },
    {
     "name": "stdout",
     "output_type": "stream",
     "text": [
      " this|"
     ]
    },
    {
     "name": "stdout",
     "output_type": "stream",
     "text": [
      " place:\n",
      "\n",
      "1|"
     ]
    },
    {
     "name": "stdout",
     "output_type": "stream",
     "text": [
      ".|"
     ]
    },
    {
     "name": "stdout",
     "output_type": "stream",
     "text": [
      " Kensho was|"
     ]
    },
    {
     "name": "stdout",
     "output_type": "stream",
     "text": [
      " a cutting|"
     ]
    },
    {
     "name": "stdout",
     "output_type": "stream",
     "text": [
      "-edge technology company|"
     ]
    },
    {
     "name": "stdout",
     "output_type": "stream",
     "text": [
      " known|"
     ]
    },
    {
     "name": "stdout",
     "output_type": "stream",
     "text": [
      " for its innovative solutions|"
     ]
    },
    {
     "name": "stdout",
     "output_type": "stream",
     "text": [
      " in artificial|"
     ]
    },
    {
     "name": "stdout",
     "output_type": "stream",
     "text": [
      " intelligence and data|"
     ]
    },
    {
     "name": "stdout",
     "output_type": "stream",
     "text": [
      " analytics|"
     ]
    },
    {
     "name": "stdout",
     "output_type": "stream",
     "text": [
      ".\n",
      "\n",
      "2.|"
     ]
    },
    {
     "name": "stdout",
     "output_type": "stream",
     "text": [
      " The|"
     ]
    },
    {
     "name": "stdout",
     "output_type": "stream",
     "text": [
      " modern|"
     ]
    },
    {
     "name": "stdout",
     "output_type": "stream",
     "text": [
      " office space at|"
     ]
    },
    {
     "name": "stdout",
     "output_type": "stream",
     "text": [
      " Kensho feature|"
     ]
    },
    {
     "name": "stdout",
     "output_type": "stream",
     "text": [
      "d open|"
     ]
    },
    {
     "name": "stdout",
     "output_type": "stream",
     "text": [
      " floor|"
     ]
    },
    {
     "name": "stdout",
     "output_type": "stream",
     "text": [
      " plans, collaborative|"
     ]
    },
    {
     "name": "stdout",
     "output_type": "stream",
     "text": [
      " workspaces,|"
     ]
    },
    {
     "name": "stdout",
     "output_type": "stream",
     "text": [
      " and a vib|"
     ]
    },
    {
     "name": "stdout",
     "output_type": "stream",
     "text": [
      "rant atmosphere that fos|"
     ]
    },
    {
     "name": "stdout",
     "output_type": "stream",
     "text": [
      "tered creativity and team|"
     ]
    },
    {
     "name": "stdout",
     "output_type": "stream",
     "text": [
      "work.\n",
      "\n",
      "3|"
     ]
    },
    {
     "name": "stdout",
     "output_type": "stream",
     "text": [
      ". With|"
     ]
    },
    {
     "name": "stdout",
     "output_type": "stream",
     "text": [
      " its prime|"
     ]
    },
    {
     "name": "stdout",
     "output_type": "stream",
     "text": [
      " location in the heart|"
     ]
    },
    {
     "name": "stdout",
     "output_type": "stream",
     "text": [
      " of the city,|"
     ]
    },
    {
     "name": "stdout",
     "output_type": "stream",
     "text": [
      " Kensho|"
     ]
    },
    {
     "name": "stdout",
     "output_type": "stream",
     "text": [
      " attracte|"
     ]
    },
    {
     "name": "stdout",
     "output_type": "stream",
     "text": [
      "d top talent from aroun"
     ]
    },
    {
     "name": "stdout",
     "output_type": "stream",
     "text": [
      "|"
     ]
    },
    {
     "name": "stdout",
     "output_type": "stream",
     "text": [
      "d the world, creating|"
     ]
    },
    {
     "name": "stdout",
     "output_type": "stream",
     "text": [
      " a diverse|"
     ]
    },
    {
     "name": "stdout",
     "output_type": "stream",
     "text": [
      " and dynamic work|"
     ]
    },
    {
     "name": "stdout",
     "output_type": "stream",
     "text": [
      " environment.|"
     ]
    },
    {
     "name": "stdout",
     "output_type": "stream",
     "text": [
      "|"
     ]
    }
   ],
   "source": [
    "for chunk in retrieval_chain.stream(\n",
    "    \"Where did harrison work? \" \"Write 3 made up sentences about this place.\"\n",
    "):\n",
    "    print(chunk, end=\"|\", flush=True)"
   ]
  },
  {
   "cell_type": "markdown",
   "id": "8657aa4e-3469-4b5b-a09c-60b53a23b1e7",
   "metadata": {},
   "source": [
    "Now that we've seen how `stream` and `astream` work, let's venture into the world of streaming events. 🏞️"
   ]
  },
  {
   "cell_type": "markdown",
   "id": "baceb5c0-d4a4-4b98-8733-80ae4407b62d",
   "metadata": {},
   "source": [
    "## Using Stream Events\n",
    "\n",
    "Event Streaming is a **beta** API. This API may change a bit based on feedback.\n",
    "\n",
    ":::{.callout-note}\n",
    "\n",
    "This guide demonstrates the `V2` API and requires langchain-core >= 0.2. For the `V1` API compatible with older versions of LangChain, see [here](https://python.langchain.com/v0.1/docs/expression_language/streaming/#using-stream-events).\n",
    ":::"
   ]
  },
  {
   "cell_type": "code",
   "execution_count": 13,
   "id": "61348df9-ec58-401e-be89-68a70042f88e",
   "metadata": {
    "execution": {
     "iopub.execute_input": "2024-09-11T18:58:27.955612Z",
     "iopub.status.busy": "2024-09-11T18:58:27.955342Z",
     "iopub.status.idle": "2024-09-11T18:58:27.961914Z",
     "shell.execute_reply": "2024-09-11T18:58:27.961299Z"
    }
   },
   "outputs": [
    {
     "data": {
      "text/plain": [
       "'0.3.0.dev4'"
      ]
     },
     "execution_count": 13,
     "metadata": {},
     "output_type": "execute_result"
    }
   ],
   "source": [
    "import langchain_core\n",
    "\n",
    "langchain_core.__version__"
   ]
  },
  {
   "cell_type": "markdown",
   "id": "52e9e983-bbde-4906-9eca-4ccc06eabd91",
   "metadata": {},
   "source": [
    "For the `astream_events` API to work properly:\n",
    "\n",
    "* Use `async` throughout the code to the extent possible (e.g., async tools etc)\n",
    "* Propagate callbacks if defining custom functions / runnables\n",
    "* Whenever using runnables without LCEL, make sure to call `.astream()` on LLMs rather than `.ainvoke` to force the LLM to stream tokens.\n",
    "* Let us know if anything doesn't work as expected! :)\n",
    "\n",
    "### Event Reference\n",
    "\n",
    "Below is a reference table that shows some events that might be emitted by the various Runnable objects.\n",
    "\n",
    "\n",
    ":::{.callout-note}\n",
    "When streaming is implemented properly, the inputs to a runnable will not be known until after the input stream has been entirely consumed. This means that `inputs` will often be included only for `end` events and rather than for `start` events.\n",
    ":::\n",
    "\n",
    "| event                | name             | chunk                           | input                                         | output                                          |\n",
    "|----------------------|------------------|---------------------------------|-----------------------------------------------|-------------------------------------------------|\n",
    "| on_chat_model_start  | [model name]     |                                 | {\"messages\": [[SystemMessage, HumanMessage]]} |                                                 |\n",
    "| on_chat_model_stream | [model name]     | AIMessageChunk(content=\"hello\") |                                               |                                                 |\n",
    "| on_chat_model_end    | [model name]     |                                 | {\"messages\": [[SystemMessage, HumanMessage]]} | AIMessageChunk(content=\"hello world\")           |\n",
    "| on_llm_start         | [model name]     |                                 | {'input': 'hello'}                            |                                                 |\n",
    "| on_llm_stream        | [model name]     | 'Hello'                         |                                               |                                                 |\n",
    "| on_llm_end           | [model name]     |                                 | 'Hello human!'                                |                                                 |\n",
    "| on_chain_start       | format_docs      |                                 |                                               |                                                 |\n",
    "| on_chain_stream      | format_docs      | \"hello world!, goodbye world!\"  |                                               |                                                 |\n",
    "| on_chain_end         | format_docs      |                                 | [Document(...)]                               | \"hello world!, goodbye world!\"                  |\n",
    "| on_tool_start        | some_tool        |                                 | {\"x\": 1, \"y\": \"2\"}                            |                                                 |\n",
    "| on_tool_end          | some_tool        |                                 |                                               | {\"x\": 1, \"y\": \"2\"}                              |\n",
    "| on_retriever_start   | [retriever name] |                                 | {\"query\": \"hello\"}                            |                                                 |\n",
    "| on_retriever_end     | [retriever name] |                                 | {\"query\": \"hello\"}                            | [Document(...), ..]                             |\n",
    "| on_prompt_start      | [template_name]  |                                 | {\"question\": \"hello\"}                         |                                                 |\n",
    "| on_prompt_end        | [template_name]  |                                 | {\"question\": \"hello\"}                         | ChatPromptValue(messages: [SystemMessage, ...]) |"
   ]
  },
  {
   "cell_type": "markdown",
   "id": "1f6ec135-3348-4041-8f55-bf3e59b3b2d0",
   "metadata": {},
   "source": [
    "### Chat Model\n",
    "\n",
    "Let's start off by looking at the events produced by a chat model."
   ]
  },
  {
   "cell_type": "code",
   "execution_count": 14,
   "id": "c00df46e-7f6b-4e06-8abf-801898c8d57f",
   "metadata": {
    "execution": {
     "iopub.execute_input": "2024-09-11T18:58:27.966841Z",
     "iopub.status.busy": "2024-09-11T18:58:27.966448Z",
     "iopub.status.idle": "2024-09-11T18:58:28.982904Z",
     "shell.execute_reply": "2024-09-11T18:58:28.982361Z"
    }
   },
   "outputs": [
    {
     "name": "stderr",
     "output_type": "stream",
     "text": [
      "/var/folders/4j/2rz3865x6qg07tx43146py8h0000gn/T/ipykernel_46357/4132660245.py:2: LangChainBetaWarning: This API is in beta and may change in the future.\n",
      "  async for event in model.astream_events(\"hello\", version=\"v2\"):\n"
     ]
    }
   ],
   "source": [
    "events = []\n",
    "async for event in model.astream_events(\"hello\", version=\"v2\"):\n",
    "    events.append(event)"
   ]
  },
  {
   "cell_type": "markdown",
   "id": "32972939-2995-4b2e-84db-045adb044fad",
   "metadata": {},
   "source": [
    ":::{.callout-note}\n",
    "\n",
    "Hey what's that funny version=\"v2\" parameter in the API?! 😾\n",
    "\n",
    "This is a **beta API**, and we're almost certainly going to make some changes to it (in fact, we already have!)\n",
    "\n",
    "This version parameter will allow us to minimize such breaking changes to your code. \n",
    "\n",
    "In short, we are annoying you now, so we don't have to annoy you later.\n",
    "\n",
    "`v2` is only available for langchain-core>=0.2.0.\n",
    "\n",
    ":::"
   ]
  },
  {
   "cell_type": "markdown",
   "id": "ad2b8f47-da78-4569-a49a-53a8efaa26bc",
   "metadata": {},
   "source": [
    "Let's take a look at the few of the start event and a few of the end events."
   ]
  },
  {
   "cell_type": "code",
   "execution_count": 15,
   "id": "ce31b525-f47d-4828-85a7-912ce9f2e79b",
   "metadata": {
    "execution": {
     "iopub.execute_input": "2024-09-11T18:58:28.988426Z",
     "iopub.status.busy": "2024-09-11T18:58:28.987339Z",
     "iopub.status.idle": "2024-09-11T18:58:28.994559Z",
     "shell.execute_reply": "2024-09-11T18:58:28.993531Z"
    }
   },
   "outputs": [
    {
     "data": {
      "text/plain": [
       "[{'event': 'on_chat_model_start',\n",
       "  'data': {'input': 'hello'},\n",
       "  'name': 'ChatAnthropic',\n",
       "  'tags': [],\n",
       "  'run_id': '098c4cc9-3cdf-4b1f-b1a4-6e0648818d19',\n",
       "  'metadata': {'ls_provider': 'anthropic',\n",
       "   'ls_model_name': 'claude-3-sonnet-20240229',\n",
       "   'ls_model_type': 'chat',\n",
       "   'ls_temperature': 0.0,\n",
       "   'ls_max_tokens': 1024},\n",
       "  'parent_ids': []},\n",
       " {'event': 'on_chat_model_stream',\n",
       "  'run_id': '098c4cc9-3cdf-4b1f-b1a4-6e0648818d19',\n",
       "  'name': 'ChatAnthropic',\n",
       "  'tags': [],\n",
       "  'metadata': {'ls_provider': 'anthropic',\n",
       "   'ls_model_name': 'claude-3-sonnet-20240229',\n",
       "   'ls_model_type': 'chat',\n",
       "   'ls_temperature': 0.0,\n",
       "   'ls_max_tokens': 1024},\n",
       "  'data': {'chunk': AIMessageChunk(content='', additional_kwargs={}, response_metadata={}, id='run-098c4cc9-3cdf-4b1f-b1a4-6e0648818d19', usage_metadata={'input_tokens': 8, 'output_tokens': 0, 'total_tokens': 8})},\n",
       "  'parent_ids': []},\n",
       " {'event': 'on_chat_model_stream',\n",
       "  'run_id': '098c4cc9-3cdf-4b1f-b1a4-6e0648818d19',\n",
       "  'name': 'ChatAnthropic',\n",
       "  'tags': [],\n",
       "  'metadata': {'ls_provider': 'anthropic',\n",
       "   'ls_model_name': 'claude-3-sonnet-20240229',\n",
       "   'ls_model_type': 'chat',\n",
       "   'ls_temperature': 0.0,\n",
       "   'ls_max_tokens': 1024},\n",
       "  'data': {'chunk': AIMessageChunk(content='Hello! How can', additional_kwargs={}, response_metadata={}, id='run-098c4cc9-3cdf-4b1f-b1a4-6e0648818d19')},\n",
       "  'parent_ids': []}]"
      ]
     },
     "execution_count": 15,
     "metadata": {},
     "output_type": "execute_result"
    }
   ],
   "source": [
    "events[:3]"
   ]
  },
  {
   "cell_type": "code",
   "execution_count": 16,
   "id": "76cfe826-ee63-4310-ad48-55a95eb3b9d6",
   "metadata": {
    "execution": {
     "iopub.execute_input": "2024-09-11T18:58:29.000726Z",
     "iopub.status.busy": "2024-09-11T18:58:29.000381Z",
     "iopub.status.idle": "2024-09-11T18:58:29.007094Z",
     "shell.execute_reply": "2024-09-11T18:58:29.006508Z"
    }
   },
   "outputs": [
    {
     "data": {
      "text/plain": [
       "[{'event': 'on_chat_model_stream',\n",
       "  'run_id': '098c4cc9-3cdf-4b1f-b1a4-6e0648818d19',\n",
       "  'name': 'ChatAnthropic',\n",
       "  'tags': [],\n",
       "  'metadata': {'ls_provider': 'anthropic',\n",
       "   'ls_model_name': 'claude-3-sonnet-20240229',\n",
       "   'ls_model_type': 'chat',\n",
       "   'ls_temperature': 0.0,\n",
       "   'ls_max_tokens': 1024},\n",
       "  'data': {'chunk': AIMessageChunk(content='', additional_kwargs={}, response_metadata={'stop_reason': 'end_turn', 'stop_sequence': None}, id='run-098c4cc9-3cdf-4b1f-b1a4-6e0648818d19', usage_metadata={'input_tokens': 0, 'output_tokens': 12, 'total_tokens': 12})},\n",
       "  'parent_ids': []},\n",
       " {'event': 'on_chat_model_end',\n",
       "  'data': {'output': AIMessageChunk(content='Hello! How can I assist you today?', additional_kwargs={}, response_metadata={'stop_reason': 'end_turn', 'stop_sequence': None}, id='run-098c4cc9-3cdf-4b1f-b1a4-6e0648818d19', usage_metadata={'input_tokens': 8, 'output_tokens': 12, 'total_tokens': 20})},\n",
       "  'run_id': '098c4cc9-3cdf-4b1f-b1a4-6e0648818d19',\n",
       "  'name': 'ChatAnthropic',\n",
       "  'tags': [],\n",
       "  'metadata': {'ls_provider': 'anthropic',\n",
       "   'ls_model_name': 'claude-3-sonnet-20240229',\n",
       "   'ls_model_type': 'chat',\n",
       "   'ls_temperature': 0.0,\n",
       "   'ls_max_tokens': 1024},\n",
       "  'parent_ids': []}]"
      ]
     },
     "execution_count": 16,
     "metadata": {},
     "output_type": "execute_result"
    }
   ],
   "source": [
    "events[-2:]"
   ]
  },
  {
   "cell_type": "markdown",
   "id": "98c8f173-e9c7-4c27-81a5-b7c85c12714d",
   "metadata": {},
   "source": [
    "### Chain\n",
    "\n",
    "Let's revisit the example chain that parsed streaming JSON to explore the streaming events API."
   ]
  },
  {
   "cell_type": "code",
   "execution_count": 17,
   "id": "4328c56c-a303-427b-b1f2-f354e9af555c",
   "metadata": {
    "execution": {
     "iopub.execute_input": "2024-09-11T18:58:29.009882Z",
     "iopub.status.busy": "2024-09-11T18:58:29.009660Z",
     "iopub.status.idle": "2024-09-11T18:58:30.696865Z",
     "shell.execute_reply": "2024-09-11T18:58:30.696091Z"
    }
   },
   "outputs": [],
   "source": [
    "chain = (\n",
    "    model | JsonOutputParser()\n",
    ")  # Due to a bug in older versions of Langchain, JsonOutputParser did not stream results from some models\n",
    "\n",
    "events = [\n",
    "    event\n",
    "    async for event in chain.astream_events(\n",
    "        \"output a list of the countries france, spain and japan and their populations in JSON format. \"\n",
    "        'Use a dict with an outer key of \"countries\" which contains a list of countries. '\n",
    "        \"Each country should have the key `name` and `population`\",\n",
    "        version=\"v2\",\n",
    "    )\n",
    "]"
   ]
  },
  {
   "cell_type": "markdown",
   "id": "4cc00b99-a961-4221-a3c7-9d807114bbfb",
   "metadata": {},
   "source": [
    "If you examine at the first few events, you'll notice that there are **3** different start events rather than **2** start events.\n",
    "\n",
    "The three start events correspond to:\n",
    "\n",
    "1. The chain (model + parser)\n",
    "2. The model\n",
    "3. The parser"
   ]
  },
  {
   "cell_type": "code",
   "execution_count": 18,
   "id": "8e66ea3d-a450-436a-aaac-d9478abc6c28",
   "metadata": {
    "execution": {
     "iopub.execute_input": "2024-09-11T18:58:30.700748Z",
     "iopub.status.busy": "2024-09-11T18:58:30.700339Z",
     "iopub.status.idle": "2024-09-11T18:58:30.706632Z",
     "shell.execute_reply": "2024-09-11T18:58:30.706198Z"
    }
   },
   "outputs": [
    {
     "data": {
      "text/plain": [
       "[{'event': 'on_chain_start',\n",
       "  'data': {'input': 'output a list of the countries france, spain and japan and their populations in JSON format. Use a dict with an outer key of \"countries\" which contains a list of countries. Each country should have the key `name` and `population`'},\n",
       "  'name': 'RunnableSequence',\n",
       "  'tags': [],\n",
       "  'run_id': '7dfe7e40-b11c-4579-88c4-e1f982c40357',\n",
       "  'metadata': {},\n",
       "  'parent_ids': []},\n",
       " {'event': 'on_chat_model_start',\n",
       "  'data': {'input': {'messages': [[HumanMessage(content='output a list of the countries france, spain and japan and their populations in JSON format. Use a dict with an outer key of \"countries\" which contains a list of countries. Each country should have the key `name` and `population`', additional_kwargs={}, response_metadata={})]]}},\n",
       "  'name': 'ChatAnthropic',\n",
       "  'tags': ['seq:step:1'],\n",
       "  'run_id': '01a29b11-8f23-4034-bb67-78538a646b6b',\n",
       "  'metadata': {'ls_provider': 'anthropic',\n",
       "   'ls_model_name': 'claude-3-sonnet-20240229',\n",
       "   'ls_model_type': 'chat',\n",
       "   'ls_temperature': 0.0,\n",
       "   'ls_max_tokens': 1024},\n",
       "  'parent_ids': ['7dfe7e40-b11c-4579-88c4-e1f982c40357']},\n",
       " {'event': 'on_chat_model_stream',\n",
       "  'data': {'chunk': AIMessageChunk(content='', additional_kwargs={}, response_metadata={}, id='run-01a29b11-8f23-4034-bb67-78538a646b6b', usage_metadata={'input_tokens': 56, 'output_tokens': 0, 'total_tokens': 56})},\n",
       "  'run_id': '01a29b11-8f23-4034-bb67-78538a646b6b',\n",
       "  'name': 'ChatAnthropic',\n",
       "  'tags': ['seq:step:1'],\n",
       "  'metadata': {'ls_provider': 'anthropic',\n",
       "   'ls_model_name': 'claude-3-sonnet-20240229',\n",
       "   'ls_model_type': 'chat',\n",
       "   'ls_temperature': 0.0,\n",
       "   'ls_max_tokens': 1024},\n",
       "  'parent_ids': ['7dfe7e40-b11c-4579-88c4-e1f982c40357']}]"
      ]
     },
     "execution_count": 18,
     "metadata": {},
     "output_type": "execute_result"
    }
   ],
   "source": [
    "events[:3]"
   ]
  },
  {
   "cell_type": "markdown",
   "id": "c8512238-d035-4acd-9248-a8570da064c9",
   "metadata": {},
   "source": [
    "What do you think you'd see if you looked at the last 3 events? what about the middle?"
   ]
  },
  {
   "cell_type": "markdown",
   "id": "c742cfa4-9b03-4a5b-96d9-5fe56e95e3b4",
   "metadata": {},
   "source": [
    "Let's use this API to take output the stream events from the model and the parser. We're ignoring start events, end events and events from the chain."
   ]
  },
  {
   "cell_type": "code",
   "execution_count": 19,
   "id": "630c71d6-8d94-4ce0-a78a-f20e90f628df",
   "metadata": {
    "execution": {
     "iopub.execute_input": "2024-09-11T18:58:30.709360Z",
     "iopub.status.busy": "2024-09-11T18:58:30.709143Z",
     "iopub.status.idle": "2024-09-11T18:58:31.694781Z",
     "shell.execute_reply": "2024-09-11T18:58:31.694372Z"
    }
   },
   "outputs": [
    {
     "name": "stdout",
     "output_type": "stream",
     "text": [
      "Chat model chunk: ''\n"
     ]
    },
    {
     "name": "stdout",
     "output_type": "stream",
     "text": [
      "Chat model chunk: '{'\n"
     ]
    },
    {
     "name": "stdout",
     "output_type": "stream",
     "text": [
      "Parser chunk: {}\n"
     ]
    },
    {
     "name": "stdout",
     "output_type": "stream",
     "text": [
      "Chat model chunk: '\\n  \"countries'\n"
     ]
    },
    {
     "name": "stdout",
     "output_type": "stream",
     "text": [
      "Chat model chunk: '\": [\\n    '\n"
     ]
    },
    {
     "name": "stdout",
     "output_type": "stream",
     "text": [
      "Parser chunk: {'countries': []}\n"
     ]
    },
    {
     "name": "stdout",
     "output_type": "stream",
     "text": [
      "Chat model chunk: '{\\n      \"'\n"
     ]
    },
    {
     "name": "stdout",
     "output_type": "stream",
     "text": [
      "Parser chunk: {'countries': [{}]}\n"
     ]
    },
    {
     "name": "stdout",
     "output_type": "stream",
     "text": [
      "Chat model chunk: 'name\": \"France'\n"
     ]
    },
    {
     "name": "stdout",
     "output_type": "stream",
     "text": [
      "Parser chunk: {'countries': [{'name': 'France'}]}\n"
     ]
    },
    {
     "name": "stdout",
     "output_type": "stream",
     "text": [
      "Chat model chunk: '\",\\n      \"'\n"
     ]
    },
    {
     "name": "stdout",
     "output_type": "stream",
     "text": [
      "Chat model chunk: 'population\": 67'\n"
     ]
    },
    {
     "name": "stdout",
     "output_type": "stream",
     "text": [
      "Parser chunk: {'countries': [{'name': 'France', 'population': 67}]}\n"
     ]
    },
    {
     "name": "stdout",
     "output_type": "stream",
     "text": [
      "Chat model chunk: '413'\n"
     ]
    },
    {
     "name": "stdout",
     "output_type": "stream",
     "text": [
      "Parser chunk: {'countries': [{'name': 'France', 'population': 67413}]}\n"
     ]
    },
    {
     "name": "stdout",
     "output_type": "stream",
     "text": [
      "Chat model chunk: '000\\n    },'\n"
     ]
    },
    {
     "name": "stdout",
     "output_type": "stream",
     "text": [
      "Parser chunk: {'countries': [{'name': 'France', 'population': 67413000}]}\n"
     ]
    },
    {
     "name": "stdout",
     "output_type": "stream",
     "text": [
      "Chat model chunk: '\\n    {'\n"
     ]
    },
    {
     "name": "stdout",
     "output_type": "stream",
     "text": [
      "Parser chunk: {'countries': [{'name': 'France', 'population': 67413000}, {}]}\n"
     ]
    },
    {
     "name": "stdout",
     "output_type": "stream",
     "text": [
      "Chat model chunk: '\\n      \"name\":'\n"
     ]
    },
    {
     "name": "stdout",
     "output_type": "stream",
     "text": [
      "...\n"
     ]
    }
   ],
   "source": [
    "num_events = 0\n",
    "\n",
    "async for event in chain.astream_events(\n",
    "    \"output a list of the countries france, spain and japan and their populations in JSON format. \"\n",
    "    'Use a dict with an outer key of \"countries\" which contains a list of countries. '\n",
    "    \"Each country should have the key `name` and `population`\",\n",
    "    version=\"v2\",\n",
    "):\n",
    "    kind = event[\"event\"]\n",
    "    if kind == \"on_chat_model_stream\":\n",
    "        print(\n",
    "            f\"Chat model chunk: {repr(event['data']['chunk'].content)}\",\n",
    "            flush=True,\n",
    "        )\n",
    "    if kind == \"on_parser_stream\":\n",
    "        print(f\"Parser chunk: {event['data']['chunk']}\", flush=True)\n",
    "    num_events += 1\n",
    "    if num_events > 30:\n",
    "        # Truncate the output\n",
    "        print(\"...\")\n",
    "        break"
   ]
  },
  {
   "cell_type": "markdown",
   "id": "798ea891-997c-454c-bf60-43124f40ee1b",
   "metadata": {},
   "source": [
    "Because both the model and the parser support streaming, we see streaming events from both components in real time! Kind of cool isn't it? 🦜"
   ]
  },
  {
   "cell_type": "markdown",
   "id": "5084148b-bcdc-4373-9caa-6568f03e7b23",
   "metadata": {},
   "source": [
    "### Filtering Events\n",
    "\n",
    "Because this API produces so many events, it is useful to be able to filter on events.\n",
    "\n",
    "You can filter by either component `name`, component `tags` or component `type`.\n",
    "\n",
    "#### By Name"
   ]
  },
  {
   "cell_type": "code",
   "execution_count": 20,
   "id": "4f0b581b-be63-4663-baba-c6d2b625cdf9",
   "metadata": {
    "execution": {
     "iopub.execute_input": "2024-09-11T18:58:31.697350Z",
     "iopub.status.busy": "2024-09-11T18:58:31.697008Z",
     "iopub.status.idle": "2024-09-11T18:58:33.182050Z",
     "shell.execute_reply": "2024-09-11T18:58:33.181027Z"
    }
   },
   "outputs": [
    {
     "name": "stdout",
     "output_type": "stream",
     "text": [
      "{'event': 'on_parser_start', 'data': {'input': 'output a list of the countries france, spain and japan and their populations in JSON format. Use a dict with an outer key of \"countries\" which contains a list of countries. Each country should have the key `name` and `population`'}, 'name': 'my_parser', 'tags': ['seq:step:2'], 'run_id': 'c1b9ed6d-179b-4ef4-8979-8973174ffca0', 'metadata': {}, 'parent_ids': ['d82c03fd-3a0f-412a-986b-1b8f0565739c']}\n",
      "{'event': 'on_parser_stream', 'run_id': 'c1b9ed6d-179b-4ef4-8979-8973174ffca0', 'name': 'my_parser', 'tags': ['seq:step:2'], 'metadata': {}, 'data': {'chunk': {}}, 'parent_ids': ['d82c03fd-3a0f-412a-986b-1b8f0565739c']}\n",
      "{'event': 'on_parser_stream', 'run_id': 'c1b9ed6d-179b-4ef4-8979-8973174ffca0', 'name': 'my_parser', 'tags': ['seq:step:2'], 'metadata': {}, 'data': {'chunk': {'countries': []}}, 'parent_ids': ['d82c03fd-3a0f-412a-986b-1b8f0565739c']}\n",
      "{'event': 'on_parser_stream', 'run_id': 'c1b9ed6d-179b-4ef4-8979-8973174ffca0', 'name': 'my_parser', 'tags': ['seq:step:2'], 'metadata': {}, 'data': {'chunk': {'countries': [{}]}}, 'parent_ids': ['d82c03fd-3a0f-412a-986b-1b8f0565739c']}\n",
      "{'event': 'on_parser_stream', 'run_id': 'c1b9ed6d-179b-4ef4-8979-8973174ffca0', 'name': 'my_parser', 'tags': ['seq:step:2'], 'metadata': {}, 'data': {'chunk': {'countries': [{'name': 'France'}]}}, 'parent_ids': ['d82c03fd-3a0f-412a-986b-1b8f0565739c']}\n",
      "{'event': 'on_parser_stream', 'run_id': 'c1b9ed6d-179b-4ef4-8979-8973174ffca0', 'name': 'my_parser', 'tags': ['seq:step:2'], 'metadata': {}, 'data': {'chunk': {'countries': [{'name': 'France', 'population': 67}]}}, 'parent_ids': ['d82c03fd-3a0f-412a-986b-1b8f0565739c']}\n",
      "{'event': 'on_parser_stream', 'run_id': 'c1b9ed6d-179b-4ef4-8979-8973174ffca0', 'name': 'my_parser', 'tags': ['seq:step:2'], 'metadata': {}, 'data': {'chunk': {'countries': [{'name': 'France', 'population': 67413}]}}, 'parent_ids': ['d82c03fd-3a0f-412a-986b-1b8f0565739c']}\n",
      "{'event': 'on_parser_stream', 'run_id': 'c1b9ed6d-179b-4ef4-8979-8973174ffca0', 'name': 'my_parser', 'tags': ['seq:step:2'], 'metadata': {}, 'data': {'chunk': {'countries': [{'name': 'France', 'population': 67413000}]}}, 'parent_ids': ['d82c03fd-3a0f-412a-986b-1b8f0565739c']}\n",
      "{'event': 'on_parser_stream', 'run_id': 'c1b9ed6d-179b-4ef4-8979-8973174ffca0', 'name': 'my_parser', 'tags': ['seq:step:2'], 'metadata': {}, 'data': {'chunk': {'countries': [{'name': 'France', 'population': 67413000}, {}]}}, 'parent_ids': ['d82c03fd-3a0f-412a-986b-1b8f0565739c']}\n"
     ]
    },
    {
     "name": "stdout",
     "output_type": "stream",
     "text": [
      "{'event': 'on_parser_stream', 'run_id': 'c1b9ed6d-179b-4ef4-8979-8973174ffca0', 'name': 'my_parser', 'tags': ['seq:step:2'], 'metadata': {}, 'data': {'chunk': {'countries': [{'name': 'France', 'population': 67413000}, {'name': 'Spain'}]}}, 'parent_ids': ['d82c03fd-3a0f-412a-986b-1b8f0565739c']}\n"
     ]
    },
    {
     "name": "stdout",
     "output_type": "stream",
     "text": [
      "{'event': 'on_parser_stream', 'run_id': 'c1b9ed6d-179b-4ef4-8979-8973174ffca0', 'name': 'my_parser', 'tags': ['seq:step:2'], 'metadata': {}, 'data': {'chunk': {'countries': [{'name': 'France', 'population': 67413000}, {'name': 'Spain', 'population': 47}]}}, 'parent_ids': ['d82c03fd-3a0f-412a-986b-1b8f0565739c']}\n",
      "...\n"
     ]
    }
   ],
   "source": [
    "chain = model.with_config({\"run_name\": \"model\"}) | JsonOutputParser().with_config(\n",
    "    {\"run_name\": \"my_parser\"}\n",
    ")\n",
    "\n",
    "max_events = 0\n",
    "async for event in chain.astream_events(\n",
    "    \"output a list of the countries france, spain and japan and their populations in JSON format. \"\n",
    "    'Use a dict with an outer key of \"countries\" which contains a list of countries. '\n",
    "    \"Each country should have the key `name` and `population`\",\n",
    "    version=\"v2\",\n",
    "    include_names=[\"my_parser\"],\n",
    "):\n",
    "    print(event)\n",
    "    max_events += 1\n",
    "    if max_events > 10:\n",
    "        # Truncate output\n",
    "        print(\"...\")\n",
    "        break"
   ]
  },
  {
   "cell_type": "markdown",
   "id": "c59d5626-7dba-4eb3-ad81-76c1092c5146",
   "metadata": {},
   "source": [
    "#### By Type"
   ]
  },
  {
   "cell_type": "code",
   "execution_count": 21,
   "id": "096cd904-72f0-4ebe-a8b7-d0e730faea7f",
   "metadata": {
    "execution": {
     "iopub.execute_input": "2024-09-11T18:58:33.192525Z",
     "iopub.status.busy": "2024-09-11T18:58:33.191984Z",
     "iopub.status.idle": "2024-09-11T18:58:34.878740Z",
     "shell.execute_reply": "2024-09-11T18:58:34.878268Z"
    }
   },
   "outputs": [
    {
     "name": "stdout",
     "output_type": "stream",
     "text": [
      "{'event': 'on_chat_model_start', 'data': {'input': 'output a list of the countries france, spain and japan and their populations in JSON format. Use a dict with an outer key of \"countries\" which contains a list of countries. Each country should have the key `name` and `population`'}, 'name': 'model', 'tags': ['seq:step:1'], 'run_id': '537939fc-236a-4ade-b0f0-dfc57c905f09', 'metadata': {'ls_provider': 'anthropic', 'ls_model_name': 'claude-3-sonnet-20240229', 'ls_model_type': 'chat', 'ls_temperature': 0.0, 'ls_max_tokens': 1024}, 'parent_ids': ['975af9f2-c8f3-4a0c-b04f-2815bbc89dd3']}\n"
     ]
    },
    {
     "name": "stdout",
     "output_type": "stream",
     "text": [
      "{'event': 'on_chat_model_stream', 'data': {'chunk': AIMessageChunk(content='', additional_kwargs={}, response_metadata={}, id='run-537939fc-236a-4ade-b0f0-dfc57c905f09', usage_metadata={'input_tokens': 56, 'output_tokens': 0, 'total_tokens': 56})}, 'run_id': '537939fc-236a-4ade-b0f0-dfc57c905f09', 'name': 'model', 'tags': ['seq:step:1'], 'metadata': {'ls_provider': 'anthropic', 'ls_model_name': 'claude-3-sonnet-20240229', 'ls_model_type': 'chat', 'ls_temperature': 0.0, 'ls_max_tokens': 1024}, 'parent_ids': ['975af9f2-c8f3-4a0c-b04f-2815bbc89dd3']}\n",
      "{'event': 'on_chat_model_stream', 'data': {'chunk': AIMessageChunk(content='{', additional_kwargs={}, response_metadata={}, id='run-537939fc-236a-4ade-b0f0-dfc57c905f09')}, 'run_id': '537939fc-236a-4ade-b0f0-dfc57c905f09', 'name': 'model', 'tags': ['seq:step:1'], 'metadata': {'ls_provider': 'anthropic', 'ls_model_name': 'claude-3-sonnet-20240229', 'ls_model_type': 'chat', 'ls_temperature': 0.0, 'ls_max_tokens': 1024}, 'parent_ids': ['975af9f2-c8f3-4a0c-b04f-2815bbc89dd3']}\n",
      "{'event': 'on_chat_model_stream', 'data': {'chunk': AIMessageChunk(content='\\n  \"countries', additional_kwargs={}, response_metadata={}, id='run-537939fc-236a-4ade-b0f0-dfc57c905f09')}, 'run_id': '537939fc-236a-4ade-b0f0-dfc57c905f09', 'name': 'model', 'tags': ['seq:step:1'], 'metadata': {'ls_provider': 'anthropic', 'ls_model_name': 'claude-3-sonnet-20240229', 'ls_model_type': 'chat', 'ls_temperature': 0.0, 'ls_max_tokens': 1024}, 'parent_ids': ['975af9f2-c8f3-4a0c-b04f-2815bbc89dd3']}\n",
      "{'event': 'on_chat_model_stream', 'data': {'chunk': AIMessageChunk(content='\": [\\n    ', additional_kwargs={}, response_metadata={}, id='run-537939fc-236a-4ade-b0f0-dfc57c905f09')}, 'run_id': '537939fc-236a-4ade-b0f0-dfc57c905f09', 'name': 'model', 'tags': ['seq:step:1'], 'metadata': {'ls_provider': 'anthropic', 'ls_model_name': 'claude-3-sonnet-20240229', 'ls_model_type': 'chat', 'ls_temperature': 0.0, 'ls_max_tokens': 1024}, 'parent_ids': ['975af9f2-c8f3-4a0c-b04f-2815bbc89dd3']}\n",
      "{'event': 'on_chat_model_stream', 'data': {'chunk': AIMessageChunk(content='{\\n      \"', additional_kwargs={}, response_metadata={}, id='run-537939fc-236a-4ade-b0f0-dfc57c905f09')}, 'run_id': '537939fc-236a-4ade-b0f0-dfc57c905f09', 'name': 'model', 'tags': ['seq:step:1'], 'metadata': {'ls_provider': 'anthropic', 'ls_model_name': 'claude-3-sonnet-20240229', 'ls_model_type': 'chat', 'ls_temperature': 0.0, 'ls_max_tokens': 1024}, 'parent_ids': ['975af9f2-c8f3-4a0c-b04f-2815bbc89dd3']}\n",
      "{'event': 'on_chat_model_stream', 'data': {'chunk': AIMessageChunk(content='name\": \"France', additional_kwargs={}, response_metadata={}, id='run-537939fc-236a-4ade-b0f0-dfc57c905f09')}, 'run_id': '537939fc-236a-4ade-b0f0-dfc57c905f09', 'name': 'model', 'tags': ['seq:step:1'], 'metadata': {'ls_provider': 'anthropic', 'ls_model_name': 'claude-3-sonnet-20240229', 'ls_model_type': 'chat', 'ls_temperature': 0.0, 'ls_max_tokens': 1024}, 'parent_ids': ['975af9f2-c8f3-4a0c-b04f-2815bbc89dd3']}\n",
      "{'event': 'on_chat_model_stream', 'data': {'chunk': AIMessageChunk(content='\",\\n      \"', additional_kwargs={}, response_metadata={}, id='run-537939fc-236a-4ade-b0f0-dfc57c905f09')}, 'run_id': '537939fc-236a-4ade-b0f0-dfc57c905f09', 'name': 'model', 'tags': ['seq:step:1'], 'metadata': {'ls_provider': 'anthropic', 'ls_model_name': 'claude-3-sonnet-20240229', 'ls_model_type': 'chat', 'ls_temperature': 0.0, 'ls_max_tokens': 1024}, 'parent_ids': ['975af9f2-c8f3-4a0c-b04f-2815bbc89dd3']}\n",
      "{'event': 'on_chat_model_stream', 'data': {'chunk': AIMessageChunk(content='population\": 67', additional_kwargs={}, response_metadata={}, id='run-537939fc-236a-4ade-b0f0-dfc57c905f09')}, 'run_id': '537939fc-236a-4ade-b0f0-dfc57c905f09', 'name': 'model', 'tags': ['seq:step:1'], 'metadata': {'ls_provider': 'anthropic', 'ls_model_name': 'claude-3-sonnet-20240229', 'ls_model_type': 'chat', 'ls_temperature': 0.0, 'ls_max_tokens': 1024}, 'parent_ids': ['975af9f2-c8f3-4a0c-b04f-2815bbc89dd3']}\n",
      "{'event': 'on_chat_model_stream', 'data': {'chunk': AIMessageChunk(content='413', additional_kwargs={}, response_metadata={}, id='run-537939fc-236a-4ade-b0f0-dfc57c905f09')}, 'run_id': '537939fc-236a-4ade-b0f0-dfc57c905f09', 'name': 'model', 'tags': ['seq:step:1'], 'metadata': {'ls_provider': 'anthropic', 'ls_model_name': 'claude-3-sonnet-20240229', 'ls_model_type': 'chat', 'ls_temperature': 0.0, 'ls_max_tokens': 1024}, 'parent_ids': ['975af9f2-c8f3-4a0c-b04f-2815bbc89dd3']}\n"
     ]
    },
    {
     "name": "stdout",
     "output_type": "stream",
     "text": [
      "{'event': 'on_chat_model_stream', 'data': {'chunk': AIMessageChunk(content='000\\n    },', additional_kwargs={}, response_metadata={}, id='run-537939fc-236a-4ade-b0f0-dfc57c905f09')}, 'run_id': '537939fc-236a-4ade-b0f0-dfc57c905f09', 'name': 'model', 'tags': ['seq:step:1'], 'metadata': {'ls_provider': 'anthropic', 'ls_model_name': 'claude-3-sonnet-20240229', 'ls_model_type': 'chat', 'ls_temperature': 0.0, 'ls_max_tokens': 1024}, 'parent_ids': ['975af9f2-c8f3-4a0c-b04f-2815bbc89dd3']}\n",
      "...\n"
     ]
    }
   ],
   "source": [
    "chain = model.with_config({\"run_name\": \"model\"}) | JsonOutputParser().with_config(\n",
    "    {\"run_name\": \"my_parser\"}\n",
    ")\n",
    "\n",
    "max_events = 0\n",
    "async for event in chain.astream_events(\n",
    "    'output a list of the countries france, spain and japan and their populations in JSON format. Use a dict with an outer key of \"countries\" which contains a list of countries. Each country should have the key `name` and `population`',\n",
    "    version=\"v2\",\n",
    "    include_types=[\"chat_model\"],\n",
    "):\n",
    "    print(event)\n",
    "    max_events += 1\n",
    "    if max_events > 10:\n",
    "        # Truncate output\n",
    "        print(\"...\")\n",
    "        break"
   ]
  },
  {
   "cell_type": "markdown",
   "id": "f1ec8dd4-9b5b-4000-b63f-5845bfc5a065",
   "metadata": {},
   "source": [
    "#### By Tags\n",
    "\n",
    ":::{.callout-caution}\n",
    "\n",
    "Tags are inherited by child components of a given runnable. \n",
    "\n",
    "If you're using tags to filter, make sure that this is what you want.\n",
    ":::"
   ]
  },
  {
   "cell_type": "code",
   "execution_count": 22,
   "id": "26bac0d2-76d9-446e-b346-82790236b88d",
   "metadata": {
    "execution": {
     "iopub.execute_input": "2024-09-11T18:58:34.883162Z",
     "iopub.status.busy": "2024-09-11T18:58:34.882908Z",
     "iopub.status.idle": "2024-09-11T18:58:37.022204Z",
     "shell.execute_reply": "2024-09-11T18:58:37.021720Z"
    }
   },
   "outputs": [
    {
     "name": "stdout",
     "output_type": "stream",
     "text": [
      "{'event': 'on_chain_start', 'data': {'input': 'output a list of the countries france, spain and japan and their populations in JSON format. Use a dict with an outer key of \"countries\" which contains a list of countries. Each country should have the key `name` and `population`'}, 'name': 'RunnableSequence', 'tags': ['my_chain'], 'run_id': '367af832-6216-4975-a625-9e924c5ccdb3', 'metadata': {}, 'parent_ids': []}\n",
      "{'event': 'on_chat_model_start', 'data': {'input': {'messages': [[HumanMessage(content='output a list of the countries france, spain and japan and their populations in JSON format. Use a dict with an outer key of \"countries\" which contains a list of countries. Each country should have the key `name` and `population`', additional_kwargs={}, response_metadata={})]]}}, 'name': 'ChatAnthropic', 'tags': ['seq:step:1', 'my_chain'], 'run_id': '7bea9f79-db4b-43ab-99b9-1dca11eecec8', 'metadata': {'ls_provider': 'anthropic', 'ls_model_name': 'claude-3-sonnet-20240229', 'ls_model_type': 'chat', 'ls_temperature': 0.0, 'ls_max_tokens': 1024}, 'parent_ids': ['367af832-6216-4975-a625-9e924c5ccdb3']}\n"
     ]
    },
    {
     "name": "stdout",
     "output_type": "stream",
     "text": [
      "{'event': 'on_chat_model_stream', 'data': {'chunk': AIMessageChunk(content='', additional_kwargs={}, response_metadata={}, id='run-7bea9f79-db4b-43ab-99b9-1dca11eecec8', usage_metadata={'input_tokens': 56, 'output_tokens': 0, 'total_tokens': 56})}, 'run_id': '7bea9f79-db4b-43ab-99b9-1dca11eecec8', 'name': 'ChatAnthropic', 'tags': ['seq:step:1', 'my_chain'], 'metadata': {'ls_provider': 'anthropic', 'ls_model_name': 'claude-3-sonnet-20240229', 'ls_model_type': 'chat', 'ls_temperature': 0.0, 'ls_max_tokens': 1024}, 'parent_ids': ['367af832-6216-4975-a625-9e924c5ccdb3']}\n",
      "{'event': 'on_parser_start', 'data': {}, 'name': 'JsonOutputParser', 'tags': ['seq:step:2', 'my_chain'], 'run_id': '58a9f3f9-2a2c-48ac-a1c2-ce275d59dc6b', 'metadata': {}, 'parent_ids': ['367af832-6216-4975-a625-9e924c5ccdb3']}\n",
      "{'event': 'on_chat_model_stream', 'data': {'chunk': AIMessageChunk(content='{', additional_kwargs={}, response_metadata={}, id='run-7bea9f79-db4b-43ab-99b9-1dca11eecec8')}, 'run_id': '7bea9f79-db4b-43ab-99b9-1dca11eecec8', 'name': 'ChatAnthropic', 'tags': ['seq:step:1', 'my_chain'], 'metadata': {'ls_provider': 'anthropic', 'ls_model_name': 'claude-3-sonnet-20240229', 'ls_model_type': 'chat', 'ls_temperature': 0.0, 'ls_max_tokens': 1024}, 'parent_ids': ['367af832-6216-4975-a625-9e924c5ccdb3']}\n",
      "{'event': 'on_parser_stream', 'run_id': '58a9f3f9-2a2c-48ac-a1c2-ce275d59dc6b', 'name': 'JsonOutputParser', 'tags': ['seq:step:2', 'my_chain'], 'metadata': {}, 'data': {'chunk': {}}, 'parent_ids': ['367af832-6216-4975-a625-9e924c5ccdb3']}\n",
      "{'event': 'on_chain_stream', 'run_id': '367af832-6216-4975-a625-9e924c5ccdb3', 'name': 'RunnableSequence', 'tags': ['my_chain'], 'metadata': {}, 'data': {'chunk': {}}, 'parent_ids': []}\n",
      "{'event': 'on_chat_model_stream', 'data': {'chunk': AIMessageChunk(content='\\n  \"countries', additional_kwargs={}, response_metadata={}, id='run-7bea9f79-db4b-43ab-99b9-1dca11eecec8')}, 'run_id': '7bea9f79-db4b-43ab-99b9-1dca11eecec8', 'name': 'ChatAnthropic', 'tags': ['seq:step:1', 'my_chain'], 'metadata': {'ls_provider': 'anthropic', 'ls_model_name': 'claude-3-sonnet-20240229', 'ls_model_type': 'chat', 'ls_temperature': 0.0, 'ls_max_tokens': 1024}, 'parent_ids': ['367af832-6216-4975-a625-9e924c5ccdb3']}\n",
      "{'event': 'on_chat_model_stream', 'data': {'chunk': AIMessageChunk(content='\": [\\n    ', additional_kwargs={}, response_metadata={}, id='run-7bea9f79-db4b-43ab-99b9-1dca11eecec8')}, 'run_id': '7bea9f79-db4b-43ab-99b9-1dca11eecec8', 'name': 'ChatAnthropic', 'tags': ['seq:step:1', 'my_chain'], 'metadata': {'ls_provider': 'anthropic', 'ls_model_name': 'claude-3-sonnet-20240229', 'ls_model_type': 'chat', 'ls_temperature': 0.0, 'ls_max_tokens': 1024}, 'parent_ids': ['367af832-6216-4975-a625-9e924c5ccdb3']}\n",
      "{'event': 'on_parser_stream', 'run_id': '58a9f3f9-2a2c-48ac-a1c2-ce275d59dc6b', 'name': 'JsonOutputParser', 'tags': ['seq:step:2', 'my_chain'], 'metadata': {}, 'data': {'chunk': {'countries': []}}, 'parent_ids': ['367af832-6216-4975-a625-9e924c5ccdb3']}\n",
      "{'event': 'on_chain_stream', 'run_id': '367af832-6216-4975-a625-9e924c5ccdb3', 'name': 'RunnableSequence', 'tags': ['my_chain'], 'metadata': {}, 'data': {'chunk': {'countries': []}}, 'parent_ids': []}\n",
      "...\n"
     ]
    }
   ],
   "source": [
    "chain = (model | JsonOutputParser()).with_config({\"tags\": [\"my_chain\"]})\n",
    "\n",
    "max_events = 0\n",
    "async for event in chain.astream_events(\n",
    "    'output a list of the countries france, spain and japan and their populations in JSON format. Use a dict with an outer key of \"countries\" which contains a list of countries. Each country should have the key `name` and `population`',\n",
    "    version=\"v2\",\n",
    "    include_tags=[\"my_chain\"],\n",
    "):\n",
    "    print(event)\n",
    "    max_events += 1\n",
    "    if max_events > 10:\n",
    "        # Truncate output\n",
    "        print(\"...\")\n",
    "        break"
   ]
  },
  {
   "cell_type": "markdown",
   "id": "e05e54c4-61a2-4f6c-aa68-d2b09b5e1d4f",
   "metadata": {},
   "source": [
    "### Non-streaming components\n",
    "\n",
    "Remember how some components don't stream well because they don't operate on **input streams**?\n",
    "\n",
    "While such components can break streaming of the final output when using `astream`, `astream_events` will still yield streaming events from intermediate steps that support streaming!"
   ]
  },
  {
   "cell_type": "code",
   "execution_count": 23,
   "id": "0e6451d3-3b11-4a71-ae19-998f4c10180f",
   "metadata": {
    "execution": {
     "iopub.execute_input": "2024-09-11T18:58:37.025830Z",
     "iopub.status.busy": "2024-09-11T18:58:37.025082Z",
     "iopub.status.idle": "2024-09-11T18:58:37.032757Z",
     "shell.execute_reply": "2024-09-11T18:58:37.032150Z"
    }
   },
   "outputs": [],
   "source": [
    "# Function that does not support streaming.\n",
    "# It operates on the finalizes inputs rather than\n",
    "# operating on the input stream.\n",
    "def _extract_country_names(inputs):\n",
    "    \"\"\"A function that does not operates on input streams and breaks streaming.\"\"\"\n",
    "    if not isinstance(inputs, dict):\n",
    "        return \"\"\n",
    "\n",
    "    if \"countries\" not in inputs:\n",
    "        return \"\"\n",
    "\n",
    "    countries = inputs[\"countries\"]\n",
    "\n",
    "    if not isinstance(countries, list):\n",
    "        return \"\"\n",
    "\n",
    "    country_names = [\n",
    "        country.get(\"name\") for country in countries if isinstance(country, dict)\n",
    "    ]\n",
    "    return country_names\n",
    "\n",
    "\n",
    "chain = (\n",
    "    model | JsonOutputParser() | _extract_country_names\n",
    ")  # This parser only works with OpenAI right now"
   ]
  },
  {
   "cell_type": "markdown",
   "id": "a972e1a6-80cd-4d59-90a0-73563f1503d4",
   "metadata": {},
   "source": [
    "As expected, the `astream` API doesn't work correctly because `_extract_country_names` doesn't operate on streams."
   ]
  },
  {
   "cell_type": "code",
   "execution_count": 24,
   "id": "f9a8fe35-faab-4970-b8c0-5c780845d98a",
   "metadata": {
    "execution": {
     "iopub.execute_input": "2024-09-11T18:58:37.037127Z",
     "iopub.status.busy": "2024-09-11T18:58:37.036767Z",
     "iopub.status.idle": "2024-09-11T18:58:39.761321Z",
     "shell.execute_reply": "2024-09-11T18:58:39.760809Z"
    }
   },
   "outputs": [
    {
     "name": "stdout",
     "output_type": "stream",
     "text": [
      "['France', 'Spain', 'Japan']\n"
     ]
    }
   ],
   "source": [
    "async for chunk in chain.astream(\n",
    "    \"output a list of the countries france, spain and japan and their populations in JSON format. \"\n",
    "    'Use a dict with an outer key of \"countries\" which contains a list of countries. '\n",
    "    \"Each country should have the key `name` and `population`\",\n",
    "):\n",
    "    print(chunk, flush=True)"
   ]
  },
  {
   "cell_type": "markdown",
   "id": "b279ea33-54f1-400a-acb1-b8445ccbf1fa",
   "metadata": {},
   "source": [
    "Now, let's confirm that with astream_events we're still seeing streaming output from the model and the parser."
   ]
  },
  {
   "cell_type": "code",
   "execution_count": 25,
   "id": "b08215cd-bffa-4e76-aaf3-c52ee34f152c",
   "metadata": {
    "execution": {
     "iopub.execute_input": "2024-09-11T18:58:39.764951Z",
     "iopub.status.busy": "2024-09-11T18:58:39.764679Z",
     "iopub.status.idle": "2024-09-11T18:58:41.163392Z",
     "shell.execute_reply": "2024-09-11T18:58:41.162538Z"
    }
   },
   "outputs": [
    {
     "name": "stdout",
     "output_type": "stream",
     "text": [
      "Chat model chunk: ''\n"
     ]
    },
    {
     "name": "stdout",
     "output_type": "stream",
     "text": [
      "Chat model chunk: '{'\n"
     ]
    },
    {
     "name": "stdout",
     "output_type": "stream",
     "text": [
      "Parser chunk: {}\n"
     ]
    },
    {
     "name": "stdout",
     "output_type": "stream",
     "text": [
      "Chat model chunk: '\\n  \"countries'\n"
     ]
    },
    {
     "name": "stdout",
     "output_type": "stream",
     "text": [
      "Chat model chunk: '\": [\\n    '\n"
     ]
    },
    {
     "name": "stdout",
     "output_type": "stream",
     "text": [
      "Parser chunk: {'countries': []}\n"
     ]
    },
    {
     "name": "stdout",
     "output_type": "stream",
     "text": [
      "Chat model chunk: '{\\n      \"'\n"
     ]
    },
    {
     "name": "stdout",
     "output_type": "stream",
     "text": [
      "Parser chunk: {'countries': [{}]}\n"
     ]
    },
    {
     "name": "stdout",
     "output_type": "stream",
     "text": [
      "Chat model chunk: 'name\": \"France'\n"
     ]
    },
    {
     "name": "stdout",
     "output_type": "stream",
     "text": [
      "Parser chunk: {'countries': [{'name': 'France'}]}\n"
     ]
    },
    {
     "name": "stdout",
     "output_type": "stream",
     "text": [
      "Chat model chunk: '\",\\n      \"'\n"
     ]
    },
    {
     "name": "stdout",
     "output_type": "stream",
     "text": [
      "Chat model chunk: 'population\": 67'\n"
     ]
    },
    {
     "name": "stdout",
     "output_type": "stream",
     "text": [
      "Parser chunk: {'countries': [{'name': 'France', 'population': 67}]}\n"
     ]
    },
    {
     "name": "stdout",
     "output_type": "stream",
     "text": [
      "Chat model chunk: '413'\n"
     ]
    },
    {
     "name": "stdout",
     "output_type": "stream",
     "text": [
      "Parser chunk: {'countries': [{'name': 'France', 'population': 67413}]}\n"
     ]
    },
    {
     "name": "stdout",
     "output_type": "stream",
     "text": [
      "Chat model chunk: '000\\n    },'\n"
     ]
    },
    {
     "name": "stdout",
     "output_type": "stream",
     "text": [
      "Parser chunk: {'countries': [{'name': 'France', 'population': 67413000}]}\n"
     ]
    },
    {
     "name": "stdout",
     "output_type": "stream",
     "text": [
      "Chat model chunk: '\\n    {'\n"
     ]
    },
    {
     "name": "stdout",
     "output_type": "stream",
     "text": [
      "Parser chunk: {'countries': [{'name': 'France', 'population': 67413000}, {}]}\n"
     ]
    },
    {
     "name": "stdout",
     "output_type": "stream",
     "text": [
      "Chat model chunk: '\\n      \"name\":'\n"
     ]
    },
    {
     "name": "stdout",
     "output_type": "stream",
     "text": [
      "Chat model chunk: ' \"Spain\",'\n"
     ]
    },
    {
     "name": "stdout",
     "output_type": "stream",
     "text": [
      "Parser chunk: {'countries': [{'name': 'France', 'population': 67413000}, {'name': 'Spain'}]}\n"
     ]
    },
    {
     "name": "stdout",
     "output_type": "stream",
     "text": [
      "Chat model chunk: '\\n      \"population\":'\n"
     ]
    },
    {
     "name": "stdout",
     "output_type": "stream",
     "text": [
      "Chat model chunk: ' 47'\n"
     ]
    },
    {
     "name": "stdout",
     "output_type": "stream",
     "text": [
      "Parser chunk: {'countries': [{'name': 'France', 'population': 67413000}, {'name': 'Spain', 'population': 47}]}\n"
     ]
    },
    {
     "name": "stdout",
     "output_type": "stream",
     "text": [
      "Chat model chunk: '351'\n"
     ]
    },
    {
     "name": "stdout",
     "output_type": "stream",
     "text": [
      "Parser chunk: {'countries': [{'name': 'France', 'population': 67413000}, {'name': 'Spain', 'population': 47351}]}\n"
     ]
    },
    {
     "name": "stdout",
     "output_type": "stream",
     "text": [
      "...\n"
     ]
    }
   ],
   "source": [
    "num_events = 0\n",
    "\n",
    "async for event in chain.astream_events(\n",
    "    \"output a list of the countries france, spain and japan and their populations in JSON format. \"\n",
    "    'Use a dict with an outer key of \"countries\" which contains a list of countries. '\n",
    "    \"Each country should have the key `name` and `population`\",\n",
    "    version=\"v2\",\n",
    "):\n",
    "    kind = event[\"event\"]\n",
    "    if kind == \"on_chat_model_stream\":\n",
    "        print(\n",
    "            f\"Chat model chunk: {repr(event['data']['chunk'].content)}\",\n",
    "            flush=True,\n",
    "        )\n",
    "    if kind == \"on_parser_stream\":\n",
    "        print(f\"Parser chunk: {event['data']['chunk']}\", flush=True)\n",
    "    num_events += 1\n",
    "    if num_events > 30:\n",
    "        # Truncate the output\n",
    "        print(\"...\")\n",
    "        break"
   ]
  },
  {
   "cell_type": "markdown",
   "id": "6e91bdd3-f4a3-4b3c-b21a-26365c6c1566",
   "metadata": {},
   "source": [
    "### Propagating Callbacks\n",
    "\n",
    ":::{.callout-caution}\n",
    "If you're using invoking runnables inside your tools, you need to propagate callbacks to the runnable; otherwise, no stream events will be generated.\n",
    ":::\n",
    "\n",
    ":::{.callout-note}\n",
    "When using `RunnableLambdas` or `@chain` decorator, callbacks are propagated automatically behind the scenes.\n",
    ":::"
   ]
  },
  {
   "cell_type": "code",
   "execution_count": 26,
   "id": "1854206d-b3a5-4f91-9e00-bccbaebac61f",
   "metadata": {
    "execution": {
     "iopub.execute_input": "2024-09-11T18:58:41.167929Z",
     "iopub.status.busy": "2024-09-11T18:58:41.167603Z",
     "iopub.status.idle": "2024-09-11T18:58:41.191893Z",
     "shell.execute_reply": "2024-09-11T18:58:41.191370Z"
    }
   },
   "outputs": [
    {
     "name": "stdout",
     "output_type": "stream",
     "text": [
      "{'event': 'on_tool_start', 'data': {'input': 'hello'}, 'name': 'bad_tool', 'tags': [], 'run_id': '79baf134-31c0-4f94-9126-5e4da2d14d95', 'metadata': {}, 'parent_ids': []}\n",
      "{'event': 'on_chain_start', 'data': {'input': 'hello'}, 'name': 'reverse_word', 'tags': [], 'run_id': '0d89bd5e-1f1b-4f58-b709-c1fbc4a352aa', 'metadata': {}, 'parent_ids': ['79baf134-31c0-4f94-9126-5e4da2d14d95']}\n",
      "{'event': 'on_chain_end', 'data': {'output': 'olleh', 'input': 'hello'}, 'run_id': '0d89bd5e-1f1b-4f58-b709-c1fbc4a352aa', 'name': 'reverse_word', 'tags': [], 'metadata': {}, 'parent_ids': ['79baf134-31c0-4f94-9126-5e4da2d14d95']}\n",
      "{'event': 'on_tool_end', 'data': {'output': 'olleh'}, 'run_id': '79baf134-31c0-4f94-9126-5e4da2d14d95', 'name': 'bad_tool', 'tags': [], 'metadata': {}, 'parent_ids': []}\n"
     ]
    }
   ],
   "source": [
    "from langchain_core.runnables import RunnableLambda\n",
    "from langchain_core.tools import tool\n",
    "\n",
    "\n",
    "def reverse_word(word: str):\n",
    "    return word[::-1]\n",
    "\n",
    "\n",
    "reverse_word = RunnableLambda(reverse_word)\n",
    "\n",
    "\n",
    "@tool\n",
    "def bad_tool(word: str):\n",
    "    \"\"\"Custom tool that doesn't propagate callbacks.\"\"\"\n",
    "    return reverse_word.invoke(word)\n",
    "\n",
    "\n",
    "async for event in bad_tool.astream_events(\"hello\", version=\"v2\"):\n",
    "    print(event)"
   ]
  },
  {
   "cell_type": "markdown",
   "id": "23e68a99-7886-465b-8575-116022857469",
   "metadata": {},
   "source": [
    "Here's a re-implementation that does propagate callbacks correctly. You'll notice that now we're getting events from the `reverse_word` runnable as well."
   ]
  },
  {
   "cell_type": "code",
   "execution_count": 27,
   "id": "a20a6cb3-bb43-465c-8cfc-0a7349d70968",
   "metadata": {
    "execution": {
     "iopub.execute_input": "2024-09-11T18:58:41.194804Z",
     "iopub.status.busy": "2024-09-11T18:58:41.194610Z",
     "iopub.status.idle": "2024-09-11T18:58:41.205675Z",
     "shell.execute_reply": "2024-09-11T18:58:41.205164Z"
    }
   },
   "outputs": [
    {
     "name": "stdout",
     "output_type": "stream",
     "text": [
      "{'event': 'on_tool_start', 'data': {'input': 'hello'}, 'name': 'correct_tool', 'tags': [], 'run_id': 'd9dc2f0b-4a39-4681-b9ee-27c2d9598298', 'metadata': {}, 'parent_ids': []}\n",
      "{'event': 'on_chain_start', 'data': {'input': 'hello'}, 'name': 'reverse_word', 'tags': [], 'run_id': '6d311b03-d77b-4ea4-b2e2-a7ffbf9f1ddf', 'metadata': {}, 'parent_ids': ['d9dc2f0b-4a39-4681-b9ee-27c2d9598298']}\n",
      "{'event': 'on_chain_end', 'data': {'output': 'olleh', 'input': 'hello'}, 'run_id': '6d311b03-d77b-4ea4-b2e2-a7ffbf9f1ddf', 'name': 'reverse_word', 'tags': [], 'metadata': {}, 'parent_ids': ['d9dc2f0b-4a39-4681-b9ee-27c2d9598298']}\n",
      "{'event': 'on_tool_end', 'data': {'output': 'olleh'}, 'run_id': 'd9dc2f0b-4a39-4681-b9ee-27c2d9598298', 'name': 'correct_tool', 'tags': [], 'metadata': {}, 'parent_ids': []}\n"
     ]
    }
   ],
   "source": [
    "@tool\n",
    "def correct_tool(word: str, callbacks):\n",
    "    \"\"\"A tool that correctly propagates callbacks.\"\"\"\n",
    "    return reverse_word.invoke(word, {\"callbacks\": callbacks})\n",
    "\n",
    "\n",
    "async for event in correct_tool.astream_events(\"hello\", version=\"v2\"):\n",
    "    print(event)"
   ]
  },
  {
   "cell_type": "markdown",
   "id": "640daa94-e4fe-4997-ab6e-45120f18b9ee",
   "metadata": {},
   "source": [
    "If you're invoking runnables from within Runnable Lambdas or `@chains`, then callbacks will be passed automatically on your behalf."
   ]
  },
  {
   "cell_type": "code",
   "execution_count": 28,
   "id": "0ac0a3c1-f3a4-4157-b053-4fec8d2e698c",
   "metadata": {
    "execution": {
     "iopub.execute_input": "2024-09-11T18:58:41.207740Z",
     "iopub.status.busy": "2024-09-11T18:58:41.207577Z",
     "iopub.status.idle": "2024-09-11T18:58:41.216547Z",
     "shell.execute_reply": "2024-09-11T18:58:41.216243Z"
    }
   },
   "outputs": [
    {
     "name": "stdout",
     "output_type": "stream",
     "text": [
      "{'event': 'on_chain_start', 'data': {'input': '1234'}, 'name': 'reverse_and_double', 'tags': [], 'run_id': '37f49cf4-a47b-476e-9e82-f85d19aee76b', 'metadata': {}, 'parent_ids': []}\n",
      "{'event': 'on_chain_start', 'data': {'input': '1234'}, 'name': 'reverse_word', 'tags': [], 'run_id': '41041934-3454-4697-8826-04e10fb52e17', 'metadata': {}, 'parent_ids': ['37f49cf4-a47b-476e-9e82-f85d19aee76b']}\n",
      "{'event': 'on_chain_end', 'data': {'output': '4321', 'input': '1234'}, 'run_id': '41041934-3454-4697-8826-04e10fb52e17', 'name': 'reverse_word', 'tags': [], 'metadata': {}, 'parent_ids': ['37f49cf4-a47b-476e-9e82-f85d19aee76b']}\n",
      "{'event': 'on_chain_stream', 'run_id': '37f49cf4-a47b-476e-9e82-f85d19aee76b', 'name': 'reverse_and_double', 'tags': [], 'metadata': {}, 'data': {'chunk': '43214321'}, 'parent_ids': []}\n",
      "{'event': 'on_chain_end', 'data': {'output': '43214321'}, 'run_id': '37f49cf4-a47b-476e-9e82-f85d19aee76b', 'name': 'reverse_and_double', 'tags': [], 'metadata': {}, 'parent_ids': []}\n"
     ]
    }
   ],
   "source": [
    "from langchain_core.runnables import RunnableLambda\n",
    "\n",
    "\n",
    "async def reverse_and_double(word: str):\n",
    "    return await reverse_word.ainvoke(word) * 2\n",
    "\n",
    "\n",
    "reverse_and_double = RunnableLambda(reverse_and_double)\n",
    "\n",
    "await reverse_and_double.ainvoke(\"1234\")\n",
    "\n",
    "async for event in reverse_and_double.astream_events(\"1234\", version=\"v2\"):\n",
    "    print(event)"
   ]
  },
  {
   "cell_type": "markdown",
   "id": "35a34268-9b3d-4857-b4ed-65d95f4a1293",
   "metadata": {},
   "source": [
    "And with the `@chain` decorator:"
   ]
  },
  {
   "cell_type": "code",
   "execution_count": 29,
   "id": "c896bb94-9d10-41ff-8fe2-d6b05b1ed74b",
   "metadata": {
    "execution": {
     "iopub.execute_input": "2024-09-11T18:58:41.218299Z",
     "iopub.status.busy": "2024-09-11T18:58:41.218174Z",
     "iopub.status.idle": "2024-09-11T18:58:41.225461Z",
     "shell.execute_reply": "2024-09-11T18:58:41.225228Z"
    }
   },
   "outputs": [
    {
     "name": "stdout",
     "output_type": "stream",
     "text": [
      "{'event': 'on_chain_start', 'data': {'input': '1234'}, 'name': 'reverse_and_double', 'tags': [], 'run_id': '14837c7c-038a-4086-9281-38ecad002c2c', 'metadata': {}, 'parent_ids': []}\n",
      "{'event': 'on_chain_start', 'data': {'input': '1234'}, 'name': 'reverse_word', 'tags': [], 'run_id': 'd88ecd18-a257-43c4-b32b-c055b49d5a25', 'metadata': {}, 'parent_ids': ['14837c7c-038a-4086-9281-38ecad002c2c']}\n",
      "{'event': 'on_chain_end', 'data': {'output': '4321', 'input': '1234'}, 'run_id': 'd88ecd18-a257-43c4-b32b-c055b49d5a25', 'name': 'reverse_word', 'tags': [], 'metadata': {}, 'parent_ids': ['14837c7c-038a-4086-9281-38ecad002c2c']}\n",
      "{'event': 'on_chain_stream', 'run_id': '14837c7c-038a-4086-9281-38ecad002c2c', 'name': 'reverse_and_double', 'tags': [], 'metadata': {}, 'data': {'chunk': '43214321'}, 'parent_ids': []}\n",
      "{'event': 'on_chain_end', 'data': {'output': '43214321'}, 'run_id': '14837c7c-038a-4086-9281-38ecad002c2c', 'name': 'reverse_and_double', 'tags': [], 'metadata': {}, 'parent_ids': []}\n"
     ]
    }
   ],
   "source": [
    "from langchain_core.runnables import chain\n",
    "\n",
    "\n",
    "@chain\n",
    "async def reverse_and_double(word: str):\n",
    "    return await reverse_word.ainvoke(word) * 2\n",
    "\n",
    "\n",
    "await reverse_and_double.ainvoke(\"1234\")\n",
    "\n",
    "async for event in reverse_and_double.astream_events(\"1234\", version=\"v2\"):\n",
    "    print(event)"
   ]
  },
  {
   "cell_type": "markdown",
   "id": "2a3efcd9",
   "metadata": {},
   "source": [
    "## Next steps\n",
    "\n",
    "Now you've learned some ways to stream both final outputs and internal steps with LangChain.\n",
    "\n",
    "To learn more, check out the other how-to guides in this section, or the [conceptual guide on Langchain Expression Language](/docs/concepts/#langchain-expression-language/)."
   ]
  }
 ],
 "metadata": {
  "kernelspec": {
   "display_name": "Python 3 (ipykernel)",
   "language": "python",
   "name": "python3"
  },
  "language_info": {
   "codemirror_mode": {
    "name": "ipython",
    "version": 3
   },
   "file_extension": ".py",
   "mimetype": "text/x-python",
   "name": "python",
   "nbconvert_exporter": "python",
   "pygments_lexer": "ipython3",
   "version": "3.11.9"
  }
 },
 "nbformat": 4,
 "nbformat_minor": 5
}
