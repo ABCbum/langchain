{
 "cells": [
  {
   "cell_type": "markdown",
   "id": "9a8bceb3-95bd-4496-bb9e-57655136e070",
   "metadata": {},
   "source": [
    "# How to convert Runnables as Tools\n",
    "\n",
    ":::info Prerequisites\n",
    "\n",
    "This guide assumes familiarity with the following concepts:\n",
    "\n",
    "- [Runnables](/docs/concepts#runnable-interface)\n",
    "- [Tools](/docs/concepts#tools)\n",
    "- [Agents](/docs/tutorials/agents)\n",
    "\n",
    ":::\n",
    "\n",
    "Here we will demonstrate how to convert a LangChain `Runnable` into a tool that can be used by agents, chains, or chat models.\n",
    "\n",
    "## Dependencies\n",
    "\n",
    "**Note**: this guide requires `langchain-core` >= 0.2.13. We will also use [OpenAI](/docs/integrations/platforms/openai/) for embeddings, but any LangChain embeddings should suffice. We will use a simple [LangGraph](https://langchain-ai.github.io/langgraph/) agent for demonstration purposes."
   ]
  },
  {
   "cell_type": "code",
   "execution_count": 1,
   "id": "92341f48-2c29-4ce9-8ab8-0a7c7a7c98a1",
   "metadata": {
    "execution": {
     "iopub.execute_input": "2024-09-11T18:11:05.327617Z",
     "iopub.status.busy": "2024-09-11T18:11:05.327353Z",
     "iopub.status.idle": "2024-09-11T18:11:06.473092Z",
     "shell.execute_reply": "2024-09-11T18:11:06.472413Z"
    }
   },
   "outputs": [],
   "source": [
    "%%capture --no-stderr\n",
    "%pip install -U langchain-core langchain-openai langgraph"
   ]
  },
  {
   "cell_type": "markdown",
   "id": "2b0dcc1a-48e8-4a81-b920-3563192ce076",
   "metadata": {},
   "source": [
    "LangChain [tools](/docs/concepts#tools) are interfaces that an agent, chain, or chat model can use to interact with the world. See [here](/docs/how_to/#tools) for how-to guides covering tool-calling, built-in tools, custom tools, and more information.\n",
    "\n",
    "LangChain tools-- instances of [BaseTool](https://python.langchain.com/v0.2/api_reference/core/tools/langchain_core.tools.BaseTool.html)-- are [Runnables](/docs/concepts/#runnable-interface) with additional constraints that enable them to be invoked effectively by language models:\n",
    "\n",
    "- Their inputs are constrained to be serializable, specifically strings and Python `dict` objects;\n",
    "- They contain names and descriptions indicating how and when they should be used;\n",
    "- They may contain a detailed [args_schema](https://python.langchain.com/v0.2/docs/how_to/custom_tools/) for their arguments. That is, while a tool (as a `Runnable`) might accept a single `dict` input, the specific keys and type information needed to populate a dict should be specified in the `args_schema`.\n",
    "\n",
    "Runnables that accept string or `dict` input can be converted to tools using the [as_tool](https://python.langchain.com/v0.2/api_reference/core/runnables/langchain_core.runnables.base.Runnable.html#langchain_core.runnables.base.Runnable.as_tool) method, which allows for the specification of names, descriptions, and additional schema information for arguments."
   ]
  },
  {
   "cell_type": "markdown",
   "id": "b4d76680-1b6b-4862-8c4f-22766a1d41f2",
   "metadata": {},
   "source": [
    "## Basic usage\n",
    "\n",
    "With typed `dict` input:"
   ]
  },
  {
   "cell_type": "code",
   "execution_count": 2,
   "id": "b2cc4231-64a3-4733-a284-932dcbf2fcc3",
   "metadata": {
    "execution": {
     "iopub.execute_input": "2024-09-11T18:11:06.476511Z",
     "iopub.status.busy": "2024-09-11T18:11:06.476161Z",
     "iopub.status.idle": "2024-09-11T18:11:06.863089Z",
     "shell.execute_reply": "2024-09-11T18:11:06.862809Z"
    }
   },
   "outputs": [
    {
     "name": "stderr",
     "output_type": "stream",
     "text": [
      "/var/folders/4j/2rz3865x6qg07tx43146py8h0000gn/T/ipykernel_42279/37388618.py:17: LangChainBetaWarning: This API is in beta and may change in the future.\n",
      "  as_tool = runnable.as_tool(\n"
     ]
    }
   ],
   "source": [
    "from typing import List\n",
    "\n",
    "from langchain_core.runnables import RunnableLambda\n",
    "from typing_extensions import TypedDict\n",
    "\n",
    "\n",
    "class Args(TypedDict):\n",
    "    a: int\n",
    "    b: List[int]\n",
    "\n",
    "\n",
    "def f(x: Args) -> str:\n",
    "    return str(x[\"a\"] * max(x[\"b\"]))\n",
    "\n",
    "\n",
    "runnable = RunnableLambda(f)\n",
    "as_tool = runnable.as_tool(\n",
    "    name=\"My tool\",\n",
    "    description=\"Explanation of when to use tool.\",\n",
    ")"
   ]
  },
  {
   "cell_type": "code",
   "execution_count": 3,
   "id": "57f2d435-624d-459a-903d-8509fbbde610",
   "metadata": {
    "execution": {
     "iopub.execute_input": "2024-09-11T18:11:06.864601Z",
     "iopub.status.busy": "2024-09-11T18:11:06.864487Z",
     "iopub.status.idle": "2024-09-11T18:11:06.868112Z",
     "shell.execute_reply": "2024-09-11T18:11:06.867875Z"
    }
   },
   "outputs": [
    {
     "name": "stdout",
     "output_type": "stream",
     "text": [
      "Explanation of when to use tool.\n"
     ]
    },
    {
     "data": {
      "text/plain": [
       "{'properties': {'a': {'title': 'A', 'type': 'integer'},\n",
       "  'b': {'items': {'type': 'integer'}, 'title': 'B', 'type': 'array'}},\n",
       " 'required': ['a', 'b'],\n",
       " 'title': 'My tool',\n",
       " 'type': 'object'}"
      ]
     },
     "execution_count": 3,
     "metadata": {},
     "output_type": "execute_result"
    }
   ],
   "source": [
    "print(as_tool.description)\n",
    "\n",
    "as_tool.args_schema.schema()"
   ]
  },
  {
   "cell_type": "code",
   "execution_count": 4,
   "id": "54ae7384-a03d-4fa4-8cdf-9604a4bc39ee",
   "metadata": {
    "execution": {
     "iopub.execute_input": "2024-09-11T18:11:06.869279Z",
     "iopub.status.busy": "2024-09-11T18:11:06.869193Z",
     "iopub.status.idle": "2024-09-11T18:11:06.875298Z",
     "shell.execute_reply": "2024-09-11T18:11:06.874987Z"
    }
   },
   "outputs": [
    {
     "data": {
      "text/plain": [
       "'6'"
      ]
     },
     "execution_count": 4,
     "metadata": {},
     "output_type": "execute_result"
    }
   ],
   "source": [
    "as_tool.invoke({\"a\": 3, \"b\": [1, 2]})"
   ]
  },
  {
   "cell_type": "markdown",
   "id": "9038f587-4613-4f50-b349-135f9e7e3b15",
   "metadata": {},
   "source": [
    "Without typing information, arg types can be specified via `arg_types`:"
   ]
  },
  {
   "cell_type": "code",
   "execution_count": 5,
   "id": "169f733c-4936-497f-8577-ee769dc16b88",
   "metadata": {
    "execution": {
     "iopub.execute_input": "2024-09-11T18:11:06.876832Z",
     "iopub.status.busy": "2024-09-11T18:11:06.876728Z",
     "iopub.status.idle": "2024-09-11T18:11:06.880655Z",
     "shell.execute_reply": "2024-09-11T18:11:06.880390Z"
    }
   },
   "outputs": [],
   "source": [
    "from typing import Any, Dict\n",
    "\n",
    "\n",
    "def g(x: Dict[str, Any]) -> str:\n",
    "    return str(x[\"a\"] * max(x[\"b\"]))\n",
    "\n",
    "\n",
    "runnable = RunnableLambda(g)\n",
    "as_tool = runnable.as_tool(\n",
    "    name=\"My tool\",\n",
    "    description=\"Explanation of when to use tool.\",\n",
    "    arg_types={\"a\": int, \"b\": List[int]},\n",
    ")"
   ]
  },
  {
   "cell_type": "markdown",
   "id": "32b1a992-8997-4c98-8eb2-c9fe9431b799",
   "metadata": {},
   "source": [
    "Alternatively, the schema can be fully specified by directly passing the desired [args_schema](https://python.langchain.com/v0.2/api_reference/core/tools/langchain_core.tools.BaseTool.html#langchain_core.tools.BaseTool.args_schema) for the tool:"
   ]
  },
  {
   "cell_type": "code",
   "execution_count": 6,
   "id": "eb102705-89b7-48dc-9158-d36d5f98ae8e",
   "metadata": {
    "execution": {
     "iopub.execute_input": "2024-09-11T18:11:06.882054Z",
     "iopub.status.busy": "2024-09-11T18:11:06.881930Z",
     "iopub.status.idle": "2024-09-11T18:11:06.884649Z",
     "shell.execute_reply": "2024-09-11T18:11:06.884443Z"
    }
   },
   "outputs": [],
   "source": [
    "from pydantic import BaseModel, Field\n",
    "\n",
    "\n",
    "class GSchema(BaseModel):\n",
    "    \"\"\"Apply a function to an integer and list of integers.\"\"\"\n",
    "\n",
    "    a: int = Field(..., description=\"Integer\")\n",
    "    b: List[int] = Field(..., description=\"List of ints\")\n",
    "\n",
    "\n",
    "runnable = RunnableLambda(g)\n",
    "as_tool = runnable.as_tool(GSchema)"
   ]
  },
  {
   "cell_type": "markdown",
   "id": "7c474d85-4e01-4fae-9bba-0c6c8c26475c",
   "metadata": {},
   "source": [
    "String input is also supported:"
   ]
  },
  {
   "cell_type": "code",
   "execution_count": 7,
   "id": "c475282a-58d6-4c2b-af7d-99b73b7d8a13",
   "metadata": {
    "execution": {
     "iopub.execute_input": "2024-09-11T18:11:06.886285Z",
     "iopub.status.busy": "2024-09-11T18:11:06.886064Z",
     "iopub.status.idle": "2024-09-11T18:11:06.889006Z",
     "shell.execute_reply": "2024-09-11T18:11:06.888764Z"
    }
   },
   "outputs": [],
   "source": [
    "def f(x: str) -> str:\n",
    "    return x + \"a\"\n",
    "\n",
    "\n",
    "def g(x: str) -> str:\n",
    "    return x + \"z\"\n",
    "\n",
    "\n",
    "runnable = RunnableLambda(f) | g\n",
    "as_tool = runnable.as_tool()"
   ]
  },
  {
   "cell_type": "code",
   "execution_count": 8,
   "id": "ad6d8d96-3a87-40bd-a2ac-44a8acde0a8e",
   "metadata": {
    "execution": {
     "iopub.execute_input": "2024-09-11T18:11:06.890230Z",
     "iopub.status.busy": "2024-09-11T18:11:06.890132Z",
     "iopub.status.idle": "2024-09-11T18:11:06.897664Z",
     "shell.execute_reply": "2024-09-11T18:11:06.897463Z"
    }
   },
   "outputs": [
    {
     "data": {
      "text/plain": [
       "'baz'"
      ]
     },
     "execution_count": 8,
     "metadata": {},
     "output_type": "execute_result"
    }
   ],
   "source": [
    "as_tool.invoke(\"b\")"
   ]
  },
  {
   "cell_type": "markdown",
   "id": "89fdb3a7-d228-48f0-8f73-262af4febb58",
   "metadata": {},
   "source": [
    "## In agents\n",
    "\n",
    "Below we will incorporate LangChain Runnables as tools in an [agent](/docs/concepts/#agents) application. We will demonstrate with:\n",
    "\n",
    "- a document [retriever](/docs/concepts/#retrievers);\n",
    "- a simple [RAG](/docs/tutorials/rag/) chain, allowing an agent to delegate relevant queries to it.\n",
    "\n",
    "We first instantiate a chat model that supports [tool calling](/docs/how_to/tool_calling/):\n",
    "\n",
    "```{=mdx}\n",
    "import ChatModelTabs from \"@theme/ChatModelTabs\";\n",
    "\n",
    "<ChatModelTabs customVarName=\"llm\" />\n",
    "```"
   ]
  },
  {
   "cell_type": "code",
   "execution_count": 9,
   "id": "d06c9f2a-4475-450f-9106-54db1d99623b",
   "metadata": {
    "execution": {
     "iopub.execute_input": "2024-09-11T18:11:06.898886Z",
     "iopub.status.busy": "2024-09-11T18:11:06.898802Z",
     "iopub.status.idle": "2024-09-11T18:11:07.040398Z",
     "shell.execute_reply": "2024-09-11T18:11:07.040109Z"
    }
   },
   "outputs": [],
   "source": [
    "# | output: false\n",
    "# | echo: false\n",
    "\n",
    "from langchain_openai import ChatOpenAI\n",
    "\n",
    "llm = ChatOpenAI(model=\"gpt-4o-mini\", temperature=0)"
   ]
  },
  {
   "cell_type": "markdown",
   "id": "e8a2038a-d762-4196-b5e3-fdb89c11e71d",
   "metadata": {},
   "source": [
    "Following the [RAG tutorial](/docs/tutorials/rag/), let's first construct a retriever:"
   ]
  },
  {
   "cell_type": "code",
   "execution_count": 10,
   "id": "23d2a47e-6712-4294-81c8-2c1d76b4bb81",
   "metadata": {
    "execution": {
     "iopub.execute_input": "2024-09-11T18:11:07.041963Z",
     "iopub.status.busy": "2024-09-11T18:11:07.041881Z",
     "iopub.status.idle": "2024-09-11T18:11:07.876217Z",
     "shell.execute_reply": "2024-09-11T18:11:07.875407Z"
    }
   },
   "outputs": [],
   "source": [
    "from langchain_core.documents import Document\n",
    "from langchain_core.vectorstores import InMemoryVectorStore\n",
    "from langchain_openai import OpenAIEmbeddings\n",
    "\n",
    "documents = [\n",
    "    Document(\n",
    "        page_content=\"Dogs are great companions, known for their loyalty and friendliness.\",\n",
    "    ),\n",
    "    Document(\n",
    "        page_content=\"Cats are independent pets that often enjoy their own space.\",\n",
    "    ),\n",
    "]\n",
    "\n",
    "vectorstore = InMemoryVectorStore.from_documents(\n",
    "    documents, embedding=OpenAIEmbeddings()\n",
    ")\n",
    "\n",
    "retriever = vectorstore.as_retriever(\n",
    "    search_type=\"similarity\",\n",
    "    search_kwargs={\"k\": 1},\n",
    ")"
   ]
  },
  {
   "cell_type": "markdown",
   "id": "9ba737ac-43a2-4a6f-b855-5bd0305017f1",
   "metadata": {},
   "source": [
    "We next create use a simple pre-built [LangGraph agent](https://python.langchain.com/v0.2/docs/tutorials/agents/) and provide it the tool:"
   ]
  },
  {
   "cell_type": "code",
   "execution_count": 11,
   "id": "c939cf2a-60e9-4afd-8b47-84d76ccb13f5",
   "metadata": {
    "execution": {
     "iopub.execute_input": "2024-09-11T18:11:07.880243Z",
     "iopub.status.busy": "2024-09-11T18:11:07.879951Z",
     "iopub.status.idle": "2024-09-11T18:11:07.965714Z",
     "shell.execute_reply": "2024-09-11T18:11:07.965428Z"
    }
   },
   "outputs": [],
   "source": [
    "from langgraph.prebuilt import create_react_agent\n",
    "\n",
    "tools = [\n",
    "    retriever.as_tool(\n",
    "        name=\"pet_info_retriever\",\n",
    "        description=\"Get information about pets.\",\n",
    "    )\n",
    "]\n",
    "agent = create_react_agent(llm, tools)"
   ]
  },
  {
   "cell_type": "code",
   "execution_count": 12,
   "id": "be29437b-a187-4a0a-9a5d-419c56f2434e",
   "metadata": {
    "execution": {
     "iopub.execute_input": "2024-09-11T18:11:07.967408Z",
     "iopub.status.busy": "2024-09-11T18:11:07.967325Z",
     "iopub.status.idle": "2024-09-11T18:11:11.264793Z",
     "shell.execute_reply": "2024-09-11T18:11:11.264171Z"
    }
   },
   "outputs": [
    {
     "name": "stdout",
     "output_type": "stream",
     "text": [
      "{'agent': {'messages': [AIMessage(content='Dogs are known for several characteristics and traits, including:\\n\\n1. **Loyalty**: Dogs are often referred to as \"man\\'s best friend\" due to their loyalty and companionship.\\n\\n2. **Intelligence**: Many dog breeds are highly trainable and can learn a variety of commands and tasks.\\n\\n3. **Sense of Smell**: Dogs have an exceptional sense of smell, which makes them excellent at tracking scents and detecting substances.\\n\\n4. **Social Behavior**: Dogs are social animals that thrive on interaction with humans and other animals.\\n\\n5. **Protection**: Many dogs are protective of their owners and can serve as guard dogs.\\n\\n6. **Playfulness**: Dogs are known for their playful nature and enjoy activities like fetching, running, and playing with toys.\\n\\n7. **Variety of Breeds**: There are hundreds of dog breeds, each with unique characteristics, sizes, and temperaments.\\n\\n8. **Service and Therapy**: Dogs are often trained to assist people with disabilities, provide therapy, and work in various service roles.\\n\\n9. **Emotional Support**: Dogs can provide comfort and emotional support to their owners, helping to reduce stress and anxiety.\\n\\n10. **Adaptability**: Dogs can adapt to various living situations, from apartments to farms, and can be trained for different lifestyles.\\n\\nThese traits make dogs beloved pets and valuable companions to many people around the world.', additional_kwargs={'refusal': None}, response_metadata={'token_usage': {'completion_tokens': 284, 'prompt_tokens': 115, 'total_tokens': 399}, 'model_name': 'gpt-4o-mini-2024-07-18', 'system_fingerprint': 'fp_483d39d857', 'finish_reason': 'stop', 'logprobs': None}, id='run-9c0af1df-5101-4f4b-a534-155cec486b1c-0', usage_metadata={'input_tokens': 115, 'output_tokens': 284, 'total_tokens': 399})]}}\n",
      "----\n"
     ]
    }
   ],
   "source": [
    "for chunk in agent.stream({\"messages\": [(\"human\", \"What are dogs known for?\")]}):\n",
    "    print(chunk)\n",
    "    print(\"----\")"
   ]
  },
  {
   "cell_type": "markdown",
   "id": "96f2ac9c-36f4-4b7a-ae33-f517734c86aa",
   "metadata": {},
   "source": [
    "See [LangSmith trace](https://smith.langchain.com/public/44e438e3-2faf-45bd-b397-5510fc145eb9/r) for the above run."
   ]
  },
  {
   "cell_type": "markdown",
   "id": "a722fd8a-b957-4ba7-b408-35596b76835f",
   "metadata": {},
   "source": [
    "Going further, we can create a simple [RAG](/docs/tutorials/rag/) chain that takes an additional parameter-- here, the \"style\" of the answer."
   ]
  },
  {
   "cell_type": "code",
   "execution_count": 13,
   "id": "bea518c9-c711-47c2-b8cc-dbd102f71f09",
   "metadata": {
    "execution": {
     "iopub.execute_input": "2024-09-11T18:11:11.267675Z",
     "iopub.status.busy": "2024-09-11T18:11:11.267442Z",
     "iopub.status.idle": "2024-09-11T18:11:11.272846Z",
     "shell.execute_reply": "2024-09-11T18:11:11.272166Z"
    }
   },
   "outputs": [],
   "source": [
    "from operator import itemgetter\n",
    "\n",
    "from langchain_core.output_parsers import StrOutputParser\n",
    "from langchain_core.prompts import ChatPromptTemplate\n",
    "from langchain_core.runnables import RunnablePassthrough\n",
    "\n",
    "system_prompt = \"\"\"\n",
    "You are an assistant for question-answering tasks.\n",
    "Use the below context to answer the question. If\n",
    "you don't know the answer, say you don't know.\n",
    "Use three sentences maximum and keep the answer\n",
    "concise.\n",
    "\n",
    "Answer in the style of {answer_style}.\n",
    "\n",
    "Question: {question}\n",
    "\n",
    "Context: {context}\n",
    "\"\"\"\n",
    "\n",
    "prompt = ChatPromptTemplate.from_messages([(\"system\", system_prompt)])\n",
    "\n",
    "rag_chain = (\n",
    "    {\n",
    "        \"context\": itemgetter(\"question\") | retriever,\n",
    "        \"question\": itemgetter(\"question\"),\n",
    "        \"answer_style\": itemgetter(\"answer_style\"),\n",
    "    }\n",
    "    | prompt\n",
    "    | llm\n",
    "    | StrOutputParser()\n",
    ")"
   ]
  },
  {
   "cell_type": "markdown",
   "id": "955a23db-5218-4c34-8486-450a2ddb3443",
   "metadata": {},
   "source": [
    "Note that the input schema for our chain contains the required arguments, so it converts to a tool without further specification:"
   ]
  },
  {
   "cell_type": "code",
   "execution_count": 14,
   "id": "2c9f6e61-80ed-4abb-8e77-84de3ccbc891",
   "metadata": {
    "execution": {
     "iopub.execute_input": "2024-09-11T18:11:11.275148Z",
     "iopub.status.busy": "2024-09-11T18:11:11.274978Z",
     "iopub.status.idle": "2024-09-11T18:11:11.281223Z",
     "shell.execute_reply": "2024-09-11T18:11:11.280906Z"
    }
   },
   "outputs": [
    {
     "data": {
      "text/plain": [
       "{'properties': {'question': {'title': 'Question'},\n",
       "  'answer_style': {'title': 'Answer Style'}},\n",
       " 'required': ['question', 'answer_style'],\n",
       " 'title': 'RunnableParallel<context,question,answer_style>Input',\n",
       " 'type': 'object'}"
      ]
     },
     "execution_count": 14,
     "metadata": {},
     "output_type": "execute_result"
    }
   ],
   "source": [
    "rag_chain.input_schema.schema()"
   ]
  },
  {
   "cell_type": "code",
   "execution_count": 15,
   "id": "a3f9cf5b-8c71-4b0f-902b-f92e028780c9",
   "metadata": {
    "execution": {
     "iopub.execute_input": "2024-09-11T18:11:11.282918Z",
     "iopub.status.busy": "2024-09-11T18:11:11.282797Z",
     "iopub.status.idle": "2024-09-11T18:11:11.286434Z",
     "shell.execute_reply": "2024-09-11T18:11:11.285815Z"
    }
   },
   "outputs": [],
   "source": [
    "rag_tool = rag_chain.as_tool(\n",
    "    name=\"pet_expert\",\n",
    "    description=\"Get information about pets.\",\n",
    ")"
   ]
  },
  {
   "cell_type": "markdown",
   "id": "4570615b-8f96-4d97-ae01-1c08b14be584",
   "metadata": {},
   "source": [
    "Below we again invoke the agent. Note that the agent populates the required parameters in its `tool_calls`:"
   ]
  },
  {
   "cell_type": "code",
   "execution_count": 16,
   "id": "06409913-a2ad-400f-a202-7b8dd2ef483a",
   "metadata": {
    "execution": {
     "iopub.execute_input": "2024-09-11T18:11:11.288538Z",
     "iopub.status.busy": "2024-09-11T18:11:11.288389Z",
     "iopub.status.idle": "2024-09-11T18:11:14.130149Z",
     "shell.execute_reply": "2024-09-11T18:11:14.129234Z"
    }
   },
   "outputs": [
    {
     "name": "stdout",
     "output_type": "stream",
     "text": [
      "{'agent': {'messages': [AIMessage(content='', additional_kwargs={'tool_calls': [{'id': 'call_q5qDN1JFmdZ6x0Oyt39mO2lt', 'function': {'arguments': '{\"question\":\"What would a pirate say dogs are known for?\",\"answer_style\":\"pirate\"}', 'name': 'pet_expert'}, 'type': 'function'}], 'refusal': None}, response_metadata={'token_usage': {'completion_tokens': 30, 'prompt_tokens': 58, 'total_tokens': 88}, 'model_name': 'gpt-4o-mini-2024-07-18', 'system_fingerprint': 'fp_483d39d857', 'finish_reason': 'tool_calls', 'logprobs': None}, id='run-e8244dc3-33a9-4757-8b98-6e0d7e93fee1-0', tool_calls=[{'name': 'pet_expert', 'args': {'question': 'What would a pirate say dogs are known for?', 'answer_style': 'pirate'}, 'id': 'call_q5qDN1JFmdZ6x0Oyt39mO2lt', 'type': 'tool_call'}], usage_metadata={'input_tokens': 58, 'output_tokens': 30, 'total_tokens': 88})]}}\n",
      "----\n"
     ]
    },
    {
     "name": "stdout",
     "output_type": "stream",
     "text": [
      "{'tools': {'messages': [ToolMessage(content='Arrr, matey! Dogs be known fer their loyalty and friendliness, like a trusty first mate on the high seas. They be great companions, always ready to stand by yer side!', name='pet_expert', tool_call_id='call_q5qDN1JFmdZ6x0Oyt39mO2lt')]}}\n",
      "----\n"
     ]
    },
    {
     "name": "stdout",
     "output_type": "stream",
     "text": [
      "{'agent': {'messages': [AIMessage(content='Arrr, matey! A pirate would say that dogs be known fer their loyalty and friendliness, like a trusty first mate on the high seas. They be great companions, always ready to stand by yer side!', additional_kwargs={'refusal': None}, response_metadata={'token_usage': {'completion_tokens': 44, 'prompt_tokens': 135, 'total_tokens': 179}, 'model_name': 'gpt-4o-mini-2024-07-18', 'system_fingerprint': 'fp_483d39d857', 'finish_reason': 'stop', 'logprobs': None}, id='run-41be2130-4479-43a7-b8f8-eb3663f3fa33-0', usage_metadata={'input_tokens': 135, 'output_tokens': 44, 'total_tokens': 179})]}}\n",
      "----\n"
     ]
    }
   ],
   "source": [
    "agent = create_react_agent(llm, [rag_tool])\n",
    "\n",
    "for chunk in agent.stream(\n",
    "    {\"messages\": [(\"human\", \"What would a pirate say dogs are known for?\")]}\n",
    "):\n",
    "    print(chunk)\n",
    "    print(\"----\")"
   ]
  },
  {
   "cell_type": "markdown",
   "id": "96cc9bc3-e79e-49a8-9915-428ea225358b",
   "metadata": {},
   "source": [
    "See [LangSmith trace](https://smith.langchain.com/public/147ae4e6-4dfb-4dd9-8ca0-5c5b954f08ac/r) for the above run."
   ]
  }
 ],
 "metadata": {
  "kernelspec": {
   "display_name": "Python 3 (ipykernel)",
   "language": "python",
   "name": "python3"
  },
  "language_info": {
   "codemirror_mode": {
    "name": "ipython",
    "version": 3
   },
   "file_extension": ".py",
   "mimetype": "text/x-python",
   "name": "python",
   "nbconvert_exporter": "python",
   "pygments_lexer": "ipython3",
   "version": "3.11.9"
  }
 },
 "nbformat": 4,
 "nbformat_minor": 5
}
