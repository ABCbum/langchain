{
 "cells": [
  {
   "cell_type": "markdown",
   "id": "fc37c39a-7406-4c13-a754-b8e95fd970a0",
   "metadata": {},
   "source": [
    "# How to stream responses from an LLM\n",
    "\n",
    "All `LLM`s implement the [Runnable interface](https://python.langchain.com/v0.2/api_reference/core/runnables/langchain_core.runnables.base.Runnable.html#langchain_core.runnables.base.Runnable), which comes with **default** implementations of standard runnable methods (i.e. `ainvoke`, `batch`, `abatch`, `stream`, `astream`, `astream_events`).\n",
    "\n",
    "The **default** streaming implementations provide an`Iterator` (or `AsyncIterator` for asynchronous streaming) that yields a single value: the final output from the underlying chat model provider.\n",
    "\n",
    "The ability to stream the output token-by-token depends on whether the provider has implemented proper streaming support.\n",
    "\n",
    "See which [integrations support token-by-token streaming here](/docs/integrations/llms/).\n",
    "\n",
    "\n",
    "\n",
    ":::{.callout-note}\n",
    "\n",
    "The **default** implementation does **not** provide support for token-by-token streaming, but it ensures that the model can be swapped in for any other model as it supports the same standard interface.\n",
    "\n",
    ":::"
   ]
  },
  {
   "cell_type": "markdown",
   "id": "2f13124a-7f9d-404f-b7ac-70d8ea49ef8e",
   "metadata": {},
   "source": [
    "## Sync stream\n",
    "\n",
    "Below we use a `|` to help visualize the delimiter between tokens."
   ]
  },
  {
   "cell_type": "code",
   "execution_count": 1,
   "id": "9baa0527-b97d-41d3-babd-472ec5e59e3e",
   "metadata": {
    "execution": {
     "iopub.execute_input": "2024-09-11T18:58:42.713407Z",
     "iopub.status.busy": "2024-09-11T18:58:42.713108Z",
     "iopub.status.idle": "2024-09-11T18:58:43.957280Z",
     "shell.execute_reply": "2024-09-11T18:58:43.956705Z"
    },
    "tags": []
   },
   "outputs": [
    {
     "name": "stdout",
     "output_type": "stream",
     "text": [
      "\n",
      "\n",
      "|"
     ]
    },
    {
     "name": "stdout",
     "output_type": "stream",
     "text": [
      "Spark|"
     ]
    },
    {
     "name": "stdout",
     "output_type": "stream",
     "text": [
      "ling|"
     ]
    },
    {
     "name": "stdout",
     "output_type": "stream",
     "text": [
      " water|"
     ]
    },
    {
     "name": "stdout",
     "output_type": "stream",
     "text": [
      ",|"
     ]
    },
    {
     "name": "stdout",
     "output_type": "stream",
     "text": [
      " oh|"
     ]
    },
    {
     "name": "stdout",
     "output_type": "stream",
     "text": [
      " so|"
     ]
    },
    {
     "name": "stdout",
     "output_type": "stream",
     "text": [
      " clear\n",
      "|"
     ]
    },
    {
     "name": "stdout",
     "output_type": "stream",
     "text": [
      "Bubbles dancing|"
     ]
    },
    {
     "name": "stdout",
     "output_type": "stream",
     "text": [
      ",|"
     ]
    },
    {
     "name": "stdout",
     "output_type": "stream",
     "text": [
      " without|"
     ]
    },
    {
     "name": "stdout",
     "output_type": "stream",
     "text": [
      " fear|"
     ]
    },
    {
     "name": "stdout",
     "output_type": "stream",
     "text": [
      "\n",
      "|"
     ]
    },
    {
     "name": "stdout",
     "output_type": "stream",
     "text": [
      "Refreshing|"
     ]
    },
    {
     "name": "stdout",
     "output_type": "stream",
     "text": [
      " taste,|"
     ]
    },
    {
     "name": "stdout",
     "output_type": "stream",
     "text": [
      " a|"
     ]
    },
    {
     "name": "stdout",
     "output_type": "stream",
     "text": [
      " pure|"
     ]
    },
    {
     "name": "stdout",
     "output_type": "stream",
     "text": [
      " delight|"
     ]
    },
    {
     "name": "stdout",
     "output_type": "stream",
     "text": [
      "\n",
      "|"
     ]
    },
    {
     "name": "stdout",
     "output_type": "stream",
     "text": [
      "Spark|"
     ]
    },
    {
     "name": "stdout",
     "output_type": "stream",
     "text": [
      "ling|"
     ]
    },
    {
     "name": "stdout",
     "output_type": "stream",
     "text": [
      " water|"
     ]
    },
    {
     "name": "stdout",
     "output_type": "stream",
     "text": [
      ",|"
     ]
    },
    {
     "name": "stdout",
     "output_type": "stream",
     "text": [
      " my|"
     ]
    },
    {
     "name": "stdout",
     "output_type": "stream",
     "text": [
      " thirst|"
     ]
    },
    {
     "name": "stdout",
     "output_type": "stream",
     "text": [
      "'s|"
     ]
    },
    {
     "name": "stdout",
     "output_type": "stream",
     "text": [
      " delight|"
     ]
    },
    {
     "name": "stdout",
     "output_type": "stream",
     "text": [
      "|"
     ]
    }
   ],
   "source": [
    "from langchain_openai import OpenAI\n",
    "\n",
    "llm = OpenAI(model=\"gpt-3.5-turbo-instruct\", temperature=0, max_tokens=512)\n",
    "for chunk in llm.stream(\"Write me a 1 verse song about sparkling water.\"):\n",
    "    print(chunk, end=\"|\", flush=True)"
   ]
  },
  {
   "cell_type": "markdown",
   "id": "596e477b-a41d-4ff5-9b9a-a7bfb53c3680",
   "metadata": {},
   "source": [
    "## Async streaming\n",
    "\n",
    "Let's see how to stream in an async setting using `astream`."
   ]
  },
  {
   "cell_type": "code",
   "execution_count": 2,
   "id": "d81140f2-384b-4470-bf93-957013c6620b",
   "metadata": {
    "execution": {
     "iopub.execute_input": "2024-09-11T18:58:43.960923Z",
     "iopub.status.busy": "2024-09-11T18:58:43.960627Z",
     "iopub.status.idle": "2024-09-11T18:58:44.907025Z",
     "shell.execute_reply": "2024-09-11T18:58:44.906407Z"
    },
    "tags": []
   },
   "outputs": [
    {
     "name": "stdout",
     "output_type": "stream",
     "text": [
      "\n",
      "\n",
      "|"
     ]
    },
    {
     "name": "stdout",
     "output_type": "stream",
     "text": [
      "Spark|"
     ]
    },
    {
     "name": "stdout",
     "output_type": "stream",
     "text": [
      "ling|"
     ]
    },
    {
     "name": "stdout",
     "output_type": "stream",
     "text": [
      " water|"
     ]
    },
    {
     "name": "stdout",
     "output_type": "stream",
     "text": [
      ",|"
     ]
    },
    {
     "name": "stdout",
     "output_type": "stream",
     "text": [
      " oh|"
     ]
    },
    {
     "name": "stdout",
     "output_type": "stream",
     "text": [
      " so|"
     ]
    },
    {
     "name": "stdout",
     "output_type": "stream",
     "text": [
      " clear\n",
      "|"
     ]
    },
    {
     "name": "stdout",
     "output_type": "stream",
     "text": [
      "Bubbles dancing|"
     ]
    },
    {
     "name": "stdout",
     "output_type": "stream",
     "text": [
      ",|"
     ]
    },
    {
     "name": "stdout",
     "output_type": "stream",
     "text": [
      " without|"
     ]
    },
    {
     "name": "stdout",
     "output_type": "stream",
     "text": [
      " fear|"
     ]
    },
    {
     "name": "stdout",
     "output_type": "stream",
     "text": [
      "\n",
      "|"
     ]
    },
    {
     "name": "stdout",
     "output_type": "stream",
     "text": [
      "Refreshing|"
     ]
    },
    {
     "name": "stdout",
     "output_type": "stream",
     "text": [
      " taste,|"
     ]
    },
    {
     "name": "stdout",
     "output_type": "stream",
     "text": [
      " a|"
     ]
    },
    {
     "name": "stdout",
     "output_type": "stream",
     "text": [
      " pure|"
     ]
    },
    {
     "name": "stdout",
     "output_type": "stream",
     "text": [
      " delight|"
     ]
    },
    {
     "name": "stdout",
     "output_type": "stream",
     "text": [
      "\n",
      "|"
     ]
    },
    {
     "name": "stdout",
     "output_type": "stream",
     "text": [
      "Spark|"
     ]
    },
    {
     "name": "stdout",
     "output_type": "stream",
     "text": [
      "ling|"
     ]
    },
    {
     "name": "stdout",
     "output_type": "stream",
     "text": [
      " water|"
     ]
    },
    {
     "name": "stdout",
     "output_type": "stream",
     "text": [
      ",|"
     ]
    },
    {
     "name": "stdout",
     "output_type": "stream",
     "text": [
      " my|"
     ]
    },
    {
     "name": "stdout",
     "output_type": "stream",
     "text": [
      " thirst|"
     ]
    },
    {
     "name": "stdout",
     "output_type": "stream",
     "text": [
      "'s|"
     ]
    },
    {
     "name": "stdout",
     "output_type": "stream",
     "text": [
      " delight|"
     ]
    },
    {
     "name": "stdout",
     "output_type": "stream",
     "text": [
      "|"
     ]
    }
   ],
   "source": [
    "from langchain_openai import OpenAI\n",
    "\n",
    "llm = OpenAI(model=\"gpt-3.5-turbo-instruct\", temperature=0, max_tokens=512)\n",
    "async for chunk in llm.astream(\"Write me a 1 verse song about sparkling water.\"):\n",
    "    print(chunk, end=\"|\", flush=True)"
   ]
  },
  {
   "cell_type": "markdown",
   "id": "9ab11306-b0db-4459-a9de-ecefb821c9b1",
   "metadata": {
    "tags": []
   },
   "source": [
    "## Async event streaming\n",
    "\n",
    "\n",
    "LLMs also support the standard [astream events](https://python.langchain.com/v0.2/api_reference/core/runnables/langchain_core.runnables.base.Runnable.html#langchain_core.runnables.base.Runnable.astream_events) method.\n",
    "\n",
    ":::{.callout-tip}\n",
    "\n",
    "`astream_events` is most useful when implementing streaming in a larger LLM application that contains multiple steps (e.g., an application that involves an `agent`).\n",
    ":::"
   ]
  },
  {
   "cell_type": "code",
   "execution_count": 3,
   "id": "399d74c7-4438-4093-ae05-47fed0255626",
   "metadata": {
    "execution": {
     "iopub.execute_input": "2024-09-11T18:58:44.910883Z",
     "iopub.status.busy": "2024-09-11T18:58:44.910421Z",
     "iopub.status.idle": "2024-09-11T18:58:45.757663Z",
     "shell.execute_reply": "2024-09-11T18:58:45.756810Z"
    },
    "tags": []
   },
   "outputs": [
    {
     "name": "stdout",
     "output_type": "stream",
     "text": [
      "{'event': 'on_llm_start', 'run_id': 'ee6b4347-a2ad-44e4-93b0-aba737f6b254', 'name': 'OpenAI', 'tags': [], 'metadata': {}, 'data': {'input': 'Write me a 1 verse song about goldfish on the moon'}, 'parent_ids': []}\n"
     ]
    },
    {
     "name": "stderr",
     "output_type": "stream",
     "text": [
      "/var/folders/4j/2rz3865x6qg07tx43146py8h0000gn/T/ipykernel_46378/546412806.py:7: LangChainBetaWarning: This API is in beta and may change in the future.\n",
      "  async for event in llm.astream_events(\n"
     ]
    },
    {
     "name": "stdout",
     "output_type": "stream",
     "text": [
      "{'event': 'on_llm_stream', 'run_id': 'ee6b4347-a2ad-44e4-93b0-aba737f6b254', 'tags': [], 'metadata': {}, 'name': 'OpenAI', 'data': {'chunk': '\\n\\n'}, 'parent_ids': []}\n",
      "{'event': 'on_llm_stream', 'run_id': 'ee6b4347-a2ad-44e4-93b0-aba737f6b254', 'tags': [], 'metadata': {}, 'name': 'OpenAI', 'data': {'chunk': 'Sw'}, 'parent_ids': []}\n",
      "{'event': 'on_llm_stream', 'run_id': 'ee6b4347-a2ad-44e4-93b0-aba737f6b254', 'tags': [], 'metadata': {}, 'name': 'OpenAI', 'data': {'chunk': 'imming'}, 'parent_ids': []}\n",
      "...Truncated\n"
     ]
    }
   ],
   "source": [
    "from langchain_openai import OpenAI\n",
    "\n",
    "llm = OpenAI(model=\"gpt-3.5-turbo-instruct\", temperature=0, max_tokens=512)\n",
    "\n",
    "idx = 0\n",
    "\n",
    "async for event in llm.astream_events(\n",
    "    \"Write me a 1 verse song about goldfish on the moon\", version=\"v1\"\n",
    "):\n",
    "    idx += 1\n",
    "    if idx >= 5:  # Truncate the output\n",
    "        print(\"...Truncated\")\n",
    "        break\n",
    "    print(event)"
   ]
  }
 ],
 "metadata": {
  "kernelspec": {
   "display_name": "Python 3 (ipykernel)",
   "language": "python",
   "name": "python3"
  },
  "language_info": {
   "codemirror_mode": {
    "name": "ipython",
    "version": 3
   },
   "file_extension": ".py",
   "mimetype": "text/x-python",
   "name": "python",
   "nbconvert_exporter": "python",
   "pygments_lexer": "ipython3",
   "version": "3.11.9"
  }
 },
 "nbformat": 4,
 "nbformat_minor": 5
}
