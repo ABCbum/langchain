{
 "cells": [
  {
   "cell_type": "markdown",
   "id": "4facdf7f-680e-4d28-908b-2b8408e2a741",
   "metadata": {},
   "source": [
    "# How to use multimodal prompts\n",
    "\n",
    "Here we demonstrate how to use prompt templates to format multimodal inputs to models. \n",
    "\n",
    "In this example we will ask a model to describe an image."
   ]
  },
  {
   "cell_type": "code",
   "execution_count": 1,
   "id": "0d9fd81a-b7f0-445a-8e3d-cfc2d31fdd59",
   "metadata": {
    "execution": {
     "iopub.execute_input": "2024-09-11T18:30:02.138287Z",
     "iopub.status.busy": "2024-09-11T18:30:02.137875Z",
     "iopub.status.idle": "2024-09-11T18:30:04.777494Z",
     "shell.execute_reply": "2024-09-11T18:30:04.776851Z"
    }
   },
   "outputs": [],
   "source": [
    "import base64\n",
    "\n",
    "import httpx\n",
    "\n",
    "image_url = \"https://upload.wikimedia.org/wikipedia/commons/thumb/d/dd/Gfp-wisconsin-madison-the-nature-boardwalk.jpg/2560px-Gfp-wisconsin-madison-the-nature-boardwalk.jpg\"\n",
    "image_data = base64.b64encode(httpx.get(image_url).content).decode(\"utf-8\")"
   ]
  },
  {
   "cell_type": "code",
   "execution_count": 2,
   "id": "2671f995",
   "metadata": {
    "execution": {
     "iopub.execute_input": "2024-09-11T18:30:04.781996Z",
     "iopub.status.busy": "2024-09-11T18:30:04.781731Z",
     "iopub.status.idle": "2024-09-11T18:30:05.164742Z",
     "shell.execute_reply": "2024-09-11T18:30:05.164418Z"
    }
   },
   "outputs": [],
   "source": [
    "from langchain_core.prompts import ChatPromptTemplate\n",
    "from langchain_openai import ChatOpenAI\n",
    "\n",
    "model = ChatOpenAI(model=\"gpt-4o\")"
   ]
  },
  {
   "cell_type": "code",
   "execution_count": 3,
   "id": "4ee35e4f",
   "metadata": {
    "execution": {
     "iopub.execute_input": "2024-09-11T18:30:05.166463Z",
     "iopub.status.busy": "2024-09-11T18:30:05.166357Z",
     "iopub.status.idle": "2024-09-11T18:30:05.168525Z",
     "shell.execute_reply": "2024-09-11T18:30:05.168298Z"
    }
   },
   "outputs": [],
   "source": [
    "prompt = ChatPromptTemplate.from_messages(\n",
    "    [\n",
    "        (\"system\", \"Describe the image provided\"),\n",
    "        (\n",
    "            \"user\",\n",
    "            [\n",
    "                {\n",
    "                    \"type\": \"image_url\",\n",
    "                    \"image_url\": {\"url\": \"data:image/jpeg;base64,{image_data}\"},\n",
    "                }\n",
    "            ],\n",
    "        ),\n",
    "    ]\n",
    ")"
   ]
  },
  {
   "cell_type": "code",
   "execution_count": 4,
   "id": "089f75c2",
   "metadata": {
    "execution": {
     "iopub.execute_input": "2024-09-11T18:30:05.169877Z",
     "iopub.status.busy": "2024-09-11T18:30:05.169793Z",
     "iopub.status.idle": "2024-09-11T18:30:05.171502Z",
     "shell.execute_reply": "2024-09-11T18:30:05.171166Z"
    }
   },
   "outputs": [],
   "source": [
    "chain = prompt | model"
   ]
  },
  {
   "cell_type": "code",
   "execution_count": 5,
   "id": "02744b06",
   "metadata": {
    "execution": {
     "iopub.execute_input": "2024-09-11T18:30:05.172791Z",
     "iopub.status.busy": "2024-09-11T18:30:05.172713Z",
     "iopub.status.idle": "2024-09-11T18:30:21.489995Z",
     "shell.execute_reply": "2024-09-11T18:30:21.489278Z"
    }
   },
   "outputs": [
    {
     "name": "stdout",
     "output_type": "stream",
     "text": [
      "The image depicts a scenic landscape with a wooden boardwalk path leading through a lush green field. The sky is a vivid blue with some scattered, wispy clouds. The boardwalk extends straight into the distance, bordered by tall, vibrant green grass on both sides. In the background, there are trees and shrubs, adding to the natural and serene atmosphere of the scene. The lighting suggests it is either early morning or late afternoon, casting a warm and inviting glow over the entire landscape.\n"
     ]
    }
   ],
   "source": [
    "response = chain.invoke({\"image_data\": image_data})\n",
    "print(response.content)"
   ]
  },
  {
   "cell_type": "markdown",
   "id": "e9b9ebf6",
   "metadata": {},
   "source": [
    "We can also pass in multiple images."
   ]
  },
  {
   "cell_type": "code",
   "execution_count": 6,
   "id": "02190ee3",
   "metadata": {
    "execution": {
     "iopub.execute_input": "2024-09-11T18:30:21.494759Z",
     "iopub.status.busy": "2024-09-11T18:30:21.494248Z",
     "iopub.status.idle": "2024-09-11T18:30:21.501988Z",
     "shell.execute_reply": "2024-09-11T18:30:21.501185Z"
    }
   },
   "outputs": [],
   "source": [
    "prompt = ChatPromptTemplate.from_messages(\n",
    "    [\n",
    "        (\"system\", \"compare the two pictures provided\"),\n",
    "        (\n",
    "            \"user\",\n",
    "            [\n",
    "                {\n",
    "                    \"type\": \"image_url\",\n",
    "                    \"image_url\": {\"url\": \"data:image/jpeg;base64,{image_data1}\"},\n",
    "                },\n",
    "                {\n",
    "                    \"type\": \"image_url\",\n",
    "                    \"image_url\": {\"url\": \"data:image/jpeg;base64,{image_data2}\"},\n",
    "                },\n",
    "            ],\n",
    "        ),\n",
    "    ]\n",
    ")"
   ]
  },
  {
   "cell_type": "code",
   "execution_count": 7,
   "id": "42af057b",
   "metadata": {
    "execution": {
     "iopub.execute_input": "2024-09-11T18:30:21.505012Z",
     "iopub.status.busy": "2024-09-11T18:30:21.504629Z",
     "iopub.status.idle": "2024-09-11T18:30:21.507856Z",
     "shell.execute_reply": "2024-09-11T18:30:21.507157Z"
    }
   },
   "outputs": [],
   "source": [
    "chain = prompt | model"
   ]
  },
  {
   "cell_type": "code",
   "execution_count": 8,
   "id": "513abe00",
   "metadata": {
    "execution": {
     "iopub.execute_input": "2024-09-11T18:30:21.510587Z",
     "iopub.status.busy": "2024-09-11T18:30:21.510363Z",
     "iopub.status.idle": "2024-09-11T18:30:37.116248Z",
     "shell.execute_reply": "2024-09-11T18:30:37.115446Z"
    }
   },
   "outputs": [
    {
     "name": "stdout",
     "output_type": "stream",
     "text": [
      "The two provided pictures appear to be identical. Here are the points of comparison:\n",
      "\n",
      "1. **Pathway**: Both images feature a wooden pathway extending into the distance, centered in the image.\n",
      "2. **Vegetation**: The surrounding area is characterized by green grass and bushes, with the same distribution and density in both images.\n",
      "3. **Sky**: The sky in both images is a clear blue with some scattered clouds, showing similar patterns.\n",
      "4. **Lighting and Shadows**: The lighting and shadows in both images are consistent, indicating the same time of day and weather conditions.\n",
      "\n",
      "There are no observable differences between the two images; they are duplicates of each other.\n"
     ]
    }
   ],
   "source": [
    "response = chain.invoke({\"image_data1\": image_data, \"image_data2\": image_data})\n",
    "print(response.content)"
   ]
  },
  {
   "cell_type": "code",
   "execution_count": null,
   "id": "ea8152c3",
   "metadata": {},
   "outputs": [],
   "source": []
  }
 ],
 "metadata": {
  "kernelspec": {
   "display_name": "Python 3 (ipykernel)",
   "language": "python",
   "name": "python3"
  },
  "language_info": {
   "codemirror_mode": {
    "name": "ipython",
    "version": 3
   },
   "file_extension": ".py",
   "mimetype": "text/x-python",
   "name": "python",
   "nbconvert_exporter": "python",
   "pygments_lexer": "ipython3",
   "version": "3.11.9"
  }
 },
 "nbformat": 4,
 "nbformat_minor": 5
}
