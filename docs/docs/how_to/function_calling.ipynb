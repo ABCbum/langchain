{
 "cells": [
  {
   "cell_type": "raw",
   "id": "a413ade7-48f0-4d43-a1f3-d87f550a8018",
   "metadata": {},
   "source": [
    "---\n",
    "sidebar_position: 2\n",
    "---"
   ]
  },
  {
   "cell_type": "markdown",
   "id": "50d59b14-c434-4359-be8e-4a21378e762f",
   "metadata": {},
   "source": [
    "# How to do tool/function calling\n",
    "\n",
    "```{=mdx}\n",
    ":::info\n",
    "We use the term tool calling interchangeably with function calling. Although\n",
    "function calling is sometimes meant to refer to invocations of a single function,\n",
    "we treat all models as though they can return multiple tool or function calls in \n",
    "each message.\n",
    ":::\n",
    "```\n",
    "\n",
    "Tool calling allows a model to respond to a given prompt by generating output that \n",
    "matches a user-defined schema. While the name implies that the model is performing \n",
    "some action, this is actually not the case! The model is coming up with the \n",
    "arguments to a tool, and actually running the tool (or not) is up to the user - \n",
    "for example, if you want to [extract output matching some schema](/docs/tutorials/extraction) \n",
    "from unstructured text, you could give the model an \"extraction\" tool that takes \n",
    "parameters matching the desired schema, then treat the generated output as your final \n",
    "result.\n",
    "\n",
    "A tool call includes a name, arguments dict, and an optional identifier. The \n",
    "arguments dict is structured `{argument_name: argument_value}`.\n",
    "\n",
    "Many LLM providers, including [Anthropic](https://www.anthropic.com/), \n",
    "[Cohere](https://cohere.com/), [Google](https://cloud.google.com/vertex-ai), \n",
    "[Mistral](https://mistral.ai/), [OpenAI](https://openai.com/), and others, \n",
    "support variants of a tool calling feature. These features typically allow requests \n",
    "to the LLM to include available tools and their schemas, and for responses to include \n",
    "calls to these tools. For instance, given a search engine tool, an LLM might handle a \n",
    "query by first issuing a call to the search engine. The system calling the LLM can \n",
    "receive the tool call, execute it, and return the output to the LLM to inform its \n",
    "response. LangChain includes a suite of [built-in tools](/docs/integrations/tools/) \n",
    "and supports several methods for defining your own [custom tools](/docs/how_to/custom_tools). \n",
    "Tool-calling is extremely useful for building [tool-using chains and agents](/docs/how_to#tools), \n",
    "and for getting structured outputs from models more generally.\n",
    "\n",
    "Providers adopt different conventions for formatting tool schemas and tool calls. \n",
    "For instance, Anthropic returns tool calls as parsed structures within a larger content block:\n",
    "```python\n",
    "[\n",
    "  {\n",
    "    \"text\": \"<thinking>\\nI should use a tool.\\n</thinking>\",\n",
    "    \"type\": \"text\"\n",
    "  },\n",
    "  {\n",
    "    \"id\": \"id_value\",\n",
    "    \"input\": {\"arg_name\": \"arg_value\"},\n",
    "    \"name\": \"tool_name\",\n",
    "    \"type\": \"tool_use\"\n",
    "  }\n",
    "]\n",
    "```\n",
    "whereas OpenAI separates tool calls into a distinct parameter, with arguments as JSON strings:\n",
    "```python\n",
    "{\n",
    "  \"tool_calls\": [\n",
    "    {\n",
    "      \"id\": \"id_value\",\n",
    "      \"function\": {\n",
    "        \"arguments\": '{\"arg_name\": \"arg_value\"}',\n",
    "        \"name\": \"tool_name\"\n",
    "      },\n",
    "      \"type\": \"function\"\n",
    "    }\n",
    "  ]\n",
    "}\n",
    "```\n",
    "LangChain implements standard interfaces for defining tools, passing them to LLMs, \n",
    "and representing tool calls.\n",
    "\n",
    "## Passing tools to LLMs\n",
    "\n",
    "Chat models supporting tool calling features implement a `.bind_tools` method, which \n",
    "receives a list of LangChain [tool objects](https://python.langchain.com/v0.2/api_reference/core/tools/langchain_core.tools.BaseTool.html#langchain_core.tools.BaseTool) \n",
    "and binds them to the chat model in its expected format. Subsequent invocations of the \n",
    "chat model will include tool schemas in its calls to the LLM.\n",
    "\n",
    "For example, we can define the schema for custom tools using the `@tool` decorator \n",
    "on Python functions:"
   ]
  },
  {
   "cell_type": "code",
   "execution_count": 1,
   "id": "841dca72-1b57-4a42-8e22-da4835c4cfe0",
   "metadata": {
    "execution": {
     "iopub.execute_input": "2024-09-11T18:19:21.357126Z",
     "iopub.status.busy": "2024-09-11T18:19:21.356818Z",
     "iopub.status.idle": "2024-09-11T18:19:21.664308Z",
     "shell.execute_reply": "2024-09-11T18:19:21.663940Z"
    }
   },
   "outputs": [],
   "source": [
    "from langchain_core.tools import tool\n",
    "\n",
    "\n",
    "@tool\n",
    "def add(a: int, b: int) -> int:\n",
    "    \"\"\"Adds a and b.\"\"\"\n",
    "    return a + b\n",
    "\n",
    "\n",
    "@tool\n",
    "def multiply(a: int, b: int) -> int:\n",
    "    \"\"\"Multiplies a and b.\"\"\"\n",
    "    return a * b\n",
    "\n",
    "\n",
    "tools = [add, multiply]"
   ]
  },
  {
   "cell_type": "markdown",
   "id": "48058b7d-048d-48e6-a272-3931ad7ad146",
   "metadata": {},
   "source": [
    "Or below, we define the schema using Pydantic:\n"
   ]
  },
  {
   "cell_type": "code",
   "execution_count": 2,
   "id": "fca56328-85e4-4839-97b7-b5dc55920602",
   "metadata": {
    "execution": {
     "iopub.execute_input": "2024-09-11T18:19:21.666324Z",
     "iopub.status.busy": "2024-09-11T18:19:21.666154Z",
     "iopub.status.idle": "2024-09-11T18:19:21.688143Z",
     "shell.execute_reply": "2024-09-11T18:19:21.687888Z"
    }
   },
   "outputs": [],
   "source": [
    "from pydantic import BaseModel, Field\n",
    "\n",
    "\n",
    "# Note that the docstrings here are crucial, as they will be passed along\n",
    "# to the model along with the class name.\n",
    "class Add(BaseModel):\n",
    "    \"\"\"Add two integers together.\"\"\"\n",
    "\n",
    "    a: int = Field(..., description=\"First integer\")\n",
    "    b: int = Field(..., description=\"Second integer\")\n",
    "\n",
    "\n",
    "class Multiply(BaseModel):\n",
    "    \"\"\"Multiply two integers together.\"\"\"\n",
    "\n",
    "    a: int = Field(..., description=\"First integer\")\n",
    "    b: int = Field(..., description=\"Second integer\")\n",
    "\n",
    "\n",
    "tools = [Add, Multiply]"
   ]
  },
  {
   "cell_type": "markdown",
   "id": "ead9068d-11f6-42f3-a508-3c1830189947",
   "metadata": {},
   "source": [
    "We can bind them to chat models as follows:\n",
    "\n",
    "```{=mdx}\n",
    "import ChatModelTabs from \"@theme/ChatModelTabs\";\n",
    "\n",
    "<ChatModelTabs\n",
    "  customVarName=\"llm\"\n",
    "  fireworksParams={`model=\"accounts/fireworks/models/firefunction-v1\", temperature=0`}\n",
    "/>\n",
    "```\n",
    "\n",
    "We can use the `bind_tools()` method to handle converting\n",
    "`Multiply` to a \"tool\" and binding it to the model (i.e.,\n",
    "passing it in each time the model is invoked)."
   ]
  },
  {
   "cell_type": "code",
   "execution_count": 3,
   "id": "44eb8327-a03d-4c7c-945e-30f13f455346",
   "metadata": {
    "execution": {
     "iopub.execute_input": "2024-09-11T18:19:21.689563Z",
     "iopub.status.busy": "2024-09-11T18:19:21.689487Z",
     "iopub.status.idle": "2024-09-11T18:19:21.800477Z",
     "shell.execute_reply": "2024-09-11T18:19:21.800174Z"
    }
   },
   "outputs": [],
   "source": [
    "# | echo: false\n",
    "# | output: false\n",
    "\n",
    "from langchain_openai import ChatOpenAI\n",
    "\n",
    "llm = ChatOpenAI(model=\"gpt-4o-mini\", temperature=0)"
   ]
  },
  {
   "cell_type": "code",
   "execution_count": 4,
   "id": "af2a83ac-e43f-43ce-b107-9ed8376bfb75",
   "metadata": {
    "execution": {
     "iopub.execute_input": "2024-09-11T18:19:21.802002Z",
     "iopub.status.busy": "2024-09-11T18:19:21.801922Z",
     "iopub.status.idle": "2024-09-11T18:19:21.881002Z",
     "shell.execute_reply": "2024-09-11T18:19:21.880738Z"
    }
   },
   "outputs": [],
   "source": [
    "llm_with_tools = llm.bind_tools(tools)"
   ]
  },
  {
   "cell_type": "markdown",
   "id": "16208230-f64f-4935-9aa1-280a91f34ba3",
   "metadata": {},
   "source": [
    "## Tool calls\n",
    "\n",
    "If tool calls are included in a LLM response, they are attached to the corresponding \n",
    "[message](https://python.langchain.com/v0.2/api_reference/core/messages/langchain_core.messages.ai.AIMessage.html#langchain_core.messages.ai.AIMessage) \n",
    "or [message chunk](https://python.langchain.com/v0.2/api_reference/core/messages/langchain_core.messages.ai.AIMessageChunk.html#langchain_core.messages.ai.AIMessageChunk) \n",
    "as a list of [tool call](https://python.langchain.com/v0.2/api_reference/core/messages/langchain_core.messages.tool.ToolCall.html#langchain_core.messages.tool.ToolCall) \n",
    "objects in the `.tool_calls` attribute. A `ToolCall` is a typed dict that includes a \n",
    "tool name, dict of argument values, and (optionally) an identifier. Messages with no \n",
    "tool calls default to an empty list for this attribute.\n",
    "\n",
    "Example:"
   ]
  },
  {
   "cell_type": "code",
   "execution_count": 5,
   "id": "1640a4b4-c201-4b23-b257-738d854fb9fd",
   "metadata": {
    "execution": {
     "iopub.execute_input": "2024-09-11T18:19:21.882575Z",
     "iopub.status.busy": "2024-09-11T18:19:21.882496Z",
     "iopub.status.idle": "2024-09-11T18:19:22.854910Z",
     "shell.execute_reply": "2024-09-11T18:19:22.854380Z"
    }
   },
   "outputs": [
    {
     "data": {
      "text/plain": [
       "[{'name': 'Multiply',\n",
       "  'args': {'a': 3, 'b': 12},\n",
       "  'id': 'call_ardKt5R1IqNR272Bwhrqqw6k',\n",
       "  'type': 'tool_call'},\n",
       " {'name': 'Add',\n",
       "  'args': {'a': 11, 'b': 49},\n",
       "  'id': 'call_l1XE0DpOCNvQ3N9GILrqbaWj',\n",
       "  'type': 'tool_call'}]"
      ]
     },
     "execution_count": 5,
     "metadata": {},
     "output_type": "execute_result"
    }
   ],
   "source": [
    "query = \"What is 3 * 12? Also, what is 11 + 49?\"\n",
    "\n",
    "llm_with_tools.invoke(query).tool_calls"
   ]
  },
  {
   "cell_type": "markdown",
   "id": "ac3ff0fe-5119-46b8-a578-530245bff23f",
   "metadata": {},
   "source": [
    "The `.tool_calls` attribute should contain valid tool calls. Note that on occasion, \n",
    "model providers may output malformed tool calls (e.g., arguments that are not \n",
    "valid JSON). When parsing fails in these cases, instances \n",
    "of [InvalidToolCall](https://python.langchain.com/v0.2/api_reference/core/messages/langchain_core.messages.tool.InvalidToolCall.html#langchain_core.messages.tool.InvalidToolCall) \n",
    "are populated in the `.invalid_tool_calls` attribute. An `InvalidToolCall` can have \n",
    "a name, string arguments, identifier, and error message.\n",
    "\n",
    "If desired, [output parsers](/docs/how_to#output-parsers) can further \n",
    "process the output. For example, we can convert back to the original Pydantic class:"
   ]
  },
  {
   "cell_type": "code",
   "execution_count": 6,
   "id": "ca15fcad-74fe-4109-a1b1-346c3eefe238",
   "metadata": {
    "execution": {
     "iopub.execute_input": "2024-09-11T18:19:22.857777Z",
     "iopub.status.busy": "2024-09-11T18:19:22.857570Z",
     "iopub.status.idle": "2024-09-11T18:19:23.840423Z",
     "shell.execute_reply": "2024-09-11T18:19:23.839911Z"
    }
   },
   "outputs": [
    {
     "data": {
      "text/plain": [
       "[Multiply(a=3, b=12), Add(a=11, b=49)]"
      ]
     },
     "execution_count": 6,
     "metadata": {},
     "output_type": "execute_result"
    }
   ],
   "source": [
    "from langchain_core.output_parsers.openai_tools import PydanticToolsParser\n",
    "\n",
    "chain = llm_with_tools | PydanticToolsParser(tools=[Multiply, Add])\n",
    "chain.invoke(query)"
   ]
  },
  {
   "cell_type": "markdown",
   "id": "0ba3505d-f405-43ba-93c4-7fbd84f6464b",
   "metadata": {},
   "source": [
    "### Streaming\n",
    "\n",
    "When tools are called in a streaming context, \n",
    "[message chunks](https://python.langchain.com/v0.2/api_reference/core/messages/langchain_core.messages.ai.AIMessageChunk.html#langchain_core.messages.ai.AIMessageChunk) \n",
    "will be populated with [tool call chunk](https://python.langchain.com/v0.2/api_reference/core/messages/langchain_core.messages.tool.ToolCallChunk.html#langchain_core.messages.tool.ToolCallChunk) \n",
    "objects in a list via the `.tool_call_chunks` attribute. A `ToolCallChunk` includes \n",
    "optional string fields for the tool `name`, `args`, and `id`, and includes an optional \n",
    "integer field `index` that can be used to join chunks together. Fields are optional \n",
    "because portions of a tool call may be streamed across different chunks (e.g., a chunk \n",
    "that includes a substring of the arguments may have null values for the tool name and id).\n",
    "\n",
    "Because message chunks inherit from their parent message class, an \n",
    "[AIMessageChunk](https://python.langchain.com/v0.2/api_reference/core/messages/langchain_core.messages.ai.AIMessageChunk.html#langchain_core.messages.ai.AIMessageChunk) \n",
    "with tool call chunks will also include `.tool_calls` and `.invalid_tool_calls` fields. \n",
    "These fields are parsed best-effort from the message's tool call chunks.\n",
    "\n",
    "Note that not all providers currently support streaming for tool calls.\n",
    "\n",
    "Example:"
   ]
  },
  {
   "cell_type": "code",
   "execution_count": 7,
   "id": "4f54a0de-74c7-4f2d-86c5-660aed23840d",
   "metadata": {
    "execution": {
     "iopub.execute_input": "2024-09-11T18:19:23.843689Z",
     "iopub.status.busy": "2024-09-11T18:19:23.843447Z",
     "iopub.status.idle": "2024-09-11T18:19:25.026944Z",
     "shell.execute_reply": "2024-09-11T18:19:25.026275Z"
    }
   },
   "outputs": [
    {
     "name": "stdout",
     "output_type": "stream",
     "text": [
      "[]\n",
      "[{'name': 'Multiply', 'args': '', 'id': 'call_eFNHQ7xp816ShxcpeSosscLy', 'index': 0, 'type': 'tool_call_chunk'}]\n",
      "[{'name': None, 'args': '{\"a\"', 'id': None, 'index': 0, 'type': 'tool_call_chunk'}]\n",
      "[{'name': None, 'args': ': 3, ', 'id': None, 'index': 0, 'type': 'tool_call_chunk'}]\n",
      "[{'name': None, 'args': '\"b\": 1', 'id': None, 'index': 0, 'type': 'tool_call_chunk'}]\n",
      "[{'name': None, 'args': '2}', 'id': None, 'index': 0, 'type': 'tool_call_chunk'}]\n",
      "[{'name': 'Add', 'args': '', 'id': 'call_dhh8P2mkNujslgnv0yycMbvL', 'index': 1, 'type': 'tool_call_chunk'}]\n",
      "[{'name': None, 'args': '{\"a\"', 'id': None, 'index': 1, 'type': 'tool_call_chunk'}]\n",
      "[{'name': None, 'args': ': 11,', 'id': None, 'index': 1, 'type': 'tool_call_chunk'}]\n",
      "[{'name': None, 'args': ' \"b\": ', 'id': None, 'index': 1, 'type': 'tool_call_chunk'}]\n",
      "[{'name': None, 'args': '49}', 'id': None, 'index': 1, 'type': 'tool_call_chunk'}]\n",
      "[]\n"
     ]
    }
   ],
   "source": [
    "async for chunk in llm_with_tools.astream(query):\n",
    "    print(chunk.tool_call_chunks)"
   ]
  },
  {
   "cell_type": "markdown",
   "id": "55046320-3466-4ec1-a1f8-336234ba9019",
   "metadata": {},
   "source": [
    "Note that adding message chunks will merge their corresponding tool call chunks. This is the principle by which LangChain's various [tool output parsers](/docs/how_to/output_parser_structured) support streaming.\n",
    "\n",
    "For example, below we accumulate tool call chunks:"
   ]
  },
  {
   "cell_type": "code",
   "execution_count": 8,
   "id": "0a944af0-eedd-43c8-8ff3-f4301f129d9b",
   "metadata": {
    "execution": {
     "iopub.execute_input": "2024-09-11T18:19:25.030012Z",
     "iopub.status.busy": "2024-09-11T18:19:25.029770Z",
     "iopub.status.idle": "2024-09-11T18:19:26.986379Z",
     "shell.execute_reply": "2024-09-11T18:19:26.985904Z"
    }
   },
   "outputs": [
    {
     "name": "stdout",
     "output_type": "stream",
     "text": [
      "[]\n",
      "[{'name': 'Multiply', 'args': '', 'id': 'call_IkIbxdk9JlrPdJuUpARx3uWH', 'index': 0, 'type': 'tool_call_chunk'}]\n",
      "[{'name': 'Multiply', 'args': '{\"a\"', 'id': 'call_IkIbxdk9JlrPdJuUpARx3uWH', 'index': 0, 'type': 'tool_call_chunk'}]\n",
      "[{'name': 'Multiply', 'args': '{\"a\": 3, ', 'id': 'call_IkIbxdk9JlrPdJuUpARx3uWH', 'index': 0, 'type': 'tool_call_chunk'}]\n",
      "[{'name': 'Multiply', 'args': '{\"a\": 3, \"b\": 1', 'id': 'call_IkIbxdk9JlrPdJuUpARx3uWH', 'index': 0, 'type': 'tool_call_chunk'}]\n",
      "[{'name': 'Multiply', 'args': '{\"a\": 3, \"b\": 12}', 'id': 'call_IkIbxdk9JlrPdJuUpARx3uWH', 'index': 0, 'type': 'tool_call_chunk'}]\n",
      "[{'name': 'Multiply', 'args': '{\"a\": 3, \"b\": 12}', 'id': 'call_IkIbxdk9JlrPdJuUpARx3uWH', 'index': 0, 'type': 'tool_call_chunk'}, {'name': 'Add', 'args': '', 'id': 'call_MM5y2nYVuCZDmkXVPu2cwECF', 'index': 1, 'type': 'tool_call_chunk'}]\n",
      "[{'name': 'Multiply', 'args': '{\"a\": 3, \"b\": 12}', 'id': 'call_IkIbxdk9JlrPdJuUpARx3uWH', 'index': 0, 'type': 'tool_call_chunk'}, {'name': 'Add', 'args': '{\"a\"', 'id': 'call_MM5y2nYVuCZDmkXVPu2cwECF', 'index': 1, 'type': 'tool_call_chunk'}]\n",
      "[{'name': 'Multiply', 'args': '{\"a\": 3, \"b\": 12}', 'id': 'call_IkIbxdk9JlrPdJuUpARx3uWH', 'index': 0, 'type': 'tool_call_chunk'}, {'name': 'Add', 'args': '{\"a\": 11,', 'id': 'call_MM5y2nYVuCZDmkXVPu2cwECF', 'index': 1, 'type': 'tool_call_chunk'}]\n",
      "[{'name': 'Multiply', 'args': '{\"a\": 3, \"b\": 12}', 'id': 'call_IkIbxdk9JlrPdJuUpARx3uWH', 'index': 0, 'type': 'tool_call_chunk'}, {'name': 'Add', 'args': '{\"a\": 11, \"b\": ', 'id': 'call_MM5y2nYVuCZDmkXVPu2cwECF', 'index': 1, 'type': 'tool_call_chunk'}]\n",
      "[{'name': 'Multiply', 'args': '{\"a\": 3, \"b\": 12}', 'id': 'call_IkIbxdk9JlrPdJuUpARx3uWH', 'index': 0, 'type': 'tool_call_chunk'}, {'name': 'Add', 'args': '{\"a\": 11, \"b\": 49}', 'id': 'call_MM5y2nYVuCZDmkXVPu2cwECF', 'index': 1, 'type': 'tool_call_chunk'}]\n",
      "[{'name': 'Multiply', 'args': '{\"a\": 3, \"b\": 12}', 'id': 'call_IkIbxdk9JlrPdJuUpARx3uWH', 'index': 0, 'type': 'tool_call_chunk'}, {'name': 'Add', 'args': '{\"a\": 11, \"b\": 49}', 'id': 'call_MM5y2nYVuCZDmkXVPu2cwECF', 'index': 1, 'type': 'tool_call_chunk'}]\n"
     ]
    }
   ],
   "source": [
    "first = True\n",
    "async for chunk in llm_with_tools.astream(query):\n",
    "    if first:\n",
    "        gathered = chunk\n",
    "        first = False\n",
    "    else:\n",
    "        gathered = gathered + chunk\n",
    "\n",
    "    print(gathered.tool_call_chunks)"
   ]
  },
  {
   "cell_type": "code",
   "execution_count": 9,
   "id": "db4e3e3a-3553-44dc-bd31-149c0981a06a",
   "metadata": {
    "execution": {
     "iopub.execute_input": "2024-09-11T18:19:26.989407Z",
     "iopub.status.busy": "2024-09-11T18:19:26.989141Z",
     "iopub.status.idle": "2024-09-11T18:19:26.994688Z",
     "shell.execute_reply": "2024-09-11T18:19:26.993706Z"
    }
   },
   "outputs": [
    {
     "name": "stdout",
     "output_type": "stream",
     "text": [
      "<class 'str'>\n"
     ]
    }
   ],
   "source": [
    "print(type(gathered.tool_call_chunks[0][\"args\"]))"
   ]
  },
  {
   "cell_type": "markdown",
   "id": "95e92826-6e55-4684-9498-556f357f73ac",
   "metadata": {},
   "source": [
    "And below we accumulate tool calls to demonstrate partial parsing:"
   ]
  },
  {
   "cell_type": "code",
   "execution_count": 10,
   "id": "e9402bde-d4b5-4564-a99e-f88c9b46b28a",
   "metadata": {
    "execution": {
     "iopub.execute_input": "2024-09-11T18:19:26.997507Z",
     "iopub.status.busy": "2024-09-11T18:19:26.997312Z",
     "iopub.status.idle": "2024-09-11T18:19:27.736867Z",
     "shell.execute_reply": "2024-09-11T18:19:27.736188Z"
    }
   },
   "outputs": [
    {
     "name": "stdout",
     "output_type": "stream",
     "text": [
      "[]\n",
      "[{'name': 'Multiply', 'args': {}, 'id': 'call_TavKs8WYUOjR09N89cBsXqFx', 'type': 'tool_call'}]\n",
      "[{'name': 'Multiply', 'args': {}, 'id': 'call_TavKs8WYUOjR09N89cBsXqFx', 'type': 'tool_call'}]\n",
      "[{'name': 'Multiply', 'args': {'a': 3}, 'id': 'call_TavKs8WYUOjR09N89cBsXqFx', 'type': 'tool_call'}]\n",
      "[{'name': 'Multiply', 'args': {'a': 3, 'b': 1}, 'id': 'call_TavKs8WYUOjR09N89cBsXqFx', 'type': 'tool_call'}]\n",
      "[{'name': 'Multiply', 'args': {'a': 3, 'b': 12}, 'id': 'call_TavKs8WYUOjR09N89cBsXqFx', 'type': 'tool_call'}]\n",
      "[{'name': 'Multiply', 'args': {'a': 3, 'b': 12}, 'id': 'call_TavKs8WYUOjR09N89cBsXqFx', 'type': 'tool_call'}, {'name': 'Add', 'args': {}, 'id': 'call_Ut0bCRx0B9sWlKw9wu53OPn3', 'type': 'tool_call'}]\n",
      "[{'name': 'Multiply', 'args': {'a': 3, 'b': 12}, 'id': 'call_TavKs8WYUOjR09N89cBsXqFx', 'type': 'tool_call'}, {'name': 'Add', 'args': {}, 'id': 'call_Ut0bCRx0B9sWlKw9wu53OPn3', 'type': 'tool_call'}]\n",
      "[{'name': 'Multiply', 'args': {'a': 3, 'b': 12}, 'id': 'call_TavKs8WYUOjR09N89cBsXqFx', 'type': 'tool_call'}, {'name': 'Add', 'args': {'a': 11}, 'id': 'call_Ut0bCRx0B9sWlKw9wu53OPn3', 'type': 'tool_call'}]\n",
      "[{'name': 'Multiply', 'args': {'a': 3, 'b': 12}, 'id': 'call_TavKs8WYUOjR09N89cBsXqFx', 'type': 'tool_call'}, {'name': 'Add', 'args': {'a': 11}, 'id': 'call_Ut0bCRx0B9sWlKw9wu53OPn3', 'type': 'tool_call'}]\n",
      "[{'name': 'Multiply', 'args': {'a': 3, 'b': 12}, 'id': 'call_TavKs8WYUOjR09N89cBsXqFx', 'type': 'tool_call'}, {'name': 'Add', 'args': {'a': 11, 'b': 49}, 'id': 'call_Ut0bCRx0B9sWlKw9wu53OPn3', 'type': 'tool_call'}]\n",
      "[{'name': 'Multiply', 'args': {'a': 3, 'b': 12}, 'id': 'call_TavKs8WYUOjR09N89cBsXqFx', 'type': 'tool_call'}, {'name': 'Add', 'args': {'a': 11, 'b': 49}, 'id': 'call_Ut0bCRx0B9sWlKw9wu53OPn3', 'type': 'tool_call'}]\n"
     ]
    }
   ],
   "source": [
    "first = True\n",
    "async for chunk in llm_with_tools.astream(query):\n",
    "    if first:\n",
    "        gathered = chunk\n",
    "        first = False\n",
    "    else:\n",
    "        gathered = gathered + chunk\n",
    "\n",
    "    print(gathered.tool_calls)"
   ]
  },
  {
   "cell_type": "code",
   "execution_count": 11,
   "id": "8c2f21cc-0c6d-416a-871f-e854621c96e2",
   "metadata": {
    "execution": {
     "iopub.execute_input": "2024-09-11T18:19:27.740017Z",
     "iopub.status.busy": "2024-09-11T18:19:27.739643Z",
     "iopub.status.idle": "2024-09-11T18:19:27.745556Z",
     "shell.execute_reply": "2024-09-11T18:19:27.744880Z"
    }
   },
   "outputs": [
    {
     "name": "stdout",
     "output_type": "stream",
     "text": [
      "<class 'dict'>\n"
     ]
    }
   ],
   "source": [
    "print(type(gathered.tool_calls[0][\"args\"]))"
   ]
  },
  {
   "cell_type": "markdown",
   "id": "97a0c977-0c3c-4011-b49b-db98c609d0ce",
   "metadata": {},
   "source": [
    "## Passing tool outputs to model\n",
    "\n",
    "If we're using the model-generated tool invocations to actually call tools and want to pass the tool results back to the model, we can do so using `ToolMessage`s."
   ]
  },
  {
   "cell_type": "code",
   "execution_count": 12,
   "id": "48049192-be28-42ab-9a44-d897924e67cd",
   "metadata": {
    "execution": {
     "iopub.execute_input": "2024-09-11T18:19:27.748669Z",
     "iopub.status.busy": "2024-09-11T18:19:27.748481Z",
     "iopub.status.idle": "2024-09-11T18:19:28.528367Z",
     "shell.execute_reply": "2024-09-11T18:19:28.527758Z"
    }
   },
   "outputs": [
    {
     "data": {
      "text/plain": [
       "[HumanMessage(content='What is 3 * 12? Also, what is 11 + 49?'),\n",
       " AIMessage(content='', additional_kwargs={'tool_calls': [{'id': 'call_utG7RaiD6Do3UDxFpqxk3sOO', 'function': {'arguments': '{\"a\": 3, \"b\": 12}', 'name': 'Multiply'}, 'type': 'function'}, {'id': 'call_3KngLAP3bGh2sv1Z0NtS7Fn3', 'function': {'arguments': '{\"a\": 11, \"b\": 49}', 'name': 'Add'}, 'type': 'function'}], 'refusal': None}, response_metadata={'token_usage': {'completion_tokens': 51, 'prompt_tokens': 99, 'total_tokens': 150}, 'model_name': 'gpt-4o-mini-2024-07-18', 'system_fingerprint': 'fp_483d39d857', 'finish_reason': 'tool_calls', 'logprobs': None}, id='run-d621184f-6a34-44f8-9d93-38f77fcc4064-0', tool_calls=[{'name': 'Multiply', 'args': {'a': 3, 'b': 12}, 'id': 'call_utG7RaiD6Do3UDxFpqxk3sOO', 'type': 'tool_call'}, {'name': 'Add', 'args': {'a': 11, 'b': 49}, 'id': 'call_3KngLAP3bGh2sv1Z0NtS7Fn3', 'type': 'tool_call'}], usage_metadata={'input_tokens': 99, 'output_tokens': 51, 'total_tokens': 150}),\n",
       " ToolMessage(content='36', tool_call_id='call_utG7RaiD6Do3UDxFpqxk3sOO'),\n",
       " ToolMessage(content='60', tool_call_id='call_3KngLAP3bGh2sv1Z0NtS7Fn3')]"
      ]
     },
     "execution_count": 12,
     "metadata": {},
     "output_type": "execute_result"
    }
   ],
   "source": [
    "from langchain_core.messages import HumanMessage, ToolMessage\n",
    "\n",
    "messages = [HumanMessage(query)]\n",
    "ai_msg = llm_with_tools.invoke(messages)\n",
    "messages.append(ai_msg)\n",
    "for tool_call in ai_msg.tool_calls:\n",
    "    selected_tool = {\"add\": add, \"multiply\": multiply}[tool_call[\"name\"].lower()]\n",
    "    tool_output = selected_tool.invoke(tool_call[\"args\"])\n",
    "    messages.append(ToolMessage(tool_output, tool_call_id=tool_call[\"id\"]))\n",
    "messages"
   ]
  },
  {
   "cell_type": "code",
   "execution_count": 13,
   "id": "611e0f36-d736-48d1-bca1-1cec51d223f3",
   "metadata": {
    "execution": {
     "iopub.execute_input": "2024-09-11T18:19:28.534504Z",
     "iopub.status.busy": "2024-09-11T18:19:28.534218Z",
     "iopub.status.idle": "2024-09-11T18:19:29.082057Z",
     "shell.execute_reply": "2024-09-11T18:19:29.081527Z"
    }
   },
   "outputs": [
    {
     "data": {
      "text/plain": [
       "AIMessage(content='The result of \\\\(3 \\\\times 12\\\\) is 36, and the result of \\\\(11 + 49\\\\) is 60.', additional_kwargs={'refusal': None}, response_metadata={'token_usage': {'completion_tokens': 31, 'prompt_tokens': 166, 'total_tokens': 197}, 'model_name': 'gpt-4o-mini-2024-07-18', 'system_fingerprint': 'fp_483d39d857', 'finish_reason': 'stop', 'logprobs': None}, id='run-5b16c8cd-1dbc-4cd3-acd7-c4fdb9debbc5-0', usage_metadata={'input_tokens': 166, 'output_tokens': 31, 'total_tokens': 197})"
      ]
     },
     "execution_count": 13,
     "metadata": {},
     "output_type": "execute_result"
    }
   ],
   "source": [
    "llm_with_tools.invoke(messages)"
   ]
  },
  {
   "cell_type": "markdown",
   "id": "a5937498-d6fe-400a-b192-ef35c314168e",
   "metadata": {},
   "source": [
    "## Few-shot prompting\n",
    "\n",
    "For more complex tool use it's very useful to add few-shot examples to the prompt. We can do this by adding `AIMessage`s with `ToolCall`s and corresponding `ToolMessage`s to our prompt.\n",
    "\n",
    "For example, even with some special instructions our model can get tripped up by order of operations:"
   ]
  },
  {
   "cell_type": "code",
   "execution_count": 14,
   "id": "5ef2e7c3-0925-49da-ab8f-e42c4fa40f29",
   "metadata": {
    "execution": {
     "iopub.execute_input": "2024-09-11T18:19:29.087031Z",
     "iopub.status.busy": "2024-09-11T18:19:29.086754Z",
     "iopub.status.idle": "2024-09-11T18:19:30.183134Z",
     "shell.execute_reply": "2024-09-11T18:19:30.182614Z"
    }
   },
   "outputs": [
    {
     "data": {
      "text/plain": [
       "[{'name': 'Multiply',\n",
       "  'args': {'a': 119, 'b': 8},\n",
       "  'id': 'call_gYOpSpyLis89XiYrsEGiNhhg',\n",
       "  'type': 'tool_call'},\n",
       " {'name': 'Add',\n",
       "  'args': {'a': -20, 'b': 0},\n",
       "  'id': 'call_wXAjOyNHn1J8GMChsw3oWVyy',\n",
       "  'type': 'tool_call'}]"
      ]
     },
     "execution_count": 14,
     "metadata": {},
     "output_type": "execute_result"
    }
   ],
   "source": [
    "llm_with_tools.invoke(\n",
    "    \"Whats 119 times 8 minus 20. Don't do any math yourself, only use tools for math. Respect order of operations\"\n",
    ").tool_calls"
   ]
  },
  {
   "cell_type": "markdown",
   "id": "a5249069-b5f8-40ac-ae74-30d67c4e9168",
   "metadata": {},
   "source": [
    "The model shouldn't be trying to add anything yet, since it technically can't know the results of 119 * 8 yet.\n",
    "\n",
    "By adding a prompt with some examples we can correct this behavior:"
   ]
  },
  {
   "cell_type": "code",
   "execution_count": 15,
   "id": "7b2e8b19-270f-4e1a-8be7-7aad704c1cf4",
   "metadata": {
    "execution": {
     "iopub.execute_input": "2024-09-11T18:19:30.186345Z",
     "iopub.status.busy": "2024-09-11T18:19:30.186104Z",
     "iopub.status.idle": "2024-09-11T18:19:31.273045Z",
     "shell.execute_reply": "2024-09-11T18:19:31.272400Z"
    }
   },
   "outputs": [
    {
     "data": {
      "text/plain": [
       "[{'name': 'Multiply',\n",
       "  'args': {'a': 119, 'b': 8},\n",
       "  'id': 'call_YV12WaaZaKlOD4z7H1y42mzl',\n",
       "  'type': 'tool_call'},\n",
       " {'name': 'Add',\n",
       "  'args': {'a': -20, 'b': 0},\n",
       "  'id': 'call_2d0uA79SvSYQmIwCzwnCzg83',\n",
       "  'type': 'tool_call'}]"
      ]
     },
     "execution_count": 15,
     "metadata": {},
     "output_type": "execute_result"
    }
   ],
   "source": [
    "from langchain_core.messages import AIMessage\n",
    "from langchain_core.prompts import ChatPromptTemplate\n",
    "from langchain_core.runnables import RunnablePassthrough\n",
    "\n",
    "examples = [\n",
    "    HumanMessage(\n",
    "        \"What's the product of 317253 and 128472 plus four\", name=\"example_user\"\n",
    "    ),\n",
    "    AIMessage(\n",
    "        \"\",\n",
    "        name=\"example_assistant\",\n",
    "        tool_calls=[\n",
    "            {\"name\": \"Multiply\", \"args\": {\"x\": 317253, \"y\": 128472}, \"id\": \"1\"}\n",
    "        ],\n",
    "    ),\n",
    "    ToolMessage(\"16505054784\", tool_call_id=\"1\"),\n",
    "    AIMessage(\n",
    "        \"\",\n",
    "        name=\"example_assistant\",\n",
    "        tool_calls=[{\"name\": \"Add\", \"args\": {\"x\": 16505054784, \"y\": 4}, \"id\": \"2\"}],\n",
    "    ),\n",
    "    ToolMessage(\"16505054788\", tool_call_id=\"2\"),\n",
    "    AIMessage(\n",
    "        \"The product of 317253 and 128472 plus four is 16505054788\",\n",
    "        name=\"example_assistant\",\n",
    "    ),\n",
    "]\n",
    "\n",
    "system = \"\"\"You are bad at math but are an expert at using a calculator. \n",
    "\n",
    "Use past tool usage as an example of how to correctly use the tools.\"\"\"\n",
    "few_shot_prompt = ChatPromptTemplate.from_messages(\n",
    "    [\n",
    "        (\"system\", system),\n",
    "        *examples,\n",
    "        (\"human\", \"{query}\"),\n",
    "    ]\n",
    ")\n",
    "\n",
    "chain = {\"query\": RunnablePassthrough()} | few_shot_prompt | llm_with_tools\n",
    "chain.invoke(\"Whats 119 times 8 minus 20\").tool_calls"
   ]
  },
  {
   "cell_type": "markdown",
   "id": "19160e3e-3eb5-4e9a-ae56-74a2dce0af32",
   "metadata": {},
   "source": [
    "Seems like we get the correct output this time.\n",
    "\n",
    "Here's what the [LangSmith trace](https://smith.langchain.com/public/f70550a1-585f-4c9d-a643-13148ab1616f/r) looks like."
   ]
  },
  {
   "cell_type": "markdown",
   "id": "020cfd3b-0838-49d0-96bb-7cd919921833",
   "metadata": {},
   "source": [
    "## Next steps\n",
    "\n",
    "- **Output parsing**: See [OpenAI Tools output\n",
    "    parsers](/docs/how_to/output_parser_structured)\n",
    "    to learn about extracting the function calling API responses into\n",
    "    various formats.\n",
    "- **Structured output chains**: [Some models have constructors](/docs/how_to/structured_output) that\n",
    "    handle creating a structured output chain for you.\n",
    "- **Tool use**: See how to construct chains and agents that\n",
    "    call the invoked tools in [these\n",
    "    guides](/docs/how_to#tools)."
   ]
  }
 ],
 "metadata": {
  "kernelspec": {
   "display_name": "Python 3 (ipykernel)",
   "language": "python",
   "name": "python3"
  },
  "language_info": {
   "codemirror_mode": {
    "name": "ipython",
    "version": 3
   },
   "file_extension": ".py",
   "mimetype": "text/x-python",
   "name": "python",
   "nbconvert_exporter": "python",
   "pygments_lexer": "ipython3",
   "version": "3.11.9"
  }
 },
 "nbformat": 4,
 "nbformat_minor": 5
}
