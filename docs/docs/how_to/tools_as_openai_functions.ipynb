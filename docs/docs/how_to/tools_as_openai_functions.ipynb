{
 "cells": [
  {
   "cell_type": "markdown",
   "id": "4111c9d4",
   "metadata": {},
   "source": [
    "# How to convert tools to OpenAI Functions\n",
    "\n",
    "This notebook goes over how to use LangChain tools as OpenAI functions."
   ]
  },
  {
   "cell_type": "code",
   "execution_count": 1,
   "id": "bb220019-4012-4da4-bfee-01fb8189aa49",
   "metadata": {
    "execution": {
     "iopub.execute_input": "2024-09-11T19:00:41.537648Z",
     "iopub.status.busy": "2024-09-11T19:00:41.536734Z",
     "iopub.status.idle": "2024-09-11T19:00:42.838885Z",
     "shell.execute_reply": "2024-09-11T19:00:42.838322Z"
    }
   },
   "outputs": [
    {
     "name": "stdout",
     "output_type": "stream",
     "text": [
      "Note: you may need to restart the kernel to use updated packages.\n"
     ]
    }
   ],
   "source": [
    "%pip install -qU langchain-community langchain-openai"
   ]
  },
  {
   "cell_type": "code",
   "execution_count": 2,
   "id": "d65d8a60",
   "metadata": {
    "execution": {
     "iopub.execute_input": "2024-09-11T19:00:42.841428Z",
     "iopub.status.busy": "2024-09-11T19:00:42.841238Z",
     "iopub.status.idle": "2024-09-11T19:00:43.384566Z",
     "shell.execute_reply": "2024-09-11T19:00:43.384259Z"
    }
   },
   "outputs": [],
   "source": [
    "from langchain_community.tools import MoveFileTool\n",
    "from langchain_core.messages import HumanMessage\n",
    "from langchain_core.utils.function_calling import convert_to_openai_function\n",
    "from langchain_openai import ChatOpenAI"
   ]
  },
  {
   "cell_type": "code",
   "execution_count": 3,
   "id": "abd8dc72",
   "metadata": {
    "execution": {
     "iopub.execute_input": "2024-09-11T19:00:43.386203Z",
     "iopub.status.busy": "2024-09-11T19:00:43.386098Z",
     "iopub.status.idle": "2024-09-11T19:00:43.401338Z",
     "shell.execute_reply": "2024-09-11T19:00:43.401090Z"
    }
   },
   "outputs": [],
   "source": [
    "model = ChatOpenAI(model=\"gpt-3.5-turbo\")"
   ]
  },
  {
   "cell_type": "code",
   "execution_count": 4,
   "id": "3b3dc766",
   "metadata": {
    "execution": {
     "iopub.execute_input": "2024-09-11T19:00:43.402681Z",
     "iopub.status.busy": "2024-09-11T19:00:43.402608Z",
     "iopub.status.idle": "2024-09-11T19:00:43.481919Z",
     "shell.execute_reply": "2024-09-11T19:00:43.481650Z"
    }
   },
   "outputs": [],
   "source": [
    "tools = [MoveFileTool()]\n",
    "functions = [convert_to_openai_function(t) for t in tools]"
   ]
  },
  {
   "cell_type": "code",
   "execution_count": 5,
   "id": "d38c4a22-2e9e-4d15-a9e1-bf8103c6303b",
   "metadata": {
    "execution": {
     "iopub.execute_input": "2024-09-11T19:00:43.483311Z",
     "iopub.status.busy": "2024-09-11T19:00:43.483239Z",
     "iopub.status.idle": "2024-09-11T19:00:43.486337Z",
     "shell.execute_reply": "2024-09-11T19:00:43.486130Z"
    }
   },
   "outputs": [
    {
     "data": {
      "text/plain": [
       "{'name': 'move_file',\n",
       " 'description': 'Move or rename a file from one location to another',\n",
       " 'parameters': {'properties': {'source_path': {'description': 'Path of the file to move',\n",
       "    'type': 'string'},\n",
       "   'destination_path': {'description': 'New path for the moved file',\n",
       "    'type': 'string'}},\n",
       "  'required': ['source_path', 'destination_path'],\n",
       "  'type': 'object'}}"
      ]
     },
     "execution_count": 5,
     "metadata": {},
     "output_type": "execute_result"
    }
   ],
   "source": [
    "functions[0]"
   ]
  },
  {
   "cell_type": "code",
   "execution_count": 6,
   "id": "230a7939",
   "metadata": {
    "execution": {
     "iopub.execute_input": "2024-09-11T19:00:43.487548Z",
     "iopub.status.busy": "2024-09-11T19:00:43.487458Z",
     "iopub.status.idle": "2024-09-11T19:00:44.376712Z",
     "shell.execute_reply": "2024-09-11T19:00:44.375711Z"
    }
   },
   "outputs": [],
   "source": [
    "message = model.invoke(\n",
    "    [HumanMessage(content=\"move file foo to bar\")], functions=functions\n",
    ")"
   ]
  },
  {
   "cell_type": "code",
   "execution_count": 7,
   "id": "c118c940",
   "metadata": {
    "execution": {
     "iopub.execute_input": "2024-09-11T19:00:44.381252Z",
     "iopub.status.busy": "2024-09-11T19:00:44.380926Z",
     "iopub.status.idle": "2024-09-11T19:00:44.386136Z",
     "shell.execute_reply": "2024-09-11T19:00:44.385657Z"
    }
   },
   "outputs": [
    {
     "data": {
      "text/plain": [
       "AIMessage(content='', additional_kwargs={'function_call': {'arguments': '{\"source_path\":\"foo\",\"destination_path\":\"bar\"}', 'name': 'move_file'}, 'refusal': None}, response_metadata={'token_usage': {'completion_tokens': 20, 'prompt_tokens': 77, 'total_tokens': 97}, 'model_name': 'gpt-3.5-turbo-0125', 'system_fingerprint': None, 'finish_reason': 'function_call', 'logprobs': None}, id='run-7a79c849-aedc-47ed-8f0a-3d1791ee4a8c-0', usage_metadata={'input_tokens': 77, 'output_tokens': 20, 'total_tokens': 97})"
      ]
     },
     "execution_count": 7,
     "metadata": {},
     "output_type": "execute_result"
    }
   ],
   "source": [
    "message"
   ]
  },
  {
   "cell_type": "code",
   "execution_count": 8,
   "id": "d618e3d8",
   "metadata": {
    "execution": {
     "iopub.execute_input": "2024-09-11T19:00:44.388668Z",
     "iopub.status.busy": "2024-09-11T19:00:44.388480Z",
     "iopub.status.idle": "2024-09-11T19:00:44.391996Z",
     "shell.execute_reply": "2024-09-11T19:00:44.391552Z"
    }
   },
   "outputs": [
    {
     "data": {
      "text/plain": [
       "{'arguments': '{\"source_path\":\"foo\",\"destination_path\":\"bar\"}',\n",
       " 'name': 'move_file'}"
      ]
     },
     "execution_count": 8,
     "metadata": {},
     "output_type": "execute_result"
    }
   ],
   "source": [
    "message.additional_kwargs[\"function_call\"]"
   ]
  },
  {
   "cell_type": "markdown",
   "id": "77dd0d9f-2f24-4535-a658-a061f91e009a",
   "metadata": {},
   "source": [
    "With OpenAI chat models we can also automatically bind and convert function-like objects with `bind_functions`"
   ]
  },
  {
   "cell_type": "code",
   "execution_count": 9,
   "id": "24bb1518-8100-4ac3-acea-04acfac963d1",
   "metadata": {
    "execution": {
     "iopub.execute_input": "2024-09-11T19:00:44.394356Z",
     "iopub.status.busy": "2024-09-11T19:00:44.394214Z",
     "iopub.status.idle": "2024-09-11T19:00:45.132410Z",
     "shell.execute_reply": "2024-09-11T19:00:45.131757Z"
    }
   },
   "outputs": [
    {
     "data": {
      "text/plain": [
       "AIMessage(content='', additional_kwargs={'function_call': {'arguments': '{\"source_path\":\"foo\",\"destination_path\":\"bar\"}', 'name': 'move_file'}, 'refusal': None}, response_metadata={'token_usage': {'completion_tokens': 20, 'prompt_tokens': 77, 'total_tokens': 97}, 'model_name': 'gpt-3.5-turbo-0125', 'system_fingerprint': None, 'finish_reason': 'function_call', 'logprobs': None}, id='run-754057d0-7c9c-4db0-92fd-27ca8d503217-0', usage_metadata={'input_tokens': 77, 'output_tokens': 20, 'total_tokens': 97})"
      ]
     },
     "execution_count": 9,
     "metadata": {},
     "output_type": "execute_result"
    }
   ],
   "source": [
    "model_with_functions = model.bind_functions(tools)\n",
    "model_with_functions.invoke([HumanMessage(content=\"move file foo to bar\")])"
   ]
  },
  {
   "cell_type": "markdown",
   "id": "000ec6ff-ca67-4206-ba56-cc2a91b85ce6",
   "metadata": {},
   "source": [
    "Or we can use the update OpenAI API that uses `tools` and `tool_choice` instead of `functions` and `function_call` by using `ChatOpenAI.bind_tools`:"
   ]
  },
  {
   "cell_type": "code",
   "execution_count": 10,
   "id": "1a333e4e-df55-4e15-9d2e-4fd142d969f3",
   "metadata": {
    "execution": {
     "iopub.execute_input": "2024-09-11T19:00:45.136135Z",
     "iopub.status.busy": "2024-09-11T19:00:45.135837Z",
     "iopub.status.idle": "2024-09-11T19:00:45.949214Z",
     "shell.execute_reply": "2024-09-11T19:00:45.948724Z"
    }
   },
   "outputs": [
    {
     "data": {
      "text/plain": [
       "AIMessage(content='', additional_kwargs={'tool_calls': [{'id': 'call_CaL8VjekqJ7gWLk3xREvRspm', 'function': {'arguments': '{\"source_path\":\"foo\",\"destination_path\":\"bar\"}', 'name': 'move_file'}, 'type': 'function'}], 'refusal': None}, response_metadata={'token_usage': {'completion_tokens': 20, 'prompt_tokens': 77, 'total_tokens': 97}, 'model_name': 'gpt-3.5-turbo-0125', 'system_fingerprint': None, 'finish_reason': 'tool_calls', 'logprobs': None}, id='run-6aaa7850-0a12-4879-bcce-8bc373b0c5c9-0', tool_calls=[{'name': 'move_file', 'args': {'source_path': 'foo', 'destination_path': 'bar'}, 'id': 'call_CaL8VjekqJ7gWLk3xREvRspm', 'type': 'tool_call'}], usage_metadata={'input_tokens': 77, 'output_tokens': 20, 'total_tokens': 97})"
      ]
     },
     "execution_count": 10,
     "metadata": {},
     "output_type": "execute_result"
    }
   ],
   "source": [
    "model_with_tools = model.bind_tools(tools)\n",
    "model_with_tools.invoke([HumanMessage(content=\"move file foo to bar\")])"
   ]
  }
 ],
 "metadata": {
  "kernelspec": {
   "display_name": "Python 3 (ipykernel)",
   "language": "python",
   "name": "python3"
  },
  "language_info": {
   "codemirror_mode": {
    "name": "ipython",
    "version": 3
   },
   "file_extension": ".py",
   "mimetype": "text/x-python",
   "name": "python",
   "nbconvert_exporter": "python",
   "pygments_lexer": "ipython3",
   "version": "3.11.9"
  }
 },
 "nbformat": 4,
 "nbformat_minor": 5
}
