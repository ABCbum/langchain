{
 "cells": [
  {
   "cell_type": "markdown",
   "metadata": {},
   "source": [
    "# How to bind model-specific tools\n",
    "\n",
    "Providers adopt different conventions for formatting tool schemas. \n",
    "For instance, OpenAI uses a format like this:\n",
    "\n",
    "- `type`: The type of the tool. At the time of writing, this is always `\"function\"`.\n",
    "- `function`: An object containing tool parameters.\n",
    "- `function.name`: The name of the schema to output.\n",
    "- `function.description`: A high level description of the schema to output.\n",
    "- `function.parameters`: The nested details of the schema you want to extract, formatted as a [JSON schema](https://json-schema.org/) dict.\n",
    "\n",
    "We can bind this model-specific format directly to the model as well if preferred. Here's an example:"
   ]
  },
  {
   "cell_type": "code",
   "execution_count": 1,
   "metadata": {
    "execution": {
     "iopub.execute_input": "2024-09-11T19:01:24.113012Z",
     "iopub.status.busy": "2024-09-11T19:01:24.112576Z",
     "iopub.status.idle": "2024-09-11T19:01:25.742192Z",
     "shell.execute_reply": "2024-09-11T19:01:25.741379Z"
    }
   },
   "outputs": [
    {
     "data": {
      "text/plain": [
       "AIMessage(content='', additional_kwargs={'tool_calls': [{'id': 'call_1MpfdN9O96dLuEhCaay856L6', 'function': {'arguments': '{\"a\": 119, \"b\": 8}', 'name': 'multiply'}, 'type': 'function'}], 'refusal': None}, response_metadata={'token_usage': {'completion_tokens': 32, 'prompt_tokens': 62, 'total_tokens': 94}, 'model_name': 'gpt-3.5-turbo-0125', 'system_fingerprint': None, 'finish_reason': 'tool_calls', 'logprobs': None}, id='run-46d58915-40c4-4a1b-a55c-e0932afc92ce-0', tool_calls=[{'name': 'multiply', 'args': {'a': 119, 'b': 8}, 'id': 'call_1MpfdN9O96dLuEhCaay856L6', 'type': 'tool_call'}], usage_metadata={'input_tokens': 62, 'output_tokens': 32, 'total_tokens': 94})"
      ]
     },
     "execution_count": 1,
     "metadata": {},
     "output_type": "execute_result"
    }
   ],
   "source": [
    "from langchain_openai import ChatOpenAI\n",
    "\n",
    "model = ChatOpenAI()\n",
    "\n",
    "model_with_tools = model.bind(\n",
    "    tools=[\n",
    "        {\n",
    "            \"type\": \"function\",\n",
    "            \"function\": {\n",
    "                \"name\": \"multiply\",\n",
    "                \"description\": \"Multiply two integers together.\",\n",
    "                \"parameters\": {\n",
    "                    \"type\": \"object\",\n",
    "                    \"properties\": {\n",
    "                        \"a\": {\"type\": \"number\", \"description\": \"First integer\"},\n",
    "                        \"b\": {\"type\": \"number\", \"description\": \"Second integer\"},\n",
    "                    },\n",
    "                    \"required\": [\"a\", \"b\"],\n",
    "                },\n",
    "            },\n",
    "        }\n",
    "    ]\n",
    ")\n",
    "\n",
    "model_with_tools.invoke(\"Whats 119 times 8?\")"
   ]
  },
  {
   "cell_type": "markdown",
   "metadata": {},
   "source": [
    "This is functionally equivalent to the `bind_tools()` method."
   ]
  }
 ],
 "metadata": {
  "language_info": {
   "codemirror_mode": {
    "name": "ipython",
    "version": 3
   },
   "file_extension": ".py",
   "mimetype": "text/x-python",
   "name": "python",
   "nbconvert_exporter": "python",
   "pygments_lexer": "ipython3",
   "version": "3.11.9"
  }
 },
 "nbformat": 4,
 "nbformat_minor": 2
}
