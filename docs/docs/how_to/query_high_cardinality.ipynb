{
 "cells": [
  {
   "cell_type": "raw",
   "id": "df7d42b9-58a6-434c-a2d7-0b61142f6d3e",
   "metadata": {},
   "source": [
    "---\n",
    "sidebar_position: 7\n",
    "---"
   ]
  },
  {
   "cell_type": "markdown",
   "id": "f2195672-0cab-4967-ba8a-c6544635547d",
   "metadata": {},
   "source": [
    "# How deal with high cardinality categoricals when doing query analysis\n",
    "\n",
    "You may want to do query analysis to create a filter on a categorical column. One of the difficulties here is that you usually need to specify the EXACT categorical value. The issue is you need to make sure the LLM generates that categorical value exactly. This can be done relatively easy with prompting when there are only a few values that are valid. When there are a high number of valid values then it becomes more difficult, as those values may not fit in the LLM context, or (if they do) there may be too many for the LLM to properly attend to.\n",
    "\n",
    "In this notebook we take a look at how to approach this."
   ]
  },
  {
   "cell_type": "markdown",
   "id": "a4079b57-4369-49c9-b2ad-c809b5408d7e",
   "metadata": {},
   "source": [
    "## Setup\n",
    "#### Install dependencies"
   ]
  },
  {
   "cell_type": "code",
   "execution_count": 1,
   "id": "e168ef5c-e54e-49a6-8552-5502854a6f01",
   "metadata": {
    "execution": {
     "iopub.execute_input": "2024-09-11T18:36:37.437397Z",
     "iopub.status.busy": "2024-09-11T18:36:37.437009Z",
     "iopub.status.idle": "2024-09-11T18:36:42.432232Z",
     "shell.execute_reply": "2024-09-11T18:36:42.431658Z"
    }
   },
   "outputs": [
    {
     "name": "stdout",
     "output_type": "stream",
     "text": [
      "Note: you may need to restart the kernel to use updated packages.\n"
     ]
    }
   ],
   "source": [
    "%pip install -qU langchain langchain-community langchain-openai faker langchain-chroma"
   ]
  },
  {
   "cell_type": "markdown",
   "id": "79d66a45-a05c-4d22-b011-b1cdbdfc8f9c",
   "metadata": {},
   "source": [
    "#### Set environment variables\n",
    "\n",
    "We'll use OpenAI in this example:"
   ]
  },
  {
   "cell_type": "code",
   "execution_count": 2,
   "id": "40e2979e-a818-4b96-ac25-039336f94319",
   "metadata": {
    "execution": {
     "iopub.execute_input": "2024-09-11T18:36:42.435018Z",
     "iopub.status.busy": "2024-09-11T18:36:42.434818Z",
     "iopub.status.idle": "2024-09-11T18:36:42.438097Z",
     "shell.execute_reply": "2024-09-11T18:36:42.437642Z"
    }
   },
   "outputs": [],
   "source": [
    "import getpass\n",
    "import os\n",
    "\n",
    "if \"OPENAI_API_KEY\" not in os.environ:\n",
    "    os.environ[\"OPENAI_API_KEY\"] = getpass.getpass()\n",
    "\n",
    "# Optional, uncomment to trace runs with LangSmith. Sign up here: https://smith.langchain.com.\n",
    "# os.environ[\"LANGCHAIN_TRACING_V2\"] = \"true\"\n",
    "# os.environ[\"LANGCHAIN_API_KEY\"] = getpass.getpass()"
   ]
  },
  {
   "cell_type": "markdown",
   "id": "d8d47f4b",
   "metadata": {},
   "source": [
    "#### Set up data\n",
    "\n",
    "We will generate a bunch of fake names"
   ]
  },
  {
   "cell_type": "code",
   "execution_count": 3,
   "id": "e5ba65c2",
   "metadata": {
    "execution": {
     "iopub.execute_input": "2024-09-11T18:36:42.440046Z",
     "iopub.status.busy": "2024-09-11T18:36:42.439932Z",
     "iopub.status.idle": "2024-09-11T18:36:43.056671Z",
     "shell.execute_reply": "2024-09-11T18:36:43.056344Z"
    }
   },
   "outputs": [],
   "source": [
    "from faker import Faker\n",
    "\n",
    "fake = Faker()\n",
    "\n",
    "names = [fake.name() for _ in range(10000)]"
   ]
  },
  {
   "cell_type": "markdown",
   "id": "41133694",
   "metadata": {},
   "source": [
    "Let's look at some of the names"
   ]
  },
  {
   "cell_type": "code",
   "execution_count": 4,
   "id": "c901ea97",
   "metadata": {
    "execution": {
     "iopub.execute_input": "2024-09-11T18:36:43.058326Z",
     "iopub.status.busy": "2024-09-11T18:36:43.058246Z",
     "iopub.status.idle": "2024-09-11T18:36:43.061259Z",
     "shell.execute_reply": "2024-09-11T18:36:43.061055Z"
    }
   },
   "outputs": [
    {
     "data": {
      "text/plain": [
       "'Jocelyn Johnson'"
      ]
     },
     "execution_count": 4,
     "metadata": {},
     "output_type": "execute_result"
    }
   ],
   "source": [
    "names[0]"
   ]
  },
  {
   "cell_type": "code",
   "execution_count": 5,
   "id": "b0d42ae2",
   "metadata": {
    "execution": {
     "iopub.execute_input": "2024-09-11T18:36:43.062585Z",
     "iopub.status.busy": "2024-09-11T18:36:43.062489Z",
     "iopub.status.idle": "2024-09-11T18:36:43.064873Z",
     "shell.execute_reply": "2024-09-11T18:36:43.064640Z"
    }
   },
   "outputs": [
    {
     "data": {
      "text/plain": [
       "'Paige Gonzales'"
      ]
     },
     "execution_count": 5,
     "metadata": {},
     "output_type": "execute_result"
    }
   ],
   "source": [
    "names[567]"
   ]
  },
  {
   "cell_type": "markdown",
   "id": "1725883d",
   "metadata": {},
   "source": [
    "## Query Analysis\n",
    "\n",
    "We can now set up a baseline query analysis"
   ]
  },
  {
   "cell_type": "code",
   "execution_count": 6,
   "id": "0ae69afc",
   "metadata": {
    "execution": {
     "iopub.execute_input": "2024-09-11T18:36:43.066132Z",
     "iopub.status.busy": "2024-09-11T18:36:43.066058Z",
     "iopub.status.idle": "2024-09-11T18:36:43.091733Z",
     "shell.execute_reply": "2024-09-11T18:36:43.091474Z"
    }
   },
   "outputs": [],
   "source": [
    "from pydantic import BaseModel, Field, model_validator"
   ]
  },
  {
   "cell_type": "code",
   "execution_count": 7,
   "id": "6c9485ce",
   "metadata": {
    "execution": {
     "iopub.execute_input": "2024-09-11T18:36:43.093045Z",
     "iopub.status.busy": "2024-09-11T18:36:43.092949Z",
     "iopub.status.idle": "2024-09-11T18:36:43.114583Z",
     "shell.execute_reply": "2024-09-11T18:36:43.114366Z"
    }
   },
   "outputs": [],
   "source": [
    "class Search(BaseModel):\n",
    "    query: str\n",
    "    author: str"
   ]
  },
  {
   "cell_type": "code",
   "execution_count": 8,
   "id": "aebd704a",
   "metadata": {
    "execution": {
     "iopub.execute_input": "2024-09-11T18:36:43.115891Z",
     "iopub.status.busy": "2024-09-11T18:36:43.115821Z",
     "iopub.status.idle": "2024-09-11T18:36:43.535035Z",
     "shell.execute_reply": "2024-09-11T18:36:43.534697Z"
    }
   },
   "outputs": [],
   "source": [
    "from langchain_core.prompts import ChatPromptTemplate\n",
    "from langchain_core.runnables import RunnablePassthrough\n",
    "from langchain_openai import ChatOpenAI\n",
    "\n",
    "system = \"\"\"Generate a relevant search query for a library system\"\"\"\n",
    "prompt = ChatPromptTemplate.from_messages(\n",
    "    [\n",
    "        (\"system\", system),\n",
    "        (\"human\", \"{question}\"),\n",
    "    ]\n",
    ")\n",
    "llm = ChatOpenAI(model=\"gpt-4o-mini\", temperature=0)\n",
    "structured_llm = llm.with_structured_output(Search)\n",
    "query_analyzer = {\"question\": RunnablePassthrough()} | prompt | structured_llm"
   ]
  },
  {
   "cell_type": "markdown",
   "id": "41709a2e",
   "metadata": {},
   "source": [
    "We can see that if we spell the name exactly correctly, it knows how to handle it"
   ]
  },
  {
   "cell_type": "code",
   "execution_count": 9,
   "id": "cc0d344b",
   "metadata": {
    "execution": {
     "iopub.execute_input": "2024-09-11T18:36:43.536595Z",
     "iopub.status.busy": "2024-09-11T18:36:43.536520Z",
     "iopub.status.idle": "2024-09-11T18:36:44.247761Z",
     "shell.execute_reply": "2024-09-11T18:36:44.247455Z"
    }
   },
   "outputs": [
    {
     "data": {
      "text/plain": [
       "Search(query='aliens', author='Jesse Knight')"
      ]
     },
     "execution_count": 9,
     "metadata": {},
     "output_type": "execute_result"
    }
   ],
   "source": [
    "query_analyzer.invoke(\"what are books about aliens by Jesse Knight\")"
   ]
  },
  {
   "cell_type": "markdown",
   "id": "a1b57eab",
   "metadata": {},
   "source": [
    "The issue is that the values you want to filter on may NOT be spelled exactly correctly"
   ]
  },
  {
   "cell_type": "code",
   "execution_count": 10,
   "id": "82b6b2ad",
   "metadata": {
    "execution": {
     "iopub.execute_input": "2024-09-11T18:36:44.249505Z",
     "iopub.status.busy": "2024-09-11T18:36:44.249252Z",
     "iopub.status.idle": "2024-09-11T18:36:44.725179Z",
     "shell.execute_reply": "2024-09-11T18:36:44.724804Z"
    }
   },
   "outputs": [
    {
     "data": {
      "text/plain": [
       "Search(query='aliens', author='Jess Knight')"
      ]
     },
     "execution_count": 10,
     "metadata": {},
     "output_type": "execute_result"
    }
   ],
   "source": [
    "query_analyzer.invoke(\"what are books about aliens by jess knight\")"
   ]
  },
  {
   "cell_type": "markdown",
   "id": "0b60b7c2",
   "metadata": {},
   "source": [
    "### Add in all values\n",
    "\n",
    "One way around this is to add ALL possible values to the prompt. That will generally guide the query in the right direction"
   ]
  },
  {
   "cell_type": "code",
   "execution_count": 11,
   "id": "98788a94",
   "metadata": {
    "execution": {
     "iopub.execute_input": "2024-09-11T18:36:44.727490Z",
     "iopub.status.busy": "2024-09-11T18:36:44.727287Z",
     "iopub.status.idle": "2024-09-11T18:36:44.730578Z",
     "shell.execute_reply": "2024-09-11T18:36:44.730155Z"
    }
   },
   "outputs": [],
   "source": [
    "system = \"\"\"Generate a relevant search query for a library system.\n",
    "\n",
    "`author` attribute MUST be one of:\n",
    "\n",
    "{authors}\n",
    "\n",
    "Do NOT hallucinate author name!\"\"\"\n",
    "base_prompt = ChatPromptTemplate.from_messages(\n",
    "    [\n",
    "        (\"system\", system),\n",
    "        (\"human\", \"{question}\"),\n",
    "    ]\n",
    ")\n",
    "prompt = base_prompt.partial(authors=\", \".join(names))"
   ]
  },
  {
   "cell_type": "code",
   "execution_count": 12,
   "id": "e65412f5",
   "metadata": {
    "execution": {
     "iopub.execute_input": "2024-09-11T18:36:44.732538Z",
     "iopub.status.busy": "2024-09-11T18:36:44.732406Z",
     "iopub.status.idle": "2024-09-11T18:36:44.734815Z",
     "shell.execute_reply": "2024-09-11T18:36:44.734457Z"
    }
   },
   "outputs": [],
   "source": [
    "query_analyzer_all = {\"question\": RunnablePassthrough()} | prompt | structured_llm"
   ]
  },
  {
   "cell_type": "markdown",
   "id": "e639285a",
   "metadata": {},
   "source": [
    "However... if the list of categoricals is long enough, it may error!"
   ]
  },
  {
   "cell_type": "code",
   "execution_count": 13,
   "id": "696b000f",
   "metadata": {
    "execution": {
     "iopub.execute_input": "2024-09-11T18:36:44.736537Z",
     "iopub.status.busy": "2024-09-11T18:36:44.736417Z",
     "iopub.status.idle": "2024-09-11T18:36:47.903685Z",
     "shell.execute_reply": "2024-09-11T18:36:47.902987Z"
    }
   },
   "outputs": [],
   "source": [
    "try:\n",
    "    res = query_analyzer_all.invoke(\"what are books about aliens by jess knight\")\n",
    "except Exception as e:\n",
    "    print(e)"
   ]
  },
  {
   "cell_type": "markdown",
   "id": "1d5d7891",
   "metadata": {},
   "source": [
    "We can try to use a longer context window... but with so much information in there, it is not garunteed to pick it up reliably"
   ]
  },
  {
   "cell_type": "code",
   "execution_count": 14,
   "id": "0f0d0757",
   "metadata": {
    "execution": {
     "iopub.execute_input": "2024-09-11T18:36:47.908112Z",
     "iopub.status.busy": "2024-09-11T18:36:47.907810Z",
     "iopub.status.idle": "2024-09-11T18:36:47.941080Z",
     "shell.execute_reply": "2024-09-11T18:36:47.940680Z"
    }
   },
   "outputs": [],
   "source": [
    "llm_long = ChatOpenAI(model=\"gpt-4-turbo-preview\", temperature=0)\n",
    "structured_llm_long = llm_long.with_structured_output(Search)\n",
    "query_analyzer_all = {\"question\": RunnablePassthrough()} | prompt | structured_llm_long"
   ]
  },
  {
   "cell_type": "code",
   "execution_count": 15,
   "id": "03e5b7b2",
   "metadata": {
    "execution": {
     "iopub.execute_input": "2024-09-11T18:36:47.943502Z",
     "iopub.status.busy": "2024-09-11T18:36:47.943335Z",
     "iopub.status.idle": "2024-09-11T18:36:52.593139Z",
     "shell.execute_reply": "2024-09-11T18:36:52.592059Z"
    }
   },
   "outputs": [
    {
     "data": {
      "text/plain": [
       "Search(query='aliens', author='Jess Knight')"
      ]
     },
     "execution_count": 15,
     "metadata": {},
     "output_type": "execute_result"
    }
   ],
   "source": [
    "query_analyzer_all.invoke(\"what are books about aliens by jess knight\")"
   ]
  },
  {
   "cell_type": "markdown",
   "id": "73ecf52b",
   "metadata": {},
   "source": [
    "### Find and all relevant values\n",
    "\n",
    "Instead, what we can do is create an index over the relevant values and then query that for the N most relevant values,"
   ]
  },
  {
   "cell_type": "code",
   "execution_count": 16,
   "id": "32b19e07",
   "metadata": {
    "execution": {
     "iopub.execute_input": "2024-09-11T18:36:52.597734Z",
     "iopub.status.busy": "2024-09-11T18:36:52.597405Z",
     "iopub.status.idle": "2024-09-11T18:40:35.520477Z",
     "shell.execute_reply": "2024-09-11T18:40:35.520032Z"
    }
   },
   "outputs": [],
   "source": [
    "from langchain_chroma import Chroma\n",
    "from langchain_openai import OpenAIEmbeddings\n",
    "\n",
    "embeddings = OpenAIEmbeddings(model=\"text-embedding-3-small\")\n",
    "vectorstore = Chroma.from_texts(names, embeddings, collection_name=\"author_names\")"
   ]
  },
  {
   "cell_type": "code",
   "execution_count": 17,
   "id": "774cb7b0",
   "metadata": {
    "execution": {
     "iopub.execute_input": "2024-09-11T18:40:35.523474Z",
     "iopub.status.busy": "2024-09-11T18:40:35.523362Z",
     "iopub.status.idle": "2024-09-11T18:40:35.525373Z",
     "shell.execute_reply": "2024-09-11T18:40:35.525127Z"
    }
   },
   "outputs": [],
   "source": [
    "def select_names(question):\n",
    "    _docs = vectorstore.similarity_search(question, k=10)\n",
    "    _names = [d.page_content for d in _docs]\n",
    "    return \", \".join(_names)"
   ]
  },
  {
   "cell_type": "code",
   "execution_count": 18,
   "id": "1173159c",
   "metadata": {
    "execution": {
     "iopub.execute_input": "2024-09-11T18:40:35.526697Z",
     "iopub.status.busy": "2024-09-11T18:40:35.526615Z",
     "iopub.status.idle": "2024-09-11T18:40:35.528454Z",
     "shell.execute_reply": "2024-09-11T18:40:35.528243Z"
    }
   },
   "outputs": [],
   "source": [
    "create_prompt = {\n",
    "    \"question\": RunnablePassthrough(),\n",
    "    \"authors\": select_names,\n",
    "} | base_prompt"
   ]
  },
  {
   "cell_type": "code",
   "execution_count": 19,
   "id": "0a892607",
   "metadata": {
    "execution": {
     "iopub.execute_input": "2024-09-11T18:40:35.529574Z",
     "iopub.status.busy": "2024-09-11T18:40:35.529495Z",
     "iopub.status.idle": "2024-09-11T18:40:35.531141Z",
     "shell.execute_reply": "2024-09-11T18:40:35.530938Z"
    }
   },
   "outputs": [],
   "source": [
    "query_analyzer_select = create_prompt | structured_llm"
   ]
  },
  {
   "cell_type": "code",
   "execution_count": 20,
   "id": "8195d7cd",
   "metadata": {
    "execution": {
     "iopub.execute_input": "2024-09-11T18:40:35.532306Z",
     "iopub.status.busy": "2024-09-11T18:40:35.532228Z",
     "iopub.status.idle": "2024-09-11T18:40:36.026805Z",
     "shell.execute_reply": "2024-09-11T18:40:36.025985Z"
    }
   },
   "outputs": [
    {
     "data": {
      "text/plain": [
       "ChatPromptValue(messages=[SystemMessage(content='Generate a relevant search query for a library system.\\n\\n`author` attribute MUST be one of:\\n\\nJesse Knight, Lisa Knight, Ryan Knight, Stephanie Knight, Susan Knight, Andrew Knight, Casey Knight, Vickie Knight, Connor Knight, Daniel Knight\\n\\nDo NOT hallucinate author name!'), HumanMessage(content='what are books by jess knight')])"
      ]
     },
     "execution_count": 20,
     "metadata": {},
     "output_type": "execute_result"
    }
   ],
   "source": [
    "create_prompt.invoke(\"what are books by jess knight\")"
   ]
  },
  {
   "cell_type": "code",
   "execution_count": 21,
   "id": "d3228b4e",
   "metadata": {
    "execution": {
     "iopub.execute_input": "2024-09-11T18:40:36.033901Z",
     "iopub.status.busy": "2024-09-11T18:40:36.033140Z",
     "iopub.status.idle": "2024-09-11T18:40:36.805573Z",
     "shell.execute_reply": "2024-09-11T18:40:36.804728Z"
    }
   },
   "outputs": [
    {
     "data": {
      "text/plain": [
       "Search(query='books about aliens', author='Jesse Knight')"
      ]
     },
     "execution_count": 21,
     "metadata": {},
     "output_type": "execute_result"
    }
   ],
   "source": [
    "query_analyzer_select.invoke(\"what are books about aliens by jess knight\")"
   ]
  },
  {
   "cell_type": "markdown",
   "id": "46ef88bb",
   "metadata": {},
   "source": [
    "### Replace after selection\n",
    "\n",
    "Another method is to let the LLM fill in whatever value, but then convert that value to a valid value.\n",
    "This can actually be done with the Pydantic class itself!"
   ]
  },
  {
   "cell_type": "code",
   "execution_count": 22,
   "id": "a2e8b434",
   "metadata": {
    "execution": {
     "iopub.execute_input": "2024-09-11T18:40:36.809118Z",
     "iopub.status.busy": "2024-09-11T18:40:36.808760Z",
     "iopub.status.idle": "2024-09-11T18:40:36.816335Z",
     "shell.execute_reply": "2024-09-11T18:40:36.815682Z"
    }
   },
   "outputs": [],
   "source": [
    "class Search(BaseModel):\n",
    "    query: str\n",
    "    author: str\n",
    "\n",
    "    @model_validator(mode=\"before\")\n",
    "    @classmethod\n",
    "    def double(cls, values: dict) -> dict:\n",
    "        author = values[\"author\"]\n",
    "        closest_valid_author = vectorstore.similarity_search(author, k=1)[\n",
    "            0\n",
    "        ].page_content\n",
    "        values[\"author\"] = closest_valid_author\n",
    "        return values"
   ]
  },
  {
   "cell_type": "code",
   "execution_count": 23,
   "id": "919c0601",
   "metadata": {
    "execution": {
     "iopub.execute_input": "2024-09-11T18:40:36.819546Z",
     "iopub.status.busy": "2024-09-11T18:40:36.819161Z",
     "iopub.status.idle": "2024-09-11T18:40:36.826170Z",
     "shell.execute_reply": "2024-09-11T18:40:36.825439Z"
    }
   },
   "outputs": [],
   "source": [
    "system = \"\"\"Generate a relevant search query for a library system\"\"\"\n",
    "prompt = ChatPromptTemplate.from_messages(\n",
    "    [\n",
    "        (\"system\", system),\n",
    "        (\"human\", \"{question}\"),\n",
    "    ]\n",
    ")\n",
    "corrective_structure_llm = llm.with_structured_output(Search)\n",
    "corrective_query_analyzer = (\n",
    "    {\"question\": RunnablePassthrough()} | prompt | corrective_structure_llm\n",
    ")"
   ]
  },
  {
   "cell_type": "code",
   "execution_count": 24,
   "id": "6c4f3e9a",
   "metadata": {
    "execution": {
     "iopub.execute_input": "2024-09-11T18:40:36.829271Z",
     "iopub.status.busy": "2024-09-11T18:40:36.828889Z",
     "iopub.status.idle": "2024-09-11T18:40:37.823311Z",
     "shell.execute_reply": "2024-09-11T18:40:37.822788Z"
    }
   },
   "outputs": [
    {
     "data": {
      "text/plain": [
       "Search(query='aliens', author='Andrew Knight')"
      ]
     },
     "execution_count": 24,
     "metadata": {},
     "output_type": "execute_result"
    }
   ],
   "source": [
    "corrective_query_analyzer.invoke(\"what are books about aliens by jes knight\")"
   ]
  },
  {
   "cell_type": "code",
   "execution_count": 25,
   "id": "a309cb11",
   "metadata": {
    "execution": {
     "iopub.execute_input": "2024-09-11T18:40:37.827585Z",
     "iopub.status.busy": "2024-09-11T18:40:37.827270Z",
     "iopub.status.idle": "2024-09-11T18:40:37.833398Z",
     "shell.execute_reply": "2024-09-11T18:40:37.829945Z"
    }
   },
   "outputs": [],
   "source": [
    "# TODO: show trigram similarity"
   ]
  }
 ],
 "metadata": {
  "kernelspec": {
   "display_name": "poetry-venv-311",
   "language": "python",
   "name": "poetry-venv-311"
  },
  "language_info": {
   "codemirror_mode": {
    "name": "ipython",
    "version": 3
   },
   "file_extension": ".py",
   "mimetype": "text/x-python",
   "name": "python",
   "nbconvert_exporter": "python",
   "pygments_lexer": "ipython3",
   "version": "3.11.9"
  }
 },
 "nbformat": 4,
 "nbformat_minor": 5
}
