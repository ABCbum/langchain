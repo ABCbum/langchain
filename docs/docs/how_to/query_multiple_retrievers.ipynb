{
 "cells": [
  {
   "cell_type": "raw",
   "id": "df7d42b9-58a6-434c-a2d7-0b61142f6d3e",
   "metadata": {},
   "source": [
    "---\n",
    "sidebar_position: 5\n",
    "---"
   ]
  },
  {
   "cell_type": "markdown",
   "id": "f2195672-0cab-4967-ba8a-c6544635547d",
   "metadata": {},
   "source": [
    "# How to handle multiple retrievers when doing query analysis\n",
    "\n",
    "Sometimes, a query analysis technique may allow for selection of which retriever to use. To use this, you will need to add some logic to select the retriever to do. We will show a simple example (using mock data) of how to do that."
   ]
  },
  {
   "cell_type": "markdown",
   "id": "a4079b57-4369-49c9-b2ad-c809b5408d7e",
   "metadata": {},
   "source": [
    "## Setup\n",
    "#### Install dependencies"
   ]
  },
  {
   "cell_type": "code",
   "execution_count": 1,
   "id": "e168ef5c-e54e-49a6-8552-5502854a6f01",
   "metadata": {
    "execution": {
     "iopub.execute_input": "2024-09-11T18:40:52.215731Z",
     "iopub.status.busy": "2024-09-11T18:40:52.215392Z",
     "iopub.status.idle": "2024-09-11T18:40:57.101706Z",
     "shell.execute_reply": "2024-09-11T18:40:57.101102Z"
    }
   },
   "outputs": [
    {
     "name": "stdout",
     "output_type": "stream",
     "text": [
      "Note: you may need to restart the kernel to use updated packages.\n"
     ]
    }
   ],
   "source": [
    "%pip install -qU langchain langchain-community langchain-openai langchain-chroma"
   ]
  },
  {
   "cell_type": "markdown",
   "id": "79d66a45-a05c-4d22-b011-b1cdbdfc8f9c",
   "metadata": {},
   "source": [
    "#### Set environment variables\n",
    "\n",
    "We'll use OpenAI in this example:"
   ]
  },
  {
   "cell_type": "code",
   "execution_count": 2,
   "id": "40e2979e-a818-4b96-ac25-039336f94319",
   "metadata": {
    "execution": {
     "iopub.execute_input": "2024-09-11T18:40:57.104402Z",
     "iopub.status.busy": "2024-09-11T18:40:57.104205Z",
     "iopub.status.idle": "2024-09-11T18:40:57.107181Z",
     "shell.execute_reply": "2024-09-11T18:40:57.106824Z"
    }
   },
   "outputs": [],
   "source": [
    "import getpass\n",
    "import os\n",
    "\n",
    "if \"OPENAI_API_KEY\" not in os.environ:\n",
    "    os.environ[\"OPENAI_API_KEY\"] = getpass.getpass()\n",
    "\n",
    "# Optional, uncomment to trace runs with LangSmith. Sign up here: https://smith.langchain.com.\n",
    "# os.environ[\"LANGCHAIN_TRACING_V2\"] = \"true\"\n",
    "# os.environ[\"LANGCHAIN_API_KEY\"] = getpass.getpass()"
   ]
  },
  {
   "cell_type": "markdown",
   "id": "c20b48b8-16d7-4089-bc17-f2d240b3935a",
   "metadata": {},
   "source": [
    "### Create Index\n",
    "\n",
    "We will create a vectorstore over fake information."
   ]
  },
  {
   "cell_type": "code",
   "execution_count": 3,
   "id": "1f621694",
   "metadata": {
    "execution": {
     "iopub.execute_input": "2024-09-11T18:40:57.109247Z",
     "iopub.status.busy": "2024-09-11T18:40:57.109019Z",
     "iopub.status.idle": "2024-09-11T18:40:58.991492Z",
     "shell.execute_reply": "2024-09-11T18:40:58.990253Z"
    }
   },
   "outputs": [],
   "source": [
    "from langchain_chroma import Chroma\n",
    "from langchain_openai import OpenAIEmbeddings\n",
    "from langchain_text_splitters import RecursiveCharacterTextSplitter\n",
    "\n",
    "texts = [\"Harrison worked at Kensho\"]\n",
    "embeddings = OpenAIEmbeddings(model=\"text-embedding-3-small\")\n",
    "vectorstore = Chroma.from_texts(texts, embeddings, collection_name=\"harrison\")\n",
    "retriever_harrison = vectorstore.as_retriever(search_kwargs={\"k\": 1})\n",
    "\n",
    "texts = [\"Ankush worked at Facebook\"]\n",
    "embeddings = OpenAIEmbeddings(model=\"text-embedding-3-small\")\n",
    "vectorstore = Chroma.from_texts(texts, embeddings, collection_name=\"ankush\")\n",
    "retriever_ankush = vectorstore.as_retriever(search_kwargs={\"k\": 1})"
   ]
  },
  {
   "cell_type": "markdown",
   "id": "57396e23-c192-4d97-846b-5eacea4d6b8d",
   "metadata": {},
   "source": [
    "## Query analysis\n",
    "\n",
    "We will use function calling to structure the output. We will let it return multiple queries."
   ]
  },
  {
   "cell_type": "code",
   "execution_count": 4,
   "id": "0b51dd76-820d-41a4-98c8-893f6fe0d1ea",
   "metadata": {
    "execution": {
     "iopub.execute_input": "2024-09-11T18:40:58.996564Z",
     "iopub.status.busy": "2024-09-11T18:40:58.996059Z",
     "iopub.status.idle": "2024-09-11T18:40:59.002965Z",
     "shell.execute_reply": "2024-09-11T18:40:59.002156Z"
    }
   },
   "outputs": [],
   "source": [
    "from typing import List, Optional\n",
    "\n",
    "from pydantic import BaseModel, Field\n",
    "\n",
    "\n",
    "class Search(BaseModel):\n",
    "    \"\"\"Search for information about a person.\"\"\"\n",
    "\n",
    "    query: str = Field(\n",
    "        ...,\n",
    "        description=\"Query to look up\",\n",
    "    )\n",
    "    person: str = Field(\n",
    "        ...,\n",
    "        description=\"Person to look things up for. Should be `HARRISON` or `ANKUSH`.\",\n",
    "    )"
   ]
  },
  {
   "cell_type": "code",
   "execution_count": 5,
   "id": "783c03c3-8c72-4f88-9cf4-5829ce6745d6",
   "metadata": {
    "execution": {
     "iopub.execute_input": "2024-09-11T18:40:59.006223Z",
     "iopub.status.busy": "2024-09-11T18:40:59.005967Z",
     "iopub.status.idle": "2024-09-11T18:40:59.146000Z",
     "shell.execute_reply": "2024-09-11T18:40:59.145630Z"
    }
   },
   "outputs": [],
   "source": [
    "from langchain_core.output_parsers.openai_tools import PydanticToolsParser\n",
    "from langchain_core.prompts import ChatPromptTemplate\n",
    "from langchain_core.runnables import RunnablePassthrough\n",
    "from langchain_openai import ChatOpenAI\n",
    "\n",
    "output_parser = PydanticToolsParser(tools=[Search])\n",
    "\n",
    "system = \"\"\"You have the ability to issue search queries to get information to help answer user information.\"\"\"\n",
    "prompt = ChatPromptTemplate.from_messages(\n",
    "    [\n",
    "        (\"system\", system),\n",
    "        (\"human\", \"{question}\"),\n",
    "    ]\n",
    ")\n",
    "llm = ChatOpenAI(model=\"gpt-4o-mini\", temperature=0)\n",
    "structured_llm = llm.with_structured_output(Search)\n",
    "query_analyzer = {\"question\": RunnablePassthrough()} | prompt | structured_llm"
   ]
  },
  {
   "cell_type": "markdown",
   "id": "b9564078",
   "metadata": {},
   "source": [
    "We can see that this allows for routing between retrievers"
   ]
  },
  {
   "cell_type": "code",
   "execution_count": 6,
   "id": "bc1d3863",
   "metadata": {
    "execution": {
     "iopub.execute_input": "2024-09-11T18:40:59.148325Z",
     "iopub.status.busy": "2024-09-11T18:40:59.148211Z",
     "iopub.status.idle": "2024-09-11T18:41:00.066488Z",
     "shell.execute_reply": "2024-09-11T18:41:00.065607Z"
    }
   },
   "outputs": [
    {
     "data": {
      "text/plain": [
       "Search(query='work history', person='HARRISON')"
      ]
     },
     "execution_count": 6,
     "metadata": {},
     "output_type": "execute_result"
    }
   ],
   "source": [
    "query_analyzer.invoke(\"where did Harrison Work\")"
   ]
  },
  {
   "cell_type": "code",
   "execution_count": 7,
   "id": "af62af17-4f90-4dbd-a8b4-dfff51f1db95",
   "metadata": {
    "execution": {
     "iopub.execute_input": "2024-09-11T18:41:00.070484Z",
     "iopub.status.busy": "2024-09-11T18:41:00.070179Z",
     "iopub.status.idle": "2024-09-11T18:41:00.467250Z",
     "shell.execute_reply": "2024-09-11T18:41:00.466517Z"
    }
   },
   "outputs": [
    {
     "data": {
      "text/plain": [
       "Search(query='work history', person='ANKUSH')"
      ]
     },
     "execution_count": 7,
     "metadata": {},
     "output_type": "execute_result"
    }
   ],
   "source": [
    "query_analyzer.invoke(\"where did ankush Work\")"
   ]
  },
  {
   "cell_type": "markdown",
   "id": "c7c65b2f-7881-45fc-a47b-a4eaaf48245f",
   "metadata": {},
   "source": [
    "## Retrieval with query analysis\n",
    "\n",
    "So how would we include this in a chain? We just need some simple logic to select the retriever and pass in the search query"
   ]
  },
  {
   "cell_type": "code",
   "execution_count": 8,
   "id": "1e047d87",
   "metadata": {
    "execution": {
     "iopub.execute_input": "2024-09-11T18:41:00.470322Z",
     "iopub.status.busy": "2024-09-11T18:41:00.470080Z",
     "iopub.status.idle": "2024-09-11T18:41:00.473228Z",
     "shell.execute_reply": "2024-09-11T18:41:00.472685Z"
    }
   },
   "outputs": [],
   "source": [
    "from langchain_core.runnables import chain"
   ]
  },
  {
   "cell_type": "code",
   "execution_count": 9,
   "id": "4ec0c7fe",
   "metadata": {
    "execution": {
     "iopub.execute_input": "2024-09-11T18:41:00.477206Z",
     "iopub.status.busy": "2024-09-11T18:41:00.476979Z",
     "iopub.status.idle": "2024-09-11T18:41:00.482696Z",
     "shell.execute_reply": "2024-09-11T18:41:00.479463Z"
    }
   },
   "outputs": [],
   "source": [
    "retrievers = {\n",
    "    \"HARRISON\": retriever_harrison,\n",
    "    \"ANKUSH\": retriever_ankush,\n",
    "}"
   ]
  },
  {
   "cell_type": "code",
   "execution_count": 10,
   "id": "8dac7866",
   "metadata": {
    "execution": {
     "iopub.execute_input": "2024-09-11T18:41:00.486387Z",
     "iopub.status.busy": "2024-09-11T18:41:00.485980Z",
     "iopub.status.idle": "2024-09-11T18:41:00.489870Z",
     "shell.execute_reply": "2024-09-11T18:41:00.489101Z"
    }
   },
   "outputs": [],
   "source": [
    "@chain\n",
    "def custom_chain(question):\n",
    "    response = query_analyzer.invoke(question)\n",
    "    retriever = retrievers[response.person]\n",
    "    return retriever.invoke(response.query)"
   ]
  },
  {
   "cell_type": "code",
   "execution_count": 11,
   "id": "232ad8a7-7990-4066-9228-d35a555f7293",
   "metadata": {
    "execution": {
     "iopub.execute_input": "2024-09-11T18:41:00.492628Z",
     "iopub.status.busy": "2024-09-11T18:41:00.492421Z",
     "iopub.status.idle": "2024-09-11T18:41:01.424528Z",
     "shell.execute_reply": "2024-09-11T18:41:01.423417Z"
    }
   },
   "outputs": [
    {
     "data": {
      "text/plain": [
       "[Document(page_content='Harrison worked at Kensho')]"
      ]
     },
     "execution_count": 11,
     "metadata": {},
     "output_type": "execute_result"
    }
   ],
   "source": [
    "custom_chain.invoke(\"where did Harrison Work\")"
   ]
  },
  {
   "cell_type": "code",
   "execution_count": 12,
   "id": "28e14ba5",
   "metadata": {
    "execution": {
     "iopub.execute_input": "2024-09-11T18:41:01.429709Z",
     "iopub.status.busy": "2024-09-11T18:41:01.429233Z",
     "iopub.status.idle": "2024-09-11T18:41:02.203595Z",
     "shell.execute_reply": "2024-09-11T18:41:02.203107Z"
    }
   },
   "outputs": [
    {
     "data": {
      "text/plain": [
       "[Document(page_content='Ankush worked at Facebook')]"
      ]
     },
     "execution_count": 12,
     "metadata": {},
     "output_type": "execute_result"
    }
   ],
   "source": [
    "custom_chain.invoke(\"where did ankush Work\")"
   ]
  },
  {
   "cell_type": "code",
   "execution_count": null,
   "id": "33338d4f",
   "metadata": {},
   "outputs": [],
   "source": []
  }
 ],
 "metadata": {
  "kernelspec": {
   "display_name": "Python 3 (ipykernel)",
   "language": "python",
   "name": "python3"
  },
  "language_info": {
   "codemirror_mode": {
    "name": "ipython",
    "version": 3
   },
   "file_extension": ".py",
   "mimetype": "text/x-python",
   "name": "python",
   "nbconvert_exporter": "python",
   "pygments_lexer": "ipython3",
   "version": "3.11.9"
  }
 },
 "nbformat": 4,
 "nbformat_minor": 5
}
