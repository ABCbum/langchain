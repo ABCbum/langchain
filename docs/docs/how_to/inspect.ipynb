{
 "cells": [
  {
   "cell_type": "markdown",
   "id": "8c5eb99a",
   "metadata": {},
   "source": [
    "# How to inspect runnables\n",
    "\n",
    ":::info Prerequisites\n",
    "\n",
    "This guide assumes familiarity with the following concepts:\n",
    "- [LangChain Expression Language (LCEL)](/docs/concepts/#langchain-expression-language)\n",
    "- [Chaining runnables](/docs/how_to/sequence/)\n",
    "\n",
    ":::\n",
    "\n",
    "Once you create a runnable with [LangChain Expression Language](/docs/concepts/#langchain-expression-language), you may often want to inspect it to get a better sense for what is going on. This notebook covers some methods for doing so.\n",
    "\n",
    "This guide shows some ways you can programmatically introspect the internal steps of chains. If you are instead interested in debugging issues in your chain, see [this section](/docs/how_to/debugging) instead.\n",
    "\n",
    "First, let's create an example chain. We will create one that does retrieval:"
   ]
  },
  {
   "cell_type": "code",
   "execution_count": 1,
   "id": "d816e954",
   "metadata": {
    "execution": {
     "iopub.execute_input": "2024-09-11T18:20:29.625276Z",
     "iopub.status.busy": "2024-09-11T18:20:29.625025Z",
     "iopub.status.idle": "2024-09-11T18:20:31.083970Z",
     "shell.execute_reply": "2024-09-11T18:20:31.083401Z"
    }
   },
   "outputs": [
    {
     "name": "stdout",
     "output_type": "stream",
     "text": [
      "Note: you may need to restart the kernel to use updated packages.\n"
     ]
    }
   ],
   "source": [
    "%pip install -qU langchain langchain-openai faiss-cpu tiktoken"
   ]
  },
  {
   "cell_type": "code",
   "execution_count": 2,
   "id": "139228c2",
   "metadata": {
    "execution": {
     "iopub.execute_input": "2024-09-11T18:20:31.086574Z",
     "iopub.status.busy": "2024-09-11T18:20:31.086389Z",
     "iopub.status.idle": "2024-09-11T18:20:32.248495Z",
     "shell.execute_reply": "2024-09-11T18:20:32.248041Z"
    }
   },
   "outputs": [],
   "source": [
    "from langchain_community.vectorstores import FAISS\n",
    "from langchain_core.output_parsers import StrOutputParser\n",
    "from langchain_core.prompts import ChatPromptTemplate\n",
    "from langchain_core.runnables import RunnablePassthrough\n",
    "from langchain_openai import ChatOpenAI, OpenAIEmbeddings\n",
    "\n",
    "vectorstore = FAISS.from_texts(\n",
    "    [\"harrison worked at kensho\"], embedding=OpenAIEmbeddings()\n",
    ")\n",
    "retriever = vectorstore.as_retriever()\n",
    "\n",
    "template = \"\"\"Answer the question based only on the following context:\n",
    "{context}\n",
    "\n",
    "Question: {question}\n",
    "\"\"\"\n",
    "prompt = ChatPromptTemplate.from_template(template)\n",
    "\n",
    "model = ChatOpenAI()\n",
    "\n",
    "chain = (\n",
    "    {\"context\": retriever, \"question\": RunnablePassthrough()}\n",
    "    | prompt\n",
    "    | model\n",
    "    | StrOutputParser()\n",
    ")"
   ]
  },
  {
   "cell_type": "markdown",
   "id": "849e3c42",
   "metadata": {},
   "source": [
    "## Get a graph\n",
    "\n",
    "You can use the `get_graph()` method to get a graph representation of the runnable:"
   ]
  },
  {
   "cell_type": "code",
   "execution_count": 3,
   "id": "2448b6c2",
   "metadata": {
    "execution": {
     "iopub.execute_input": "2024-09-11T18:20:32.250996Z",
     "iopub.status.busy": "2024-09-11T18:20:32.250849Z",
     "iopub.status.idle": "2024-09-11T18:20:32.271271Z",
     "shell.execute_reply": "2024-09-11T18:20:32.271013Z"
    }
   },
   "outputs": [
    {
     "data": {
      "text/plain": [
       "Graph(nodes={'784a4e6f9fb248b69b37ec45bc9af211': Node(id='784a4e6f9fb248b69b37ec45bc9af211', name='Parallel<context,question>Input', data=<class 'langchain_core.runnables.utils.RunnableParallel<context,question>Input'>, metadata=None), '249731e0668e4ac09c6bad0260793977': Node(id='249731e0668e4ac09c6bad0260793977', name='Parallel<context,question>Output', data=<class 'langchain_core.runnables.utils.RunnableParallel<context,question>Output'>, metadata=None), 'b54a8b269fec40d08dd72326b33e66ce': Node(id='b54a8b269fec40d08dd72326b33e66ce', name='VectorStoreRetriever', data=VectorStoreRetriever(tags=['FAISS', 'OpenAIEmbeddings'], vectorstore=<langchain_community.vectorstores.faiss.FAISS object at 0x117cbb510>, search_kwargs={}), metadata=None), '9c73396539154880930d166d52941aa9': Node(id='9c73396539154880930d166d52941aa9', name='Passthrough', data=RunnablePassthrough(), metadata=None), '2edf6faa3b374ac8973c14d776f0ca0d': Node(id='2edf6faa3b374ac8973c14d776f0ca0d', name='ChatPromptTemplate', data=ChatPromptTemplate(input_variables=['context', 'question'], input_types={}, partial_variables={}, messages=[HumanMessagePromptTemplate(prompt=PromptTemplate(input_variables=['context', 'question'], input_types={}, partial_variables={}, template='Answer the question based only on the following context:\\n{context}\\n\\nQuestion: {question}\\n'), additional_kwargs={})]), metadata=None), 'b617f6c742f9490f81143cb3eb5caf51': Node(id='b617f6c742f9490f81143cb3eb5caf51', name='ChatOpenAI', data=ChatOpenAI(client=<openai.resources.chat.completions.Completions object at 0x114392190>, async_client=<openai.resources.chat.completions.AsyncCompletions object at 0x1145868d0>, root_client=<openai.OpenAI object at 0x1141eae90>, root_async_client=<openai.AsyncOpenAI object at 0x1143926d0>, model_kwargs={}, openai_api_key=SecretStr('**********')), metadata=None), 'fd9696141d884d529f07d94e80deb968': Node(id='fd9696141d884d529f07d94e80deb968', name='StrOutputParser', data=StrOutputParser(), metadata=None), 'cd9b75579e444dceaf17712220bc78e9': Node(id='cd9b75579e444dceaf17712220bc78e9', name='StrOutputParserOutput', data=<class 'langchain_core.runnables.utils.StrOutputParserOutput'>, metadata=None)}, edges=[Edge(source='784a4e6f9fb248b69b37ec45bc9af211', target='b54a8b269fec40d08dd72326b33e66ce', data=None, conditional=False), Edge(source='b54a8b269fec40d08dd72326b33e66ce', target='249731e0668e4ac09c6bad0260793977', data=None, conditional=False), Edge(source='784a4e6f9fb248b69b37ec45bc9af211', target='9c73396539154880930d166d52941aa9', data=None, conditional=False), Edge(source='9c73396539154880930d166d52941aa9', target='249731e0668e4ac09c6bad0260793977', data=None, conditional=False), Edge(source='249731e0668e4ac09c6bad0260793977', target='2edf6faa3b374ac8973c14d776f0ca0d', data=None, conditional=False), Edge(source='2edf6faa3b374ac8973c14d776f0ca0d', target='b617f6c742f9490f81143cb3eb5caf51', data=None, conditional=False), Edge(source='fd9696141d884d529f07d94e80deb968', target='cd9b75579e444dceaf17712220bc78e9', data=None, conditional=False), Edge(source='b617f6c742f9490f81143cb3eb5caf51', target='fd9696141d884d529f07d94e80deb968', data=None, conditional=False)])"
      ]
     },
     "execution_count": 3,
     "metadata": {},
     "output_type": "execute_result"
    }
   ],
   "source": [
    "chain.get_graph()"
   ]
  },
  {
   "cell_type": "markdown",
   "id": "065b02fb",
   "metadata": {},
   "source": [
    "## Print a graph\n",
    "\n",
    "While that is not super legible, you can use the `print_ascii()` method to show that graph in a way that's easier to understand:"
   ]
  },
  {
   "cell_type": "code",
   "execution_count": 4,
   "id": "d5ab1515",
   "metadata": {
    "execution": {
     "iopub.execute_input": "2024-09-11T18:20:32.272822Z",
     "iopub.status.busy": "2024-09-11T18:20:32.272738Z",
     "iopub.status.idle": "2024-09-11T18:20:32.475451Z",
     "shell.execute_reply": "2024-09-11T18:20:32.475167Z"
    }
   },
   "outputs": [
    {
     "ename": "ImportError",
     "evalue": "Install grandalf to draw graphs: `pip install grandalf`.",
     "output_type": "error",
     "traceback": [
      "\u001b[0;31m---------------------------------------------------------------------------\u001b[0m",
      "\u001b[0;31mModuleNotFoundError\u001b[0m                       Traceback (most recent call last)",
      "File \u001b[0;32m~/langchain/.venv/lib/python3.11/site-packages/langchain_core/runnables/graph_ascii.py:165\u001b[0m, in \u001b[0;36m_build_sugiyama_layout\u001b[0;34m(vertices, edges)\u001b[0m\n\u001b[1;32m    164\u001b[0m \u001b[38;5;28;01mtry\u001b[39;00m:\n\u001b[0;32m--> 165\u001b[0m     \u001b[38;5;28;01mfrom\u001b[39;00m \u001b[38;5;21;01mgrandalf\u001b[39;00m\u001b[38;5;21;01m.\u001b[39;00m\u001b[38;5;21;01mgraphs\u001b[39;00m \u001b[38;5;28;01mimport\u001b[39;00m Edge, Graph, Vertex  \u001b[38;5;66;03m# type: ignore[import]\u001b[39;00m\n\u001b[1;32m    166\u001b[0m     \u001b[38;5;28;01mfrom\u001b[39;00m \u001b[38;5;21;01mgrandalf\u001b[39;00m\u001b[38;5;21;01m.\u001b[39;00m\u001b[38;5;21;01mlayouts\u001b[39;00m \u001b[38;5;28;01mimport\u001b[39;00m SugiyamaLayout  \u001b[38;5;66;03m# type: ignore[import]\u001b[39;00m\n",
      "\u001b[0;31mModuleNotFoundError\u001b[0m: No module named 'grandalf'",
      "\nThe above exception was the direct cause of the following exception:\n",
      "\u001b[0;31mImportError\u001b[0m                               Traceback (most recent call last)",
      "Cell \u001b[0;32mIn[4], line 1\u001b[0m\n\u001b[0;32m----> 1\u001b[0m \u001b[43mchain\u001b[49m\u001b[38;5;241;43m.\u001b[39;49m\u001b[43mget_graph\u001b[49m\u001b[43m(\u001b[49m\u001b[43m)\u001b[49m\u001b[38;5;241;43m.\u001b[39;49m\u001b[43mprint_ascii\u001b[49m\u001b[43m(\u001b[49m\u001b[43m)\u001b[49m\n",
      "File \u001b[0;32m~/langchain/.venv/lib/python3.11/site-packages/langchain_core/runnables/graph.py:488\u001b[0m, in \u001b[0;36mGraph.print_ascii\u001b[0;34m(self)\u001b[0m\n\u001b[1;32m    486\u001b[0m \u001b[38;5;28;01mdef\u001b[39;00m \u001b[38;5;21mprint_ascii\u001b[39m(\u001b[38;5;28mself\u001b[39m) \u001b[38;5;241m-\u001b[39m\u001b[38;5;241m>\u001b[39m \u001b[38;5;28;01mNone\u001b[39;00m:\n\u001b[1;32m    487\u001b[0m \u001b[38;5;250m    \u001b[39m\u001b[38;5;124;03m\"\"\"Print the graph as an ASCII art string.\"\"\"\u001b[39;00m\n\u001b[0;32m--> 488\u001b[0m     \u001b[38;5;28mprint\u001b[39m(\u001b[38;5;28;43mself\u001b[39;49m\u001b[38;5;241;43m.\u001b[39;49m\u001b[43mdraw_ascii\u001b[49m\u001b[43m(\u001b[49m\u001b[43m)\u001b[49m)\n",
      "File \u001b[0;32m~/langchain/.venv/lib/python3.11/site-packages/langchain_core/runnables/graph.py:481\u001b[0m, in \u001b[0;36mGraph.draw_ascii\u001b[0;34m(self)\u001b[0m\n\u001b[1;32m    478\u001b[0m \u001b[38;5;250m\u001b[39m\u001b[38;5;124;03m\"\"\"Draw the graph as an ASCII art string.\"\"\"\u001b[39;00m\n\u001b[1;32m    479\u001b[0m \u001b[38;5;28;01mfrom\u001b[39;00m \u001b[38;5;21;01mlangchain_core\u001b[39;00m\u001b[38;5;21;01m.\u001b[39;00m\u001b[38;5;21;01mrunnables\u001b[39;00m\u001b[38;5;21;01m.\u001b[39;00m\u001b[38;5;21;01mgraph_ascii\u001b[39;00m \u001b[38;5;28;01mimport\u001b[39;00m draw_ascii\n\u001b[0;32m--> 481\u001b[0m \u001b[38;5;28;01mreturn\u001b[39;00m \u001b[43mdraw_ascii\u001b[49m\u001b[43m(\u001b[49m\n\u001b[1;32m    482\u001b[0m \u001b[43m    \u001b[49m\u001b[43m{\u001b[49m\u001b[43mnode\u001b[49m\u001b[38;5;241;43m.\u001b[39;49m\u001b[43mid\u001b[49m\u001b[43m:\u001b[49m\u001b[43m \u001b[49m\u001b[43mnode\u001b[49m\u001b[38;5;241;43m.\u001b[39;49m\u001b[43mname\u001b[49m\u001b[43m \u001b[49m\u001b[38;5;28;43;01mfor\u001b[39;49;00m\u001b[43m \u001b[49m\u001b[43mnode\u001b[49m\u001b[43m \u001b[49m\u001b[38;5;129;43;01min\u001b[39;49;00m\u001b[43m \u001b[49m\u001b[38;5;28;43mself\u001b[39;49m\u001b[38;5;241;43m.\u001b[39;49m\u001b[43mnodes\u001b[49m\u001b[38;5;241;43m.\u001b[39;49m\u001b[43mvalues\u001b[49m\u001b[43m(\u001b[49m\u001b[43m)\u001b[49m\u001b[43m}\u001b[49m\u001b[43m,\u001b[49m\n\u001b[1;32m    483\u001b[0m \u001b[43m    \u001b[49m\u001b[38;5;28;43mself\u001b[39;49m\u001b[38;5;241;43m.\u001b[39;49m\u001b[43medges\u001b[49m\u001b[43m,\u001b[49m\n\u001b[1;32m    484\u001b[0m \u001b[43m\u001b[49m\u001b[43m)\u001b[49m\n",
      "File \u001b[0;32m~/langchain/.venv/lib/python3.11/site-packages/langchain_core/runnables/graph_ascii.py:251\u001b[0m, in \u001b[0;36mdraw_ascii\u001b[0;34m(vertices, edges)\u001b[0m\n\u001b[1;32m    248\u001b[0m Xs \u001b[38;5;241m=\u001b[39m []\n\u001b[1;32m    249\u001b[0m Ys \u001b[38;5;241m=\u001b[39m []\n\u001b[0;32m--> 251\u001b[0m sug \u001b[38;5;241m=\u001b[39m \u001b[43m_build_sugiyama_layout\u001b[49m\u001b[43m(\u001b[49m\u001b[43mvertices\u001b[49m\u001b[43m,\u001b[49m\u001b[43m \u001b[49m\u001b[43medges\u001b[49m\u001b[43m)\u001b[49m\n\u001b[1;32m    253\u001b[0m \u001b[38;5;28;01mfor\u001b[39;00m vertex \u001b[38;5;129;01min\u001b[39;00m sug\u001b[38;5;241m.\u001b[39mg\u001b[38;5;241m.\u001b[39msV:\n\u001b[1;32m    254\u001b[0m     \u001b[38;5;66;03m# NOTE: moving boxes w/2 to the left\u001b[39;00m\n\u001b[1;32m    255\u001b[0m     Xs\u001b[38;5;241m.\u001b[39mappend(vertex\u001b[38;5;241m.\u001b[39mview\u001b[38;5;241m.\u001b[39mxy[\u001b[38;5;241m0\u001b[39m] \u001b[38;5;241m-\u001b[39m vertex\u001b[38;5;241m.\u001b[39mview\u001b[38;5;241m.\u001b[39mw \u001b[38;5;241m/\u001b[39m \u001b[38;5;241m2.0\u001b[39m)\n",
      "File \u001b[0;32m~/langchain/.venv/lib/python3.11/site-packages/langchain_core/runnables/graph_ascii.py:172\u001b[0m, in \u001b[0;36m_build_sugiyama_layout\u001b[0;34m(vertices, edges)\u001b[0m\n\u001b[1;32m    167\u001b[0m     \u001b[38;5;28;01mfrom\u001b[39;00m \u001b[38;5;21;01mgrandalf\u001b[39;00m\u001b[38;5;21;01m.\u001b[39;00m\u001b[38;5;21;01mrouting\u001b[39;00m \u001b[38;5;28;01mimport\u001b[39;00m (  \u001b[38;5;66;03m# type: ignore[import]\u001b[39;00m\n\u001b[1;32m    168\u001b[0m         EdgeViewer,\n\u001b[1;32m    169\u001b[0m         route_with_lines,\n\u001b[1;32m    170\u001b[0m     )\n\u001b[1;32m    171\u001b[0m \u001b[38;5;28;01mexcept\u001b[39;00m \u001b[38;5;167;01mImportError\u001b[39;00m \u001b[38;5;28;01mas\u001b[39;00m exc:\n\u001b[0;32m--> 172\u001b[0m     \u001b[38;5;28;01mraise\u001b[39;00m \u001b[38;5;167;01mImportError\u001b[39;00m(\n\u001b[1;32m    173\u001b[0m         \u001b[38;5;124m\"\u001b[39m\u001b[38;5;124mInstall grandalf to draw graphs: `pip install grandalf`.\u001b[39m\u001b[38;5;124m\"\u001b[39m\n\u001b[1;32m    174\u001b[0m     ) \u001b[38;5;28;01mfrom\u001b[39;00m \u001b[38;5;21;01mexc\u001b[39;00m\n\u001b[1;32m    176\u001b[0m \u001b[38;5;66;03m#\u001b[39;00m\n\u001b[1;32m    177\u001b[0m \u001b[38;5;66;03m# Just a reminder about naming conventions:\u001b[39;00m\n\u001b[1;32m    178\u001b[0m \u001b[38;5;66;03m# +------------X\u001b[39;00m\n\u001b[0;32m   (...)\u001b[0m\n\u001b[1;32m    183\u001b[0m \u001b[38;5;66;03m# Y\u001b[39;00m\n\u001b[1;32m    184\u001b[0m \u001b[38;5;66;03m#\u001b[39;00m\n\u001b[1;32m    186\u001b[0m vertices_ \u001b[38;5;241m=\u001b[39m {\u001b[38;5;28mid\u001b[39m: Vertex(\u001b[38;5;124mf\u001b[39m\u001b[38;5;124m\"\u001b[39m\u001b[38;5;124m \u001b[39m\u001b[38;5;132;01m{\u001b[39;00mdata\u001b[38;5;132;01m}\u001b[39;00m\u001b[38;5;124m \u001b[39m\u001b[38;5;124m\"\u001b[39m) \u001b[38;5;28;01mfor\u001b[39;00m \u001b[38;5;28mid\u001b[39m, data \u001b[38;5;129;01min\u001b[39;00m vertices\u001b[38;5;241m.\u001b[39mitems()}\n",
      "\u001b[0;31mImportError\u001b[0m: Install grandalf to draw graphs: `pip install grandalf`."
     ]
    }
   ],
   "source": [
    "chain.get_graph().print_ascii()"
   ]
  },
  {
   "cell_type": "markdown",
   "id": "2babf851",
   "metadata": {},
   "source": [
    "## Get the prompts\n",
    "\n",
    "You may want to see just the prompts that are used in a chain with the `get_prompts()` method:"
   ]
  },
  {
   "cell_type": "code",
   "execution_count": 5,
   "id": "34b2118d",
   "metadata": {
    "execution": {
     "iopub.execute_input": "2024-09-11T18:20:32.476936Z",
     "iopub.status.busy": "2024-09-11T18:20:32.476842Z",
     "iopub.status.idle": "2024-09-11T18:20:32.479560Z",
     "shell.execute_reply": "2024-09-11T18:20:32.479324Z"
    }
   },
   "outputs": [
    {
     "data": {
      "text/plain": [
       "[ChatPromptTemplate(input_variables=['context', 'question'], input_types={}, partial_variables={}, messages=[HumanMessagePromptTemplate(prompt=PromptTemplate(input_variables=['context', 'question'], input_types={}, partial_variables={}, template='Answer the question based only on the following context:\\n{context}\\n\\nQuestion: {question}\\n'), additional_kwargs={})])]"
      ]
     },
     "execution_count": 5,
     "metadata": {},
     "output_type": "execute_result"
    }
   ],
   "source": [
    "chain.get_prompts()"
   ]
  },
  {
   "cell_type": "markdown",
   "id": "c5a74bd5",
   "metadata": {},
   "source": [
    "## Next steps\n",
    "\n",
    "You've now learned how to introspect your composed LCEL chains.\n",
    "\n",
    "Next, check out the other how-to guides on runnables in this section, or the related how-to guide on [debugging your chains](/docs/how_to/debugging)."
   ]
  },
  {
   "cell_type": "code",
   "execution_count": null,
   "id": "ed965769",
   "metadata": {},
   "outputs": [],
   "source": []
  }
 ],
 "metadata": {
  "kernelspec": {
   "display_name": "Python 3 (ipykernel)",
   "language": "python",
   "name": "python3"
  },
  "language_info": {
   "codemirror_mode": {
    "name": "ipython",
    "version": 3
   },
   "file_extension": ".py",
   "mimetype": "text/x-python",
   "name": "python",
   "nbconvert_exporter": "python",
   "pygments_lexer": "ipython3",
   "version": "3.11.9"
  }
 },
 "nbformat": 4,
 "nbformat_minor": 5
}
