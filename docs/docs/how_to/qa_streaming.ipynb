{
 "cells": [
  {
   "cell_type": "markdown",
   "id": "4ef893cf-eac1-45e6-9eb6-72e9ca043200",
   "metadata": {},
   "source": [
    "# How to stream results from your RAG application\n",
    "\n",
    "This guide explains how to stream results from a RAG application. It covers streaming tokens from the final output as well as intermediate steps of a chain (e.g., from query re-writing).\n",
    "\n",
    "We'll work off of the Q&A app with sources we built over the [LLM Powered Autonomous Agents](https://lilianweng.github.io/posts/2023-06-23-agent/) blog post by Lilian Weng in the [RAG tutorial](/docs/tutorials/rag)."
   ]
  },
  {
   "cell_type": "markdown",
   "id": "487d8d79-5ee9-4aa4-9fdf-cd5f4303e099",
   "metadata": {},
   "source": [
    "## Setup\n",
    "\n",
    "### Dependencies\n",
    "\n",
    "We'll use OpenAI embeddings and a Chroma vector store in this walkthrough, but everything shown here works with any [Embeddings](/docs/concepts#embedding-models), [VectorStore](/docs/concepts#vectorstores) or [Retriever](/docs/concepts#retrievers). \n",
    "\n",
    "We'll use the following packages:"
   ]
  },
  {
   "cell_type": "code",
   "execution_count": 1,
   "id": "28d272cd-4e31-40aa-bbb4-0be0a1f49a14",
   "metadata": {
    "execution": {
     "iopub.execute_input": "2024-09-11T18:36:11.053585Z",
     "iopub.status.busy": "2024-09-11T18:36:11.052716Z",
     "iopub.status.idle": "2024-09-11T18:36:15.330449Z",
     "shell.execute_reply": "2024-09-11T18:36:15.330045Z"
    }
   },
   "outputs": [
    {
     "name": "stdout",
     "output_type": "stream",
     "text": [
      "Note: you may need to restart the kernel to use updated packages.\n"
     ]
    }
   ],
   "source": [
    "%pip install --upgrade --quiet  langchain langchain-community langchainhub langchain-openai langchain-chroma beautifulsoup4"
   ]
  },
  {
   "cell_type": "markdown",
   "id": "51ef48de-70b6-4f43-8e0b-ab9b84c9c02a",
   "metadata": {},
   "source": [
    "We need to set environment variable `OPENAI_API_KEY`, which can be done directly or loaded from a `.env` file like so:"
   ]
  },
  {
   "cell_type": "code",
   "execution_count": 2,
   "id": "143787ca-d8e6-4dc9-8281-4374f4d71720",
   "metadata": {
    "execution": {
     "iopub.execute_input": "2024-09-11T18:36:15.332719Z",
     "iopub.status.busy": "2024-09-11T18:36:15.332578Z",
     "iopub.status.idle": "2024-09-11T18:36:15.445798Z",
     "shell.execute_reply": "2024-09-11T18:36:15.445538Z"
    }
   },
   "outputs": [
    {
     "ename": "StdinNotImplementedError",
     "evalue": "getpass was called, but this frontend does not support input requests.",
     "output_type": "error",
     "traceback": [
      "\u001b[0;31m---------------------------------------------------------------------------\u001b[0m",
      "\u001b[0;31mStdinNotImplementedError\u001b[0m                  Traceback (most recent call last)",
      "Cell \u001b[0;32mIn[2], line 4\u001b[0m\n\u001b[1;32m      1\u001b[0m \u001b[38;5;28;01mimport\u001b[39;00m \u001b[38;5;21;01mgetpass\u001b[39;00m\n\u001b[1;32m      2\u001b[0m \u001b[38;5;28;01mimport\u001b[39;00m \u001b[38;5;21;01mos\u001b[39;00m\n\u001b[0;32m----> 4\u001b[0m os\u001b[38;5;241m.\u001b[39menviron[\u001b[38;5;124m\"\u001b[39m\u001b[38;5;124mOPENAI_API_KEY\u001b[39m\u001b[38;5;124m\"\u001b[39m] \u001b[38;5;241m=\u001b[39m \u001b[43mgetpass\u001b[49m\u001b[38;5;241;43m.\u001b[39;49m\u001b[43mgetpass\u001b[49m\u001b[43m(\u001b[49m\u001b[43m)\u001b[49m\n\u001b[1;32m      6\u001b[0m \u001b[38;5;66;03m# import dotenv\u001b[39;00m\n\u001b[1;32m      7\u001b[0m \n\u001b[1;32m      8\u001b[0m \u001b[38;5;66;03m# dotenv.load_dotenv()\u001b[39;00m\n",
      "File \u001b[0;32m~/langchain/.venv/lib/python3.11/site-packages/ipykernel/kernelbase.py:1256\u001b[0m, in \u001b[0;36mKernel.getpass\u001b[0;34m(self, prompt, stream)\u001b[0m\n\u001b[1;32m   1254\u001b[0m \u001b[38;5;28;01mif\u001b[39;00m \u001b[38;5;129;01mnot\u001b[39;00m \u001b[38;5;28mself\u001b[39m\u001b[38;5;241m.\u001b[39m_allow_stdin:\n\u001b[1;32m   1255\u001b[0m     msg \u001b[38;5;241m=\u001b[39m \u001b[38;5;124m\"\u001b[39m\u001b[38;5;124mgetpass was called, but this frontend does not support input requests.\u001b[39m\u001b[38;5;124m\"\u001b[39m\n\u001b[0;32m-> 1256\u001b[0m     \u001b[38;5;28;01mraise\u001b[39;00m StdinNotImplementedError(msg)\n\u001b[1;32m   1257\u001b[0m \u001b[38;5;28;01mif\u001b[39;00m stream \u001b[38;5;129;01mis\u001b[39;00m \u001b[38;5;129;01mnot\u001b[39;00m \u001b[38;5;28;01mNone\u001b[39;00m:\n\u001b[1;32m   1258\u001b[0m     \u001b[38;5;28;01mimport\u001b[39;00m \u001b[38;5;21;01mwarnings\u001b[39;00m\n",
      "\u001b[0;31mStdinNotImplementedError\u001b[0m: getpass was called, but this frontend does not support input requests."
     ]
    }
   ],
   "source": [
    "import getpass\n",
    "import os\n",
    "\n",
    "os.environ[\"OPENAI_API_KEY\"] = getpass.getpass()\n",
    "\n",
    "# import dotenv\n",
    "\n",
    "# dotenv.load_dotenv()"
   ]
  },
  {
   "cell_type": "markdown",
   "id": "1665e740-ce01-4f09-b9ed-516db0bd326f",
   "metadata": {},
   "source": [
    "### LangSmith\n",
    "\n",
    "Many of the applications you build with LangChain will contain multiple steps with multiple invocations of LLM calls. As these applications get more and more complex, it becomes crucial to be able to inspect what exactly is going on inside your chain or agent. The best way to do this is with [LangSmith](https://smith.langchain.com).\n",
    "\n",
    "Note that LangSmith is not needed, but it is helpful. If you do want to use LangSmith, after you sign up at the link above, make sure to set your environment variables to start logging traces:"
   ]
  },
  {
   "cell_type": "code",
   "execution_count": 3,
   "id": "07411adb-3722-4f65-ab7f-8f6f57663d11",
   "metadata": {
    "execution": {
     "iopub.execute_input": "2024-09-11T18:36:15.447212Z",
     "iopub.status.busy": "2024-09-11T18:36:15.447136Z",
     "iopub.status.idle": "2024-09-11T18:36:15.455407Z",
     "shell.execute_reply": "2024-09-11T18:36:15.455179Z"
    }
   },
   "outputs": [
    {
     "ename": "StdinNotImplementedError",
     "evalue": "getpass was called, but this frontend does not support input requests.",
     "output_type": "error",
     "traceback": [
      "\u001b[0;31m---------------------------------------------------------------------------\u001b[0m",
      "\u001b[0;31mStdinNotImplementedError\u001b[0m                  Traceback (most recent call last)",
      "Cell \u001b[0;32mIn[3], line 2\u001b[0m\n\u001b[1;32m      1\u001b[0m os\u001b[38;5;241m.\u001b[39menviron[\u001b[38;5;124m\"\u001b[39m\u001b[38;5;124mLANGCHAIN_TRACING_V2\u001b[39m\u001b[38;5;124m\"\u001b[39m] \u001b[38;5;241m=\u001b[39m \u001b[38;5;124m\"\u001b[39m\u001b[38;5;124mtrue\u001b[39m\u001b[38;5;124m\"\u001b[39m\n\u001b[0;32m----> 2\u001b[0m os\u001b[38;5;241m.\u001b[39menviron[\u001b[38;5;124m\"\u001b[39m\u001b[38;5;124mLANGCHAIN_API_KEY\u001b[39m\u001b[38;5;124m\"\u001b[39m] \u001b[38;5;241m=\u001b[39m \u001b[43mgetpass\u001b[49m\u001b[38;5;241;43m.\u001b[39;49m\u001b[43mgetpass\u001b[49m\u001b[43m(\u001b[49m\u001b[43m)\u001b[49m\n",
      "File \u001b[0;32m~/langchain/.venv/lib/python3.11/site-packages/ipykernel/kernelbase.py:1256\u001b[0m, in \u001b[0;36mKernel.getpass\u001b[0;34m(self, prompt, stream)\u001b[0m\n\u001b[1;32m   1254\u001b[0m \u001b[38;5;28;01mif\u001b[39;00m \u001b[38;5;129;01mnot\u001b[39;00m \u001b[38;5;28mself\u001b[39m\u001b[38;5;241m.\u001b[39m_allow_stdin:\n\u001b[1;32m   1255\u001b[0m     msg \u001b[38;5;241m=\u001b[39m \u001b[38;5;124m\"\u001b[39m\u001b[38;5;124mgetpass was called, but this frontend does not support input requests.\u001b[39m\u001b[38;5;124m\"\u001b[39m\n\u001b[0;32m-> 1256\u001b[0m     \u001b[38;5;28;01mraise\u001b[39;00m StdinNotImplementedError(msg)\n\u001b[1;32m   1257\u001b[0m \u001b[38;5;28;01mif\u001b[39;00m stream \u001b[38;5;129;01mis\u001b[39;00m \u001b[38;5;129;01mnot\u001b[39;00m \u001b[38;5;28;01mNone\u001b[39;00m:\n\u001b[1;32m   1258\u001b[0m     \u001b[38;5;28;01mimport\u001b[39;00m \u001b[38;5;21;01mwarnings\u001b[39;00m\n",
      "\u001b[0;31mStdinNotImplementedError\u001b[0m: getpass was called, but this frontend does not support input requests."
     ]
    }
   ],
   "source": [
    "os.environ[\"LANGCHAIN_TRACING_V2\"] = \"true\"\n",
    "os.environ[\"LANGCHAIN_API_KEY\"] = getpass.getpass()"
   ]
  },
  {
   "cell_type": "markdown",
   "id": "e2a72ca8-f8c8-4c0e-929a-223946c63f12",
   "metadata": {},
   "source": [
    "## RAG chain\n",
    "\n",
    "Let's first select a LLM:\n",
    "\n",
    "```{=mdx}\n",
    "import ChatModelTabs from \"@theme/ChatModelTabs\";\n",
    "\n",
    "<ChatModelTabs customVarName=\"llm\" />\n",
    "```"
   ]
  },
  {
   "cell_type": "code",
   "execution_count": 4,
   "id": "accc4c35-e17c-4bf0-8a11-cd9e53436a3d",
   "metadata": {
    "execution": {
     "iopub.execute_input": "2024-09-11T18:36:15.456673Z",
     "iopub.status.busy": "2024-09-11T18:36:15.456602Z",
     "iopub.status.idle": "2024-09-11T18:36:15.893518Z",
     "shell.execute_reply": "2024-09-11T18:36:15.893248Z"
    }
   },
   "outputs": [],
   "source": [
    "# | output: false\n",
    "# | echo: false\n",
    "\n",
    "from langchain_openai import ChatOpenAI\n",
    "\n",
    "llm = ChatOpenAI()"
   ]
  },
  {
   "cell_type": "markdown",
   "id": "fa6ba684-26cf-4860-904e-a4d51380c134",
   "metadata": {},
   "source": [
    "Here is Q&A app with sources we built over the [LLM Powered Autonomous Agents](https://lilianweng.github.io/posts/2023-06-23-agent/) blog post by Lilian Weng in the [RAG tutorial](/docs/tutorials/rag):"
   ]
  },
  {
   "cell_type": "code",
   "execution_count": 5,
   "id": "820244ae-74b4-4593-b392-822979dd91b8",
   "metadata": {
    "execution": {
     "iopub.execute_input": "2024-09-11T18:36:15.895150Z",
     "iopub.status.busy": "2024-09-11T18:36:15.895058Z",
     "iopub.status.idle": "2024-09-11T18:36:20.698221Z",
     "shell.execute_reply": "2024-09-11T18:36:20.697774Z"
    }
   },
   "outputs": [
    {
     "name": "stderr",
     "output_type": "stream",
     "text": [
      "USER_AGENT environment variable not set, consider setting it to identify your requests.\n"
     ]
    }
   ],
   "source": [
    "import bs4\n",
    "from langchain.chains import create_retrieval_chain\n",
    "from langchain.chains.combine_documents import create_stuff_documents_chain\n",
    "from langchain_chroma import Chroma\n",
    "from langchain_community.document_loaders import WebBaseLoader\n",
    "from langchain_core.prompts import ChatPromptTemplate\n",
    "from langchain_openai import OpenAIEmbeddings\n",
    "from langchain_text_splitters import RecursiveCharacterTextSplitter\n",
    "\n",
    "# 1. Load, chunk and index the contents of the blog to create a retriever.\n",
    "loader = WebBaseLoader(\n",
    "    web_paths=(\"https://lilianweng.github.io/posts/2023-06-23-agent/\",),\n",
    "    bs_kwargs=dict(\n",
    "        parse_only=bs4.SoupStrainer(\n",
    "            class_=(\"post-content\", \"post-title\", \"post-header\")\n",
    "        )\n",
    "    ),\n",
    ")\n",
    "docs = loader.load()\n",
    "\n",
    "text_splitter = RecursiveCharacterTextSplitter(chunk_size=1000, chunk_overlap=200)\n",
    "splits = text_splitter.split_documents(docs)\n",
    "vectorstore = Chroma.from_documents(documents=splits, embedding=OpenAIEmbeddings())\n",
    "retriever = vectorstore.as_retriever()\n",
    "\n",
    "\n",
    "# 2. Incorporate the retriever into a question-answering chain.\n",
    "system_prompt = (\n",
    "    \"You are an assistant for question-answering tasks. \"\n",
    "    \"Use the following pieces of retrieved context to answer \"\n",
    "    \"the question. If you don't know the answer, say that you \"\n",
    "    \"don't know. Use three sentences maximum and keep the \"\n",
    "    \"answer concise.\"\n",
    "    \"\\n\\n\"\n",
    "    \"{context}\"\n",
    ")\n",
    "\n",
    "prompt = ChatPromptTemplate.from_messages(\n",
    "    [\n",
    "        (\"system\", system_prompt),\n",
    "        (\"human\", \"{input}\"),\n",
    "    ]\n",
    ")\n",
    "\n",
    "question_answer_chain = create_stuff_documents_chain(llm, prompt)\n",
    "rag_chain = create_retrieval_chain(retriever, question_answer_chain)"
   ]
  },
  {
   "cell_type": "markdown",
   "id": "1c2f99b5-80b4-4178-bf30-c1c0a152638f",
   "metadata": {},
   "source": [
    "## Streaming final outputs\n",
    "\n",
    "The chain constructed by `create_retrieval_chain` returns a dict with keys `\"input\"`, `\"context\"`, and `\"answer\"`. The `.stream` method will by default stream each key in a sequence.\n",
    "\n",
    "Note that here only the `\"answer\"` key is streamed token-by-token, as the other components-- such as retrieval-- do not support token-level streaming."
   ]
  },
  {
   "cell_type": "code",
   "execution_count": 6,
   "id": "ded41680-b749-4e2a-9daa-b1165d74783b",
   "metadata": {
    "execution": {
     "iopub.execute_input": "2024-09-11T18:36:20.699996Z",
     "iopub.status.busy": "2024-09-11T18:36:20.699892Z",
     "iopub.status.idle": "2024-09-11T18:36:22.804319Z",
     "shell.execute_reply": "2024-09-11T18:36:22.803535Z"
    }
   },
   "outputs": [
    {
     "name": "stdout",
     "output_type": "stream",
     "text": [
      "{'input': 'What is Task Decomposition?'}\n"
     ]
    },
    {
     "name": "stdout",
     "output_type": "stream",
     "text": [
      "{'context': [Document(metadata={'source': 'https://lilianweng.github.io/posts/2023-06-23-agent/'}, page_content='Fig. 1. Overview of a LLM-powered autonomous agent system.\\nComponent One: Planning#\\nA complicated task usually involves many steps. An agent needs to know what they are and plan ahead.\\nTask Decomposition#\\nChain of thought (CoT; Wei et al. 2022) has become a standard prompting technique for enhancing model performance on complex tasks. The model is instructed to “think step by step” to utilize more test-time computation to decompose hard tasks into smaller and simpler steps. CoT transforms big tasks into multiple manageable tasks and shed lights into an interpretation of the model’s thinking process.'), Document(metadata={'source': 'https://lilianweng.github.io/posts/2023-06-23-agent/'}, page_content='Tree of Thoughts (Yao et al. 2023) extends CoT by exploring multiple reasoning possibilities at each step. It first decomposes the problem into multiple thought steps and generates multiple thoughts per step, creating a tree structure. The search process can be BFS (breadth-first search) or DFS (depth-first search) with each state evaluated by a classifier (via a prompt) or majority vote.\\nTask decomposition can be done (1) by LLM with simple prompting like \"Steps for XYZ.\\\\n1.\", \"What are the subgoals for achieving XYZ?\", (2) by using task-specific instructions; e.g. \"Write a story outline.\" for writing a novel, or (3) with human inputs.'), Document(metadata={'source': 'https://lilianweng.github.io/posts/2023-06-23-agent/'}, page_content='Resources:\\n1. Internet access for searches and information gathering.\\n2. Long Term memory management.\\n3. GPT-3.5 powered Agents for delegation of simple tasks.\\n4. File output.\\n\\nPerformance Evaluation:\\n1. Continuously review and analyze your actions to ensure you are performing to the best of your abilities.\\n2. Constructively self-criticize your big-picture behavior constantly.\\n3. Reflect on past decisions and strategies to refine your approach.\\n4. Every command has a cost, so be smart and efficient. Aim to complete tasks in the least number of steps.'), Document(metadata={'source': 'https://lilianweng.github.io/posts/2023-06-23-agent/'}, page_content=\"(3) Task execution: Expert models execute on the specific tasks and log results.\\nInstruction:\\n\\nWith the input and the inference results, the AI assistant needs to describe the process and results. The previous stages can be formed as - User Input: {{ User Input }}, Task Planning: {{ Tasks }}, Model Selection: {{ Model Assignment }}, Task Execution: {{ Predictions }}. You must first answer the user's request in a straightforward manner. Then describe the task process and show your analysis and model inference results to the user in the first person. If inference results contain a file path, must tell the user the complete file path.\")]}\n"
     ]
    },
    {
     "name": "stdout",
     "output_type": "stream",
     "text": [
      "{'answer': ''}\n",
      "{'answer': 'Task'}\n",
      "{'answer': ' decomposition'}\n",
      "{'answer': ' involves'}\n",
      "{'answer': ' breaking'}\n",
      "{'answer': ' down'}\n",
      "{'answer': ' a'}\n",
      "{'answer': ' complex'}\n",
      "{'answer': ' task'}\n",
      "{'answer': ' into'}\n",
      "{'answer': ' smaller'}\n",
      "{'answer': ' and'}\n"
     ]
    },
    {
     "name": "stdout",
     "output_type": "stream",
     "text": [
      "{'answer': ' more'}\n",
      "{'answer': ' manageable'}\n",
      "{'answer': ' steps'}\n",
      "{'answer': '.'}\n",
      "{'answer': ' This'}\n",
      "{'answer': ' process'}\n",
      "{'answer': ' helps'}\n",
      "{'answer': ' agents'}\n",
      "{'answer': ' or'}\n",
      "{'answer': ' models'}\n"
     ]
    },
    {
     "name": "stdout",
     "output_type": "stream",
     "text": [
      "{'answer': ' tackle'}\n",
      "{'answer': ' difficult'}\n",
      "{'answer': ' tasks'}\n",
      "{'answer': ' by'}\n",
      "{'answer': ' dividing'}\n",
      "{'answer': ' them'}\n",
      "{'answer': ' into'}\n",
      "{'answer': ' simpler'}\n",
      "{'answer': ' sub'}\n",
      "{'answer': 'tasks'}\n",
      "{'answer': ','}\n",
      "{'answer': ' making'}\n"
     ]
    },
    {
     "name": "stdout",
     "output_type": "stream",
     "text": [
      "{'answer': ' it'}\n",
      "{'answer': ' easier'}\n",
      "{'answer': ' to'}\n",
      "{'answer': ' plan'}\n",
      "{'answer': ' and'}\n",
      "{'answer': ' execute'}\n",
      "{'answer': '.'}\n"
     ]
    },
    {
     "name": "stdout",
     "output_type": "stream",
     "text": [
      "{'answer': ' Task'}\n",
      "{'answer': ' decomposition'}\n",
      "{'answer': ' can'}\n",
      "{'answer': ' be'}\n",
      "{'answer': ' achieved'}\n",
      "{'answer': ' through'}\n",
      "{'answer': ' techniques'}\n",
      "{'answer': ' like'}\n",
      "{'answer': ' Chain'}\n",
      "{'answer': ' of'}\n",
      "{'answer': ' Thought'}\n",
      "{'answer': ' or'}\n",
      "{'answer': ' Tree'}\n",
      "{'answer': ' of'}\n",
      "{'answer': ' Thoughts'}\n",
      "{'answer': ','}\n",
      "{'answer': ' which'}\n",
      "{'answer': ' guide'}\n",
      "{'answer': ' the'}\n",
      "{'answer': ' model'}\n",
      "{'answer': ' in'}\n",
      "{'answer': ' breaking'}\n"
     ]
    },
    {
     "name": "stdout",
     "output_type": "stream",
     "text": [
      "{'answer': ' down'}\n",
      "{'answer': ' tasks'}\n",
      "{'answer': ' effectively'}\n",
      "{'answer': '.'}\n",
      "{'answer': ''}\n"
     ]
    }
   ],
   "source": [
    "for chunk in rag_chain.stream({\"input\": \"What is Task Decomposition?\"}):\n",
    "    print(chunk)"
   ]
  },
  {
   "cell_type": "markdown",
   "id": "72380afa-965d-4715-aac4-6049cce56313",
   "metadata": {},
   "source": [
    "We are free to process chunks as they are streamed out. If we just want to stream the answer tokens, for example, we can select chunks with the corresponding key:"
   ]
  },
  {
   "cell_type": "code",
   "execution_count": 7,
   "id": "738eb33e-6ccd-4b26-b563-beef216fb113",
   "metadata": {
    "execution": {
     "iopub.execute_input": "2024-09-11T18:36:22.808500Z",
     "iopub.status.busy": "2024-09-11T18:36:22.808181Z",
     "iopub.status.idle": "2024-09-11T18:36:24.620799Z",
     "shell.execute_reply": "2024-09-11T18:36:24.620158Z"
    }
   },
   "outputs": [
    {
     "name": "stdout",
     "output_type": "stream",
     "text": [
      "Task| decomposition| is| the| process| of|"
     ]
    },
    {
     "name": "stdout",
     "output_type": "stream",
     "text": [
      " breaking| down| complex| tasks| into| smaller| and| more| manageable| steps|.| Techniques| like| Chain| of| Thought|"
     ]
    },
    {
     "name": "stdout",
     "output_type": "stream",
     "text": [
      " (|Co|T|)| and| Tree| of| Thoughts| help| models| decom|pose| difficult| tasks| into| simpler| sub|tasks| by| guiding| them| to| think| step| by| step| or| explore| multiple| reasoning| possibilities| at| each| step|.|"
     ]
    },
    {
     "name": "stdout",
     "output_type": "stream",
     "text": [
      " Task| decomposition| can| be| achieved|"
     ]
    },
    {
     "name": "stdout",
     "output_type": "stream",
     "text": [
      " through| simple| prompting|,| task|-specific| instructions|,| or| with| human| inputs|.|"
     ]
    }
   ],
   "source": [
    "for chunk in rag_chain.stream({\"input\": \"What is Task Decomposition?\"}):\n",
    "    if answer_chunk := chunk.get(\"answer\"):\n",
    "        print(f\"{answer_chunk}|\", end=\"\")"
   ]
  },
  {
   "cell_type": "markdown",
   "id": "8b2d224d-2a82-418b-b562-01ea210b86ef",
   "metadata": {},
   "source": [
    "More simply, we can use the [.pick](https://python.langchain.com/v0.2/api_reference/core/runnables/langchain_core.runnables.base.Runnable.html#langchain_core.runnables.base.Runnable.pick) method to select only the desired key:"
   ]
  },
  {
   "cell_type": "code",
   "execution_count": 8,
   "id": "16c20971-a6fd-4b57-83cd-7b2b453f97c9",
   "metadata": {
    "execution": {
     "iopub.execute_input": "2024-09-11T18:36:24.623745Z",
     "iopub.status.busy": "2024-09-11T18:36:24.623535Z",
     "iopub.status.idle": "2024-09-11T18:36:26.324045Z",
     "shell.execute_reply": "2024-09-11T18:36:26.323268Z"
    }
   },
   "outputs": [
    {
     "name": "stdout",
     "output_type": "stream",
     "text": [
      "|Task| decomposition| involves| breaking| down| complex| tasks| into| smaller| and| simpler| steps| to| make| them| more| manageable| for| an|"
     ]
    },
    {
     "name": "stdout",
     "output_type": "stream",
     "text": [
      " agent| or| model|.| Techniques| like| Chain| of| Thought| (|Co|T|)| and| Tree| of| Thoughts| help| in| decom|posing| hard| tasks| into| multiple| sub|tasks|.| Task| decomposition|"
     ]
    },
    {
     "name": "stdout",
     "output_type": "stream",
     "text": [
      " can| be| done| using| simple| prompts|,| task|-specific|"
     ]
    },
    {
     "name": "stdout",
     "output_type": "stream",
     "text": [
      " instructions|,| or| human| inputs| to| guide| the| process|.||"
     ]
    }
   ],
   "source": [
    "chain = rag_chain.pick(\"answer\")\n",
    "\n",
    "for chunk in chain.stream({\"input\": \"What is Task Decomposition?\"}):\n",
    "    print(f\"{chunk}|\", end=\"\")"
   ]
  },
  {
   "cell_type": "markdown",
   "id": "fdee7ae6-4a81-46ab-8efd-d2310b596f8c",
   "metadata": {},
   "source": [
    "## Streaming intermediate steps\n",
    "\n",
    "Suppose we want to stream not only the final outputs of the chain, but also some intermediate steps. As an example let's take our [Conversational RAG](/docs/tutorials/qa_chat_history) chain. Here we reformulate the user question before passing it to the retriever. This reformulated question is not returned as part of the final output. We could modify our chain to return the new question, but for demonstration purposes we'll leave it as is."
   ]
  },
  {
   "cell_type": "code",
   "execution_count": 9,
   "id": "f4d7714e-bdca-419d-a6c6-7c1a70a69297",
   "metadata": {
    "execution": {
     "iopub.execute_input": "2024-09-11T18:36:26.329116Z",
     "iopub.status.busy": "2024-09-11T18:36:26.328776Z",
     "iopub.status.idle": "2024-09-11T18:36:26.338027Z",
     "shell.execute_reply": "2024-09-11T18:36:26.337487Z"
    }
   },
   "outputs": [],
   "source": [
    "from langchain.chains import create_history_aware_retriever\n",
    "from langchain_core.prompts import MessagesPlaceholder\n",
    "\n",
    "### Contextualize question ###\n",
    "contextualize_q_system_prompt = (\n",
    "    \"Given a chat history and the latest user question \"\n",
    "    \"which might reference context in the chat history, \"\n",
    "    \"formulate a standalone question which can be understood \"\n",
    "    \"without the chat history. Do NOT answer the question, \"\n",
    "    \"just reformulate it if needed and otherwise return it as is.\"\n",
    ")\n",
    "contextualize_q_prompt = ChatPromptTemplate.from_messages(\n",
    "    [\n",
    "        (\"system\", contextualize_q_system_prompt),\n",
    "        MessagesPlaceholder(\"chat_history\"),\n",
    "        (\"human\", \"{input}\"),\n",
    "    ]\n",
    ")\n",
    "contextualize_q_llm = llm.with_config(tags=[\"contextualize_q_llm\"])\n",
    "history_aware_retriever = create_history_aware_retriever(\n",
    "    contextualize_q_llm, retriever, contextualize_q_prompt\n",
    ")\n",
    "\n",
    "\n",
    "### Answer question ###\n",
    "system_prompt = (\n",
    "    \"You are an assistant for question-answering tasks. \"\n",
    "    \"Use the following pieces of retrieved context to answer \"\n",
    "    \"the question. If you don't know the answer, say that you \"\n",
    "    \"don't know. Use three sentences maximum and keep the \"\n",
    "    \"answer concise.\"\n",
    "    \"\\n\\n\"\n",
    "    \"{context}\"\n",
    ")\n",
    "qa_prompt = ChatPromptTemplate.from_messages(\n",
    "    [\n",
    "        (\"system\", system_prompt),\n",
    "        MessagesPlaceholder(\"chat_history\"),\n",
    "        (\"human\", \"{input}\"),\n",
    "    ]\n",
    ")\n",
    "question_answer_chain = create_stuff_documents_chain(llm, qa_prompt)\n",
    "\n",
    "rag_chain = create_retrieval_chain(history_aware_retriever, question_answer_chain)"
   ]
  },
  {
   "cell_type": "markdown",
   "id": "ad306179-b6f0-4ade-9ec5-06e04fbb8d69",
   "metadata": {},
   "source": [
    "Note that above we use `.with_config` to assign a tag to the LLM that is used for the question re-phrasing step. This is not necessary but will make it more convenient to stream output from that specific step.\n",
    "\n",
    "To demonstrate, we will pass in an artificial message history:\n",
    "```\n",
    "Human: What is task decomposition?\n",
    "\n",
    "AI: Task decomposition involves breaking up a complex task into smaller and simpler steps.\n",
    "```\n",
    "We then ask a follow up question: \"What are some common ways of doing it?\" Leading into the retrieval step, our `history_aware_retriever` will rephrase this question using the conversation's context to ensure that the retrieval is meaningful.\n",
    "\n",
    "To stream intermediate output, we recommend use of the async `.astream_events` method. This method will stream output from all \"events\" in the chain, and can be quite verbose. We can filter using tags, event types, and other criteria, as we do here.\n",
    "\n",
    "Below we show a typical `.astream_events` loop, where we pass in the chain input and emit desired results. See the [API reference](https://python.langchain.com/v0.2/api_reference/core/runnables/langchain_core.runnables.base.Runnable.html#langchain_core.runnables.base.Runnable.astream_events) and [streaming guide](/docs/how_to/streaming) for more detail."
   ]
  },
  {
   "cell_type": "code",
   "execution_count": 10,
   "id": "3ef2af40-e6ce-42a3-ad6a-ee405ad7f8ad",
   "metadata": {
    "execution": {
     "iopub.execute_input": "2024-09-11T18:36:26.340445Z",
     "iopub.status.busy": "2024-09-11T18:36:26.340264Z",
     "iopub.status.idle": "2024-09-11T18:36:28.534270Z",
     "shell.execute_reply": "2024-09-11T18:36:28.533943Z"
    }
   },
   "outputs": [
    {
     "name": "stdout",
     "output_type": "stream",
     "text": [
      "|What| are| some| typical| methods| used| for| task| decomposition|?||"
     ]
    }
   ],
   "source": [
    "first_question = \"What is task decomposition?\"\n",
    "first_answer = (\n",
    "    \"Task decomposition involves breaking up \"\n",
    "    \"a complex task into smaller and simpler \"\n",
    "    \"steps.\"\n",
    ")\n",
    "follow_up_question = \"What are some common ways of doing it?\"\n",
    "\n",
    "chat_history = [\n",
    "    (\"human\", first_question),\n",
    "    (\"ai\", first_answer),\n",
    "]\n",
    "\n",
    "\n",
    "async for event in rag_chain.astream_events(\n",
    "    {\n",
    "        \"input\": follow_up_question,\n",
    "        \"chat_history\": chat_history,\n",
    "    },\n",
    "    version=\"v1\",\n",
    "):\n",
    "    if (\n",
    "        event[\"event\"] == \"on_chat_model_stream\"\n",
    "        and \"contextualize_q_llm\" in event[\"tags\"]\n",
    "    ):\n",
    "        ai_message_chunk = event[\"data\"][\"chunk\"]\n",
    "        print(f\"{ai_message_chunk.content}|\", end=\"\")"
   ]
  },
  {
   "cell_type": "markdown",
   "id": "7da5dd1b-634c-4dd7-8235-69adec21d195",
   "metadata": {},
   "source": [
    "Here we recover, token-by-token, the query that is passed into the retriever given our question \"What are some common ways of doing it?\"\n",
    "\n",
    "If we wanted to get our retrieved docs, we could filter on name \"Retriever\":"
   ]
  },
  {
   "cell_type": "code",
   "execution_count": 11,
   "id": "987ef6be-8c4e-4257-828a-a3b4fb4ccc99",
   "metadata": {
    "execution": {
     "iopub.execute_input": "2024-09-11T18:36:28.535869Z",
     "iopub.status.busy": "2024-09-11T18:36:28.535797Z",
     "iopub.status.idle": "2024-09-11T18:36:30.066757Z",
     "shell.execute_reply": "2024-09-11T18:36:30.066495Z"
    }
   },
   "outputs": [],
   "source": [
    "async for event in rag_chain.astream_events(\n",
    "    {\n",
    "        \"input\": follow_up_question,\n",
    "        \"chat_history\": chat_history,\n",
    "    },\n",
    "    version=\"v1\",\n",
    "):\n",
    "    if event[\"name\"] == \"Retriever\":\n",
    "        print(event)\n",
    "        print()"
   ]
  },
  {
   "cell_type": "markdown",
   "id": "c5470a79-258a-4108-8ceb-dfe8180160ca",
   "metadata": {},
   "source": [
    "For more on how to stream intermediate steps check out the [streaming guide](/docs/how_to/streaming)."
   ]
  }
 ],
 "metadata": {
  "kernelspec": {
   "display_name": "Python 3 (ipykernel)",
   "language": "python",
   "name": "python3"
  },
  "language_info": {
   "codemirror_mode": {
    "name": "ipython",
    "version": 3
   },
   "file_extension": ".py",
   "mimetype": "text/x-python",
   "name": "python",
   "nbconvert_exporter": "python",
   "pygments_lexer": "ipython3",
   "version": "3.11.9"
  }
 },
 "nbformat": 4,
 "nbformat_minor": 5
}
