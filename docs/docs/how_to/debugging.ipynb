{
 "cells": [
  {
   "cell_type": "markdown",
   "metadata": {},
   "source": [
    "# How to debug your LLM apps\n",
    "\n",
    "Like building any type of software, at some point you'll need to debug when building with LLMs. A model call will fail, or model output will be misformatted, or there will be some nested model calls and it won't be clear where along the way an incorrect output was created.\n",
    "\n",
    "There are three main methods for debugging:\n",
    "\n",
    "- Verbose Mode: This adds print statements for \"important\" events in your chain.\n",
    "- Debug Mode: This add logging statements for ALL events in your chain.\n",
    "- LangSmith Tracing: This logs events to [LangSmith](https://docs.smith.langchain.com/) to allow for visualization there.\n",
    "\n",
    "|                        | Verbose Mode | Debug Mode | LangSmith Tracing |\n",
    "|------------------------|--------------|------------|-------------------|\n",
    "| Free                   | ✅            | ✅          | ✅                 |\n",
    "| UI                     | ❌            | ❌          | ✅                 |\n",
    "| Persisted              | ❌            | ❌          | ✅                 |\n",
    "| See all events         | ❌            | ✅          | ✅                 |\n",
    "| See \"important\" events | ✅            | ❌          | ✅                 |\n",
    "| Runs Locally           | ✅            | ✅          | ❌                 |\n",
    "\n",
    "\n",
    "## Tracing\n",
    "\n",
    "Many of the applications you build with LangChain will contain multiple steps with multiple invocations of LLM calls.\n",
    "As these applications get more and more complex, it becomes crucial to be able to inspect what exactly is going on inside your chain or agent.\n",
    "The best way to do this is with [LangSmith](https://smith.langchain.com).\n",
    "\n",
    "After you sign up at the link above, make sure to set your environment variables to start logging traces:\n",
    "\n",
    "```shell\n",
    "export LANGCHAIN_TRACING_V2=\"true\"\n",
    "export LANGCHAIN_API_KEY=\"...\"\n",
    "```\n",
    "\n",
    "Or, if in a notebook, you can set them with:\n",
    "\n",
    "```python\n",
    "import getpass\n",
    "import os\n",
    "\n",
    "os.environ[\"LANGCHAIN_TRACING_V2\"] = \"true\"\n",
    "os.environ[\"LANGCHAIN_API_KEY\"] = getpass.getpass()\n",
    "```\n",
    "\n",
    "Let's suppose we have an agent, and want to visualize the actions it takes and tool outputs it receives. Without any debugging, here's what we see:\n",
    "\n",
    "```{=mdx}\n",
    "import ChatModelTabs from \"@theme/ChatModelTabs\";\n",
    "\n",
    "<ChatModelTabs\n",
    "  customVarName=\"llm\"\n",
    "/>\n",
    "```"
   ]
  },
  {
   "cell_type": "code",
   "execution_count": 1,
   "metadata": {
    "execution": {
     "iopub.execute_input": "2024-09-11T18:11:28.770587Z",
     "iopub.status.busy": "2024-09-11T18:11:28.770265Z",
     "iopub.status.idle": "2024-09-11T18:11:29.283938Z",
     "shell.execute_reply": "2024-09-11T18:11:29.283640Z"
    }
   },
   "outputs": [],
   "source": [
    "# | output: false\n",
    "# | echo: false\n",
    "\n",
    "from langchain_openai import ChatOpenAI\n",
    "\n",
    "llm = ChatOpenAI(model=\"gpt-4-turbo\", temperature=0)"
   ]
  },
  {
   "cell_type": "code",
   "execution_count": 2,
   "metadata": {
    "execution": {
     "iopub.execute_input": "2024-09-11T18:11:29.285629Z",
     "iopub.status.busy": "2024-09-11T18:11:29.285523Z",
     "iopub.status.idle": "2024-09-11T18:11:51.357560Z",
     "shell.execute_reply": "2024-09-11T18:11:51.357009Z"
    }
   },
   "outputs": [
    {
     "data": {
      "text/plain": [
       "{'input': 'Who directed the 2023 film Oppenheimer and what is their age in days?',\n",
       " 'output': 'The 2023 film \"Oppenheimer\" was directed by Christopher Nolan.\\n\\nChristopher Nolan was born on July 30, 1970. To calculate his age in days as of today:\\n\\n1. First, find the total number of days from his birthdate to today\\'s date.\\n2. Today\\'s date is December 7, 2023.\\n\\nUsing the formula to calculate the number of days between two dates:\\n\\n\\\\[ \\\\text{Age in days} = (\\\\text{Current Year} - \\\\text{Birth Year}) \\\\times 365 + (\\\\text{Days for leap years}) + (\\\\text{Days from birth month to current month}) \\\\]\\n\\nCalculating the leap years between 1970 and 2023, and considering the days from July 30 to December 7:\\n\\n- From 1970 to 2023, there are approximately 53 years.\\n- Leap years between 1970 and 2023 (every 4 years, except century years not divisible by 400): 1972, 1976, 1980, 1984, 1988, 1992, 1996, 2000, 2004, 2008, 2012, 2016, 2020. That\\'s 13 leap years.\\n- Days from July 30 to December 7, 2023: 31 (Aug) + 30 (Sep) + 31 (Oct) + 30 (Nov) + 7 (Dec) = 129 days.\\n\\n\\\\[ \\\\text{Age in days} = (53 \\\\times 365) + 13 + 129 = 19348 + 13 + 129 = 19490 \\\\text{ days} \\\\]\\n\\nTherefore, Christopher Nolan is approximately 19,490 days old as of December 7, 2023.'}"
      ]
     },
     "execution_count": 2,
     "metadata": {},
     "output_type": "execute_result"
    }
   ],
   "source": [
    "from langchain.agents import AgentExecutor, create_tool_calling_agent\n",
    "from langchain_community.tools.tavily_search import TavilySearchResults\n",
    "from langchain_core.prompts import ChatPromptTemplate\n",
    "\n",
    "tools = [TavilySearchResults(max_results=1)]\n",
    "prompt = ChatPromptTemplate.from_messages(\n",
    "    [\n",
    "        (\n",
    "            \"system\",\n",
    "            \"You are a helpful assistant.\",\n",
    "        ),\n",
    "        (\"placeholder\", \"{chat_history}\"),\n",
    "        (\"human\", \"{input}\"),\n",
    "        (\"placeholder\", \"{agent_scratchpad}\"),\n",
    "    ]\n",
    ")\n",
    "\n",
    "# Construct the Tools agent\n",
    "agent = create_tool_calling_agent(llm, tools, prompt)\n",
    "\n",
    "# Create an agent executor by passing in the agent and tools\n",
    "agent_executor = AgentExecutor(agent=agent, tools=tools)\n",
    "agent_executor.invoke(\n",
    "    {\"input\": \"Who directed the 2023 film Oppenheimer and what is their age in days?\"}\n",
    ")"
   ]
  },
  {
   "cell_type": "markdown",
   "metadata": {},
   "source": [
    "We don't get much output, but since we set up LangSmith we can easily see what happened under the hood:\n",
    "\n",
    "https://smith.langchain.com/public/a89ff88f-9ddc-4757-a395-3a1b365655bf/r"
   ]
  },
  {
   "cell_type": "markdown",
   "metadata": {},
   "source": [
    "## `set_debug` and `set_verbose`\n",
    "\n",
    "If you're prototyping in Jupyter Notebooks or running Python scripts, it can be helpful to print out the intermediate steps of a chain run.\n",
    "\n",
    "There are a number of ways to enable printing at varying degrees of verbosity.\n",
    "\n",
    "Note: These still work even with LangSmith enabled, so you can have both turned on and running at the same time\n"
   ]
  },
  {
   "cell_type": "markdown",
   "metadata": {},
   "source": [
    "### `set_verbose(True)`\n",
    "\n",
    "Setting the `verbose` flag will print out inputs and outputs in a slightly more readable format and will skip logging certain raw outputs (like the token usage stats for an LLM call) so that you can focus on application logic."
   ]
  },
  {
   "cell_type": "code",
   "execution_count": 3,
   "metadata": {
    "execution": {
     "iopub.execute_input": "2024-09-11T18:11:51.361083Z",
     "iopub.status.busy": "2024-09-11T18:11:51.360796Z",
     "iopub.status.idle": "2024-09-11T18:12:09.734406Z",
     "shell.execute_reply": "2024-09-11T18:12:09.733905Z"
    }
   },
   "outputs": [
    {
     "name": "stdout",
     "output_type": "stream",
     "text": [
      "\n",
      "\n",
      "\u001b[1m> Entering new AgentExecutor chain...\u001b[0m\n"
     ]
    },
    {
     "name": "stdout",
     "output_type": "stream",
     "text": [
      "\u001b[32;1m\u001b[1;3m\n",
      "Invoking: `tavily_search_results_json` with `{'query': 'director of the 2023 film Oppenheimer'}`\n",
      "\n",
      "\n",
      "\u001b[0m"
     ]
    },
    {
     "name": "stdout",
     "output_type": "stream",
     "text": [
      "\u001b[36;1m\u001b[1;3m[{'url': 'https://www.imdb.com/title/tt15398776/fullcredits/', 'content': 'Oppenheimer (2023) cast and crew credits, including actors, actresses, directors, writers and more. Menu. ... director of photography: behind-the-scenes Jason Gary ... best boy grip ... film loader Luc Poullain ... aerial coordinator'}]\u001b[0m\u001b[32;1m\u001b[1;3m\n",
      "Invoking: `tavily_search_results_json` with `{'query': 'birth date of Christopher Nolan'}`\n",
      "\n",
      "\n",
      "\u001b[0m"
     ]
    },
    {
     "name": "stdout",
     "output_type": "stream",
     "text": [
      "\u001b[36;1m\u001b[1;3m[{'url': 'https://www.imdb.com/name/nm0634240/bio/', 'content': 'Christopher Nolan. Writer: Tenet. Best known for his cerebral, often nonlinear, storytelling, acclaimed Academy Award winner writer/director/producer Sir Christopher Nolan CBE was born in London, England. Over the course of more than 25 years of filmmaking, Nolan has gone from low-budget independent films to working on some of the biggest blockbusters ever made and became one of the most ...'}]\u001b[0m"
     ]
    },
    {
     "name": "stdout",
     "output_type": "stream",
     "text": [
      "\u001b[32;1m\u001b[1;3mThe 2023 film \"Oppenheimer\" was directed by Christopher Nolan.\n",
      "\n",
      "Christopher Nolan was born on July 30, 1970. To calculate his age in days as of today:\n",
      "\n",
      "1. First, find the total number of days from his birthdate to today.\n",
      "2. Today's date is December 7, 2023.\n",
      "\n",
      "Using the formula for calculating the number of days between two dates:\n",
      "\n",
      "\\[ \\text{Age in days} = (\\text{Current Year} - \\text{Birth Year}) \\times 365 + \\text{Days for leap years} + \\text{Days from birthday this year to today} \\]\n",
      "\n",
      "Calculating the leap years between 1970 and 2023, and considering that 1972, 1976, ..., 2020 are leap years, we get approximately 13 leap years.\n",
      "\n",
      "Christopher Nolan's birthday this year would have been July 30, 2023. From July 30 to December 7 is 130 days.\n",
      "\n",
      "\\[ \\text{Age in days} = (2023 - 1970) \\times 365 + 13 + 130 = 53 \\times 365 + 13 + 130 = 19345 + 13 + 130 = 19488 \\text{ days} \\]\n",
      "\n",
      "Therefore, Christopher Nolan is approximately 19,488 days old as of December 7, 2023.\u001b[0m\n",
      "\n",
      "\u001b[1m> Finished chain.\u001b[0m\n"
     ]
    },
    {
     "data": {
      "text/plain": [
       "{'input': 'Who directed the 2023 film Oppenheimer and what is their age in days?',\n",
       " 'output': 'The 2023 film \"Oppenheimer\" was directed by Christopher Nolan.\\n\\nChristopher Nolan was born on July 30, 1970. To calculate his age in days as of today:\\n\\n1. First, find the total number of days from his birthdate to today.\\n2. Today\\'s date is December 7, 2023.\\n\\nUsing the formula for calculating the number of days between two dates:\\n\\n\\\\[ \\\\text{Age in days} = (\\\\text{Current Year} - \\\\text{Birth Year}) \\\\times 365 + \\\\text{Days for leap years} + \\\\text{Days from birthday this year to today} \\\\]\\n\\nCalculating the leap years between 1970 and 2023, and considering that 1972, 1976, ..., 2020 are leap years, we get approximately 13 leap years.\\n\\nChristopher Nolan\\'s birthday this year would have been July 30, 2023. From July 30 to December 7 is 130 days.\\n\\n\\\\[ \\\\text{Age in days} = (2023 - 1970) \\\\times 365 + 13 + 130 = 53 \\\\times 365 + 13 + 130 = 19345 + 13 + 130 = 19488 \\\\text{ days} \\\\]\\n\\nTherefore, Christopher Nolan is approximately 19,488 days old as of December 7, 2023.'}"
      ]
     },
     "execution_count": 3,
     "metadata": {},
     "output_type": "execute_result"
    }
   ],
   "source": [
    "from langchain.globals import set_verbose\n",
    "\n",
    "set_verbose(True)\n",
    "agent_executor = AgentExecutor(agent=agent, tools=tools)\n",
    "agent_executor.invoke(\n",
    "    {\"input\": \"Who directed the 2023 film Oppenheimer and what is their age in days?\"}\n",
    ")"
   ]
  },
  {
   "cell_type": "markdown",
   "metadata": {},
   "source": [
    "### `set_debug(True)`\n",
    "\n",
    "Setting the global `debug` flag will cause all LangChain components with callback support (chains, models, agents, tools, retrievers) to print the inputs they receive and outputs they generate. This is the most verbose setting and will fully log raw inputs and outputs."
   ]
  },
  {
   "cell_type": "code",
   "execution_count": 4,
   "metadata": {
    "execution": {
     "iopub.execute_input": "2024-09-11T18:12:09.737804Z",
     "iopub.status.busy": "2024-09-11T18:12:09.737600Z",
     "iopub.status.idle": "2024-09-11T18:12:30.736686Z",
     "shell.execute_reply": "2024-09-11T18:12:30.735436Z"
    },
    "scrolled": false
   },
   "outputs": [
    {
     "name": "stdout",
     "output_type": "stream",
     "text": [
      "\u001b[32;1m\u001b[1;3m[chain/start]\u001b[0m \u001b[1m[chain:AgentExecutor] Entering Chain run with input:\n",
      "\u001b[0m{\n",
      "  \"input\": \"Who directed the 2023 film Oppenheimer and what is their age in days?\"\n",
      "}\n",
      "\u001b[32;1m\u001b[1;3m[chain/start]\u001b[0m \u001b[1m[chain:AgentExecutor > chain:RunnableSequence] Entering Chain run with input:\n",
      "\u001b[0m{\n",
      "  \"input\": \"\"\n",
      "}\n",
      "\u001b[32;1m\u001b[1;3m[chain/start]\u001b[0m \u001b[1m[chain:AgentExecutor > chain:RunnableSequence > chain:RunnableAssign<agent_scratchpad>] Entering Chain run with input:\n",
      "\u001b[0m{\n",
      "  \"input\": \"\"\n",
      "}\n",
      "\u001b[32;1m\u001b[1;3m[chain/start]\u001b[0m \u001b[1m[chain:AgentExecutor > chain:RunnableSequence > chain:RunnableAssign<agent_scratchpad> > chain:RunnableParallel<agent_scratchpad>] Entering Chain run with input:\n",
      "\u001b[0m{\n",
      "  \"input\": \"\"\n",
      "}\n",
      "\u001b[32;1m\u001b[1;3m[chain/start]\u001b[0m \u001b[1m[chain:AgentExecutor > chain:RunnableSequence > chain:RunnableAssign<agent_scratchpad> > chain:RunnableParallel<agent_scratchpad> > chain:RunnableLambda] Entering Chain run with input:\n",
      "\u001b[0m{\n",
      "  \"input\": \"\"\n",
      "}\n",
      "\u001b[36;1m\u001b[1;3m[chain/end]\u001b[0m \u001b[1m[chain:AgentExecutor > chain:RunnableSequence > chain:RunnableAssign<agent_scratchpad> > chain:RunnableParallel<agent_scratchpad> > chain:RunnableLambda] [1ms] Exiting Chain run with output:\n",
      "\u001b[0m{\n",
      "  \"output\": []\n",
      "}\n",
      "\u001b[36;1m\u001b[1;3m[chain/end]\u001b[0m \u001b[1m[chain:AgentExecutor > chain:RunnableSequence > chain:RunnableAssign<agent_scratchpad> > chain:RunnableParallel<agent_scratchpad>] [2ms] Exiting Chain run with output:\n",
      "\u001b[0m{\n",
      "  \"agent_scratchpad\": []\n",
      "}\n",
      "\u001b[36;1m\u001b[1;3m[chain/end]\u001b[0m \u001b[1m[chain:AgentExecutor > chain:RunnableSequence > chain:RunnableAssign<agent_scratchpad>] [4ms] Exiting Chain run with output:\n",
      "\u001b[0m{\n",
      "  \"input\": \"Who directed the 2023 film Oppenheimer and what is their age in days?\",\n",
      "  \"intermediate_steps\": [],\n",
      "  \"agent_scratchpad\": []\n",
      "}\n",
      "\u001b[32;1m\u001b[1;3m[chain/start]\u001b[0m \u001b[1m[chain:AgentExecutor > chain:RunnableSequence > prompt:ChatPromptTemplate] Entering Prompt run with input:\n",
      "\u001b[0m{\n",
      "  \"input\": \"Who directed the 2023 film Oppenheimer and what is their age in days?\",\n",
      "  \"intermediate_steps\": [],\n",
      "  \"agent_scratchpad\": []\n",
      "}\n",
      "\u001b[36;1m\u001b[1;3m[chain/end]\u001b[0m \u001b[1m[chain:AgentExecutor > chain:RunnableSequence > prompt:ChatPromptTemplate] [1ms] Exiting Prompt run with output:\n",
      "\u001b[0m[outputs]\n",
      "\u001b[32;1m\u001b[1;3m[llm/start]\u001b[0m \u001b[1m[chain:AgentExecutor > chain:RunnableSequence > llm:ChatOpenAI] Entering LLM run with input:\n",
      "\u001b[0m{\n",
      "  \"prompts\": [\n",
      "    \"System: You are a helpful assistant.\\nHuman: Who directed the 2023 film Oppenheimer and what is their age in days?\"\n",
      "  ]\n",
      "}\n"
     ]
    },
    {
     "name": "stdout",
     "output_type": "stream",
     "text": [
      "\u001b[36;1m\u001b[1;3m[llm/end]\u001b[0m \u001b[1m[chain:AgentExecutor > chain:RunnableSequence > llm:ChatOpenAI] [2.85s] Exiting LLM run with output:\n",
      "\u001b[0m{\n",
      "  \"generations\": [\n",
      "    [\n",
      "      {\n",
      "        \"text\": \"\",\n",
      "        \"generation_info\": {\n",
      "          \"finish_reason\": \"tool_calls\",\n",
      "          \"model_name\": \"gpt-4-turbo-2024-04-09\",\n",
      "          \"system_fingerprint\": \"fp_1f2231a495\"\n",
      "        },\n",
      "        \"type\": \"ChatGenerationChunk\",\n",
      "        \"message\": {\n",
      "          \"lc\": 1,\n",
      "          \"type\": \"constructor\",\n",
      "          \"id\": [\n",
      "            \"langchain\",\n",
      "            \"schema\",\n",
      "            \"messages\",\n",
      "            \"AIMessageChunk\"\n",
      "          ],\n",
      "          \"kwargs\": {\n",
      "            \"content\": \"\",\n",
      "            \"additional_kwargs\": {\n",
      "              \"tool_calls\": [\n",
      "                {\n",
      "                  \"index\": 0,\n",
      "                  \"id\": \"call_wUHXKdgLCbumDN7LqvRLQk5e\",\n",
      "                  \"function\": {\n",
      "                    \"arguments\": \"{\\\"query\\\": \\\"director of the 2023 film Oppenheimer\\\"}\",\n",
      "                    \"name\": \"tavily_search_results_json\"\n",
      "                  },\n",
      "                  \"type\": \"function\"\n",
      "                },\n",
      "                {\n",
      "                  \"index\": 1,\n",
      "                  \"id\": \"call_ZF6WDd0G9Ei8lD7LNIo8aE9r\",\n",
      "                  \"function\": {\n",
      "                    \"arguments\": \"{\\\"query\\\": \\\"Christopher Nolan birthdate\\\"}\",\n",
      "                    \"name\": \"tavily_search_results_json\"\n",
      "                  },\n",
      "                  \"type\": \"function\"\n",
      "                }\n",
      "              ]\n",
      "            },\n",
      "            \"response_metadata\": {\n",
      "              \"finish_reason\": \"tool_calls\",\n",
      "              \"model_name\": \"gpt-4-turbo-2024-04-09\",\n",
      "              \"system_fingerprint\": \"fp_1f2231a495\"\n",
      "            },\n",
      "            \"type\": \"AIMessageChunk\",\n",
      "            \"id\": \"run-57abcf0f-966a-4667-9ff0-2d9bd87b72b8\",\n",
      "            \"tool_calls\": [\n",
      "              {\n",
      "                \"name\": \"tavily_search_results_json\",\n",
      "                \"args\": {\n",
      "                  \"query\": \"director of the 2023 film Oppenheimer\"\n",
      "                },\n",
      "                \"id\": \"call_wUHXKdgLCbumDN7LqvRLQk5e\",\n",
      "                \"type\": \"tool_call\"\n",
      "              },\n",
      "              {\n",
      "                \"name\": \"tavily_search_results_json\",\n",
      "                \"args\": {\n",
      "                  \"query\": \"Christopher Nolan birthdate\"\n",
      "                },\n",
      "                \"id\": \"call_ZF6WDd0G9Ei8lD7LNIo8aE9r\",\n",
      "                \"type\": \"tool_call\"\n",
      "              }\n",
      "            ],\n",
      "            \"tool_call_chunks\": [\n",
      "              {\n",
      "                \"name\": \"tavily_search_results_json\",\n",
      "                \"args\": \"{\\\"query\\\": \\\"director of the 2023 film Oppenheimer\\\"}\",\n",
      "                \"id\": \"call_wUHXKdgLCbumDN7LqvRLQk5e\",\n",
      "                \"index\": 0,\n",
      "                \"type\": \"tool_call_chunk\"\n",
      "              },\n",
      "              {\n",
      "                \"name\": \"tavily_search_results_json\",\n",
      "                \"args\": \"{\\\"query\\\": \\\"Christopher Nolan birthdate\\\"}\",\n",
      "                \"id\": \"call_ZF6WDd0G9Ei8lD7LNIo8aE9r\",\n",
      "                \"index\": 1,\n",
      "                \"type\": \"tool_call_chunk\"\n",
      "              }\n",
      "            ],\n",
      "            \"invalid_tool_calls\": []\n",
      "          }\n",
      "        }\n",
      "      }\n",
      "    ]\n",
      "  ],\n",
      "  \"llm_output\": null,\n",
      "  \"run\": null\n",
      "}\n",
      "\u001b[32;1m\u001b[1;3m[chain/start]\u001b[0m \u001b[1m[chain:AgentExecutor > chain:RunnableSequence > parser:ToolsAgentOutputParser] Entering Parser run with input:\n",
      "\u001b[0m[inputs]\n",
      "\u001b[36;1m\u001b[1;3m[chain/end]\u001b[0m \u001b[1m[chain:AgentExecutor > chain:RunnableSequence > parser:ToolsAgentOutputParser] [1ms] Exiting Parser run with output:\n",
      "\u001b[0m[outputs]\n",
      "\u001b[36;1m\u001b[1;3m[chain/end]\u001b[0m \u001b[1m[chain:AgentExecutor > chain:RunnableSequence] [2.86s] Exiting Chain run with output:\n",
      "\u001b[0m[outputs]\n",
      "\u001b[32;1m\u001b[1;3m[tool/start]\u001b[0m \u001b[1m[chain:AgentExecutor > tool:tavily_search_results_json] Entering Tool run with input:\n",
      "\u001b[0m\"{'query': 'director of the 2023 film Oppenheimer'}\"\n"
     ]
    },
    {
     "name": "stdout",
     "output_type": "stream",
     "text": [
      "\u001b[36;1m\u001b[1;3m[tool/end]\u001b[0m \u001b[1m[chain:AgentExecutor > tool:tavily_search_results_json] [3.13s] Exiting Tool run with output:\n",
      "\u001b[0m\"[{'url': 'https://www.imdb.com/title/tt15398776/fullcredits/', 'content': 'Oppenheimer (2023) cast and crew credits, including actors, actresses, directors, writers and more. Menu. ... director of photography: behind-the-scenes Jason Gary ... best boy grip ... film loader Luc Poullain ... aerial coordinator'}]\"\n",
      "\u001b[32;1m\u001b[1;3m[tool/start]\u001b[0m \u001b[1m[chain:AgentExecutor > tool:tavily_search_results_json] Entering Tool run with input:\n",
      "\u001b[0m\"{'query': 'Christopher Nolan birthdate'}\"\n"
     ]
    },
    {
     "name": "stdout",
     "output_type": "stream",
     "text": [
      "\u001b[36;1m\u001b[1;3m[tool/end]\u001b[0m \u001b[1m[chain:AgentExecutor > tool:tavily_search_results_json] [3.14s] Exiting Tool run with output:\n",
      "\u001b[0m\"[{'url': 'https://www.imdb.com/name/nm0634240/bio/', 'content': 'Christopher Nolan. Writer: Tenet. Best known for his cerebral, often nonlinear, storytelling, acclaimed Academy Award winner writer/director/producer Sir Christopher Nolan CBE was born in London, England. Over the course of more than 25 years of filmmaking, Nolan has gone from low-budget independent films to working on some of the biggest blockbusters ever made and became one of the most ...'}]\"\n",
      "\u001b[32;1m\u001b[1;3m[chain/start]\u001b[0m \u001b[1m[chain:AgentExecutor > chain:RunnableSequence] Entering Chain run with input:\n",
      "\u001b[0m{\n",
      "  \"input\": \"\"\n",
      "}\n",
      "\u001b[32;1m\u001b[1;3m[chain/start]\u001b[0m \u001b[1m[chain:AgentExecutor > chain:RunnableSequence > chain:RunnableAssign<agent_scratchpad>] Entering Chain run with input:\n",
      "\u001b[0m{\n",
      "  \"input\": \"\"\n",
      "}\n",
      "\u001b[32;1m\u001b[1;3m[chain/start]\u001b[0m \u001b[1m[chain:AgentExecutor > chain:RunnableSequence > chain:RunnableAssign<agent_scratchpad> > chain:RunnableParallel<agent_scratchpad>] Entering Chain run with input:\n",
      "\u001b[0m{\n",
      "  \"input\": \"\"\n",
      "}\n",
      "\u001b[32;1m\u001b[1;3m[chain/start]\u001b[0m \u001b[1m[chain:AgentExecutor > chain:RunnableSequence > chain:RunnableAssign<agent_scratchpad> > chain:RunnableParallel<agent_scratchpad> > chain:RunnableLambda] Entering Chain run with input:\n",
      "\u001b[0m{\n",
      "  \"input\": \"\"\n",
      "}\n",
      "\u001b[36;1m\u001b[1;3m[chain/end]\u001b[0m \u001b[1m[chain:AgentExecutor > chain:RunnableSequence > chain:RunnableAssign<agent_scratchpad> > chain:RunnableParallel<agent_scratchpad> > chain:RunnableLambda] [1ms] Exiting Chain run with output:\n",
      "\u001b[0m[outputs]\n",
      "\u001b[36;1m\u001b[1;3m[chain/end]\u001b[0m \u001b[1m[chain:AgentExecutor > chain:RunnableSequence > chain:RunnableAssign<agent_scratchpad> > chain:RunnableParallel<agent_scratchpad>] [2ms] Exiting Chain run with output:\n",
      "\u001b[0m[outputs]\n",
      "\u001b[36;1m\u001b[1;3m[chain/end]\u001b[0m \u001b[1m[chain:AgentExecutor > chain:RunnableSequence > chain:RunnableAssign<agent_scratchpad>] [5ms] Exiting Chain run with output:\n",
      "\u001b[0m[outputs]\n",
      "\u001b[32;1m\u001b[1;3m[chain/start]\u001b[0m \u001b[1m[chain:AgentExecutor > chain:RunnableSequence > prompt:ChatPromptTemplate] Entering Prompt run with input:\n",
      "\u001b[0m[inputs]\n",
      "\u001b[36;1m\u001b[1;3m[chain/end]\u001b[0m \u001b[1m[chain:AgentExecutor > chain:RunnableSequence > prompt:ChatPromptTemplate] [1ms] Exiting Prompt run with output:\n",
      "\u001b[0m[outputs]\n",
      "\u001b[32;1m\u001b[1;3m[llm/start]\u001b[0m \u001b[1m[chain:AgentExecutor > chain:RunnableSequence > llm:ChatOpenAI] Entering LLM run with input:\n",
      "\u001b[0m{\n",
      "  \"prompts\": [\n",
      "    \"System: You are a helpful assistant.\\nHuman: Who directed the 2023 film Oppenheimer and what is their age in days?\\nAI: \\nTool: [{\\\"url\\\": \\\"https://www.imdb.com/title/tt15398776/fullcredits/\\\", \\\"content\\\": \\\"Oppenheimer (2023) cast and crew credits, including actors, actresses, directors, writers and more. Menu. ... director of photography: behind-the-scenes Jason Gary ... best boy grip ... film loader Luc Poullain ... aerial coordinator\\\"}]\\nTool: [{\\\"url\\\": \\\"https://www.imdb.com/name/nm0634240/bio/\\\", \\\"content\\\": \\\"Christopher Nolan. Writer: Tenet. Best known for his cerebral, often nonlinear, storytelling, acclaimed Academy Award winner writer/director/producer Sir Christopher Nolan CBE was born in London, England. Over the course of more than 25 years of filmmaking, Nolan has gone from low-budget independent films to working on some of the biggest blockbusters ever made and became one of the most ...\\\"}]\"\n",
      "  ]\n",
      "}\n"
     ]
    },
    {
     "name": "stdout",
     "output_type": "stream",
     "text": [
      "\u001b[36;1m\u001b[1;3m[llm/end]\u001b[0m \u001b[1m[chain:AgentExecutor > chain:RunnableSequence > llm:ChatOpenAI] [11.82s] Exiting LLM run with output:\n",
      "\u001b[0m{\n",
      "  \"generations\": [\n",
      "    [\n",
      "      {\n",
      "        \"text\": \"The 2023 film \\\"Oppenheimer\\\" was directed by Christopher Nolan.\\n\\nChristopher Nolan was born on July 30, 1970. To calculate his age in days as of today (December 7, 2023):\\n\\n1. Calculate the total number of days from his birthdate to today.\\n2. Use the formula: \\\\(\\\\text{Age in days} = \\\\text{Total days from birthdate to today}\\\\).\\n\\nLet's calculate:\\n\\n- From July 30, 1970, to July 30, 2023, is 53 years.\\n- From July 30, 2023, to December 7, 2023, is 130 days.\\n\\nTotal days = \\\\(53 \\\\times 365 + 130 + \\\\text{leap year days}\\\\).\\n\\nLeap year days from 1970 to 2023 (1972, 1976, ..., 2020) = 14 days.\\n\\nSo, total days = \\\\(19345 + 130 + 14 = 19489\\\\) days.\\n\\nChristopher Nolan is 19,489 days old as of December 7, 2023.\",\n",
      "        \"generation_info\": {\n",
      "          \"finish_reason\": \"stop\",\n",
      "          \"model_name\": \"gpt-4-turbo-2024-04-09\",\n",
      "          \"system_fingerprint\": \"fp_1f2231a495\"\n",
      "        },\n",
      "        \"type\": \"ChatGenerationChunk\",\n",
      "        \"message\": {\n",
      "          \"lc\": 1,\n",
      "          \"type\": \"constructor\",\n",
      "          \"id\": [\n",
      "            \"langchain\",\n",
      "            \"schema\",\n",
      "            \"messages\",\n",
      "            \"AIMessageChunk\"\n",
      "          ],\n",
      "          \"kwargs\": {\n",
      "            \"content\": \"The 2023 film \\\"Oppenheimer\\\" was directed by Christopher Nolan.\\n\\nChristopher Nolan was born on July 30, 1970. To calculate his age in days as of today (December 7, 2023):\\n\\n1. Calculate the total number of days from his birthdate to today.\\n2. Use the formula: \\\\(\\\\text{Age in days} = \\\\text{Total days from birthdate to today}\\\\).\\n\\nLet's calculate:\\n\\n- From July 30, 1970, to July 30, 2023, is 53 years.\\n- From July 30, 2023, to December 7, 2023, is 130 days.\\n\\nTotal days = \\\\(53 \\\\times 365 + 130 + \\\\text{leap year days}\\\\).\\n\\nLeap year days from 1970 to 2023 (1972, 1976, ..., 2020) = 14 days.\\n\\nSo, total days = \\\\(19345 + 130 + 14 = 19489\\\\) days.\\n\\nChristopher Nolan is 19,489 days old as of December 7, 2023.\",\n",
      "            \"response_metadata\": {\n",
      "              \"finish_reason\": \"stop\",\n",
      "              \"model_name\": \"gpt-4-turbo-2024-04-09\",\n",
      "              \"system_fingerprint\": \"fp_1f2231a495\"\n",
      "            },\n",
      "            \"type\": \"AIMessageChunk\",\n",
      "            \"id\": \"run-fdcc121d-7268-44eb-a856-5740d490d16f\",\n",
      "            \"tool_calls\": [],\n",
      "            \"invalid_tool_calls\": []\n",
      "          }\n",
      "        }\n",
      "      }\n",
      "    ]\n",
      "  ],\n",
      "  \"llm_output\": null,\n",
      "  \"run\": null\n",
      "}\n",
      "\u001b[32;1m\u001b[1;3m[chain/start]\u001b[0m \u001b[1m[chain:AgentExecutor > chain:RunnableSequence > parser:ToolsAgentOutputParser] Entering Parser run with input:\n",
      "\u001b[0m[inputs]\n",
      "\u001b[36;1m\u001b[1;3m[chain/end]\u001b[0m \u001b[1m[chain:AgentExecutor > chain:RunnableSequence > parser:ToolsAgentOutputParser] [1ms] Exiting Parser run with output:\n",
      "\u001b[0m[outputs]\n",
      "\u001b[36;1m\u001b[1;3m[chain/end]\u001b[0m \u001b[1m[chain:AgentExecutor > chain:RunnableSequence] [11.84s] Exiting Chain run with output:\n",
      "\u001b[0m[outputs]\n",
      "\u001b[36;1m\u001b[1;3m[chain/end]\u001b[0m \u001b[1m[chain:AgentExecutor] [20.99s] Exiting Chain run with output:\n",
      "\u001b[0m{\n",
      "  \"output\": \"The 2023 film \\\"Oppenheimer\\\" was directed by Christopher Nolan.\\n\\nChristopher Nolan was born on July 30, 1970. To calculate his age in days as of today (December 7, 2023):\\n\\n1. Calculate the total number of days from his birthdate to today.\\n2. Use the formula: \\\\(\\\\text{Age in days} = \\\\text{Total days from birthdate to today}\\\\).\\n\\nLet's calculate:\\n\\n- From July 30, 1970, to July 30, 2023, is 53 years.\\n- From July 30, 2023, to December 7, 2023, is 130 days.\\n\\nTotal days = \\\\(53 \\\\times 365 + 130 + \\\\text{leap year days}\\\\).\\n\\nLeap year days from 1970 to 2023 (1972, 1976, ..., 2020) = 14 days.\\n\\nSo, total days = \\\\(19345 + 130 + 14 = 19489\\\\) days.\\n\\nChristopher Nolan is 19,489 days old as of December 7, 2023.\"\n",
      "}\n"
     ]
    },
    {
     "data": {
      "text/plain": [
       "{'input': 'Who directed the 2023 film Oppenheimer and what is their age in days?',\n",
       " 'output': 'The 2023 film \"Oppenheimer\" was directed by Christopher Nolan.\\n\\nChristopher Nolan was born on July 30, 1970. To calculate his age in days as of today (December 7, 2023):\\n\\n1. Calculate the total number of days from his birthdate to today.\\n2. Use the formula: \\\\(\\\\text{Age in days} = \\\\text{Total days from birthdate to today}\\\\).\\n\\nLet\\'s calculate:\\n\\n- From July 30, 1970, to July 30, 2023, is 53 years.\\n- From July 30, 2023, to December 7, 2023, is 130 days.\\n\\nTotal days = \\\\(53 \\\\times 365 + 130 + \\\\text{leap year days}\\\\).\\n\\nLeap year days from 1970 to 2023 (1972, 1976, ..., 2020) = 14 days.\\n\\nSo, total days = \\\\(19345 + 130 + 14 = 19489\\\\) days.\\n\\nChristopher Nolan is 19,489 days old as of December 7, 2023.'}"
      ]
     },
     "execution_count": 4,
     "metadata": {},
     "output_type": "execute_result"
    }
   ],
   "source": [
    "from langchain.globals import set_debug\n",
    "\n",
    "set_debug(True)\n",
    "set_verbose(False)\n",
    "agent_executor = AgentExecutor(agent=agent, tools=tools)\n",
    "\n",
    "agent_executor.invoke(\n",
    "    {\"input\": \"Who directed the 2023 film Oppenheimer and what is their age in days?\"}\n",
    ")"
   ]
  }
 ],
 "metadata": {
  "kernelspec": {
   "display_name": "Python 3 (ipykernel)",
   "language": "python",
   "name": "python3"
  },
  "language_info": {
   "codemirror_mode": {
    "name": "ipython",
    "version": 3
   },
   "file_extension": ".py",
   "mimetype": "text/x-python",
   "name": "python",
   "nbconvert_exporter": "python",
   "pygments_lexer": "ipython3",
   "version": "3.11.9"
  }
 },
 "nbformat": 4,
 "nbformat_minor": 2
}
